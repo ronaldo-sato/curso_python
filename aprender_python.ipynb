{
 "cells": [
  {
   "cell_type": "markdown",
   "metadata": {},
   "source": [
    "> ## **Learning Python**\n",
    ">\n",
    "> https://docs.python.org/pt-br/3/\n",
    ">\n",
    "> ### author (unless ommited): Ronaldo Mitsuo Sato\n",
    "\n",
    "![][some-id]\n",
    "\n",
    "[some-id]: https://www.python.org/static/community_logos/python-logo-master-v3-TM.png \"Python Logo\""
   ]
  },
  {
   "cell_type": "markdown",
   "id": "a55f5973-fb60-4485-8fa7-c0b76a012ac3",
   "metadata": {},
   "source": [
    "> # JupyterNotebook | JupyterLab\n",
    ">\n",
    "> (Atualmente comporta diversas linguagens)\n",
    ">\n",
    "> navegador: https://jupyter.org/try-jupyter/lab/\n",
    ">\n",
    "> documentação: https://jupyterlab.readthedocs.io/en/latest/\n",
    "\n",
    "![][some-id]\n",
    "\n",
    "[some-id]: https://jupyter.org/assets/share.png \"Jupyter Logo\"\n",
    "\n",
    "> ## Jupyter = Julia + Python + R\n",
    ">\n",
    "> Ambiente de desenvolvimento integrado - **IDE** (**Integrated Development Environment**).\n",
    ">\n",
    "> Nele conseguimos programar de forma interativa.\n",
    ">\n",
    "> Mais utilizado para ensino ou demonstração -> Código + Texto.\n"
   ]
  },
  {
   "cell_type": "code",
   "execution_count": 385,
   "id": "fcf6308c-85d7-405c-a0b8-b4ba7763bd60",
   "metadata": {},
   "outputs": [
    {
     "data": {
      "text/plain": [
       "'Olá Jupyter/Python'"
      ]
     },
     "execution_count": 385,
     "metadata": {},
     "output_type": "execute_result"
    }
   ],
   "source": [
    "\"Olá Jupyter/Python\""
   ]
  },
  {
   "cell_type": "markdown",
   "id": "65f4f591",
   "metadata": {},
   "source": [
    "> ### __*The Zen of Python*__ - Filosofia Python\n",
    ">\n",
    "> ##### Princípios que facilitam entendimento/leitura"
   ]
  },
  {
   "cell_type": "code",
   "execution_count": 1,
   "id": "be35e759",
   "metadata": {},
   "outputs": [
    {
     "name": "stdout",
     "output_type": "stream",
     "text": [
      "The Zen of Python, by Tim Peters\n",
      "\n",
      "Beautiful is better than ugly.\n",
      "Explicit is better than implicit.\n",
      "Simple is better than complex.\n",
      "Complex is better than complicated.\n",
      "Flat is better than nested.\n",
      "Sparse is better than dense.\n",
      "Readability counts.\n",
      "Special cases aren't special enough to break the rules.\n",
      "Although practicality beats purity.\n",
      "Errors should never pass silently.\n",
      "Unless explicitly silenced.\n",
      "In the face of ambiguity, refuse the temptation to guess.\n",
      "There should be one-- and preferably only one --obvious way to do it.\n",
      "Although that way may not be obvious at first unless you're Dutch.\n",
      "Now is better than never.\n",
      "Although never is often better than *right* now.\n",
      "If the implementation is hard to explain, it's a bad idea.\n",
      "If the implementation is easy to explain, it may be a good idea.\n",
      "Namespaces are one honking great idea -- let's do more of those!\n"
     ]
    }
   ],
   "source": [
    "import this\n"
   ]
  },
  {
   "cell_type": "markdown",
   "id": "6dc1099d-2377-40f0-ae6d-0c941f8a6f86",
   "metadata": {},
   "source": [
    "> ## **Tipos de \"dados\" no Python**"
   ]
  },
  {
   "cell_type": "code",
   "execution_count": null,
   "id": "107b6c58-ca23-477f-9dd5-8d65e8ecd269",
   "metadata": {},
   "outputs": [],
   "source": [
    "# Comentário: cerquilha/hastag não é executado\n",
    "# (Atalho neste ambiente para comentar/descomentar: ctrl + ;)\n",
    "\n",
    "# Tipos básicos:\n",
    "\n",
    "x = -3          # inteiro \n",
    "y = 3.14        # float \n",
    "c = 4.2 + 5.14j # complexo (i -> corrente elétrica)\n",
    "b = True        # booleano \n",
    "n = None        # vazio (ausência de valor / nenhuma informação)\n",
    "\n",
    "# (Tipo complexo)\n",
    "\n",
    "s = 'texto'     # string \n"
   ]
  },
  {
   "cell_type": "markdown",
   "id": "0c6f5aca",
   "metadata": {},
   "source": [
    "> #### **Armazenamento de dados**\n",
    ">\n",
    ">__Variáveis__: atribuição de um valor a um identificador\n",
    ">\n",
    ">x = -1 &thinsp; &rarr; &thinsp; x recebe -1\n",
    ">\n",
    ">Nomes de variáveis __podem conter__ letras minúsculas, maiúsculas, underscore (_), e exceto para o primeiro caractere, podem ter números.\n",
    ">\n",
    ">my_x, myX, x1, _x &thinsp; &rarr; &thinsp; __válidos__\n",
    ">\n",
    ">1x &thinsp; &rarr; &thinsp; __inválido__\n",
    ">\n",
    ">Python é _case-sensitive_ &thinsp; &rarr; &thinsp; mx $\\neq$ mX\n",
    ">\n",
    ">`Palavras reservadas`: fazem parte da linguagem, então não podem ser usadas (mensagem de erro).\n",
    ">\n",
    ">Exemplo: `False`, `True`, `None`, `if`, `elif`, `else`, `for`, `while`, `with`, `and`, `or`, `not`, `is`, `in`, `import`, `from`, `as`, `def`, `return`, `yield`, `try`, `except`, `finally`, `raise`, `pass`, `break`, `continue`, `class`, `assert`, `del`, `lambda`, ...\n",
    ">\n",
    "> <br>"
   ]
  },
  {
   "cell_type": "markdown",
   "id": "1a41806f",
   "metadata": {},
   "source": [
    ">### **Função embutida** (*built-in function*) `type`\n",
    ">\n",
    ">lista de funções embutidas: https://docs.python.org/3/library/functions.html\n",
    ">\n",
    "> <br>"
   ]
  },
  {
   "cell_type": "code",
   "execution_count": 388,
   "id": "f4a18b01",
   "metadata": {},
   "outputs": [
    {
     "name": "stdout",
     "output_type": "stream",
     "text": [
      "\u001b[1;31mInit signature:\u001b[0m \u001b[0mtype\u001b[0m\u001b[1;33m(\u001b[0m\u001b[0mself\u001b[0m\u001b[1;33m,\u001b[0m \u001b[1;33m/\u001b[0m\u001b[1;33m,\u001b[0m \u001b[1;33m*\u001b[0m\u001b[0margs\u001b[0m\u001b[1;33m,\u001b[0m \u001b[1;33m**\u001b[0m\u001b[0mkwargs\u001b[0m\u001b[1;33m)\u001b[0m\u001b[1;33m\u001b[0m\u001b[1;33m\u001b[0m\u001b[0m\n",
      "\u001b[1;31mDocstring:\u001b[0m     \n",
      "type(object) -> the object's type\n",
      "type(name, bases, dict, **kwds) -> a new type\n",
      "\u001b[1;31mType:\u001b[0m           type\n",
      "\u001b[1;31mSubclasses:\u001b[0m     ABCMeta, EnumMeta, NamedTupleMeta, _TypedDictMeta, _ABC, MetaHasDescriptors, PyCStructType, UnionType, PyCPointerType, PyCArrayType, ..."
     ]
    }
   ],
   "source": [
    "type?"
   ]
  },
  {
   "cell_type": "code",
   "execution_count": 389,
   "id": "9b8b9cf5-d12c-4a0f-916a-6160bab47579",
   "metadata": {},
   "outputs": [
    {
     "data": {
      "text/plain": [
       "(int, float, complex, bool, str, NoneType)"
      ]
     },
     "execution_count": 389,
     "metadata": {},
     "output_type": "execute_result"
    }
   ],
   "source": [
    "type(x), type(y), type(c), type(b), type(s), type(n)"
   ]
  },
  {
   "cell_type": "markdown",
   "id": "1f36418e",
   "metadata": {},
   "source": [
    "> ### Formas de se **visualizar/mostrar valores ou conteúdos de variáveis**\n",
    ">\n",
    "> ### Lançando as variáveis direto na linha de comando\n",
    ">\n",
    "> <br>"
   ]
  },
  {
   "cell_type": "code",
   "execution_count": 390,
   "id": "21e9b195",
   "metadata": {},
   "outputs": [
    {
     "data": {
      "text/plain": [
       "-3"
      ]
     },
     "execution_count": 390,
     "metadata": {},
     "output_type": "execute_result"
    }
   ],
   "source": [
    "x"
   ]
  },
  {
   "cell_type": "code",
   "execution_count": 391,
   "id": "f3865ea7",
   "metadata": {},
   "outputs": [
    {
     "data": {
      "text/plain": [
       "(3.14, 'texto')"
      ]
     },
     "execution_count": 391,
     "metadata": {},
     "output_type": "execute_result"
    }
   ],
   "source": [
    "y, s"
   ]
  },
  {
   "cell_type": "markdown",
   "id": "dc42387d",
   "metadata": {},
   "source": [
    "> ### Formas de se **visualizar/mostrar valores ou conteúdos de variáveis**\n",
    ">\n",
    "> ### Função `print`\n",
    ">\n",
    "> <br>"
   ]
  },
  {
   "cell_type": "code",
   "execution_count": 392,
   "id": "60720982",
   "metadata": {},
   "outputs": [
    {
     "name": "stdout",
     "output_type": "stream",
     "text": [
      "True None\n"
     ]
    }
   ],
   "source": [
    "print(b, n)"
   ]
  },
  {
   "cell_type": "code",
   "execution_count": 393,
   "id": "c99460f8",
   "metadata": {},
   "outputs": [
    {
     "name": "stdout",
     "output_type": "stream",
     "text": [
      "Valores de x e y: -3 e 3.14\n"
     ]
    }
   ],
   "source": [
    "print('Valores de x e y:', x, 'e', y) # composição"
   ]
  },
  {
   "cell_type": "code",
   "execution_count": 394,
   "id": "d4e684f4",
   "metadata": {},
   "outputs": [
    {
     "name": "stdout",
     "output_type": "stream",
     "text": [
      "Valores de x e y: -3 e 3.14\n"
     ]
    }
   ],
   "source": [
    "# Antigamente composição era por soma\n",
    "\n",
    "print('Valores de x e y: ' + str(x) + ' e ' + str(y))"
   ]
  },
  {
   "cell_type": "markdown",
   "id": "4c01d217",
   "metadata": {},
   "source": [
    ">### Obter informações sobre uma função\n",
    ">\n",
    "> ~~~python\n",
    "> # Sintaxe:\n",
    ">\n",
    "> help(func)\n",
    ">\n",
    "> # ou:\n",
    ">\n",
    "> func?\n",
    "> ~~~\n",
    ">\n",
    "> ***\n",
    ">\n",
    "> Onde:\n",
    ">\n",
    "> func &thinsp; &rarr; &thinsp; é nome da função\n",
    ">\n",
    "> <br>"
   ]
  },
  {
   "cell_type": "code",
   "execution_count": 26,
   "id": "cd632ecf",
   "metadata": {},
   "outputs": [
    {
     "name": "stdout",
     "output_type": "stream",
     "text": [
      "Help on built-in function print in module builtins:\n",
      "\n",
      "print(...)\n",
      "    print(value, ..., sep=' ', end='\\n', file=sys.stdout, flush=False)\n",
      "    \n",
      "    Prints the values to a stream, or to sys.stdout by default.\n",
      "    Optional keyword arguments:\n",
      "    file:  a file-like object (stream); defaults to the current sys.stdout.\n",
      "    sep:   string inserted between values, default a space.\n",
      "    end:   string appended after the last value, default a newline.\n",
      "    flush: whether to forcibly flush the stream.\n",
      "\n"
     ]
    }
   ],
   "source": [
    "help(print)"
   ]
  },
  {
   "cell_type": "code",
   "execution_count": null,
   "id": "85e2d48c",
   "metadata": {},
   "outputs": [
    {
     "name": "stdout",
     "output_type": "stream",
     "text": [
      "\u001b[1;31mDocstring:\u001b[0m\n",
      "print(value, ..., sep=' ', end='\\n', file=sys.stdout, flush=False)\n",
      "\n",
      "Prints the values to a stream, or to sys.stdout by default.\n",
      "Optional keyword arguments:\n",
      "file:  a file-like object (stream); defaults to the current sys.stdout.\n",
      "sep:   string inserted between values, default a space.\n",
      "end:   string appended after the last value, default a newline.\n",
      "flush: whether to forcibly flush the stream.\n",
      "\u001b[1;31mType:\u001b[0m      builtin_function_or_method"
     ]
    }
   ],
   "source": [
    "# ou:\n",
    "\n",
    "print?"
   ]
  },
  {
   "cell_type": "markdown",
   "id": "e68812f3",
   "metadata": {},
   "source": [
    ">## `Tudo em Python é um objeto`\n",
    ">\n",
    ">### Um __objeto__ é definido por uma __classe (construtor/receita/gabarito)__ e __tem atributos e métodos associados__\n",
    ">\n",
    ">__Dados são armazenados na memória na forma de objetos__, que possuem um tipo e valor(es)\n",
    ">\n",
    ">x = -3 &thinsp; &rarr; &thinsp; identificador/variável = classe(valor)\n",
    ">***\n",
    ">Construtores: (um objeto só existe quando instanciado)\n",
    ">\n",
    ">x = 3 &thinsp; $\\iff$ &thinsp; x = int(3)\n",
    ">\n",
    ">y = 3.14 &thinsp; $\\iff$ &thinsp; y = float(3.14)\n",
    ">\n",
    ">s = 'texto' &thinsp; $\\iff$ &thinsp; s = str('texto')\n",
    ">\n",
    "> <br>"
   ]
  },
  {
   "cell_type": "code",
   "execution_count": 396,
   "id": "6b955989",
   "metadata": {},
   "outputs": [
    {
     "data": {
      "text/plain": [
       "(int, str)"
      ]
     },
     "execution_count": 396,
     "metadata": {},
     "output_type": "execute_result"
    }
   ],
   "source": [
    "type(x), type(s)"
   ]
  },
  {
   "cell_type": "markdown",
   "id": "b962542a",
   "metadata": {},
   "source": [
    "> #### O tipo de um objeto está relacionado aos valores que ele pode armazenar, quais métodos estão associados e quais operações podem ser executadas"
   ]
  },
  {
   "cell_type": "markdown",
   "id": "ad00cb93",
   "metadata": {},
   "source": [
    "> ### Exemplo `Atributo` (armazena informações)\n",
    ">\n",
    ">~~~python\n",
    "># Sintaxe:\n",
    ">\n",
    "><objeto>.<atributo>\n",
    ">~~~\n",
    ">\n",
    "> <br>\n",
    ">\n",
    "> ***\n",
    "> Onde:\n",
    "> ~~~python\n",
    "> <objeto> é o identificador\n",
    ">\n",
    "> <atributo> é algum atributo/propriedade associado ao tipo do objeto\n",
    ">~~~\n",
    ">\n",
    ">\n",
    "> <br>"
   ]
  },
  {
   "cell_type": "code",
   "execution_count": 397,
   "id": "4454cae2",
   "metadata": {},
   "outputs": [
    {
     "data": {
      "text/plain": [
       "1"
      ]
     },
     "execution_count": 397,
     "metadata": {},
     "output_type": "execute_result"
    }
   ],
   "source": [
    "x = 5\n",
    "\n",
    "x.denominator"
   ]
  },
  {
   "cell_type": "markdown",
   "id": "96d63f21",
   "metadata": {},
   "source": [
    "> ### Exemplo `Método` (executa uma tarefa)\n",
    ">\n",
    ">~~~python\n",
    "># Sintaxe:\n",
    ">\n",
    "><objeto>.<método>()\n",
    ">~~~\n",
    ">\n",
    "> <br>\n",
    ">\n",
    "> ***\n",
    "> Onde:\n",
    "> ~~~python\n",
    "> <objeto> é o identificador\n",
    ">\n",
    "> <método> é algum método associado ao tipo do objeto\n",
    ">~~~\n",
    ">\n",
    "> <br>"
   ]
  },
  {
   "cell_type": "code",
   "execution_count": 398,
   "id": "073ff6b7",
   "metadata": {},
   "outputs": [
    {
     "data": {
      "text/plain": [
       "('um exemplo de string', 'Um exemplo de string')"
      ]
     },
     "execution_count": 398,
     "metadata": {},
     "output_type": "execute_result"
    }
   ],
   "source": [
    "s = 'um exemplo de string'\n",
    "\n",
    "s, s.capitalize() # exemplo método"
   ]
  },
  {
   "cell_type": "markdown",
   "id": "a2ce07f7",
   "metadata": {},
   "source": [
    "> ## `Strings`\n",
    ">\n",
    "> ##### Coleção/sequência de caracteres"
   ]
  },
  {
   "cell_type": "code",
   "execution_count": 399,
   "id": "c542c9cb",
   "metadata": {},
   "outputs": [
    {
     "data": {
      "text/plain": [
       "('string usando aspas simples',\n",
       " 'usando aspas duplas',\n",
       " 'usando aspas duplas triplicadas',\n",
       " 'ou ainda com aspas simples triplicadas')"
      ]
     },
     "execution_count": 399,
     "metadata": {},
     "output_type": "execute_result"
    }
   ],
   "source": [
    "'string usando aspas simples', \"usando aspas duplas\", \"\"\"usando aspas duplas triplicadas\"\"\", '''ou ainda com aspas simples triplicadas'''"
   ]
  },
  {
   "cell_type": "code",
   "execution_count": 83,
   "id": "2ac0f69d",
   "metadata": {},
   "outputs": [
    {
     "data": {
      "text/plain": [
       "'123'"
      ]
     },
     "execution_count": 83,
     "metadata": {},
     "output_type": "execute_result"
    }
   ],
   "source": [
    "# usando o construtor da classe\n",
    "\n",
    "str(123)"
   ]
  },
  {
   "cell_type": "markdown",
   "id": "d729ec2a",
   "metadata": {},
   "source": [
    "> ### `Indexação`: uso de colchetes e índice da posição\n",
    ">\n",
    ">~~~python\n",
    "># Sitaxe:\n",
    ">\n",
    "><identificador>[índice_posição]\n",
    ">~~~\n",
    ">\n",
    "> <br>\n"
   ]
  },
  {
   "cell_type": "code",
   "execution_count": 400,
   "id": "a679a150",
   "metadata": {},
   "outputs": [
    {
     "data": {
      "text/plain": [
       "'2'"
      ]
     },
     "execution_count": 400,
     "metadata": {},
     "output_type": "execute_result"
    }
   ],
   "source": [
    "cpf = '123.456.789-10'\n",
    "\n",
    "cpf[1]"
   ]
  },
  {
   "cell_type": "markdown",
   "id": "b609b061",
   "metadata": {},
   "source": [
    "> ### `Indexação em Python começa em zero`\n",
    ">\n",
    "> ##### O primeiro elemento é o elemento zero\n",
    ">\n",
    "> <br>"
   ]
  },
  {
   "cell_type": "markdown",
   "id": "320c9c91",
   "metadata": {},
   "source": [
    "> ### `Slice`: fatiar\n",
    ">\n",
    ">~~~python\n",
    "># Sintaxe:\n",
    ">\n",
    "><identificador>[início:fim:passo]\n",
    ">~~~\n",
    ">***\n",
    ">- início, fim e passo podem ser omitidos\n",
    ">\n",
    ">- se omitidos, implicitamente entendido como:\n",
    ">\n",
    ">    - início: primeiro elemento\n",
    ">\n",
    ">    - fim: último elemento\n",
    ">\n",
    ">    - passo: de elemento a elemento\n",
    ">\n",
    "> <br>"
   ]
  },
  {
   "cell_type": "code",
   "execution_count": 401,
   "id": "8d52f8f3",
   "metadata": {},
   "outputs": [
    {
     "data": {
      "text/plain": [
       "('123.456.789-10', '123', '123')"
      ]
     },
     "execution_count": 401,
     "metadata": {},
     "output_type": "execute_result"
    }
   ],
   "source": [
    "cpf, cpf[0:3:1], cpf[0:3]\n",
    "\n",
    "# Último elemento não inclusivo"
   ]
  },
  {
   "cell_type": "code",
   "execution_count": 402,
   "id": "4d49e7ac",
   "metadata": {},
   "outputs": [
    {
     "data": {
      "text/plain": [
       "'123'"
      ]
     },
     "execution_count": 402,
     "metadata": {},
     "output_type": "execute_result"
    }
   ],
   "source": [
    "cpf[:3]"
   ]
  },
  {
   "cell_type": "code",
   "execution_count": 403,
   "id": "9853663f",
   "metadata": {},
   "outputs": [
    {
     "data": {
      "text/plain": [
       "('123.456.789-10', '0')"
      ]
     },
     "execution_count": 403,
     "metadata": {},
     "output_type": "execute_result"
    }
   ],
   "source": [
    "cpf, cpf[-1]"
   ]
  },
  {
   "cell_type": "code",
   "execution_count": 404,
   "id": "1e9ec810",
   "metadata": {},
   "outputs": [
    {
     "data": {
      "text/plain": [
       "'10'"
      ]
     },
     "execution_count": 404,
     "metadata": {},
     "output_type": "execute_result"
    }
   ],
   "source": [
    "cpf[-2:]"
   ]
  },
  {
   "cell_type": "code",
   "execution_count": 405,
   "id": "304b7545",
   "metadata": {},
   "outputs": [
    {
     "data": {
      "text/plain": [
       "('123.456.789-10', '2.5.8-0')"
      ]
     },
     "execution_count": 405,
     "metadata": {},
     "output_type": "execute_result"
    }
   ],
   "source": [
    "cpf, cpf[1::2]"
   ]
  },
  {
   "cell_type": "markdown",
   "id": "6cb07a0a",
   "metadata": {},
   "source": [
    "> ### `Concatenação de strings`"
   ]
  },
  {
   "cell_type": "code",
   "execution_count": 406,
   "id": "42ee6ca7",
   "metadata": {},
   "outputs": [
    {
     "data": {
      "text/plain": [
       "'textoe mais texto concatenado'"
      ]
     },
     "execution_count": 406,
     "metadata": {},
     "output_type": "execute_result"
    }
   ],
   "source": [
    "s = 'texto'\n",
    "\n",
    "s2 = 'e mais texto concatenado'\n",
    "\n",
    "s + s2"
   ]
  },
  {
   "cell_type": "code",
   "execution_count": 407,
   "id": "82918f0b",
   "metadata": {},
   "outputs": [
    {
     "name": "stdout",
     "output_type": "stream",
     "text": [
      "texto e mais texto concatenado\n"
     ]
    }
   ],
   "source": [
    "print(s, s2)"
   ]
  },
  {
   "cell_type": "markdown",
   "id": "c7db080c",
   "metadata": {},
   "source": [
    "> ### Função *built-in* `len`\n",
    ">\n",
    "> ##### Tamanho de coleção/sequência\n",
    ">\n",
    "> <br>"
   ]
  },
  {
   "cell_type": "code",
   "execution_count": 408,
   "id": "3ac49693",
   "metadata": {},
   "outputs": [
    {
     "name": "stdout",
     "output_type": "stream",
     "text": [
      "\u001b[1;31mSignature:\u001b[0m \u001b[0mlen\u001b[0m\u001b[1;33m(\u001b[0m\u001b[0mobj\u001b[0m\u001b[1;33m,\u001b[0m \u001b[1;33m/\u001b[0m\u001b[1;33m)\u001b[0m\u001b[1;33m\u001b[0m\u001b[1;33m\u001b[0m\u001b[0m\n",
      "\u001b[1;31mDocstring:\u001b[0m Return the number of items in a container.\n",
      "\u001b[1;31mType:\u001b[0m      builtin_function_or_method"
     ]
    }
   ],
   "source": [
    "len?"
   ]
  },
  {
   "cell_type": "code",
   "execution_count": 409,
   "id": "afb8333a",
   "metadata": {},
   "outputs": [
    {
     "data": {
      "text/plain": [
       "9"
      ]
     },
     "execution_count": 409,
     "metadata": {},
     "output_type": "execute_result"
    }
   ],
   "source": [
    "len('sequência')"
   ]
  },
  {
   "cell_type": "markdown",
   "id": "e4f731ca-a3d5-4e80-92a7-b8f34847a96b",
   "metadata": {},
   "source": [
    "> (falaremos mais sobre _strings_ adiante)\n",
    "> \n",
    "> ## **Objetos nativos do Python**\n",
    "> \n",
    "> ### Listas, Tuplas, Dicionários, Conjuntos\n",
    "> \n",
    "> Tipos compostos / complexos\n",
    ">\n",
    "> <br>"
   ]
  },
  {
   "cell_type": "markdown",
   "id": "8cf02e99",
   "metadata": {},
   "source": [
    "> ## `Listas`"
   ]
  },
  {
   "cell_type": "code",
   "execution_count": 410,
   "id": "0b88d567-8d64-4d30-ab7b-f1bc55e47f03",
   "metadata": {},
   "outputs": [
    {
     "name": "stdout",
     "output_type": "stream",
     "text": [
      "[] []\n"
     ]
    }
   ],
   "source": [
    "# Listas Vazias\n",
    "\n",
    "l1 = list()\n",
    "\n",
    "l2 = []\n",
    "\n",
    "print(l1, l2)"
   ]
  },
  {
   "cell_type": "code",
   "execution_count": 411,
   "id": "51c9c480",
   "metadata": {},
   "outputs": [
    {
     "data": {
      "text/plain": [
       "list"
      ]
     },
     "execution_count": 411,
     "metadata": {},
     "output_type": "execute_result"
    }
   ],
   "source": [
    "type(l1)"
   ]
  },
  {
   "cell_type": "code",
   "execution_count": 412,
   "id": "a3dcf3d3",
   "metadata": {},
   "outputs": [
    {
     "data": {
      "text/plain": [
       "([1, 2, 3], [1, 'a', 0.75, [2, 3, 4]])"
      ]
     },
     "execution_count": 412,
     "metadata": {},
     "output_type": "execute_result"
    }
   ],
   "source": [
    "# Qualquer tipo de elemento\n",
    "\n",
    "l1 = list([1, 2, 3])\n",
    "\n",
    "l2 = [1, 'a', .75, [2, 3, 4]]\n",
    "\n",
    "l1, l2"
   ]
  },
  {
   "cell_type": "code",
   "execution_count": 1,
   "id": "db1db2d0",
   "metadata": {},
   "outputs": [
    {
     "data": {
      "text/plain": [
       "[{1: 2}, <map at 0x2a4eecf3430>]"
      ]
     },
     "execution_count": 1,
     "metadata": {},
     "output_type": "execute_result"
    }
   ],
   "source": [
    "# exemplos de qualquer tipo, inclusive objeto abstrato:\n",
    "\n",
    "# Dicionários veremos a seguir, e map adiante\n",
    "\n",
    "[{1: 2}, map(list, [2])]\n"
   ]
  },
  {
   "cell_type": "markdown",
   "id": "be3736a2",
   "metadata": {},
   "source": [
    "> ### `Indexação`\n",
    ">\n",
    "> Acessar elementos pela posição\n",
    ">\n",
    "> <br>"
   ]
  },
  {
   "cell_type": "code",
   "execution_count": 89,
   "id": "cb53b2a4",
   "metadata": {},
   "outputs": [
    {
     "name": "stdout",
     "output_type": "stream",
     "text": [
      "[1, 2, 3]\n",
      "[1, 2, 3]\n"
     ]
    }
   ],
   "source": [
    "l = list([1, 2, 3])\n",
    "\n",
    "print(l)\n",
    "\n",
    "print([l[0], l[1], l[2]]) # \"printar\" individualmente elementos"
   ]
  },
  {
   "cell_type": "markdown",
   "id": "67997b87",
   "metadata": {},
   "source": [
    ">### `Slice`\n",
    "> Fatiar &thinsp; &rarr; &thinsp; Selecionar \"pedaço\"\n",
    ">***\n",
    ">~~~python\n",
    "># Sintaxe:\n",
    ">\n",
    "><sequência>[início:fim]\n",
    ">~~~\n",
    ">\n",
    "> <br>"
   ]
  },
  {
   "cell_type": "code",
   "execution_count": 414,
   "id": "eae997f2",
   "metadata": {},
   "outputs": [
    {
     "data": {
      "text/plain": [
       "[1, 2]"
      ]
     },
     "execution_count": 414,
     "metadata": {},
     "output_type": "execute_result"
    }
   ],
   "source": [
    "l = [1, 2, 3] # três elementos\n",
    "\n",
    "l[0:2]\n",
    "\n",
    "# Último elemento não inclusivo"
   ]
  },
  {
   "cell_type": "code",
   "execution_count": 415,
   "id": "7fc077ed",
   "metadata": {},
   "outputs": [
    {
     "data": {
      "text/plain": [
       "[1, 2, 3]"
      ]
     },
     "execution_count": 415,
     "metadata": {},
     "output_type": "execute_result"
    }
   ],
   "source": [
    "l[0:3]\n",
    "\n",
    "# Mesma coisa que:"
   ]
  },
  {
   "cell_type": "code",
   "execution_count": 416,
   "id": "e7d93263",
   "metadata": {},
   "outputs": [
    {
     "data": {
      "text/plain": [
       "[1, 2, 3]"
      ]
     },
     "execution_count": 416,
     "metadata": {},
     "output_type": "execute_result"
    }
   ],
   "source": [
    "l[0:len(l)]\n",
    "\n",
    "# Mesma coisa que:"
   ]
  },
  {
   "cell_type": "code",
   "execution_count": 417,
   "id": "890e8cd8",
   "metadata": {},
   "outputs": [
    {
     "data": {
      "text/plain": [
       "[1, 2, 3]"
      ]
     },
     "execution_count": 417,
     "metadata": {},
     "output_type": "execute_result"
    }
   ],
   "source": [
    "l[0:]\n",
    "\n",
    "# Mesma coisa que:"
   ]
  },
  {
   "cell_type": "code",
   "execution_count": 418,
   "id": "94b86a42",
   "metadata": {},
   "outputs": [
    {
     "data": {
      "text/plain": [
       "[1, 2, 3]"
      ]
     },
     "execution_count": 418,
     "metadata": {},
     "output_type": "execute_result"
    }
   ],
   "source": [
    "l[:]"
   ]
  },
  {
   "cell_type": "code",
   "execution_count": null,
   "id": "9403cd7b",
   "metadata": {},
   "outputs": [
    {
     "data": {
      "text/plain": [
       "[1, 2, 3, 4, 5, 6]"
      ]
     },
     "execution_count": 419,
     "metadata": {},
     "output_type": "execute_result"
    }
   ],
   "source": [
    "# Alguns métodos de lista\n",
    "\n",
    "# Estender uma lista\n",
    "\n",
    "l.extend([4, 5, 6])\n",
    "\n",
    "l"
   ]
  },
  {
   "cell_type": "code",
   "execution_count": null,
   "id": "27b2ade2",
   "metadata": {},
   "outputs": [
    {
     "data": {
      "text/plain": [
       "[1, 2, 3, 4, 5, 6, 'a', 'b', 'c', 'd', 'e']"
      ]
     },
     "execution_count": 420,
     "metadata": {},
     "output_type": "execute_result"
    }
   ],
   "source": [
    "# Estender usando outra sequência\n",
    "\n",
    "l.extend('abcde')\n",
    "\n",
    "l"
   ]
  },
  {
   "cell_type": "code",
   "execution_count": 90,
   "id": "f15da4cd",
   "metadata": {},
   "outputs": [
    {
     "data": {
      "text/plain": [
       "0"
      ]
     },
     "execution_count": 90,
     "metadata": {},
     "output_type": "execute_result"
    }
   ],
   "source": [
    "# Índice de um item (default: primeira ocorrência)\n",
    "\n",
    "l.index(1)"
   ]
  },
  {
   "cell_type": "code",
   "execution_count": 91,
   "id": "f71ce207",
   "metadata": {},
   "outputs": [
    {
     "data": {
      "text/plain": [
       "[1, 0, 2, 3]"
      ]
     },
     "execution_count": 91,
     "metadata": {},
     "output_type": "execute_result"
    }
   ],
   "source": [
    "# Inserir um item em determinada posição\n",
    "\n",
    "l.insert(1, 0)\n",
    "\n",
    "l"
   ]
  },
  {
   "cell_type": "code",
   "execution_count": null,
   "id": "0ffa5e10",
   "metadata": {},
   "outputs": [
    {
     "data": {
      "text/plain": [
       "([0, 1, 2, 3, 4, 5, 6, 7, 8], 9)"
      ]
     },
     "execution_count": 97,
     "metadata": {},
     "output_type": "execute_result"
    }
   ],
   "source": [
    "# Remover e retornar um valor (padrão: último).\n",
    "\n",
    "_ = l.pop() # \"_\" variável coringa (armazenamento do valor da última expressão)\n",
    "\n",
    "l, _"
   ]
  },
  {
   "cell_type": "code",
   "execution_count": null,
   "id": "b32c235b",
   "metadata": {},
   "outputs": [
    {
     "data": {
      "text/plain": [
       "[1, 1, 2, 3, 4, 5, 6, 'b', 'c', 'd']"
      ]
     },
     "execution_count": 424,
     "metadata": {},
     "output_type": "execute_result"
    }
   ],
   "source": [
    "# Remover determinado item\n",
    "\n",
    "l.pop(l.index('a'))\n",
    "\n",
    "l"
   ]
  },
  {
   "cell_type": "code",
   "execution_count": null,
   "id": "b1f83e36",
   "metadata": {},
   "outputs": [
    {
     "data": {
      "text/plain": [
       "2"
      ]
     },
     "execution_count": 425,
     "metadata": {},
     "output_type": "execute_result"
    }
   ],
   "source": [
    "# Contar quantos elementos\n",
    "\n",
    "l.count(1)"
   ]
  },
  {
   "cell_type": "code",
   "execution_count": null,
   "id": "94e27aee",
   "metadata": {},
   "outputs": [
    {
     "data": {
      "text/plain": [
       "[20, 20.5, 21]"
      ]
     },
     "execution_count": 426,
     "metadata": {},
     "output_type": "execute_result"
    }
   ],
   "source": [
    "lst = [20.5, 21, 20]\n",
    "\n",
    "# Ordenar\n",
    "\n",
    "lst.sort() # altera a lista \"inplace\"\n",
    "\n",
    "lst"
   ]
  },
  {
   "cell_type": "code",
   "execution_count": null,
   "id": "a0770b55",
   "metadata": {},
   "outputs": [
    {
     "data": {
      "text/plain": [
       "[21, 20.5, 20]"
      ]
     },
     "execution_count": 427,
     "metadata": {},
     "output_type": "execute_result"
    }
   ],
   "source": [
    "# Ordenar reversamente\n",
    "\n",
    "lst.sort(reverse=True)\n",
    "\n",
    "lst"
   ]
  },
  {
   "cell_type": "markdown",
   "id": "41406e88",
   "metadata": {},
   "source": [
    "> ### Função embutida `sorted`\n",
    ">\n",
    "> Ordena uma coleção / sequência (um iterável)\n",
    ">\n",
    "> <br/> "
   ]
  },
  {
   "cell_type": "code",
   "execution_count": 30,
   "id": "03ff536b",
   "metadata": {},
   "outputs": [
    {
     "data": {
      "text/plain": [
       "([1, 2, 4], [4, 2, 1])"
      ]
     },
     "execution_count": 30,
     "metadata": {},
     "output_type": "execute_result"
    }
   ],
   "source": [
    "lst = [2, 4, 1]\n",
    "\n",
    "# Nova maneira de ordenar lista\n",
    "\n",
    "# (retorna uma nova lista)\n",
    "\n",
    "sorted(lst), sorted(lst, reverse=True)\n",
    "\n"
   ]
  },
  {
   "cell_type": "code",
   "execution_count": 32,
   "id": "6cb50d46",
   "metadata": {},
   "outputs": [
    {
     "data": {
      "text/plain": [
       "['aa', 'bbbb', 'c', 'ddd']"
      ]
     },
     "execution_count": 32,
     "metadata": {},
     "output_type": "execute_result"
    }
   ],
   "source": [
    "# Ordenando alfabeticamente\n",
    "\n",
    "lst = ['c', 'aa', 'ddd', 'bbbb']\n",
    "\n",
    "sorted(lst)\n",
    "\n",
    "# mas e se fosse por tamanho"
   ]
  },
  {
   "cell_type": "code",
   "execution_count": 33,
   "id": "d5d8d39b",
   "metadata": {},
   "outputs": [
    {
     "data": {
      "text/plain": [
       "['c', 'aa', 'ddd', 'bbbb']"
      ]
     },
     "execution_count": 33,
     "metadata": {},
     "output_type": "execute_result"
    }
   ],
   "source": [
    "sorted(lst, key=len)"
   ]
  },
  {
   "cell_type": "markdown",
   "id": "329aaafb",
   "metadata": {},
   "source": [
    "> ### `Lista aninhada` (*`nested list`*)\n",
    ">\n",
    "> Uma lista dentro de outra\n",
    ">\n",
    "> <br>"
   ]
  },
  {
   "cell_type": "code",
   "execution_count": 428,
   "id": "c00ff52c",
   "metadata": {},
   "outputs": [
    {
     "data": {
      "text/plain": [
       "[-1, 0, [1.0, 2, 3]]"
      ]
     },
     "execution_count": 428,
     "metadata": {},
     "output_type": "execute_result"
    }
   ],
   "source": [
    "nested_list = [-1, 0, [1.0, 2, 3]] # lista dentro de lista\n",
    "\n",
    "nested_list"
   ]
  },
  {
   "cell_type": "markdown",
   "id": "7374159e",
   "metadata": {},
   "source": [
    "> ### Lista vazia &thinsp; &rarr; &thinsp; `\"Apendar\"`"
   ]
  },
  {
   "cell_type": "code",
   "execution_count": 429,
   "id": "7d448250",
   "metadata": {},
   "outputs": [
    {
     "name": "stdout",
     "output_type": "stream",
     "text": [
      "[1, 2, 3, 4]\n"
     ]
    }
   ],
   "source": [
    "l1 = [1, 2, 3]\n",
    "\n",
    "l1.append(4)\n",
    "\n",
    "print(l1)\n"
   ]
  },
  {
   "cell_type": "code",
   "execution_count": 430,
   "id": "cb7e9c23",
   "metadata": {},
   "outputs": [
    {
     "data": {
      "text/plain": [
       "[1, 2, 3, 4]"
      ]
     },
     "execution_count": 430,
     "metadata": {},
     "output_type": "execute_result"
    }
   ],
   "source": [
    "l3 = []\n",
    "\n",
    "# Há outras formas de se fazer isso (com laço), como veremos depois\n",
    "\n",
    "l3.append(l1[0])\n",
    "l3.append(l1[1])\n",
    "l3.append(l1[2])\n",
    "l3.append(l1[3])\n",
    "\n",
    "l3"
   ]
  },
  {
   "cell_type": "code",
   "execution_count": 431,
   "id": "c694e5ad",
   "metadata": {},
   "outputs": [
    {
     "data": {
      "text/plain": [
       "True"
      ]
     },
     "execution_count": 431,
     "metadata": {},
     "output_type": "execute_result"
    }
   ],
   "source": [
    "# Operador Relacional (==)\n",
    "\n",
    "l3 == l1\n"
   ]
  },
  {
   "cell_type": "code",
   "execution_count": 432,
   "id": "5baafd5e",
   "metadata": {},
   "outputs": [
    {
     "data": {
      "text/plain": [
       "False"
      ]
     },
     "execution_count": 432,
     "metadata": {},
     "output_type": "execute_result"
    }
   ],
   "source": [
    "# Operador Lógico (is)\n",
    "\n",
    "l3 is l1"
   ]
  },
  {
   "cell_type": "markdown",
   "id": "13ce6a0d",
   "metadata": {},
   "source": [
    "> ### Função *built-in* `id`\n",
    "> \n",
    "> Referência ao endereço de memória do objeto\n",
    ">\n",
    "> <br>"
   ]
  },
  {
   "cell_type": "code",
   "execution_count": 433,
   "id": "591b2913",
   "metadata": {},
   "outputs": [
    {
     "data": {
      "text/plain": [
       "(2233812169664, 2233838041664)"
      ]
     },
     "execution_count": 433,
     "metadata": {},
     "output_type": "execute_result"
    }
   ],
   "source": [
    "id(l1), id(l3)\n",
    "\n",
    "# id?"
   ]
  },
  {
   "cell_type": "code",
   "execution_count": 434,
   "id": "aa41eaa7",
   "metadata": {},
   "outputs": [
    {
     "name": "stdout",
     "output_type": "stream",
     "text": [
      "[1, 2, 3, 4]\n",
      "[1, 2, 3, 4]\n"
     ]
    }
   ],
   "source": [
    "print(l1)\n",
    "\n",
    "print(l3)"
   ]
  },
  {
   "cell_type": "code",
   "execution_count": null,
   "id": "e9d0df16",
   "metadata": {},
   "outputs": [],
   "source": [
    "# Definindo l3 a partir de outro objeto (l1)\n",
    "\n",
    "l3 = l1 # atribuição de lista é uma \"cópia\""
   ]
  },
  {
   "cell_type": "code",
   "execution_count": 436,
   "id": "2dc636d4",
   "metadata": {},
   "outputs": [
    {
     "name": "stdout",
     "output_type": "stream",
     "text": [
      "True\n",
      "True\n"
     ]
    }
   ],
   "source": [
    "print(l3 == l1) # operador relacional\n",
    "\n",
    "print(l3 is l1) # operador lógico"
   ]
  },
  {
   "cell_type": "code",
   "execution_count": 437,
   "id": "f141b2a9",
   "metadata": {},
   "outputs": [
    {
     "name": "stdout",
     "output_type": "stream",
     "text": [
      "2233812169664 2233812169664\n",
      "True\n"
     ]
    }
   ],
   "source": [
    "# l3 = l1 -> atribuição de lista aponta para o mesmo local de memória\n",
    "\n",
    "print(id(l1), id(l3))\n",
    "\n",
    "print(id(l1) == id(l3))\n"
   ]
  },
  {
   "cell_type": "code",
   "execution_count": 438,
   "id": "9e84543a",
   "metadata": {},
   "outputs": [
    {
     "data": {
      "text/plain": [
       "([1, 2, 3, 4, 4], [1, 2, 3, 4, 4])"
      ]
     },
     "execution_count": 438,
     "metadata": {},
     "output_type": "execute_result"
    }
   ],
   "source": [
    "# Então se modificarmos a lista mãe, muda a lista filha\n",
    "\n",
    "l1.append(4)\n",
    "\n",
    "l1, l3"
   ]
  },
  {
   "cell_type": "code",
   "execution_count": 439,
   "id": "70808507",
   "metadata": {},
   "outputs": [
    {
     "data": {
      "text/plain": [
       "(2233812169664, 2233812169664)"
      ]
     },
     "execution_count": 439,
     "metadata": {},
     "output_type": "execute_result"
    }
   ],
   "source": [
    "id(l3), id(l1)"
   ]
  },
  {
   "cell_type": "markdown",
   "id": "6074fac0",
   "metadata": {},
   "source": [
    ">#### Objeto `mutável` (*mutable*): quando se altera o valor do objeto, o _id_ não é alterado (apesar da alteração de conteúdo o objeto continua tendo o mesmo *id*)\n",
    ">\n",
    ">&ensp;&emsp;&emsp;&emsp;&emsp;&emsp; ↳ Objetos complexos: `list`, `set`, `dict`, `bytearray`\n",
    ">\n",
    "> <br>"
   ]
  },
  {
   "cell_type": "code",
   "execution_count": 440,
   "id": "f4a9922e",
   "metadata": {},
   "outputs": [
    {
     "data": {
      "text/plain": [
       "([10, 2, 3, 4, 4], [10, 2, 3, 4, 4])"
      ]
     },
     "execution_count": 440,
     "metadata": {},
     "output_type": "execute_result"
    }
   ],
   "source": [
    "\n",
    "# Listas são mutáveis, podemos alterar seu conteúdo\n",
    "\n",
    "l3[0] = 10\n",
    "\n",
    "# como, l3 = l1 -> l3 == l1\n",
    "\n",
    "l3, l1"
   ]
  },
  {
   "cell_type": "code",
   "execution_count": 5,
   "id": "2ed863bc",
   "metadata": {},
   "outputs": [
    {
     "data": {
      "text/plain": [
       "(True, False, (2203894019008, 2203894014464))"
      ]
     },
     "execution_count": 5,
     "metadata": {},
     "output_type": "execute_result"
    }
   ],
   "source": [
    "# \"Cópia\" de uma lista como objetos diferentes\n",
    "\n",
    "# Método copy\n",
    "\n",
    "l1 = [1, 2, 3]\n",
    "\n",
    "l4 = l1.copy()\n",
    "\n",
    "l4 == l1, l4 is l1, (id(l4), id(l1))"
   ]
  },
  {
   "cell_type": "code",
   "execution_count": null,
   "id": "0351e50f",
   "metadata": {},
   "outputs": [
    {
     "name": "stdout",
     "output_type": "stream",
     "text": [
      "[0, 2, 3, 4, 4] [10, 2, 3, 4, 4]\n",
      "2233812169664 2233812416512\n"
     ]
    }
   ],
   "source": [
    "# Então alterando uma na implica na alteração da outra:\n",
    " \n",
    "l1[0] = 0\n",
    "\n",
    "print(l1, l4)\n",
    "\n",
    "print(id(l1), id(l4))"
   ]
  },
  {
   "cell_type": "code",
   "execution_count": null,
   "id": "07c42036",
   "metadata": {},
   "outputs": [
    {
     "data": {
      "text/plain": [
       "(True, False, (2203893801024, 2203893666240))"
      ]
     },
     "execution_count": 6,
     "metadata": {},
     "output_type": "execute_result"
    }
   ],
   "source": [
    "# \"Cópia\" de uma lista como objetos diferentes\n",
    "\n",
    "l1 = [1, 2, 3]\n",
    "\n",
    "l5 = l1[:]\n",
    "\n",
    "l5 == l1, l5 is l1, (id(l5), id(l1))"
   ]
  },
  {
   "cell_type": "markdown",
   "id": "817271f6",
   "metadata": {},
   "source": [
    "> ### Falando em `id`...\n",
    ">\n",
    "> ## Gestão de Memória\n",
    ">\n",
    "> <br>"
   ]
  },
  {
   "cell_type": "code",
   "execution_count": 443,
   "id": "ea8108a6",
   "metadata": {},
   "outputs": [
    {
     "name": "stdout",
     "output_type": "stream",
     "text": [
      "50 50 50 50\n"
     ]
    }
   ],
   "source": [
    "x = 50\n",
    "w = 50\n",
    "y = 12 + 38\n",
    "z = 60 - 10\n",
    "\n",
    "print(x, w, y, z)"
   ]
  },
  {
   "cell_type": "code",
   "execution_count": 444,
   "id": "519ba37b",
   "metadata": {},
   "outputs": [
    {
     "data": {
      "text/plain": [
       "True"
      ]
     },
     "execution_count": 444,
     "metadata": {},
     "output_type": "execute_result"
    }
   ],
   "source": [
    "id(x) == id(y) == id(z) == id(w)"
   ]
  },
  {
   "cell_type": "markdown",
   "id": "df533759",
   "metadata": {},
   "source": [
    ">#### __Objetos de mesma classe e mesmo conteúdo apontam para o mesmo `id`__ (mesmo lugar de memória)"
   ]
  },
  {
   "cell_type": "code",
   "execution_count": 445,
   "id": "3b4db724",
   "metadata": {},
   "outputs": [
    {
     "name": "stdout",
     "output_type": "stream",
     "text": [
      "2233735120656\n",
      "2233735120656\n",
      "2233735120624\n",
      "2233735120656\n"
     ]
    }
   ],
   "source": [
    "z = 49\n",
    "\n",
    "print(id(x))\n",
    "print(id(y))\n",
    "print(id(z))\n",
    "print(id(w))"
   ]
  },
  {
   "cell_type": "markdown",
   "id": "91a7fb62",
   "metadata": {},
   "source": [
    "\n",
    "> #### Objetos `imutáveis` (*inmutable*): alteração no valor do objeto implica em alteração do _id_ numérico (como não pode ser alterado, outro objeto é criado ao se atribuir um novo valor).\n",
    "> \n",
    "> &ensp;&emsp;&emsp;&emsp;&emsp;&emsp; ↳ Objetos de classe simples, `int`, `float`, `complex`, `bool`, `None`, e complexas, como `string`, `tuple`, `frozenset`, `bytearray`\n",
    ">\n",
    "> <br>\n"
   ]
  },
  {
   "cell_type": "markdown",
   "id": "f165f4b1",
   "metadata": {},
   "source": [
    "> ## `Tuplas`"
   ]
  },
  {
   "cell_type": "code",
   "execution_count": 446,
   "id": "5a9cde1a",
   "metadata": {},
   "outputs": [
    {
     "name": "stdout",
     "output_type": "stream",
     "text": [
      "() ()\n"
     ]
    }
   ],
   "source": [
    "# Tuplas vazias (uso limitado): são imutáveis\n",
    "\n",
    "t1 = ()\n",
    "\n",
    "t2 = tuple()\n",
    "\n",
    "print(t1, t2)"
   ]
  },
  {
   "cell_type": "code",
   "execution_count": 447,
   "id": "1f00847e",
   "metadata": {},
   "outputs": [
    {
     "data": {
      "text/plain": [
       "(-5, 'c', 50)"
      ]
     },
     "execution_count": 447,
     "metadata": {},
     "output_type": "execute_result"
    }
   ],
   "source": [
    "t1 = (-5, 'c', y)\n",
    "\n",
    "t1"
   ]
  },
  {
   "cell_type": "code",
   "execution_count": 448,
   "id": "08a00b51",
   "metadata": {},
   "outputs": [
    {
     "ename": "TypeError",
     "evalue": "'int' object is not iterable",
     "output_type": "error",
     "traceback": [
      "\u001b[1;31m---------------------------------------------------------------------------\u001b[0m",
      "\u001b[1;31mTypeError\u001b[0m                                 Traceback (most recent call last)",
      "Cell \u001b[1;32mIn[448], line 3\u001b[0m\n\u001b[0;32m      1\u001b[0m \u001b[38;5;66;03m# Querendo criar uma tupla com único valor:\u001b[39;00m\n\u001b[1;32m----> 3\u001b[0m t1 \u001b[38;5;241m=\u001b[39m \u001b[38;5;28;43mtuple\u001b[39;49m\u001b[43m(\u001b[49m\u001b[38;5;241;43m-\u001b[39;49m\u001b[38;5;241;43m3\u001b[39;49m\u001b[43m)\u001b[49m\n",
      "\u001b[1;31mTypeError\u001b[0m: 'int' object is not iterable"
     ]
    }
   ],
   "source": [
    "# Querendo criar uma tupla com único valor:\n",
    "\n",
    "t1 = tuple(-3)\n"
   ]
  },
  {
   "cell_type": "markdown",
   "id": "2b6543d7",
   "metadata": {},
   "source": [
    "> #### Erros!\n",
    ">\n",
    "> > *Syntax Errors*: erro na compilação do código-fonte no código executável\n",
    "> \n",
    "> ##### (falaremos mais sobre tratamento de erros depois)\n",
    "> \n",
    "> \n",
    "> ### `iterables` (iteráveis $\\simeq$ sequência/coleção)\n",
    ">\n",
    "> &ensp;&emsp;&emsp;&emsp;&emsp;&emsp; ↳ objetos complexos: `string`, `dict`, `tuple`, `set`, `bytearray`\n",
    ">\n",
    "> > OBS: Implementam o método `__iter__`: avaliação preguiçosa, à medida que for necessário\n",
    ">\n",
    "> <br>"
   ]
  },
  {
   "cell_type": "code",
   "execution_count": null,
   "id": "c022af1e",
   "metadata": {},
   "outputs": [
    {
     "data": {
      "text/plain": [
       "((-3,), (-3,))"
      ]
     },
     "execution_count": 219,
     "metadata": {},
     "output_type": "execute_result"
    }
   ],
   "source": [
    "# Querendo criar uma tupla com único valor:\n",
    "\n",
    "# Usando parênteses, necessário usar a vírgula antes de fechar\n",
    "\n",
    "t1 = (-3,)\n",
    "\n",
    "t2 = tuple([-3])\n",
    "\n",
    "t1, t2"
   ]
  },
  {
   "cell_type": "code",
   "execution_count": null,
   "id": "deca9e9b",
   "metadata": {},
   "outputs": [
    {
     "data": {
      "text/plain": [
       "(-3, 'c', 1, [1, 2], ('a', 4.0), None, True)"
      ]
     },
     "execution_count": 105,
     "metadata": {},
     "output_type": "execute_result"
    }
   ],
   "source": [
    "# tuplas aceitam qualquer tipo de objeto\n",
    "\n",
    "t1 = tuple([-3, 'c', y, [1, 2], ('a', 4.), None, True])\n",
    "\n",
    "t1"
   ]
  },
  {
   "cell_type": "code",
   "execution_count": null,
   "id": "223e9132",
   "metadata": {},
   "outputs": [
    {
     "ename": "TypeError",
     "evalue": "'tuple' object does not support item assignment",
     "output_type": "error",
     "traceback": [
      "\u001b[1;31m---------------------------------------------------------------------------\u001b[0m",
      "\u001b[1;31mTypeError\u001b[0m                                 Traceback (most recent call last)",
      "Cell \u001b[1;32mIn[409], line 3\u001b[0m\n\u001b[0;32m      1\u001b[0m \u001b[38;5;66;03m# Tuplas: são imutáveis\u001b[39;00m\n\u001b[1;32m----> 3\u001b[0m \u001b[43mt1\u001b[49m\u001b[43m[\u001b[49m\u001b[38;5;241;43m0\u001b[39;49m\u001b[43m]\u001b[49m \u001b[38;5;241m=\u001b[39m \u001b[38;5;241m50\u001b[39m\n\u001b[0;32m      5\u001b[0m \u001b[38;5;66;03m# Precisaria criar uma nova tupla ou sobreescrever a antiga:\u001b[39;00m\n\u001b[0;32m      6\u001b[0m \n\u001b[0;32m      7\u001b[0m \u001b[38;5;66;03m# t1 = tuple([50, 'c', y, [1, 2], ('a', 4.), None, True])\u001b[39;00m\n",
      "\u001b[1;31mTypeError\u001b[0m: 'tuple' object does not support item assignment"
     ]
    }
   ],
   "source": [
    "# Tuplas: são imutáveis\n",
    "\n",
    "t1[0] = 50\n",
    "\n",
    "# Precisaria criar uma nova tupla ou sobreescrever a antiga:\n",
    "\n",
    "# t1 = tuple([50, 'c', y, [1, 2], ('a', 4.), None, True])"
   ]
  },
  {
   "cell_type": "code",
   "execution_count": 45,
   "id": "ab097a1e",
   "metadata": {},
   "outputs": [
    {
     "data": {
      "text/plain": [
       "([(3, 'a'), (2, 'a'), (2, 'b'), (1, 'b'), (1, 'a')],\n",
       " [(2, 'a'), (1, 'a'), (3, 'a'), (1, 'b'), (2, 'b')])"
      ]
     },
     "execution_count": 45,
     "metadata": {},
     "output_type": "execute_result"
    }
   ],
   "source": [
    "# Ordenar tupla \n",
    "\n",
    "t = [(1, 'b'), (2, 'a'), (1, 'a'), (2, 'b'), (3, 'a')]\n",
    "\n",
    "sorted(t, key=lambda x: x[0], reverse=True), sorted(t, key=lambda x: x[1])\n"
   ]
  },
  {
   "cell_type": "code",
   "execution_count": 48,
   "id": "e6fabb7d",
   "metadata": {},
   "outputs": [
    {
     "data": {
      "text/plain": [
       "[(1, 'b'), (1, 'a'), (2, 'a'), (2, 'b'), (3, 'a')]"
      ]
     },
     "execution_count": 48,
     "metadata": {},
     "output_type": "execute_result"
    }
   ],
   "source": [
    "from operator import itemgetter\n",
    "\n",
    "sorted(t, key=itemgetter(0))"
   ]
  },
  {
   "cell_type": "markdown",
   "id": "98282a56",
   "metadata": {},
   "source": [
    "> ## `Dicionários`"
   ]
  },
  {
   "cell_type": "code",
   "execution_count": null,
   "id": "b09a9a85",
   "metadata": {},
   "outputs": [
    {
     "name": "stdout",
     "output_type": "stream",
     "text": [
      "{} {}\n"
     ]
    }
   ],
   "source": [
    "# Dicionários\n",
    "\n",
    "d1 = dict()\n",
    "\n",
    "d2 = {}\n",
    "\n",
    "print(d1, d2)"
   ]
  },
  {
   "cell_type": "code",
   "execution_count": null,
   "id": "d4f9fe5b",
   "metadata": {},
   "outputs": [
    {
     "data": {
      "text/plain": [
       "({'a': 1, 'b': 2, 'c': 3}, {'a': 10, 'b': 2, 'c': 3})"
      ]
     },
     "execution_count": 147,
     "metadata": {},
     "output_type": "execute_result"
    }
   ],
   "source": [
    "# Dicionários: estrutura chave-valor\n",
    "\n",
    "d1 = dict(a=1, b=2, c=3)\n",
    "\n",
    "d2 = {'a': 10, 'b': 2, 'c': 3}\n",
    "\n",
    "d1, d2"
   ]
  },
  {
   "cell_type": "code",
   "execution_count": null,
   "id": "23b86b4e",
   "metadata": {},
   "outputs": [
    {
     "data": {
      "text/plain": [
       "{'a': 10,\n",
       " 'b': (12.0, 34.0),\n",
       " 'c': [4.0, 5.0, 6.0],\n",
       " 'd': {'a': True, 'b': False, 'c': None}}"
      ]
     },
     "execution_count": 148,
     "metadata": {},
     "output_type": "execute_result"
    }
   ],
   "source": [
    "# Dicionários aceitam qualquer tipo de objeto\n",
    "\n",
    "d3 = {\n",
    "    'a': 10,\n",
    "    'b': (12., 34.),\n",
    "    'c': [4., 5., 6.],\n",
    "    'd': {'a': True, 'b': False, 'c': None}\n",
    "    }\n",
    "\n",
    "d3"
   ]
  },
  {
   "cell_type": "code",
   "execution_count": null,
   "id": "0ad19346",
   "metadata": {},
   "outputs": [
    {
     "data": {
      "text/plain": [
       "(10, (12.0, 34.0), 6.0, None)"
      ]
     },
     "execution_count": 149,
     "metadata": {},
     "output_type": "execute_result"
    }
   ],
   "source": [
    "# Indexação: acesso a valor através do uso de chave\n",
    "\n",
    "chave = 'b'\n",
    "\n",
    "d3['a'], d3[chave], d3['c'][-1], d3['d']['c']\n"
   ]
  },
  {
   "cell_type": "code",
   "execution_count": null,
   "id": "f372e734",
   "metadata": {},
   "outputs": [
    {
     "data": {
      "text/plain": [
       "{'a': 10,\n",
       " 'b': (12.0, 34.0),\n",
       " 'c': [4.0, 5.0, 6.0],\n",
       " 'd': {'a': True, 'b': False, 'c': None},\n",
       " 100: 100,\n",
       " 50.0: '50.',\n",
       " (1, 'a', 27.45): None}"
      ]
     },
     "execution_count": 150,
     "metadata": {},
     "output_type": "execute_result"
    }
   ],
   "source": [
    "# chave de dicionário também pode ser um número, tupla (objetos imutáveis)\n",
    "\n",
    "d3[100] = 100\n",
    "\n",
    "d3[50.] = '50.'\n",
    "\n",
    "d3[(1, 'a', 27.45)] = None\n",
    "\n",
    "d3"
   ]
  },
  {
   "cell_type": "code",
   "execution_count": null,
   "id": "b3f27150",
   "metadata": {},
   "outputs": [
    {
     "name": "stdout",
     "output_type": "stream",
     "text": [
      "180\n"
     ]
    },
    {
     "data": {
      "text/plain": [
       "{'a': 90,\n",
       " 'b': (12.0, 34.0),\n",
       " 'c': [4.0, 5.0, 6.0],\n",
       " 'd': {'a': True, 'b': False, 'c': None},\n",
       " 100: 100,\n",
       " 50.0: '50.',\n",
       " (1, 'a', 27.45): None,\n",
       " 'e': 90}"
      ]
     },
     "execution_count": 151,
     "metadata": {},
     "output_type": "execute_result"
    }
   ],
   "source": [
    "# Dicionários: são mutáveis\n",
    "\n",
    "d3['a'] += 80 # -> d3['a'] = d3['a'] + 80\n",
    "\n",
    "d3['e'] = 90\n",
    "\n",
    "print(d3['a'] + d3['e'])\n",
    "\n",
    "d3\n"
   ]
  },
  {
   "cell_type": "code",
   "execution_count": 51,
   "id": "cea4922e",
   "metadata": {},
   "outputs": [
    {
     "data": {
      "text/plain": [
       "{'a': 'alpha', 'b': 'beta', 'g': 'gamma'}"
      ]
     },
     "execution_count": 51,
     "metadata": {},
     "output_type": "execute_result"
    }
   ],
   "source": [
    "# Dicionário vazio: guardar informações\n",
    "\n",
    "d = {}\n",
    "\n",
    "d['a'] = 'alpha'\n",
    "d['b'] = 'beta'\n",
    "d['g'] = 'gamma'\n",
    "\n",
    "d"
   ]
  },
  {
   "cell_type": "markdown",
   "id": "44a92423",
   "metadata": {},
   "source": [
    "> ### OBS: **`Em Python atribuição de objeto mutável aponta para o mesmo local de memória`**\n",
    ">\n",
    "> Exemplo:\n",
    ">\n",
    "> <br>"
   ]
  },
  {
   "cell_type": "code",
   "execution_count": null,
   "id": "219b1f8d",
   "metadata": {},
   "outputs": [
    {
     "name": "stdout",
     "output_type": "stream",
     "text": [
      "True\n",
      "True\n"
     ]
    }
   ],
   "source": [
    "# Dicionários:\n",
    "\n",
    "d = {'a': 1, 'b': 2,}\n",
    "\n",
    "d1 = d\n",
    "\n",
    "print(id(d1) == id(d))\n",
    "\n",
    "# Listas:\n",
    "\n",
    "l = ['a', 'b']\n",
    "\n",
    "l1 = l\n",
    "\n",
    "print(id(l1) == id(l))"
   ]
  },
  {
   "cell_type": "code",
   "execution_count": null,
   "id": "9217642d",
   "metadata": {},
   "outputs": [
    {
     "data": {
      "text/plain": [
       "(dict_keys, dict_keys(['a', 'b', 'c']))"
      ]
     },
     "execution_count": 213,
     "metadata": {},
     "output_type": "execute_result"
    }
   ],
   "source": [
    "# Alguns métodos\n",
    "\n",
    "d1 = dict(a=1, b=2, c=3)\n",
    "\n",
    "# Percorrer pelas chaves\n",
    "\n",
    "keys = d1.keys()\n",
    "\n",
    "type(keys), keys"
   ]
  },
  {
   "cell_type": "code",
   "execution_count": null,
   "id": "491aad36",
   "metadata": {},
   "outputs": [
    {
     "data": {
      "text/plain": [
       "dict_values([1, 2, 3])"
      ]
     },
     "execution_count": 203,
     "metadata": {},
     "output_type": "execute_result"
    }
   ],
   "source": [
    "\n",
    "d1 = dict(a=1, b=2, c=3)\n",
    "\n",
    "# Percorrer pelos valores\n",
    "\n",
    "d1.values()"
   ]
  },
  {
   "cell_type": "code",
   "execution_count": null,
   "id": "b0c64028",
   "metadata": {},
   "outputs": [
    {
     "data": {
      "text/plain": [
       "dict_items([('a', 1), ('b', 2), ('c', 3)])"
      ]
     },
     "execution_count": 204,
     "metadata": {},
     "output_type": "execute_result"
    }
   ],
   "source": [
    "\n",
    "d1 = dict(a=1, b=2, c=3)\n",
    "\n",
    "# Percorrer pelo par chave-valor\n",
    "\n",
    "d1.items()\n"
   ]
  },
  {
   "cell_type": "code",
   "execution_count": 70,
   "id": "ce6b5fcd",
   "metadata": {},
   "outputs": [
    {
     "data": {
      "text/plain": [
       "(3, None)"
      ]
     },
     "execution_count": 70,
     "metadata": {},
     "output_type": "execute_result"
    }
   ],
   "source": [
    "# Iterar sobre chaves (se não existir não ocorre erro)\n",
    "\n",
    "d1 = dict(a=1, b=2, c=3)\n",
    "\n",
    "# d1['c'], d1['d'] -> erro: KeyError\n",
    "\n",
    "# Método get, acessar valor de uma chave, sem erro mesmo se não existir a chave\n",
    "\n",
    "d1.get('c'), d1.get('d')"
   ]
  },
  {
   "cell_type": "code",
   "execution_count": null,
   "id": "01dee983",
   "metadata": {},
   "outputs": [
    {
     "name": "stdout",
     "output_type": "stream",
     "text": [
      "{'a': 1, 'b': 22, 'c': 3, 'd': 4}\n",
      "\n",
      "{'a': 1, 'b': 22, 'c': 3, 'd': 44, 'e': 6}\n"
     ]
    },
    {
     "data": {
      "text/plain": [
       "{'a': 1, 'b': 22, 'c': 3, 'd': 44, 'e': 66, 'f': 7}"
      ]
     },
     "execution_count": 78,
     "metadata": {},
     "output_type": "execute_result"
    }
   ],
   "source": [
    "d1 = dict(a=1, b=2, c=3)\n",
    "\n",
    "b = {'b': 22, 'd': 4}\n",
    "\n",
    "# Atualizar / juntar um dicionário com outro\n",
    "\n",
    "d1.update(b)\n",
    "\n",
    "print(d1), print() # só para pular uma linha\n",
    "\n",
    "# Pode passar lista ou tupla\n",
    "\n",
    "d1.update([('d', 44), ('e', 6)])\n",
    "\n",
    "print(d1)\n",
    "\n",
    "d1.update([['e', 66], ['f', 7]])\n",
    "\n",
    "d1"
   ]
  },
  {
   "cell_type": "code",
   "execution_count": 79,
   "id": "cd19006c",
   "metadata": {},
   "outputs": [
    {
     "name": "stdout",
     "output_type": "stream",
     "text": [
      "{'a': 1, 'b': 22, 'c': 3, 'd': 44, 'e': 66, 'f': 7}\n"
     ]
    },
    {
     "data": {
      "text/plain": [
       "(8, 7)"
      ]
     },
     "execution_count": 79,
     "metadata": {},
     "output_type": "execute_result"
    }
   ],
   "source": [
    "print(d1)\n",
    "\n",
    "# Valor padrão caso a chave não exista\n",
    "\n",
    "d1.setdefault('g', 8), d1.setdefault('f', 77)"
   ]
  },
  {
   "cell_type": "code",
   "execution_count": null,
   "id": "3d674eeb",
   "metadata": {},
   "outputs": [
    {
     "data": {
      "text/plain": [
       "{'a': None, 'b': None, 'c': None}"
      ]
     },
     "execution_count": 215,
     "metadata": {},
     "output_type": "execute_result"
    }
   ],
   "source": [
    "# Criar dicionário \"vazio\" com chaves específicas\n",
    "\n",
    "keys = ['a', 'b', 'c']\n",
    "\n",
    "d = {}.fromkeys(keys)\n",
    "\n",
    "d"
   ]
  },
  {
   "cell_type": "markdown",
   "id": "82af2d53",
   "metadata": {},
   "source": [
    "> ## `Conjuntos`"
   ]
  },
  {
   "cell_type": "code",
   "execution_count": null,
   "id": "fcb57902",
   "metadata": {},
   "outputs": [
    {
     "data": {
      "text/plain": [
       "(set(), set, 0)"
      ]
     },
     "execution_count": 39,
     "metadata": {},
     "output_type": "execute_result"
    }
   ],
   "source": [
    "# Conjuntos\n",
    "\n",
    "s = set()\n",
    "\n",
    "s, type(s), len(s)"
   ]
  },
  {
   "cell_type": "code",
   "execution_count": null,
   "id": "52fac6b2",
   "metadata": {},
   "outputs": [
    {
     "data": {
      "text/plain": [
       "(set, dict)"
      ]
     },
     "execution_count": 27,
     "metadata": {},
     "output_type": "execute_result"
    }
   ],
   "source": [
    "# Conjuntos - também se constrói usando colchetes\n",
    "\n",
    "s = {'a', 'b', 'c'}\n",
    "\n",
    "# Mas cuidado, lembre-se que colchetes vazios é um dicionário vazio\n",
    "\n",
    "s1 = {}\n",
    "\n",
    "type(s), type(s1)"
   ]
  },
  {
   "cell_type": "code",
   "execution_count": null,
   "id": "6295ce26",
   "metadata": {},
   "outputs": [
    {
     "ename": "TypeError",
     "evalue": "set expected at most 1 argument, got 3",
     "output_type": "error",
     "traceback": [
      "\u001b[1;31m---------------------------------------------------------------------------\u001b[0m",
      "\u001b[1;31mTypeError\u001b[0m                                 Traceback (most recent call last)",
      "Cell \u001b[1;32mIn[48], line 3\u001b[0m\n\u001b[0;32m      1\u001b[0m \u001b[38;5;66;03m# Querendo criar um conjunto\u001b[39;00m\n\u001b[1;32m----> 3\u001b[0m s \u001b[38;5;241m=\u001b[39m \u001b[38;5;28;43mset\u001b[39;49m\u001b[43m(\u001b[49m\u001b[38;5;241;43m1\u001b[39;49m\u001b[43m,\u001b[49m\u001b[43m \u001b[49m\u001b[38;5;241;43m2\u001b[39;49m\u001b[43m,\u001b[49m\u001b[43m \u001b[49m\u001b[38;5;241;43m3\u001b[39;49m\u001b[43m)\u001b[49m\n",
      "\u001b[1;31mTypeError\u001b[0m: set expected at most 1 argument, got 3"
     ]
    }
   ],
   "source": [
    "# Querendo criar um conjunto\n",
    "\n",
    "s = set(1, 2, 3)\n"
   ]
  },
  {
   "cell_type": "code",
   "execution_count": null,
   "id": "b08af134",
   "metadata": {},
   "outputs": [
    {
     "name": "stdout",
     "output_type": "stream",
     "text": [
      "{1, 2, 3} {1, 2, 3}\n"
     ]
    }
   ],
   "source": [
    "# Criando a partir de lista ou tupla\n",
    "\n",
    "lista = [1, 2, 3]\n",
    "\n",
    "tupla = (1, 2, 3)\n",
    "\n",
    "s1 = set(lista)\n",
    "\n",
    "s2 = set(tupla)\n",
    "\n",
    "print(s1, s2)\n"
   ]
  },
  {
   "cell_type": "code",
   "execution_count": null,
   "id": "36b51513",
   "metadata": {},
   "outputs": [
    {
     "data": {
      "text/plain": [
       "({1, 2, 3, 4}, {1, 2, 3, 4})"
      ]
     },
     "execution_count": 80,
     "metadata": {},
     "output_type": "execute_result"
    }
   ],
   "source": [
    "# Exemplo de uso de conjuntos\n",
    "\n",
    "# Em um conjunto não há valores repetidos\n",
    "\n",
    "lista = [1, 2, 2, 3, 3, 3, 4, 4, 4, 4,]\n",
    "\n",
    "c1 = set(lista)\n",
    "\n",
    "c2 = {*lista} # expansão / desempacotamento de lista\n",
    "\n",
    "c1, c2"
   ]
  },
  {
   "cell_type": "code",
   "execution_count": null,
   "id": "5b9f6bac",
   "metadata": {},
   "outputs": [
    {
     "name": "stdout",
     "output_type": "stream",
     "text": [
      "{1, 2, 3}\n",
      "{'3', 2, 3, 1}\n"
     ]
    }
   ],
   "source": [
    "# Em um conjunto não há valores repetidos\n",
    "\n",
    "# Mas cuidado:\n",
    "\n",
    "s1 = {1, 2, 2, 3, 3, 3}\n",
    "\n",
    "print(s1)\n",
    "\n",
    "s2 = {1, 2, 2., 3, 3.0, '3'}\n",
    "\n",
    "print(s2)\n"
   ]
  },
  {
   "cell_type": "code",
   "execution_count": null,
   "id": "eac61495",
   "metadata": {},
   "outputs": [
    {
     "ename": "TypeError",
     "evalue": "unhashable type: 'list'",
     "output_type": "error",
     "traceback": [
      "\u001b[1;31m---------------------------------------------------------------------------\u001b[0m",
      "\u001b[1;31mTypeError\u001b[0m                                 Traceback (most recent call last)",
      "Cell \u001b[1;32mIn[74], line 3\u001b[0m\n\u001b[0;32m      1\u001b[0m \u001b[38;5;66;03m# Nem tudo pode pertencer a (estar contido em) um conjunto\u001b[39;00m\n\u001b[1;32m----> 3\u001b[0m \u001b[38;5;28;43mset\u001b[39;49m\u001b[43m(\u001b[49m\u001b[43m[\u001b[49m\u001b[38;5;241;43m1\u001b[39;49m\u001b[43m,\u001b[49m\u001b[43m \u001b[49m\u001b[38;5;241;43m2.\u001b[39;49m\u001b[43m,\u001b[49m\u001b[43m \u001b[49m\u001b[38;5;124;43m'\u001b[39;49m\u001b[38;5;124;43m3\u001b[39;49m\u001b[38;5;124;43m'\u001b[39;49m\u001b[43m,\u001b[49m\u001b[43m \u001b[49m\u001b[43m(\u001b[49m\u001b[38;5;241;43m4\u001b[39;49m\u001b[43m,\u001b[49m\u001b[43m \u001b[49m\u001b[38;5;241;43m-\u001b[39;49m\u001b[38;5;241;43m5\u001b[39;49m\u001b[43m)\u001b[49m\u001b[43m,\u001b[49m\u001b[43m \u001b[49m\u001b[43m[\u001b[49m\u001b[38;5;241;43m6\u001b[39;49m\u001b[43m,\u001b[49m\u001b[43m \u001b[49m\u001b[38;5;241;43m7.\u001b[39;49m\u001b[43m,\u001b[49m\u001b[43m \u001b[49m\u001b[38;5;124;43m'\u001b[39;49m\u001b[38;5;124;43m8\u001b[39;49m\u001b[38;5;124;43m'\u001b[39;49m\u001b[43m]\u001b[49m\u001b[43m]\u001b[49m\u001b[43m)\u001b[49m\n",
      "\u001b[1;31mTypeError\u001b[0m: unhashable type: 'list'"
     ]
    }
   ],
   "source": [
    "# Nem tudo pode pertencer a (estar contido em) um conjunto\n",
    "\n",
    "set([1, 2., '3', (4, -5), [6, 7., '8']])"
   ]
  },
  {
   "cell_type": "markdown",
   "id": "51df95f6",
   "metadata": {},
   "source": [
    "> ## `hashable` e `unhashable`\n",
    ">\n",
    "> ### Comando `hash`\n",
    ">\n",
    "> Referência ao identificador numérico do objeto (não é o ponteiro de memória); é calculado a partir do conteúdo do objeto.\n",
    ">\n",
    "> &ensp;&emsp; ↳ __Hashable__: objetos __imutáveis__ (`int`, `float`, `string`, `tuple`)\n",
    ">\n",
    "> &ensp;&emsp; ↳ __Unhashable__: objetos __mutáveis__ (`list`, `dict`, `set`)\n",
    ">\n",
    "> <br>\n",
    ">\n",
    "> > Portanto, __apenas objetos imutáveis possuem `hash`__\n",
    ">\n",
    "> <br>"
   ]
  },
  {
   "cell_type": "code",
   "execution_count": null,
   "id": "d4585357",
   "metadata": {},
   "outputs": [
    {
     "name": "stdout",
     "output_type": "stream",
     "text": [
      "{1, 2.0, '3', (4, -5)}\n",
      "1\n",
      "2\n",
      "-3711485770636015630\n",
      "6760200777197352020\n"
     ]
    }
   ],
   "source": [
    "# Conjuntos aceitam apenas objetos imutáveis\n",
    "\n",
    "# Embora, conjuntos sejam objetos mutáveis\n",
    "\n",
    "s= set([1, 2., '3', (4, -5),])\n",
    "\n",
    "print(s)\n",
    "\n",
    "print(hash(1)) # hash de um inteiro é o próprio número\n",
    "\n",
    "print(hash(2.))\n",
    "\n",
    "print(hash('3'))\n",
    "\n",
    "print(hash((4, -5)))\n"
   ]
  },
  {
   "cell_type": "markdown",
   "id": "79633c7c",
   "metadata": {},
   "source": [
    "> ### Em conjunto, não há números com mesmo *hash*\n",
    ">\n",
    "> #### Por isso não há elementos repetidos no conjunto\n",
    ">\n",
    "> <br>"
   ]
  },
  {
   "cell_type": "code",
   "execution_count": null,
   "id": "79e410f1",
   "metadata": {},
   "outputs": [
    {
     "name": "stdout",
     "output_type": "stream",
     "text": [
      "3 3\n",
      "{3}\n"
     ]
    }
   ],
   "source": [
    "\n",
    "print(hash(3), hash(3.000000000000))\n",
    "\n",
    "print(set([3, 3.000000000000]))"
   ]
  },
  {
   "cell_type": "code",
   "execution_count": null,
   "id": "f3ead772",
   "metadata": {},
   "outputs": [
    {
     "name": "stdout",
     "output_type": "stream",
     "text": [
      "-2 -2\n",
      "{-1, -2}\n",
      "1972955513008 1972955512976\n"
     ]
    }
   ],
   "source": [
    "# Exceção: Valores diferentes com mesmo hash\n",
    "\n",
    "print(hash(-1), hash(-2))\n",
    "\n",
    "print(set([-1, -2]))\n",
    "\n",
    "print(id(-1), id(-2))"
   ]
  },
  {
   "cell_type": "code",
   "execution_count": null,
   "id": "ef2223d8",
   "metadata": {},
   "outputs": [
    {
     "name": "stdout",
     "output_type": "stream",
     "text": [
      "{10, 7}\n",
      "{7}\n"
     ]
    }
   ],
   "source": [
    "# Alguns métodos\n",
    "\n",
    "c = set()\n",
    "\n",
    "c.add(7) # adicionar elemento\n",
    "\n",
    "c.add(10)\n",
    "\n",
    "print(c)\n",
    "\n",
    "c.discard(10) # descaratar elemento\n",
    "\n",
    "print(c)\n",
    "\n",
    "c.discard(100) # não ocorre erro se não pertencer ao conjunto, diferentemente\n",
    "\n",
    "# de c.remove(100), se o elemento não estiver contido no conjunto"
   ]
  },
  {
   "cell_type": "code",
   "execution_count": null,
   "id": "8b88390a",
   "metadata": {},
   "outputs": [
    {
     "name": "stdout",
     "output_type": "stream",
     "text": [
      "{1, 2, 3, 4}\n",
      "{8, 9, 6, 7}\n"
     ]
    },
    {
     "data": {
      "text/plain": [
       "{1, 2, 3, 4}"
      ]
     },
     "execution_count": 102,
     "metadata": {},
     "output_type": "execute_result"
    }
   ],
   "source": [
    "c1 = {0, 1, 2, 3, 4, 5}\n",
    "\n",
    "c2 = {5, 6, 7, 8, 9, 0}\n",
    "\n",
    "d1 = c1.difference(c2) # elementos em c1 que não estão em c2\n",
    "\n",
    "d2 = c2.difference(c1)\n",
    "\n",
    "print(d1)\n",
    "\n",
    "print(d2)\n",
    "\n",
    "c1.difference_update(c2)\n",
    "\n",
    "c1"
   ]
  },
  {
   "cell_type": "code",
   "execution_count": null,
   "id": "b432f1e4",
   "metadata": {},
   "outputs": [
    {
     "data": {
      "text/plain": [
       "{0, 5}"
      ]
     },
     "execution_count": 2,
     "metadata": {},
     "output_type": "execute_result"
    }
   ],
   "source": [
    "c1 = {0, 1, 2, 3, 4, 5}\n",
    "\n",
    "c2 = {5, 6, 7, 8, 9, 0}\n",
    "\n",
    "d1 = c1.intersection(c2) # interseção\n",
    "\n",
    "d1"
   ]
  },
  {
   "cell_type": "code",
   "execution_count": null,
   "id": "3520ad45",
   "metadata": {},
   "outputs": [
    {
     "data": {
      "text/plain": [
       "(True, True)"
      ]
     },
     "execution_count": 3,
     "metadata": {},
     "output_type": "execute_result"
    }
   ],
   "source": [
    "# Respectivamente, se um conjunto é subconjunto de outro e,\n",
    "# se um conjunto contém outro conjunto\n",
    "\n",
    "d1.issubset(c1), c2.issuperset(d1)"
   ]
  },
  {
   "cell_type": "code",
   "execution_count": null,
   "id": "5fb4a77e",
   "metadata": {},
   "outputs": [
    {
     "data": {
      "text/plain": [
       "{0, 1, 2, 3, 4, 5, 6, 7, 8, 9}"
      ]
     },
     "execution_count": 4,
     "metadata": {},
     "output_type": "execute_result"
    }
   ],
   "source": [
    "# União\n",
    "\n",
    "c1.union(c2)"
   ]
  },
  {
   "cell_type": "markdown",
   "id": "5f5f391b",
   "metadata": {},
   "source": [
    "> ### Tipos de Dados Nativos do Python: \n",
    ">\n",
    "> #### `Lists`, `Tuples`, `Dictionaries`, `Sets`"
   ]
  },
  {
   "cell_type": "markdown",
   "id": "9ca0a14b-60e3-4969-96f2-58b58a398365",
   "metadata": {},
   "source": [
    "> ## `strings`\n",
    "> \n",
    "> https://docs.python.org/pt-br/3.13/library/string.html\n",
    ">\n",
    "> <br>"
   ]
  },
  {
   "cell_type": "code",
   "execution_count": null,
   "id": "bdf02cde-b935-4e18-93d9-e03e2fafde65",
   "metadata": {},
   "outputs": [],
   "source": [
    "s = 'olá Jupyter'\n",
    "\n",
    "# Multilinhas\n",
    "\n",
    "s1 = \"\"\"\n",
    "        Forma literal\n",
    "\n",
    "            de se escrever\n",
    "\n",
    "                uma string.\n",
    "\n",
    "    \"\"\"\n"
   ]
  },
  {
   "cell_type": "code",
   "execution_count": null,
   "id": "28432441",
   "metadata": {},
   "outputs": [
    {
     "ename": "TypeError",
     "evalue": "'str' object does not support item assignment",
     "output_type": "error",
     "traceback": [
      "\u001b[1;31m---------------------------------------------------------------------------\u001b[0m",
      "\u001b[1;31mTypeError\u001b[0m                                 Traceback (most recent call last)",
      "Cell \u001b[1;32mIn[412], line 5\u001b[0m\n\u001b[0;32m      1\u001b[0m \u001b[38;5;66;03m# String são imutáveis\u001b[39;00m\n\u001b[0;32m      3\u001b[0m s \u001b[38;5;241m=\u001b[39m \u001b[38;5;124m'\u001b[39m\u001b[38;5;124molá Jupyter\u001b[39m\u001b[38;5;124m'\u001b[39m\n\u001b[1;32m----> 5\u001b[0m \u001b[43ms\u001b[49m\u001b[43m[\u001b[49m\u001b[38;5;241;43m0\u001b[39;49m\u001b[43m]\u001b[49m \u001b[38;5;241m=\u001b[39m \u001b[38;5;124m'\u001b[39m\u001b[38;5;124mO\u001b[39m\u001b[38;5;124m'\u001b[39m\n",
      "\u001b[1;31mTypeError\u001b[0m: 'str' object does not support item assignment"
     ]
    }
   ],
   "source": [
    "# String são imutáveis\n",
    "\n",
    "s = 'olá Jupyter'\n",
    " \n",
    "s[0] = 'O'\n"
   ]
  },
  {
   "cell_type": "code",
   "execution_count": null,
   "id": "c5bbf139",
   "metadata": {},
   "outputs": [
    {
     "name": "stdout",
     "output_type": "stream",
     "text": [
      "olá Jupyter\n",
      "\n",
      "Olá jupyter\n"
     ]
    }
   ],
   "source": [
    "s = 'olá Jupyter'\n",
    "\n",
    "print(s, end='\\n\\n') # possibilidade de se alterar o final do print; default \"\\n\"\n",
    "\n",
    "print(s.capitalize())\n"
   ]
  },
  {
   "cell_type": "code",
   "execution_count": null,
   "id": "d5a9bfc0-08cc-4aaf-9301-d3c3d6e27146",
   "metadata": {},
   "outputs": [
    {
     "name": "stdout",
     "output_type": "stream",
     "text": [
      "\n",
      "        Forma literal\n",
      "\n",
      "            de se escrever\n",
      "\n",
      "                uma string.\n",
      "\n",
      "    \n"
     ]
    }
   ],
   "source": [
    "s1 = \"\"\"\n",
    "        Forma literal\n",
    "\n",
    "            de se escrever\n",
    "\n",
    "                uma string.\n",
    "\n",
    "    \"\"\"\n",
    "\n",
    "print(s1)"
   ]
  },
  {
   "cell_type": "code",
   "execution_count": null,
   "id": "6852416c-9f7f-41af-80e2-77febff38ea1",
   "metadata": {},
   "outputs": [
    {
     "data": {
      "text/plain": [
       "'\\n        Forma literal\\n\\n            de se escrever\\n\\n                uma string.\\n\\n    '"
      ]
     },
     "execution_count": 31,
     "metadata": {},
     "output_type": "execute_result"
    }
   ],
   "source": [
    "s1"
   ]
  },
  {
   "cell_type": "code",
   "execution_count": null,
   "id": "713a5bc0",
   "metadata": {},
   "outputs": [
    {
     "name": "stdout",
     "output_type": "stream",
     "text": [
      "\tForma literal\n",
      "\n",
      "\t\tde se escrever\n",
      "\n",
      "\t\t\tuma string\n"
     ]
    }
   ],
   "source": [
    "print(\"\\tForma literal\\n\\n\\t\\tde se escrever\\n\\n\\t\\t\\tuma string\")"
   ]
  },
  {
   "cell_type": "code",
   "execution_count": 94,
   "id": "ba20e368",
   "metadata": {},
   "outputs": [
    {
     "name": "stdout",
     "output_type": "stream",
     "text": [
      "Apóstrofe ' em uma string\n"
     ]
    },
    {
     "data": {
      "text/plain": [
       "\"Apóstrofe ' em uma string\""
      ]
     },
     "execution_count": 94,
     "metadata": {},
     "output_type": "execute_result"
    }
   ],
   "source": [
    "# Escape caracteres especiais\n",
    "\n",
    "print('Apóstrofe \\' em uma string')\n",
    "\n",
    "\"Apóstrofe ' em uma string\""
   ]
  },
  {
   "cell_type": "markdown",
   "id": "e89158f9",
   "metadata": {},
   "source": [
    "> ## Métodos:\n",
    "> \n",
    "> ~~~python\n",
    "> # Sintaxe:\n",
    "> \n",
    "> <objeto>.<método>()\n",
    "> ~~~\n",
    "> \n",
    "> &nbsp;\n",
    "> ***\n",
    "> Onde:\n",
    ">\n",
    "> ~~~python\n",
    "> <objeto> é o identificador\n",
    ">\n",
    "> <método> é algum método associado ao tipo do identificador\n",
    "> ~~~\n",
    "> \n",
    "> ***\n",
    "> OBS:\n",
    "> (Dependendo do ambiente: `obj.` ou `obj.+Tab`)\n",
    "> \n",
    "> ## Já sabemos que **tudo em Python é um objeto**, i.e., o objeto tem um tipo, tem métodos e atributos.\n",
    ">\n",
    "> <br>"
   ]
  },
  {
   "cell_type": "code",
   "execution_count": null,
   "id": "a3a5791b",
   "metadata": {},
   "outputs": [
    {
     "name": "stdout",
     "output_type": "stream",
     "text": [
      "\u001b[1;31mSignature:\u001b[0m \u001b[0ms2\u001b[0m\u001b[1;33m.\u001b[0m\u001b[0misdecimal\u001b[0m\u001b[1;33m(\u001b[0m\u001b[1;33m)\u001b[0m\u001b[1;33m\u001b[0m\u001b[1;33m\u001b[0m\u001b[0m\n",
      "\u001b[1;31mDocstring:\u001b[0m\n",
      "Return True if the string is a decimal string, False otherwise.\n",
      "\n",
      "A string is a decimal string if all characters in the string are decimal and\n",
      "there is at least one character in the string.\n",
      "\u001b[1;31mType:\u001b[0m      builtin_function_or_method"
     ]
    }
   ],
   "source": [
    "s2.isdecimal?"
   ]
  },
  {
   "cell_type": "code",
   "execution_count": null,
   "id": "b6d9f4f6",
   "metadata": {},
   "outputs": [
    {
     "data": {
      "text/plain": [
       "True"
      ]
     },
     "execution_count": 132,
     "metadata": {},
     "output_type": "execute_result"
    }
   ],
   "source": [
    "'0123456789'.isdecimal()"
   ]
  },
  {
   "cell_type": "markdown",
   "id": "267c655f",
   "metadata": {},
   "source": [
    "> ## `Strings`"
   ]
  },
  {
   "cell_type": "markdown",
   "id": "c891de82",
   "metadata": {},
   "source": [
    "> \n",
    ">\n",
    "> ### `\\`  continuação de texto ou de expressão matemática em outra linha"
   ]
  },
  {
   "cell_type": "code",
   "execution_count": null,
   "id": "c2665f09",
   "metadata": {},
   "outputs": [
    {
     "data": {
      "text/plain": [
       "True"
      ]
     },
     "execution_count": 17,
     "metadata": {},
     "output_type": "execute_result"
    }
   ],
   "source": [
    "# Formas de composição de string (string longa)\n",
    "\n",
    "s2 = 'Montando' + \\\n",
    "    ' uma string' + \\\n",
    "    ' somando-se partes'\n",
    "\n",
    "s3 = (\n",
    "    'Montando' +\n",
    "    ' uma string' + \n",
    "    ' somando-se partes')\n",
    "\n",
    "s2 == s3\n"
   ]
  },
  {
   "cell_type": "code",
   "execution_count": null,
   "id": "f4b5895c",
   "metadata": {},
   "outputs": [
    {
     "data": {
      "text/plain": [
       "True"
      ]
     },
     "execution_count": 11,
     "metadata": {},
     "output_type": "execute_result"
    }
   ],
   "source": [
    "# Strings tem muitos métodos úteis (que provavelmente você irá usar)\n",
    "\n",
    "s2.startswith('Montando uma') # exemplo em condicional"
   ]
  },
  {
   "cell_type": "code",
   "execution_count": null,
   "id": "e1b3bf33",
   "metadata": {},
   "outputs": [
    {
     "data": {
      "text/plain": [
       "['Montando', 'uma', 'string', 'somando-se', 'partes']"
      ]
     },
     "execution_count": 222,
     "metadata": {},
     "output_type": "execute_result"
    }
   ],
   "source": [
    "splitted = s2.split(' ') # exemplo em processamento\n",
    "\n",
    "splitted"
   ]
  },
  {
   "cell_type": "code",
   "execution_count": null,
   "id": "60b98f54",
   "metadata": {},
   "outputs": [
    {
     "data": {
      "text/plain": [
       "'Montando uma string somando-se partes'"
      ]
     },
     "execution_count": 226,
     "metadata": {},
     "output_type": "execute_result"
    }
   ],
   "source": [
    "' '.join(splitted) # exemplo em processamento/composição"
   ]
  },
  {
   "cell_type": "markdown",
   "id": "b6664b4b",
   "metadata": {},
   "source": [
    "> ## Concatenar métodos\n",
    ">\n",
    "> Atenção:\n",
    ">\n",
    "> - o que uma função pode receber\n",
    ">\n",
    "> - e o que uma função retorna\n",
    ">\n",
    "> <br> "
   ]
  },
  {
   "cell_type": "code",
   "execution_count": null,
   "id": "bd1ba312",
   "metadata": {},
   "outputs": [
    {
     "data": {
      "text/plain": [
       "['26', '03', '2025']"
      ]
     },
     "execution_count": 115,
     "metadata": {},
     "output_type": "execute_result"
    }
   ],
   "source": [
    "'26/03/2025'.split('/')\n"
   ]
  },
  {
   "cell_type": "code",
   "execution_count": null,
   "id": "fe72b87b",
   "metadata": {},
   "outputs": [
    {
     "data": {
      "text/plain": [
       "'26-03-2025'"
      ]
     },
     "execution_count": 13,
     "metadata": {},
     "output_type": "execute_result"
    }
   ],
   "source": [
    "'-'.join('26/03/2025'.split('/'))\n",
    "\n",
    "# datetime: biblioteca para se trabalhar com datas"
   ]
  },
  {
   "cell_type": "markdown",
   "id": "ee72c188",
   "metadata": {},
   "source": [
    "> ### Função embutida `input`\n",
    "> \n",
    "> **Entrada de dados (`str`) e interação com usuário**\n",
    ">\n",
    "> <br>"
   ]
  },
  {
   "cell_type": "code",
   "execution_count": null,
   "id": "759426b2",
   "metadata": {},
   "outputs": [
    {
     "name": "stdout",
     "output_type": "stream",
     "text": [
      "\u001b[1;31mSignature:\u001b[0m \u001b[0minput\u001b[0m\u001b[1;33m(\u001b[0m\u001b[0mprompt\u001b[0m\u001b[1;33m=\u001b[0m\u001b[1;34m''\u001b[0m\u001b[1;33m)\u001b[0m\u001b[1;33m\u001b[0m\u001b[1;33m\u001b[0m\u001b[0m\n",
      "\u001b[1;31mDocstring:\u001b[0m\n",
      "Forward raw_input to frontends\n",
      "\n",
      "Raises\n",
      "------\n",
      "StdinNotImplementedError if active frontend doesn't support stdin.\n",
      "\u001b[1;31mFile:\u001b[0m      c:\\users\\aib4\\appdata\\local\\miniforge3\\envs\\work\\lib\\site-packages\\ipykernel\\kernelbase.py\n",
      "\u001b[1;31mType:\u001b[0m      method"
     ]
    }
   ],
   "source": [
    "input?"
   ]
  },
  {
   "cell_type": "code",
   "execution_count": null,
   "id": "698f55a3",
   "metadata": {},
   "outputs": [],
   "source": [
    "nome = input('Qual seu nome?')\n",
    "\n",
    "linguagem = input('Qual linguagem de programação estamos usando?')"
   ]
  },
  {
   "cell_type": "code",
   "execution_count": null,
   "id": "204641a3",
   "metadata": {},
   "outputs": [
    {
     "data": {
      "text/plain": [
       "str"
      ]
     },
     "execution_count": 16,
     "metadata": {},
     "output_type": "execute_result"
    }
   ],
   "source": [
    "type(nome)\n",
    "\n",
    "# n = int(n) ou = int(input('Digite um numero: '))"
   ]
  },
  {
   "cell_type": "markdown",
   "id": "b450dff3",
   "metadata": {},
   "source": [
    "> ### Forma antiga de se compor *string* usando variáveis\n",
    ">\n",
    "> ~~~python\n",
    "> # Sintaxe:\n",
    ">\n",
    "> '%s %s...' % (<variável 1>, <variável 2>, ...)\n",
    "> ~~~\n",
    ">\n",
    "> <br>"
   ]
  },
  {
   "cell_type": "code",
   "execution_count": null,
   "id": "d1f92c24",
   "metadata": {},
   "outputs": [
    {
     "name": "stdout",
     "output_type": "stream",
     "text": [
      "Sendo y = f(x) = x^2  ->  f(2) = 4\n"
     ]
    }
   ],
   "source": [
    "x = 2\n",
    "\n",
    "y = x*x\n",
    "\n",
    "print('Sendo y = f(x) = x^2  ->  f(%s) = %s' % (x, y))\n"
   ]
  },
  {
   "cell_type": "markdown",
   "id": "3b738e66",
   "metadata": {},
   "source": [
    "> ## `f-strings`"
   ]
  },
  {
   "cell_type": "code",
   "execution_count": null,
   "id": "eb94fc9b",
   "metadata": {},
   "outputs": [
    {
     "data": {
      "text/plain": [
       "'Olá, me chamo Ronaldo e estou aprendendo Python.'"
      ]
     },
     "execution_count": 31,
     "metadata": {},
     "output_type": "execute_result"
    }
   ],
   "source": [
    "f'Olá, me chamo {nome} e estou aprendendo {linguagem}.'"
   ]
  },
  {
   "cell_type": "code",
   "execution_count": null,
   "id": "56093784",
   "metadata": {},
   "outputs": [
    {
     "data": {
      "text/plain": [
       "'Olá, me chamo Ronaldo e estou aprendendo Python.'"
      ]
     },
     "execution_count": 68,
     "metadata": {},
     "output_type": "execute_result"
    }
   ],
   "source": [
    "# Forma intermediária\n",
    "\n",
    "'Olá, me chamo {} e estou aprendendo {}.'.format(nome, linguagem) # marcador posicional, implicitamente"
   ]
  },
  {
   "cell_type": "code",
   "execution_count": null,
   "id": "04fb77a6",
   "metadata": {},
   "outputs": [
    {
     "data": {
      "text/plain": [
       "'Olá, me chamo Python e estou aprendendo Ronaldo.'"
      ]
     },
     "execution_count": 70,
     "metadata": {},
     "output_type": "execute_result"
    }
   ],
   "source": [
    "'Olá, me chamo {1} e estou aprendendo {0}.'.format(nome, linguagem) # argumento posicional, explicitamente"
   ]
  },
  {
   "cell_type": "code",
   "execution_count": null,
   "id": "4b0f9937",
   "metadata": {},
   "outputs": [
    {
     "data": {
      "text/plain": [
       "'abracadabra'"
      ]
     },
     "execution_count": 71,
     "metadata": {},
     "output_type": "execute_result"
    }
   ],
   "source": [
    "'{0}{1}{0}'.format('abra', 'cad')"
   ]
  },
  {
   "cell_type": "code",
   "execution_count": null,
   "id": "52ce25f0",
   "metadata": {},
   "outputs": [
    {
     "data": {
      "text/plain": [
       "'---------centralizado---------'"
      ]
     },
     "execution_count": 73,
     "metadata": {},
     "output_type": "execute_result"
    }
   ],
   "source": [
    "'{:-^30}'.format('centralizado')"
   ]
  },
  {
   "cell_type": "code",
   "execution_count": null,
   "id": "2f1ff299",
   "metadata": {},
   "outputs": [
    {
     "data": {
      "text/plain": [
       "'Área do círculo = 19.634375000000002.'"
      ]
     },
     "execution_count": 35,
     "metadata": {},
     "output_type": "execute_result"
    }
   ],
   "source": [
    "pi = 3.1415\n",
    "\n",
    "raio = 2.5\n",
    "\n",
    "f'Área do círculo = {pi*raio**2}.'\n"
   ]
  },
  {
   "cell_type": "code",
   "execution_count": null,
   "id": "ef2d84a5",
   "metadata": {},
   "outputs": [
    {
     "data": {
      "text/plain": [
       "'Área do círculo = 19,634375000000002.'"
      ]
     },
     "execution_count": 36,
     "metadata": {},
     "output_type": "execute_result"
    }
   ],
   "source": [
    "area = pi * raio**2\n",
    "\n",
    "area = str(area).replace(\".\", \",\")\n",
    "\n",
    "f'Área do círculo = {area}.'"
   ]
  },
  {
   "cell_type": "code",
   "execution_count": null,
   "id": "b0fba3d4",
   "metadata": {},
   "outputs": [
    {
     "data": {
      "text/plain": [
       "'Um círculo de raio r=2.50 tem área A=19.6344'"
      ]
     },
     "execution_count": 61,
     "metadata": {},
     "output_type": "execute_result"
    }
   ],
   "source": [
    "f'Um círculo de raio r={raio:.2f} tem área A={pi*raio**2:.4f}'"
   ]
  },
  {
   "cell_type": "code",
   "execution_count": null,
   "id": "3d0c7bb0",
   "metadata": {},
   "outputs": [
    {
     "data": {
      "text/plain": [
       "'Número inteiro com zero à esquerda: 0011 e número ponto flutuante com zero à esquerda e à direita 001.4100'"
      ]
     },
     "execution_count": 191,
     "metadata": {},
     "output_type": "execute_result"
    }
   ],
   "source": [
    "f'Número inteiro com zero à esquerda: {11:04d} e número ponto flutuante com zero à esquerda e à direita {1.41:08.4f}'"
   ]
  },
  {
   "cell_type": "code",
   "execution_count": null,
   "id": "5ba0c9c9",
   "metadata": {},
   "outputs": [
    {
     "name": "stdout",
     "output_type": "stream",
     "text": [
      "texto alinhado à esquerda                          e \n",
      "                                                                            texto alinhado à direita\n"
     ]
    }
   ],
   "source": [
    "print(f'{\"texto alinhado à esquerda\":<50} e \\n{\"texto alinhado à direita\":>100}')"
   ]
  },
  {
   "cell_type": "code",
   "execution_count": null,
   "id": "27793164",
   "metadata": {},
   "outputs": [
    {
     "data": {
      "text/plain": [
       "'Composição de texto usando 3 variáveis onde a 1a variável é var1, a 2a é var2 e a 3a, var3'"
      ]
     },
     "execution_count": 91,
     "metadata": {},
     "output_type": "execute_result"
    }
   ],
   "source": [
    "l = ['var1', 'var2', 'var3']\n",
    "\n",
    "s = f'Composição de texto usando {len(l)} variáveis' + \\\n",
    "    f' onde a 1a variável é {l[0]},' + \\\n",
    "    f' a 2a é {l[1]}' + \\\n",
    "    f' e a 3a, {l[2]}'\n",
    "\n",
    "s"
   ]
  },
  {
   "cell_type": "code",
   "execution_count": null,
   "id": "2cc44420",
   "metadata": {},
   "outputs": [
    {
     "data": {
      "text/plain": [
       "16.125"
      ]
     },
     "execution_count": 188,
     "metadata": {},
     "output_type": "execute_result"
    }
   ],
   "source": [
    "x = 4; y = 7\n",
    "\n",
    "equation = x ** 2 + y * 0.5 \\\n",
    "    / (x * y)\n",
    "    \n",
    "equation"
   ]
  },
  {
   "cell_type": "markdown",
   "id": "8c4062a4",
   "metadata": {},
   "source": [
    "> # Números"
   ]
  },
  {
   "cell_type": "code",
   "execution_count": null,
   "id": "dc4992cc-c027-44dc-9450-a8c2e7ee286a",
   "metadata": {},
   "outputs": [
    {
     "data": {
      "text/plain": [
       "5.2"
      ]
     },
     "execution_count": 33,
     "metadata": {},
     "output_type": "execute_result"
    }
   ],
   "source": [
    "# Soma de inteiro com ponto flutuante\n",
    "\n",
    "5 + .2 # Conversão implícita: 5.0 + 0.2"
   ]
  },
  {
   "cell_type": "code",
   "execution_count": null,
   "id": "786ec6e9",
   "metadata": {},
   "outputs": [
    {
     "data": {
      "text/plain": [
       "6"
      ]
     },
     "execution_count": 32,
     "metadata": {},
     "output_type": "execute_result"
    }
   ],
   "source": [
    "# Conversão implícita: operando de diferentes tipos\n",
    "\n",
    "True + 5"
   ]
  },
  {
   "cell_type": "code",
   "execution_count": null,
   "id": "6cfd9a16",
   "metadata": {},
   "outputs": [
    {
     "data": {
      "text/plain": [
       "(3, 9.0, '3.14', 5.16, False, 'True')"
      ]
     },
     "execution_count": 45,
     "metadata": {},
     "output_type": "execute_result"
    }
   ],
   "source": [
    "# Conversão explícita\n",
    "\n",
    "int(3.14), float(9), str(3.14), float('5.16'), bool(0), str(True)"
   ]
  },
  {
   "cell_type": "code",
   "execution_count": null,
   "id": "dfb660ad",
   "metadata": {},
   "outputs": [
    {
     "data": {
      "text/plain": [
       "179769313486231590772930519078902473361797697894230657273430081157732675805500963132708477322407536021120113879871393357658789768814416622492847430639474124377767893424865485276302219601246094119453082952085005768838150682342462881473913110540827237163350510684586298239947245938479716304835356329624224137216"
      ]
     },
     "execution_count": 5,
     "metadata": {},
     "output_type": "execute_result"
    }
   ],
   "source": [
    "2 ** 1024"
   ]
  },
  {
   "cell_type": "code",
   "execution_count": null,
   "id": "0c81a4ce",
   "metadata": {},
   "outputs": [
    {
     "ename": "OverflowError",
     "evalue": "(34, 'Result too large')",
     "output_type": "error",
     "traceback": [
      "\u001b[1;31m---------------------------------------------------------------------------\u001b[0m",
      "\u001b[1;31mOverflowError\u001b[0m                             Traceback (most recent call last)",
      "Cell \u001b[1;32mIn[6], line 1\u001b[0m\n\u001b[1;32m----> 1\u001b[0m \u001b[38;5;241;43m2.0\u001b[39;49m\u001b[43m \u001b[49m\u001b[38;5;241;43m*\u001b[39;49m\u001b[38;5;241;43m*\u001b[39;49m\u001b[43m \u001b[49m\u001b[38;5;241;43m1024\u001b[39;49m\n",
      "\u001b[1;31mOverflowError\u001b[0m: (34, 'Result too large')"
     ]
    }
   ],
   "source": [
    "# Tipo float: limite 64 bits\n",
    "\n",
    "2.0 ** 1024"
   ]
  },
  {
   "cell_type": "code",
   "execution_count": null,
   "id": "680a3460",
   "metadata": {},
   "outputs": [
    {
     "data": {
      "text/plain": [
       "(36028797018963968, 3.602879701896397e+16, 0.02, 200.0)"
      ]
     },
     "execution_count": 259,
     "metadata": {},
     "output_type": "execute_result"
    }
   ],
   "source": [
    "# Notação científica e arredondamento\n",
    "\n",
    "(2 ** 55, 2.0 ** 55, 2 * 1e-2, 2 * 1e2)"
   ]
  },
  {
   "cell_type": "markdown",
   "id": "29a5c8aa",
   "metadata": {},
   "source": [
    "> ### `Sobrecarga Operadores`\n",
    ">\n",
    "> Operadores definidos para diferentes classes (o comportamento/ funcionamento do operador depende do tipo do objeto)\n",
    ">\n",
    "> <br>"
   ]
  },
  {
   "cell_type": "code",
   "execution_count": null,
   "id": "b037bc3a",
   "metadata": {},
   "outputs": [
    {
     "data": {
      "text/plain": [
       "('abcd', [1, 2, 3, 4], 'aaa', [2, 2, 2, 2])"
      ]
     },
     "execution_count": 33,
     "metadata": {},
     "output_type": "execute_result"
    }
   ],
   "source": [
    "# operador de adição, concatena strings e listas\n",
    "\n",
    "'abc' + 'd', [1, 2, 3] + [4], 'a' * 3, [2] * 4"
   ]
  },
  {
   "cell_type": "markdown",
   "id": "568fa1a4",
   "metadata": {},
   "source": [
    "> ### Operações -> Precedência"
   ]
  },
  {
   "cell_type": "code",
   "execution_count": null,
   "id": "73f7dcae",
   "metadata": {},
   "outputs": [
    {
     "data": {
      "text/plain": [
       "13"
      ]
     },
     "execution_count": 10,
     "metadata": {},
     "output_type": "execute_result"
    }
   ],
   "source": [
    "\n",
    "5 + 2 * 4 # = 5 + (2 * 4)\n"
   ]
  },
  {
   "cell_type": "markdown",
   "id": "0790a6b3",
   "metadata": {},
   "source": [
    "> ## Precedência Operações\n",
    "> \n",
    "> ##### (__De cima para baixo e da esquerda para a direita__)\n",
    "> \n",
    "> ### Operadores aritméticos\n",
    "> \n",
    "> `**`\n",
    "> `*` `/` `%` `//`\n",
    "> `+` `-`\n",
    "> \n",
    "> ### Operadores relacionais\n",
    "> \n",
    "> `<=` `<` `>` `>=`\n",
    "> `==` `!=`\n",
    "> \n",
    "> ### Operadores de atribuição\n",
    "> \n",
    "> `=` `%=` `/=` `//=` `-=` `+=` `*=` `**=`\n",
    "> \n",
    "> ### Operadores lógicos\n",
    "> \n",
    "> `is` `is not` \n",
    "> `in` `not in`\n",
    "> `not` `or` `and`\n",
    ">\n",
    "> <br>"
   ]
  },
  {
   "cell_type": "code",
   "execution_count": null,
   "id": "a80bc078",
   "metadata": {},
   "outputs": [
    {
     "data": {
      "text/plain": [
       "True"
      ]
     },
     "execution_count": 19,
     "metadata": {},
     "output_type": "execute_result"
    }
   ],
   "source": [
    "resultado = 20 > 5 * 2 + 2 # Não muito usual\n",
    "\n",
    "resultado"
   ]
  },
  {
   "cell_type": "markdown",
   "id": "d8a53c5d",
   "metadata": {},
   "source": [
    "> ## Operadores aritméticos\n",
    "> \n",
    "> `**`\n",
    "> `*` `/` `%` `//`\n",
    "> `+` `-`\n",
    ">\n",
    "> <br>"
   ]
  },
  {
   "cell_type": "markdown",
   "id": "808eac57",
   "metadata": {},
   "source": [
    "> ### Divisão (mesmo entre inteiros retorna *float*)"
   ]
  },
  {
   "cell_type": "markdown",
   "id": "cb48b613",
   "metadata": {},
   "source": [
    "> Como colocar uma divisão por chaves aqui?\n"
   ]
  },
  {
   "cell_type": "code",
   "execution_count": null,
   "id": "0ddb370e",
   "metadata": {},
   "outputs": [
    {
     "data": {
      "text/plain": [
       "2.5"
      ]
     },
     "execution_count": 177,
     "metadata": {},
     "output_type": "execute_result"
    }
   ],
   "source": [
    "5 / 2"
   ]
  },
  {
   "cell_type": "code",
   "execution_count": null,
   "id": "8e011b64",
   "metadata": {},
   "outputs": [
    {
     "data": {
      "text/plain": [
       "2"
      ]
     },
     "execution_count": 190,
     "metadata": {},
     "output_type": "execute_result"
    }
   ],
   "source": [
    "5 // 2"
   ]
  },
  {
   "cell_type": "code",
   "execution_count": null,
   "id": "b18bbf89",
   "metadata": {},
   "outputs": [
    {
     "data": {
      "text/plain": [
       "1"
      ]
     },
     "execution_count": 176,
     "metadata": {},
     "output_type": "execute_result"
    }
   ],
   "source": [
    "5 % 2"
   ]
  },
  {
   "cell_type": "markdown",
   "id": "94a59237",
   "metadata": {},
   "source": [
    "> ### Potenciação (sem uso de alguma biblioteca matemática)"
   ]
  },
  {
   "cell_type": "code",
   "execution_count": null,
   "id": "2ac0f083",
   "metadata": {},
   "outputs": [
    {
     "data": {
      "text/plain": [
       "36"
      ]
     },
     "execution_count": 65,
     "metadata": {},
     "output_type": "execute_result"
    }
   ],
   "source": [
    "6 ** 2"
   ]
  },
  {
   "cell_type": "code",
   "execution_count": null,
   "id": "3515d02f",
   "metadata": {},
   "outputs": [
    {
     "data": {
      "text/plain": [
       "11.0"
      ]
     },
     "execution_count": 192,
     "metadata": {},
     "output_type": "execute_result"
    }
   ],
   "source": [
    "# Precedência\n",
    "\n",
    "6 + 5 * (4 / 2 ** 2)"
   ]
  },
  {
   "cell_type": "markdown",
   "id": "2cf56c48",
   "metadata": {},
   "source": [
    "> ### Radiciação\n",
    "> \n",
    "> $\\sqrt[n]{k^1}$ = $k^{1/n}$\n",
    ">\n",
    "> <br>"
   ]
  },
  {
   "cell_type": "code",
   "execution_count": null,
   "id": "7e5f0450",
   "metadata": {},
   "outputs": [
    {
     "data": {
      "text/plain": [
       "7.0"
      ]
     },
     "execution_count": 71,
     "metadata": {},
     "output_type": "execute_result"
    }
   ],
   "source": [
    "49 ** (1/2)\n",
    "\n",
    "# Mesma coisa:\n",
    "\n",
    "49 ** .5"
   ]
  },
  {
   "cell_type": "markdown",
   "id": "f1cc8bc8",
   "metadata": {},
   "source": [
    "> ## Operações de atribuição do Python\n",
    "> \n",
    "> `=` `%=` `/=` `//=` `-=` `+=` `*=` `**=`\n",
    "> \n",
    "> x = x + 10 &thinsp; $\\iff$ &thinsp; x += 10\n",
    ">\n",
    "> <br>"
   ]
  },
  {
   "cell_type": "code",
   "execution_count": 2,
   "id": "4ff202bd",
   "metadata": {},
   "outputs": [
    {
     "data": {
      "text/plain": [
       "18"
      ]
     },
     "execution_count": 2,
     "metadata": {},
     "output_type": "execute_result"
    }
   ],
   "source": [
    "xx = 9\n",
    "\n",
    "xx *= 2\n",
    "\n",
    "xx\n"
   ]
  },
  {
   "cell_type": "markdown",
   "id": "8fe446b6",
   "metadata": {},
   "source": [
    "> # Atribuição de Variáveis\n",
    "> \n",
    "> <b>Cuidado: não sobrescrever nome de função / classe (apenas palavras reservadas ocasionam erro)</b>\n",
    ">\n",
    "> <br>\n"
   ]
  },
  {
   "cell_type": "code",
   "execution_count": null,
   "id": "f9e0bd1a",
   "metadata": {},
   "outputs": [
    {
     "data": {
      "text/plain": [
       "<map at 0x1c4a2708dc0>"
      ]
     },
     "execution_count": 150,
     "metadata": {},
     "output_type": "execute_result"
    }
   ],
   "source": [
    "_map = map(pow, [1, 2, 3])\n",
    "\n",
    "_map"
   ]
  },
  {
   "cell_type": "code",
   "execution_count": 28,
   "id": "7ab14551",
   "metadata": {},
   "outputs": [
    {
     "ename": "TypeError",
     "evalue": "'list' object is not callable",
     "output_type": "error",
     "traceback": [
      "\u001b[1;31m---------------------------------------------------------------------------\u001b[0m",
      "\u001b[1;31mTypeError\u001b[0m                                 Traceback (most recent call last)",
      "Cell \u001b[1;32mIn[28], line 3\u001b[0m\n\u001b[0;32m      1\u001b[0m \u001b[38;5;28mlist\u001b[39m \u001b[38;5;241m=\u001b[39m [\u001b[38;5;241m1\u001b[39m, \u001b[38;5;241m2\u001b[39m, \u001b[38;5;241m3\u001b[39m] \u001b[38;5;66;03m# sobreescreve a classe list\u001b[39;00m\n\u001b[1;32m----> 3\u001b[0m lst \u001b[38;5;241m=\u001b[39m \u001b[38;5;28;43mlist\u001b[39;49m\u001b[43m(\u001b[49m\u001b[43m)\u001b[49m \u001b[38;5;66;03m# então a classe não está mais disponível\u001b[39;00m\n",
      "\u001b[1;31mTypeError\u001b[0m: 'list' object is not callable"
     ]
    }
   ],
   "source": [
    "list = [1, 2, 3] # sobreescreve a classe list\n",
    "\n",
    "lst = list() # então a classe não está mais disponível\n"
   ]
  },
  {
   "cell_type": "code",
   "execution_count": 29,
   "id": "49746e79",
   "metadata": {},
   "outputs": [
    {
     "data": {
      "text/plain": [
       "[]"
      ]
     },
     "execution_count": 29,
     "metadata": {},
     "output_type": "execute_result"
    }
   ],
   "source": [
    "del list # descartar variável list\n",
    "\n",
    "lst = list() # recuperamos a classe list \n",
    "\n",
    "# (faz parte das funcionalidade bultiins)\n",
    "\n",
    "lst"
   ]
  },
  {
   "cell_type": "markdown",
   "id": "925d53c4",
   "metadata": {},
   "source": [
    "> ## Operadores relacionais - operadores de comparação\n",
    "> \n",
    "> `<=` `<` `>` `>=` `==` `!=`\n",
    ">\n",
    "> <br>"
   ]
  },
  {
   "cell_type": "code",
   "execution_count": null,
   "id": "7ee48e19",
   "metadata": {},
   "outputs": [
    {
     "data": {
      "text/plain": [
       "True"
      ]
     },
     "execution_count": 161,
     "metadata": {},
     "output_type": "execute_result"
    }
   ],
   "source": [
    "a = 10; b = 10\n",
    "\n",
    "a == b"
   ]
  },
  {
   "cell_type": "code",
   "execution_count": null,
   "id": "ced51700",
   "metadata": {},
   "outputs": [
    {
     "data": {
      "text/plain": [
       "True"
      ]
     },
     "execution_count": 162,
     "metadata": {},
     "output_type": "execute_result"
    }
   ],
   "source": [
    "# \"Não igual\"\n",
    "\n",
    "a != b"
   ]
  },
  {
   "cell_type": "markdown",
   "id": "43b89991",
   "metadata": {},
   "source": [
    "> ## Operadores Lógicos\n",
    ">\n",
    "> `is` `is not` `in` `not in` `not` `or` `and`\n",
    "> \n",
    "> <br>"
   ]
  },
  {
   "cell_type": "code",
   "execution_count": null,
   "id": "6ed44649",
   "metadata": {},
   "outputs": [
    {
     "data": {
      "text/plain": [
       "True"
      ]
     },
     "execution_count": 172,
     "metadata": {},
     "output_type": "execute_result"
    }
   ],
   "source": [
    "# Já vimos (se um objeto é \"igual\" a outro, se são o mesmo objeto, se apontam para o mesmo local de memória)\n",
    "\n",
    "# \"is\" e \"is not\" são operadores de identidade\n",
    "\n",
    "a = 10; b = 10\n",
    " \n",
    "a is b"
   ]
  },
  {
   "cell_type": "code",
   "execution_count": null,
   "id": "5bc05026",
   "metadata": {},
   "outputs": [
    {
     "data": {
      "text/plain": [
       "True"
      ]
     },
     "execution_count": 200,
     "metadata": {},
     "output_type": "execute_result"
    }
   ],
   "source": [
    "# \"not\" inverte o resultado booleano\n",
    "\n",
    "# not True -> False\n",
    "# not False -> True \n",
    "\n",
    "a = 10; b = 10\n",
    "\n",
    "not a == b # Precedência: not (a == b)"
   ]
  },
  {
   "cell_type": "code",
   "execution_count": 14,
   "id": "7e3b2479",
   "metadata": {},
   "outputs": [
    {
     "data": {
      "text/plain": [
       "(True, True)"
      ]
     },
     "execution_count": 14,
     "metadata": {},
     "output_type": "execute_result"
    }
   ],
   "source": [
    "l = ['a', 'b', 'c', 'd', 'e']\n",
    "\n",
    "# \"in\" e \"not in\" são operadores de associação (se um valor/objeto pertence a uma estrutura de dados/coleção/sequência)\n",
    "\n",
    "'a' in l, 5 not in [2, 3, 4]"
   ]
  },
  {
   "cell_type": "markdown",
   "id": "ebb62c7b",
   "metadata": {},
   "source": [
    "> ### Condições compostas: `and` e `or`\n",
    "> \n",
    "> ### Tabela Verdade `and`\n",
    "> \n",
    "> | Condição 1 | Condição 2 | Condição 1 `and` 1 |\n",
    "> |:----------:|:----------:|:------------------:|\n",
    "> |   False    |   False    |  False             |\n",
    "> |   False    |   True     |  False             |\n",
    "> |   True     |   False    |  False             |\n",
    "> |   True     |   True     |  True              |\n",
    "> \n",
    "> <br>\n",
    "> \n",
    "> ### Tabela Verdade `or`\n",
    "> \n",
    "> | Condição 1 | Condição 2 | Condição 1 `or` 2 |\n",
    "> |:----------:|:----------:|:-----------------:|\n",
    "> |  False     |  False     |  False            |\n",
    "> |  False     |  True      |  True             |\n",
    "> |  True      |  False     |  True             |\n",
    "> |  True      |  True      |  True             |\n",
    "> \n",
    "> &nbsp;\n",
    "> ***\n",
    "> \n",
    "> #### **Obs:** `and` e `or` são `curto-circuitos`, isto é:\n",
    "> \n",
    "> \n",
    "> > <expressão 1> `and` <expressão 2> \n",
    "> \n",
    "> - expressão 2 só é avaliada se 1 for verdadeira\n",
    "> \n",
    "> > <expressão 1> `or` <expressão 2> \n",
    "> \n",
    "> - expressão 2 só é avaliada se 1 for falsa\n",
    ">\n",
    "> <br>\n"
   ]
  },
  {
   "cell_type": "code",
   "execution_count": null,
   "id": "a074498a",
   "metadata": {},
   "outputs": [
    {
     "data": {
      "text/plain": [
       "True"
      ]
     },
     "execution_count": 164,
     "metadata": {},
     "output_type": "execute_result"
    }
   ],
   "source": [
    "a = 10; b = 50\n",
    "\n",
    "a >= 0 and b >= 50 # \"and\": qualquer False -> False"
   ]
  },
  {
   "cell_type": "code",
   "execution_count": null,
   "id": "80968256",
   "metadata": {},
   "outputs": [
    {
     "data": {
      "text/plain": [
       "False"
      ]
     },
     "execution_count": 165,
     "metadata": {},
     "output_type": "execute_result"
    }
   ],
   "source": [
    "a = 10; b = 50\n",
    "\n",
    "a == 0 or b <= 10 # \"or\": qualquer True -> True"
   ]
  },
  {
   "cell_type": "code",
   "execution_count": null,
   "id": "ab25a214",
   "metadata": {},
   "outputs": [
    {
     "data": {
      "text/plain": [
       "True"
      ]
     },
     "execution_count": 195,
     "metadata": {},
     "output_type": "execute_result"
    }
   ],
   "source": [
    "a = 10; b = 50\n",
    "\n",
    "# Precedência:\n",
    "\n",
    "b >= 10 or a <= 10 and a >= b\n",
    "\n",
    "# True or False and False"
   ]
  },
  {
   "cell_type": "code",
   "execution_count": null,
   "id": "0979db5e",
   "metadata": {},
   "outputs": [
    {
     "data": {
      "text/plain": [
       "False"
      ]
     },
     "execution_count": 196,
     "metadata": {},
     "output_type": "execute_result"
    }
   ],
   "source": [
    "(True or False) and False"
   ]
  },
  {
   "cell_type": "code",
   "execution_count": null,
   "id": "ea87ea76",
   "metadata": {},
   "outputs": [
    {
     "data": {
      "text/plain": [
       "True"
      ]
     },
     "execution_count": 199,
     "metadata": {},
     "output_type": "execute_result"
    }
   ],
   "source": [
    "# Lembrando da precedência\n",
    "\n",
    "a = 10; b = 50\n",
    "\n",
    "a * 5 >= b and a == b / 5"
   ]
  },
  {
   "cell_type": "code",
   "execution_count": null,
   "id": "0001c025",
   "metadata": {},
   "outputs": [
    {
     "data": {
      "text/plain": [
       "False"
      ]
     },
     "execution_count": 45,
     "metadata": {},
     "output_type": "execute_result"
    }
   ],
   "source": [
    "# lembrando: \"is\" -> mesmo objeto\n",
    "\n",
    "a = 10\n",
    "\n",
    "a is int"
   ]
  },
  {
   "cell_type": "markdown",
   "id": "6335c549",
   "metadata": {},
   "source": [
    "> ### Função embutida `isinstance`\n",
    ">\n",
    "> Verificar se um objeto é de determinada classe\n",
    ">\n",
    "> ~~~python\n",
    "> # Sintaxe:\n",
    ">\n",
    "> isinstance(<objeto>, (<classe 1>,))\n",
    ">\n",
    "> isinstance(<objeto>, <classe 1> | <classe 2>)\n",
    "> ~~~\n",
    ">\n",
    "> <br>"
   ]
  },
  {
   "cell_type": "code",
   "execution_count": 4,
   "id": "15355d56",
   "metadata": {},
   "outputs": [
    {
     "data": {
      "text/plain": [
       "(True, True)"
      ]
     },
     "execution_count": 4,
     "metadata": {},
     "output_type": "execute_result"
    }
   ],
   "source": [
    "a = 10\n",
    "\n",
    "isinstance(a, int), type(a) == int"
   ]
  },
  {
   "cell_type": "code",
   "execution_count": null,
   "id": "bd3a4fd4",
   "metadata": {},
   "outputs": [
    {
     "data": {
      "text/plain": [
       "(True, True, True)"
      ]
     },
     "execution_count": 5,
     "metadata": {},
     "output_type": "execute_result"
    }
   ],
   "source": [
    "isinstance(a, (int, float)),  isinstance(a,  int | float), type(a) != float"
   ]
  },
  {
   "cell_type": "markdown",
   "id": "8d5aedfd",
   "metadata": {},
   "source": [
    "\n",
    "> ### Comandos condicionais\n",
    ">\n",
    "> Avaliação de expressões\n",
    "> \n",
    "> ~~~python\n",
    "> # Sintaxe:\n",
    ">\n",
    "> <expressão 1> <operador> <expressão 2>\n",
    "> ~~~\n",
    ">\n",
    "> <br>\n",
    ">\n",
    "> ***\n",
    "> #### onde:\n",
    "> \n",
    "> ~~~python\n",
    "> <expressão 1> ou <expressão 2> podem ser:\n",
    "> ~~~\n",
    "> \n",
    "> - literal (número ou texto)\n",
    "> \n",
    "> - objeto\n",
    "> \n",
    "> - expressão aritmética\n",
    "> \n",
    "> - chamada de função\n",
    "> \n",
    "> ~~~python\n",
    "> e <operador>\n",
    "> ~~~\n",
    "> \n",
    "> - envolve a avaliação de operadores relacionais e/ou operadores lógicos\n",
    ">\n",
    "> <br>\n"
   ]
  },
  {
   "cell_type": "code",
   "execution_count": 25,
   "id": "cd4cb843",
   "metadata": {},
   "outputs": [
    {
     "data": {
      "text/plain": [
       "True"
      ]
     },
     "execution_count": 25,
     "metadata": {},
     "output_type": "execute_result"
    }
   ],
   "source": [
    "# Exemplo\n",
    "\n",
    "xx = 'ab'\n",
    "\n",
    "20 + 4 == 24 and xx == 'a' + 'b'"
   ]
  },
  {
   "cell_type": "markdown",
   "id": "bd750fa8",
   "metadata": {},
   "source": [
    "## **Controle de Fluxo**\n"
   ]
  },
  {
   "cell_type": "markdown",
   "id": "dc5a84f1",
   "metadata": {},
   "source": [
    "> ### Estrutura de __Condição de 1 Via__\n",
    "> \n",
    "> ~~~python\n",
    "> # Sintaxe:\n",
    ">\n",
    "> if <condição 1>: # Obrigatório\n",
    "> \n",
    ">     # Código se condição 1 for verdadeira\n",
    ">     <bloco identado de instruções da condição 1>\n",
    "> \n",
    "> # Código fora da condição 1\n",
    "> <bloco de instruções não-identado>\n",
    "> ~~~\n",
    "> \n",
    "> <br>\n",
    ">\n",
    "> Onde:\n",
    ">\n",
    "> ~~~python\n",
    "> <condição 1> é um comando condicional\n",
    "> ~~~\n",
    ">\n",
    "> > #### OBS: __`Identação`__: __estruturação/hierarquia de código__\n",
    "> \n",
    "> ***\n",
    "> \n",
    "> ### Estrutura de __Condição de 2 Vias__\n",
    "> \n",
    "> ~~~python\n",
    "> # Sintaxe:\n",
    ">\n",
    "> if <condição 1>: # Obrigatório\n",
    "> \n",
    ">     # Código se condição 1 for verdadeira\n",
    ">     <bloco de instruções identado da condição 1>\n",
    "> \n",
    "> else: # Executado se condição 1 for falsa\n",
    "> \n",
    ">     # Código se condição 1 for falsa\n",
    ">     <bloco de instruções identado da condição 2>\n",
    "> \n",
    "> # Código fora da estrutura de condições\n",
    "> <bloco de instruções não-identado>\n",
    "> ~~~\n",
    ">\n",
    "> <br>\n",
    ">\n",
    "> > #### OBS: Estrutura e duas ou mais vias são **curto-circuitos**, isto é:\n",
    "> > - Se uma for verdadeira, as seguintes não são verificadas\n",
    "> \n",
    "> ***\n",
    "> \n",
    "> ### Estruturas de __Condição de n-Vias__ (forma completa)\n",
    "> \n",
    "> ~~~python\n",
    "> # Sintaxe:\n",
    ">\n",
    "> if <condição 1>: # Obrigatório\n",
    "> \n",
    ">     # Código se a condição 1 for verdadeira\n",
    ">     <bloco de instruções identado da condição 1>\n",
    "> \n",
    "> elif <condição 2>: # contração else + if\n",
    "> \n",
    ">     # Código se a condição 2 for verdadeira\n",
    ">     <bloco de instruções identado da condição 2>\n",
    "> \n",
    "> elif <...>: # quantas condições forem necessárias\n",
    "> \n",
    ">     <bloco de instruções identado da condição...>\n",
    ">\n",
    "> elif <condição n-1>:\n",
    "> \n",
    ">     # Código se a condição n-1 for verdadeira\n",
    ">     <bloco de instruções identado da condição n-1>\n",
    "> \n",
    "> else: # Executado se todas as condições anteriores forem falsas\n",
    "> \n",
    ">     # Código se todas as condições anteriores forem falsas\n",
    ">     <bloco de instruções identado da condição n>\n",
    "> \n",
    "> # Código fora da estrutura de condições\n",
    "> <bloco de instruções não-identado>\n",
    "> ~~~\n",
    ">\n",
    "> <br>"
   ]
  },
  {
   "cell_type": "code",
   "execution_count": 26,
   "id": "7ce94964",
   "metadata": {},
   "outputs": [
    {
     "name": "stdout",
     "output_type": "stream",
     "text": [
      "5 < 10\n"
     ]
    }
   ],
   "source": [
    "a = 5; b = 10\n",
    "                        # Mesma coisa:\n",
    "if a < b:\n",
    "    \n",
    "    print(a, '<', b)\n",
    "    \n",
    "else:                   # elif a > b:\n",
    "\n",
    "    print(a, '>', b)\n"
   ]
  },
  {
   "cell_type": "code",
   "execution_count": 27,
   "id": "4c634f49",
   "metadata": {},
   "outputs": [
    {
     "name": "stdout",
     "output_type": "stream",
     "text": [
      "n: k-z\n"
     ]
    }
   ],
   "source": [
    "# Caracteres são representados numericamente\n",
    "\n",
    "lang = 'Python'\n",
    "\n",
    "c = lang[-1]\n",
    "\n",
    "if c <= 'e':\n",
    "\n",
    "    print(f'{c}:', 'a-e')\n",
    "\n",
    "elif c <= 'j':\n",
    "\n",
    "    print(f'{c}:', 'f-j')\n",
    "\n",
    "else:\n",
    "\n",
    "    print(f'{c}:', 'k-z')"
   ]
  },
  {
   "cell_type": "markdown",
   "id": "a1090b23",
   "metadata": {},
   "source": [
    "> ### `inline if`\n",
    ">\n",
    "> Se a estrutura if/else contiver um comando único em cada, podemos reduzir o código para uma linha com *inline if*\n",
    ">\n",
    "> ~~~python\n",
    "> # Sintaxe:\n",
    ">\n",
    "> <expressão 1> if <condição> else <expressão 2>\n",
    "> ~~~\n",
    ">\n",
    "> ***\n",
    "> Onde: \n",
    ">\n",
    "> ~~~python\n",
    "> sendo <condição> verdadeira a <expressão 1> é realizada, senão, <expressão 2>\n",
    "> ~~~\n",
    ">\n",
    "> > OBS:\n",
    "> > ~~~python\n",
    "> > else é obrigatório\n",
    "> > ~~~\n",
    "> > - se não for necessário cumprir nenhuma ação pode ser substituído por `None`\n",
    ">\n",
    "> <br>"
   ]
  },
  {
   "cell_type": "code",
   "execution_count": 28,
   "id": "24d94958",
   "metadata": {},
   "outputs": [
    {
     "name": "stdout",
     "output_type": "stream",
     "text": [
      "5 < 10\n"
     ]
    }
   ],
   "source": [
    "a = 5; b = 10\n",
    "\n",
    "print(a, '<', b) if a < b else print(a, '>', b)\n"
   ]
  },
  {
   "cell_type": "code",
   "execution_count": 29,
   "id": "980e30b1",
   "metadata": {},
   "outputs": [],
   "source": [
    "a = 5; b = 1\n",
    "\n",
    "print(a, '<', b) if a < b else None"
   ]
  },
  {
   "cell_type": "code",
   "execution_count": 30,
   "id": "d08c5dfe",
   "metadata": {},
   "outputs": [
    {
     "data": {
      "text/plain": [
       "True"
      ]
     },
     "execution_count": 30,
     "metadata": {},
     "output_type": "execute_result"
    }
   ],
   "source": [
    "# Atribuição usando if inline\n",
    "\n",
    "x = 20\n",
    "\n",
    "par = True if x % 2 == 0 else False\n",
    "\n",
    "par"
   ]
  },
  {
   "cell_type": "markdown",
   "id": "a46e0302",
   "metadata": {},
   "source": [
    "> ### Uso dos booleanos `True` e `False`\n",
    ">\n",
    "> Exemplo:\n",
    ">\n",
    "> <br>"
   ]
  },
  {
   "cell_type": "code",
   "execution_count": 31,
   "id": "3efbe1d5",
   "metadata": {},
   "outputs": [
    {
     "name": "stdout",
     "output_type": "stream",
     "text": [
      "True\n"
     ]
    }
   ],
   "source": [
    "# Utilidade isolar partes do código\n",
    "\n",
    "if True:\n",
    "    \n",
    "    print('True')\n",
    "    \n",
    "if False:\n",
    "    \n",
    "    print('False')\n"
   ]
  },
  {
   "cell_type": "markdown",
   "id": "fd855f4f",
   "metadata": {},
   "source": [
    "> ### Uso de `None`\n",
    ">\n",
    "> Exemplo:\n",
    ">\n",
    "> <br>"
   ]
  },
  {
   "cell_type": "code",
   "execution_count": 32,
   "id": "d6f5d28e",
   "metadata": {},
   "outputs": [
    {
     "name": "stdout",
     "output_type": "stream",
     "text": [
      "None\n"
     ]
    }
   ],
   "source": [
    "# Se um objeto \"existe\" ou não - semelhante a True e False\n",
    "\n",
    "a = None\n",
    "\n",
    "if a:\n",
    "    \n",
    "    print(a)\n",
    "    \n",
    "else:\n",
    "    \n",
    "    print(None)\n"
   ]
  },
  {
   "cell_type": "markdown",
   "id": "1b323b22",
   "metadata": {},
   "source": [
    "> ## Estruturas Condicionais aninhadas\n",
    ">\n",
    "> #### Condição dentro de condição\n",
    ">\n",
    "> <br>"
   ]
  },
  {
   "cell_type": "code",
   "execution_count": 33,
   "id": "f6e42369",
   "metadata": {},
   "outputs": [
    {
     "name": "stdout",
     "output_type": "stream",
     "text": [
      "6 é par.\n"
     ]
    }
   ],
   "source": [
    "a = 6\n",
    "\n",
    "if isinstance(a, (int, float)):\n",
    "    \n",
    "    if a % 2 == 0:\n",
    "        \n",
    "        print(a, 'é par.')\n",
    "        \n",
    "    elif a % 2 != 0:\n",
    "\n",
    "        print(a, 'é ímpar.')\n",
    "        \n",
    "else:\n",
    "    \n",
    "    print(a, 'não é um \"int\" ou \"float\".')\n",
    "        \n"
   ]
  },
  {
   "cell_type": "markdown",
   "id": "eb728eda",
   "metadata": {},
   "source": [
    "> ### Comando `match/case`\n",
    ">\n",
    "> Verificar conteúdo de objeto através de multicondições\n",
    ">\n",
    "> ~~~python\n",
    "> # Sintaxe:\n",
    ">\n",
    "> match <objeto>\n",
    ">\n",
    ">   case <conteúdo 1>:\n",
    ">\n",
    ">       <tarefa 1>\n",
    ">\n",
    ">   case <conteúdo 2>:\n",
    ">\n",
    ">       <tarefa 2>\n",
    ">\n",
    ">   case <conteúdo n-1>:\n",
    ">\n",
    ">       <tarefa n-1>\n",
    ">\n",
    ">   case <_>: # se nenhum caso anterior for satisfeito\n",
    ">\n",
    ">       <última tarefa>\n",
    "> ~~~\n",
    ">\n",
    "> ***\n",
    "> \n",
    "> Onde, em cada cláusula:\n",
    ">\n",
    "> ~~~python\n",
    "> case <conteúdo> será verificado se <objeto> == <conteúdo>\n",
    ">\n",
    "> case <_> é \"obrigatório\", senão se um caso não previsto nos casos anteriores ocorrer, nenhuma ação ocorre\n",
    ">\n",
    "> porém se case <_> estiver presente, ele deve ser o último case da sequência\n",
    "> ~~~\n",
    ">\n",
    "> <br>"
   ]
  },
  {
   "cell_type": "code",
   "execution_count": 34,
   "id": "bc022b63",
   "metadata": {},
   "outputs": [
    {
     "name": "stdout",
     "output_type": "stream",
     "text": [
      "N não é igual a 1, 2, 3 ou 0.\n"
     ]
    }
   ],
   "source": [
    "n = 9\n",
    "\n",
    "match n:\n",
    "\n",
    "    case 1:\n",
    "\n",
    "        print('N é igual a 1.')\n",
    "\n",
    "    case 2:\n",
    "\n",
    "        print('N é igual a 2.')\n",
    "\n",
    "    case 3:\n",
    "\n",
    "        print('N é igual a 3.')\n",
    "\n",
    "    case 0: # os casos podem vir em qualquer ordem, porém...\n",
    "\n",
    "        print('N é igual a 0.')\n",
    "\n",
    "    # o caso padrão \"_\", deve ser o último\n",
    "\n",
    "    case _: # qualquer caso diferente dos anteriores \n",
    "\n",
    "        print('N não é igual a 1, 2, 3 ou 0.')\n"
   ]
  },
  {
   "cell_type": "markdown",
   "id": "25465742",
   "metadata": {},
   "source": [
    "> ## __Estruturas de Repetição__\n",
    "> \n",
    "> Permitem a repetição sucessiva de comandos (Laço - *Loop*)\n",
    ">\n",
    "> <br>"
   ]
  },
  {
   "cell_type": "markdown",
   "id": "907e4473",
   "metadata": {},
   "source": [
    "> ### Comando `for` - __repetição para cada item de um iterável__ (sequência)\n",
    "> \n",
    "> ~~~python\n",
    "> # Sintaxe:\n",
    ">\n",
    "> for <variavel> in <sequência>:\n",
    "> \n",
    ">     # Código dentro do for\n",
    ">     <bloco instruções identado>\n",
    "> \n",
    "> # Código fora do for\n",
    "> <bloco instruções não-identado>\n",
    "> ~~~\n",
    ">\n",
    "> <br>\n",
    ">\n",
    "> ***\n",
    "> Onde:\n",
    ">\n",
    "> - sequência é um iterável\n",
    ">\n",
    "> - variável recebe sequencialmente cada valor de sequência a cada passo\n",
    ">\n",
    "> <br>"
   ]
  },
  {
   "cell_type": "code",
   "execution_count": 35,
   "id": "5b01c0bd",
   "metadata": {},
   "outputs": [
    {
     "name": "stdout",
     "output_type": "stream",
     "text": [
      "a\n",
      "b\n",
      "c\n"
     ]
    }
   ],
   "source": [
    "lista = ['a', 'b', 'c']\n",
    "\n",
    "for item in lista:\n",
    "    \n",
    "    print(item)"
   ]
  },
  {
   "cell_type": "markdown",
   "id": "9921171c",
   "metadata": {},
   "source": [
    "> ### Função embutida / Classe `range`\n",
    "> \n",
    "> Retorna um objeto classe range que é um iterável\n",
    ">\n",
    "> ~~~python\n",
    "> # Sintaxe:\n",
    ">\n",
    "> range(start, stop, step)\n",
    "> ~~~\n",
    ">\n",
    "> ***\n",
    "> Onde:\n",
    "> \n",
    "> - start é o início (opcional, padrão inicia em zero)\n",
    "> \n",
    "> - stop é o fim (não inclusivo)\n",
    ">\n",
    "> - step é o passo (opcional, padrão de 1 em 1 incremental)\n",
    ">\n",
    "> <br>"
   ]
  },
  {
   "cell_type": "code",
   "execution_count": 36,
   "id": "7ad22a0a",
   "metadata": {},
   "outputs": [
    {
     "data": {
      "text/plain": [
       "(range(1, 10), range)"
      ]
     },
     "execution_count": 36,
     "metadata": {},
     "output_type": "execute_result"
    }
   ],
   "source": [
    "# range é uma classe:\n",
    "\n",
    "range(1, 10), type(range(1, 10))"
   ]
  },
  {
   "cell_type": "code",
   "execution_count": 37,
   "id": "d1176d33",
   "metadata": {},
   "outputs": [
    {
     "name": "stdout",
     "output_type": "stream",
     "text": [
      "0\n",
      "1\n",
      "2\n",
      "3\n"
     ]
    }
   ],
   "source": [
    "for i in range(4):\n",
    "    \n",
    "    print(i)"
   ]
  },
  {
   "cell_type": "markdown",
   "id": "7cbec2d8",
   "metadata": {},
   "source": [
    "> ### Função embutida `len`\n",
    ">\n",
    "> Comprimento de uma sequência/coleção\n",
    ">\n",
    "> <br>"
   ]
  },
  {
   "cell_type": "code",
   "execution_count": 38,
   "id": "67cfd441",
   "metadata": {},
   "outputs": [
    {
     "name": "stdout",
     "output_type": "stream",
     "text": [
      "\u001b[1;31mSignature:\u001b[0m \u001b[0mlen\u001b[0m\u001b[1;33m(\u001b[0m\u001b[0mobj\u001b[0m\u001b[1;33m,\u001b[0m \u001b[1;33m/\u001b[0m\u001b[1;33m)\u001b[0m\u001b[1;33m\u001b[0m\u001b[1;33m\u001b[0m\u001b[0m\n",
      "\u001b[1;31mDocstring:\u001b[0m Return the number of items in a container.\n",
      "\u001b[1;31mType:\u001b[0m      builtin_function_or_method"
     ]
    }
   ],
   "source": [
    "len?"
   ]
  },
  {
   "cell_type": "code",
   "execution_count": 39,
   "id": "7bebcf76",
   "metadata": {},
   "outputs": [
    {
     "name": "stdout",
     "output_type": "stream",
     "text": [
      "0\n",
      "1\n",
      "2\n"
     ]
    }
   ],
   "source": [
    "for i in range(len(lista)):\n",
    "    \n",
    "    print(i)"
   ]
  },
  {
   "cell_type": "code",
   "execution_count": 40,
   "id": "d7cc34c0",
   "metadata": {},
   "outputs": [
    {
     "name": "stdout",
     "output_type": "stream",
     "text": [
      "9\n",
      "16\n"
     ]
    }
   ],
   "source": [
    "d1 = {'a': 5, 'b': 9, 'c': 21}\n",
    "\n",
    "d2 = dict(a=4, b=7)\n",
    "\n",
    "# iterando a partir de chaves de dicionário\n",
    "for key in d1.keys():\n",
    "    \n",
    "    if key in d2:\n",
    "\n",
    "        print(d2[key]+d1[key])"
   ]
  },
  {
   "cell_type": "markdown",
   "id": "30842632",
   "metadata": {},
   "source": [
    "> ### Função embutida `enumerate`\n",
    ">\n",
    "> Enumera uma sequência iniciando do zero (padrão) e retorna o respectivo item da sequência\n",
    ">\n",
    "> ***\n",
    "> #### OBS: __`Generator`__: \"retorna valores\" (*`yield`*) que são usados quando demandados\n",
    ">\n",
    "> <br>"
   ]
  },
  {
   "cell_type": "code",
   "execution_count": 41,
   "id": "5bac36dd",
   "metadata": {},
   "outputs": [
    {
     "name": "stdout",
     "output_type": "stream",
     "text": [
      "0 fname1\n",
      "1 fname2\n",
      "2 fname3\n"
     ]
    }
   ],
   "source": [
    "fnames = ['fname1', 'fname2', 'fname3']\n",
    "\n",
    "for i, fname in enumerate(fnames):\n",
    "    \n",
    "    print(i, fname)\n"
   ]
  },
  {
   "cell_type": "markdown",
   "id": "aca1eefc",
   "metadata": {},
   "source": [
    "> ### Função embutida `zip`\n",
    ">\n",
    "> Gera tuplas pareando valores de sequências\n",
    ">\n",
    "> <br>"
   ]
  },
  {
   "cell_type": "code",
   "execution_count": 42,
   "id": "f97ec6cd",
   "metadata": {},
   "outputs": [
    {
     "name": "stdout",
     "output_type": "stream",
     "text": [
      "1 + 3 = 4\n",
      "2 + 2 = 4\n",
      "3 + 1 = 4\n"
     ]
    }
   ],
   "source": [
    "arr1 = [1, 2, 3]\n",
    "\n",
    "arr2 = [3, 2, 1]\n",
    "\n",
    "for x, y in zip(arr1, arr2):\n",
    "\n",
    "    print(f'{x} + {y} = {x + y}')"
   ]
  },
  {
   "cell_type": "code",
   "execution_count": 43,
   "id": "61283280",
   "metadata": {},
   "outputs": [
    {
     "name": "stdout",
     "output_type": "stream",
     "text": [
      "('0', 'a', 'a')\n",
      "('1', 'e', 'b')\n",
      "('2', 'i', 'c')\n",
      "('3', 'o', 'd')\n",
      "('4', 'u', 'e')\n"
     ]
    }
   ],
   "source": [
    "# Tamanhos diferentes: gera quanto for possível sem dar erro\n",
    "\n",
    "for x in zip('012345', 'aeiou', 'abcdefghijklmnopqrstwxyz'):\n",
    "    \n",
    "    print(x)"
   ]
  },
  {
   "cell_type": "code",
   "execution_count": 44,
   "id": "2083a191",
   "metadata": {},
   "outputs": [
    {
     "data": {
      "text/plain": [
       "{'primeira': 1, 'segunda': 2, 'terceira': 3}"
      ]
     },
     "execution_count": 44,
     "metadata": {},
     "output_type": "execute_result"
    }
   ],
   "source": [
    "# Tuplas -> Criar dicionário com zip\n",
    "\n",
    "d = dict(\n",
    "        zip(\n",
    "            ['primeira', 'segunda', 'terceira'],\n",
    "            [1, 2, 3]\n",
    "        )\n",
    "    )\n",
    "\n",
    "d"
   ]
  },
  {
   "cell_type": "code",
   "execution_count": 45,
   "id": "df590dd3",
   "metadata": {},
   "outputs": [
    {
     "name": "stdout",
     "output_type": "stream",
     "text": [
      "0 0.3333333333333333\n",
      "1 1.0\n",
      "2 3.0\n"
     ]
    }
   ],
   "source": [
    " \n",
    "arr1 = [1, 2, 3]\n",
    "\n",
    "arr2 = [3, 2, 1]\n",
    "\n",
    "for i, (x, y) in enumerate(zip(arr1, arr2)): # for i in enumerate(len(arr1)):\n",
    "\n",
    "    print(i, x/y)                            #     print(i, arr1[i]/arr2[i])"
   ]
  },
  {
   "cell_type": "code",
   "execution_count": 46,
   "id": "2670c9e9",
   "metadata": {},
   "outputs": [
    {
     "name": "stdout",
     "output_type": "stream",
     "text": [
      "a\n",
      "e\n",
      "i\n",
      "o\n",
      "u\n"
     ]
    }
   ],
   "source": [
    "# Percorrer string: sequência de caracteres\n",
    "\n",
    "for c in 'azeitou':\n",
    "\n",
    "    if c in 'aeiou':\n",
    "        \n",
    "        print(c)"
   ]
  },
  {
   "cell_type": "markdown",
   "id": "60f3e557",
   "metadata": {},
   "source": [
    "> ### `Laços Aninhados` (_`Nested Loops`_) - um `for` dentro do outro"
   ]
  },
  {
   "cell_type": "code",
   "execution_count": 47,
   "id": "8086f0b2",
   "metadata": {},
   "outputs": [
    {
     "name": "stdout",
     "output_type": "stream",
     "text": [
      "João\n",
      "o\n",
      "o\n",
      "Maria\n",
      "a\n",
      "i\n",
      "a\n"
     ]
    }
   ],
   "source": [
    "nomes = ['João', 'Maria']\n",
    "\n",
    "for nome in nomes:\n",
    "\n",
    "    print(nome)\n",
    "\n",
    "    for c in nome:\n",
    "\n",
    "        if c in 'aeiou':\n",
    "\n",
    "            print(c)\n"
   ]
  },
  {
   "cell_type": "markdown",
   "id": "fc153d32",
   "metadata": {},
   "source": [
    "> ### Estruturas de Repetição\n",
    "> \n",
    "> ### Comando `while` - número de repetição __\"inderteminado\", no entanto finito__.\n",
    "> \n",
    "> ~~~python\n",
    "> # Sintaxe:\n",
    "> \n",
    "> while <expressão>: # Enquanto a expressão for verdadeira\n",
    "> \n",
    ">     # Código dentro do while \n",
    ">     <bloco instruções identado>\n",
    "> \n",
    "> # Código fora do while\n",
    "> <bloco instruções não-identado>\n",
    "> ~~~\n",
    ">\n",
    "> <br>"
   ]
  },
  {
   "cell_type": "code",
   "execution_count": 48,
   "id": "cfb6e57c",
   "metadata": {},
   "outputs": [
    {
     "name": "stdout",
     "output_type": "stream",
     "text": [
      "0\n",
      "1\n",
      "2\n",
      "3\n",
      "4\n"
     ]
    }
   ],
   "source": [
    "i = 0 # inicialização contador\n",
    "\n",
    "while i < 5:\n",
    "\n",
    "    print(i)\n",
    "\n",
    "    i += 1 # atualizando contador\n",
    "\n",
    "\n",
    "# for i in range(5):\n",
    "\n",
    "    # print(i)"
   ]
  },
  {
   "cell_type": "code",
   "execution_count": 49,
   "id": "c9208187",
   "metadata": {},
   "outputs": [
    {
     "data": {
      "text/plain": [
       "[1, 2, 3, 6, 9, 18, 27, 54]"
      ]
     },
     "execution_count": 49,
     "metadata": {},
     "output_type": "execute_result"
    }
   ],
   "source": [
    "# Divisores de um número\n",
    "\n",
    "num = 54\n",
    "\n",
    "divisores = []\n",
    "\n",
    "i = num # maior divisor é ele mesmo\n",
    "\n",
    "while i > 0:\n",
    "\n",
    "    if num % i == 0: # um número é divisível por outro se o resto é zero\n",
    "\n",
    "        divisores.append(num // i)\n",
    "\n",
    "    i -= 1\n",
    "\n",
    "divisores"
   ]
  },
  {
   "cell_type": "markdown",
   "id": "49895f6f",
   "metadata": {},
   "source": [
    "> ### `Laços Aninhados` (_`Nested Loops`_) - um `while` dentro do outro"
   ]
  },
  {
   "cell_type": "code",
   "execution_count": 50,
   "id": "c51836eb",
   "metadata": {},
   "outputs": [
    {
     "name": "stdout",
     "output_type": "stream",
     "text": [
      "Tabuada do 2: 2 x 1 =  2   2 x 2 =  4   2 x 3 =  6   2 x 4 =  8   2 x 5 = 10   2 x 6 = 12   2 x 7 = 14   2 x 8 = 16   2 x 9 = 18   2 x 10 = 20   \n",
      "Tabuada do 3: 3 x 1 =  3   3 x 2 =  6   3 x 3 =  9   3 x 4 = 12   3 x 5 = 15   3 x 6 = 18   3 x 7 = 21   3 x 8 = 24   3 x 9 = 27   3 x 10 = 30   \n",
      "Tabuada do 4: 4 x 1 =  4   4 x 2 =  8   4 x 3 = 12   4 x 4 = 16   4 x 5 = 20   4 x 6 = 24   4 x 7 = 28   4 x 8 = 32   4 x 9 = 36   4 x 10 = 40   \n",
      "Tabuada do 5: 5 x 1 =  5   5 x 2 = 10   5 x 3 = 15   5 x 4 = 20   5 x 5 = 25   5 x 6 = 30   5 x 7 = 35   5 x 8 = 40   5 x 9 = 45   5 x 10 = 50   \n",
      "Tabuada do 6: 6 x 1 =  6   6 x 2 = 12   6 x 3 = 18   6 x 4 = 24   6 x 5 = 30   6 x 6 = 36   6 x 7 = 42   6 x 8 = 48   6 x 9 = 54   6 x 10 = 60   \n",
      "Tabuada do 7: 7 x 1 =  7   7 x 2 = 14   7 x 3 = 21   7 x 4 = 28   7 x 5 = 35   7 x 6 = 42   7 x 7 = 49   7 x 8 = 56   7 x 9 = 63   7 x 10 = 70   \n",
      "Tabuada do 8: 8 x 1 =  8   8 x 2 = 16   8 x 3 = 24   8 x 4 = 32   8 x 5 = 40   8 x 6 = 48   8 x 7 = 56   8 x 8 = 64   8 x 9 = 72   8 x 10 = 80   \n",
      "Tabuada do 9: 9 x 1 =  9   9 x 2 = 18   9 x 3 = 27   9 x 4 = 36   9 x 5 = 45   9 x 6 = 54   9 x 7 = 63   9 x 8 = 72   9 x 9 = 81   9 x 10 = 90   \n"
     ]
    }
   ],
   "source": [
    "# Tabuada do 2 a do 9\n",
    "\n",
    "n = 2\n",
    "\n",
    "while n < 10:\n",
    "\n",
    "    i = 1\n",
    "\n",
    "    tabuada = '' # Guardar a tabuada como string\n",
    "\n",
    "    while i <= 10:\n",
    "\n",
    "        tabuada += f'{n} x {i} = {n*i:2d}' + ' '*3 # Operação com string e Composição\n",
    "\n",
    "        i += 1\n",
    "\n",
    "    print(f'Tabuada do {n}: {tabuada}') # Imprimir horizontalmente cada tabuada\n",
    "\n",
    "    n += 1\n"
   ]
  },
  {
   "cell_type": "code",
   "execution_count": 51,
   "id": "c54955f5",
   "metadata": {},
   "outputs": [
    {
     "name": "stdout",
     "output_type": "stream",
     "text": [
      " 2  4  6  8 10 12 14 16 18 20 \n",
      " 3  6  9 12 15 18 21 24 27 30 \n",
      " 4  8 12 16 20 24 28 32 36 40 \n",
      " 5 10 15 20 25 30 35 40 45 50 \n",
      " 6 12 18 24 30 36 42 48 54 60 \n",
      " 7 14 21 28 35 42 49 56 63 70 \n",
      " 8 16 24 32 40 48 56 64 72 80 \n",
      " 9 18 27 36 45 54 63 72 81 90 \n"
     ]
    }
   ],
   "source": [
    "# range como construtor de Progressão Aritmética\n",
    "# (operação já direto dentro do sequenciamento)\n",
    "\n",
    "for n in range(2, 10):\n",
    "    \n",
    "    for p in range(n, n*10+1, n):\n",
    "        \n",
    "        print(f'{p:2d}', end=' ')\n",
    "    \n",
    "    print('')"
   ]
  },
  {
   "cell_type": "markdown",
   "id": "0756ddf4",
   "metadata": {},
   "source": [
    "> ### Comandos `for`/`else` e `while`/`else` (exclusivo do Python)\n",
    "> \n",
    "> ~~~python\n",
    "> # Sintaxe:\n",
    ">\n",
    "> for <variável> in <sequência>:\n",
    "> \n",
    ">     # Código dentro do for\n",
    ">     <bloco instruções identado>\n",
    "> \n",
    "> else <condição>: # executado logo após a última iteração do for\n",
    ">    \n",
    ">     # Código dentro do else\n",
    ">     <bloco de instruções identado>\n",
    ">\n",
    "> # Código fora do for após execução do else\n",
    "> <bloco de instruções não-identado>\n",
    "> ~~~\n",
    ">\n",
    "> <br>\n",
    ">\n",
    "> ~~~python\n",
    "> # Sintaxe:\n",
    "> \n",
    "> while <expressão>: # Enquanto a expressão for verdadeira\n",
    "> \n",
    ">     # Código dentro do while \n",
    ">     <bloco instruções identado>\n",
    "> \n",
    "> else <condição>: # executado logo após a última iteração do while\n",
    ">    \n",
    ">     # Código dentro do else\n",
    ">     <bloco de instruções identado>\n",
    ">\n",
    "> # Código fora do while após execução do else\n",
    "> <bloco de instruções não-identado>\n",
    "> ~~~\n",
    ">\n",
    "> <br>"
   ]
  },
  {
   "cell_type": "markdown",
   "id": "b888ec68",
   "metadata": {},
   "source": [
    "> ### Função embutida `sorted`\n",
    ">\n",
    "> Ordena uma sequência"
   ]
  },
  {
   "cell_type": "code",
   "execution_count": 52,
   "id": "a952f40a",
   "metadata": {},
   "outputs": [
    {
     "name": "stdout",
     "output_type": "stream",
     "text": [
      "4\n",
      "3\n",
      "2\n",
      "1\n",
      "0\n",
      "Finalizado o while, executa o else\n"
     ]
    }
   ],
   "source": [
    "lst = sorted(range(0, 5), reverse=True)\n",
    "\n",
    "for i in lst:\n",
    "    \n",
    "    print(i)\n",
    "    \n",
    "else:\n",
    "    \n",
    "    print('Finalizado o while, executa o else')"
   ]
  },
  {
   "cell_type": "code",
   "execution_count": 53,
   "id": "9979e577",
   "metadata": {},
   "outputs": [
    {
     "data": {
      "text/plain": [
       "[' ', 'A', 'B', 'C', 'E', 'F', 'a', 'b', 'c', 'd', 'k', 'l', 'z']"
      ]
     },
     "execution_count": 53,
     "metadata": {},
     "output_type": "execute_result"
    }
   ],
   "source": [
    "sorted('ackldzb ACFBE')"
   ]
  },
  {
   "cell_type": "markdown",
   "id": "d582e02b",
   "metadata": {},
   "source": [
    "> ### Laço Infinito\n",
    "> \n",
    "> #### Comando `break` (palavra reservada) - __para a execução do laço definitivamente__ (continua a execução do bloco de instruções não-identado)\n",
    "> \n",
    "> ~~~python\n",
    "> # Sintaxe: for/break\n",
    ">\n",
    "> for <variável> in <sequência>:\n",
    "> \n",
    ">     # Código dentro do loop\n",
    ">     if <teste de condição>:\n",
    "> \n",
    ">         break\n",
    "> \n",
    ">     # Código dentro do loop\n",
    ">     <bloco instruções identado>\n",
    "> \n",
    "> # Código fora do loop\n",
    "> <bloco instruções não-identado>\n",
    "> ~~~\n",
    ">\n",
    "> <br>\n",
    ">\n",
    "> ~~~python\n",
    "> # Sintaxe: while/break\n",
    ">\n",
    "> while <expressão>:\n",
    "> \n",
    ">     # Código dentro do loop\n",
    ">     if <condição>:\n",
    "> \n",
    ">         break\n",
    "> \n",
    ">     # Código dentro do loop\n",
    ">     <bloco instruções identado>\n",
    "> \n",
    "> # Código fora do loop\n",
    "> <bloco instruções não-identado>\n",
    "> ~~~\n",
    ">\n",
    "> <br>"
   ]
  },
  {
   "cell_type": "code",
   "execution_count": 54,
   "id": "a169b4fd",
   "metadata": {},
   "outputs": [
    {
     "name": "stdout",
     "output_type": "stream",
     "text": [
      "Números primos: [2, 3, 5, 7, 11, 13, 17, 19, 23, 29, 31, 37, 41, 43, 47, 53, 59].\n"
     ]
    }
   ],
   "source": [
    "primos = [] # divisível por 1 e por ele mesmo\n",
    "\n",
    "for n in range(1, 60):\n",
    "\n",
    "    i = 2\n",
    "\n",
    "    while i <= n:\n",
    "\n",
    "        if n % i == 0:\n",
    "\n",
    "            break\n",
    "\n",
    "        i += 1\n",
    "\n",
    "    if i == n:\n",
    "\n",
    "        primos.append(n)\n",
    "\n",
    "print(f'Números primos: {primos}.')\n"
   ]
  },
  {
   "cell_type": "code",
   "execution_count": null,
   "id": "01d3cef1",
   "metadata": {},
   "outputs": [
    {
     "name": "stdout",
     "output_type": "stream",
     "text": [
      "[1, 5, 11, 55]\n"
     ]
    }
   ],
   "source": [
    "\n",
    "while True: # OBS: Laço infinito pode ser usado em funções geradoras\n",
    "\n",
    "    num = int(input('Digite um número inteiro para saber seus divisores ou zero para sair: '))\n",
    "\n",
    "    divisores = []\n",
    "\n",
    "    i = num # maior divisor é ele mesmo\n",
    "\n",
    "    while i > 0:\n",
    "\n",
    "        if num % i == 0: # um número é divisível por outro se o resto é zero\n",
    "\n",
    "            divisores.append(num // i)\n",
    "\n",
    "        i -= 1\n",
    "\n",
    "    if num == 0:\n",
    "\n",
    "        break\n",
    "\n",
    "    else:\n",
    "\n",
    "        print(divisores)"
   ]
  },
  {
   "cell_type": "markdown",
   "id": "887d9e6b",
   "metadata": {},
   "source": [
    "> #### Comando `continue` (palavra reservada) - __força a próxima execução do laço__, a partir do ponto onde está inserido.\n",
    "> \n",
    "> ~~~python\n",
    "> for <variável> in <sequência>:\n",
    ">\n",
    ">     # Código dentro do loop\n",
    ">     if <condição>:\n",
    ">\n",
    ">         continue\n",
    ">\n",
    ">     # Código dentro do loop\n",
    ">\n",
    "> # Código fora do loop\n",
    "> ~~~\n",
    "> \n",
    "> <br>\n",
    ">\n",
    "> ~~~python\n",
    "> while <expressão>:\n",
    ">\n",
    ">     # Código dentro do loop\n",
    ">     if <condição>:\n",
    ">\n",
    ">         continue\n",
    ">\n",
    ">     # Código dentro do loop\n",
    ">\n",
    "> # Código fora do loop\n",
    "> ~~~\n",
    ">\n",
    "> <br>"
   ]
  },
  {
   "cell_type": "code",
   "execution_count": 56,
   "id": "9bc4e6eb",
   "metadata": {},
   "outputs": [
    {
     "name": "stdout",
     "output_type": "stream",
     "text": [
      "0\n",
      "1\n",
      "2\n",
      "X\n",
      "4\n",
      "5\n"
     ]
    }
   ],
   "source": [
    "# Comando \"continue\" força a próxima execução\n",
    "\n",
    "i = -1 # incremento logo que entrar no loop\n",
    "\n",
    "while i < 5:\n",
    "\n",
    "    i += 1 # incremento deve vir antes da condição\n",
    "\n",
    "    if i == 3: # senão se verdadeira, o while fica em loop infinito\n",
    "\n",
    "        print('X')\n",
    "\n",
    "        continue # pula condições abaixo a partir do comando\n",
    "\n",
    "    print(i)\n",
    "\n"
   ]
  },
  {
   "cell_type": "markdown",
   "id": "f7061a58",
   "metadata": {},
   "source": [
    "> ## Comando `pass` (palavra reservada) - instrução que não faz nada (utilidade no tratamento de erros)\n",
    "> \n",
    "> ~~~python\n",
    ">\n",
    "> ~~~\n",
    ">\n",
    "> ### OBS: Comandos `if`, `else`, `for`, `while` e `def` precisam ter um bloco identado não vazio\n",
    "> \n",
    "> ~~~python\n",
    "> # Sintaxe:\n",
    ">\n",
    "> if <condição>:\n",
    "> \n",
    ">     # Código dentro da condição\n",
    ">     pass\n",
    "> ~~~\n",
    ">\n",
    "> <br>"
   ]
  },
  {
   "cell_type": "code",
   "execution_count": 57,
   "id": "2070e9fb",
   "metadata": {},
   "outputs": [],
   "source": [
    "# (Sobre definição de funções veremos adiante)\n",
    "\n",
    "def umaFuncao():\n",
    "\n",
    "    pass\n",
    "    # return None\n",
    "\n",
    "umaFuncao()"
   ]
  },
  {
   "cell_type": "code",
   "execution_count": null,
   "id": "26fdb7a6",
   "metadata": {},
   "outputs": [
    {
     "name": "stdout",
     "output_type": "stream",
     "text": [
      "1 1.0\n",
      "2 1.0\n",
      "3 1.0\n",
      "4 1.0\n",
      "5 1.0\n",
      "6 1.0\n",
      "7 1.0\n",
      "8 1.0\n",
      "9 1.0\n"
     ]
    }
   ],
   "source": [
    "# Problema divisão por zero\n",
    "\n",
    "for i in range(0, 10):\n",
    "    \n",
    "    # (Tratamento de erros try/except - veremos adiante)\n",
    "\n",
    "    try:\n",
    "\n",
    "        print(i, i / i)\n",
    "        \n",
    "    except:\n",
    "        \n",
    "        pass # ou continue"
   ]
  },
  {
   "cell_type": "markdown",
   "id": "b9615ca7",
   "metadata": {},
   "source": [
    "> ## `List Comprehension` - Exclusivo de Python\n",
    ">\n",
    "> Recursividade concisa (em \"uma linha\")\n",
    ">\n",
    "> ### Forma Simples:\n",
    ">\n",
    "> ~~~python\n",
    "> # Sintaxe:\n",
    ">\n",
    "> x = [<item/expressão> for <item> in <sequência>]\n",
    "> ~~~\n",
    ">\n",
    "> <br>\n",
    ">\n",
    "> ***\n",
    "> \n",
    "> ### Forma com *if*:\n",
    "> \n",
    "> ~~~python\n",
    "> # Sintaxe: \n",
    ">\n",
    "> x = [\n",
    ">    <item/expressão>\n",
    ">    for <item> in <sequência>\n",
    ">    if <condição/expressão>\n",
    ">]\n",
    "> ~~~\n",
    ">\n",
    "> <br>\n",
    ">\n",
    "> ***\n",
    ">\n",
    "> ### Forma com *if* e *else*:\n",
    ">\n",
    "> ~~~python\n",
    "> # Sintaxe:\n",
    ">\n",
    "> x = [\n",
    ">    <item/expressão> if <condição/expressão>\n",
    ">    else <condição/expressão>\n",
    ">    for <item> in <sequência>]\n",
    "> ~~~\n",
    ">\n",
    "> <br>"
   ]
  },
  {
   "cell_type": "code",
   "execution_count": 59,
   "id": "205b3a5d",
   "metadata": {},
   "outputs": [
    {
     "data": {
      "text/plain": [
       "[1, 4, 9, 16, 25, 36, 49, 64, 81]"
      ]
     },
     "execution_count": 59,
     "metadata": {},
     "output_type": "execute_result"
    }
   ],
   "source": [
    "x = [i*i for i in [1, 2, 3, 4, 5, 6, 7, 8, 9]]\n",
    "\n",
    "x"
   ]
  },
  {
   "cell_type": "code",
   "execution_count": 60,
   "id": "e3af4822",
   "metadata": {},
   "outputs": [
    {
     "data": {
      "text/plain": [
       "[5, 0, 3, 4]"
      ]
     },
     "execution_count": 60,
     "metadata": {},
     "output_type": "execute_result"
    }
   ],
   "source": [
    "# Filtrando números negativos\n",
    "\n",
    "lst = [-2, 5, 0, -1, 3, 4, -3]\n",
    "\n",
    "x = [i for i in lst if i >= 0]\n",
    "\n",
    "x"
   ]
  },
  {
   "cell_type": "code",
   "execution_count": 61,
   "id": "bb880a45",
   "metadata": {},
   "outputs": [
    {
     "data": {
      "text/plain": [
       "['0 é par',\n",
       " '1 é ímpar',\n",
       " '2 é par',\n",
       " '3 é ímpar',\n",
       " '4 é par',\n",
       " '5 é ímpar',\n",
       " '6 é par',\n",
       " '7 é ímpar',\n",
       " '8 é par',\n",
       " '9 é ímpar']"
      ]
     },
     "execution_count": 61,
     "metadata": {},
     "output_type": "execute_result"
    }
   ],
   "source": [
    "\n",
    "x = [\n",
    "    f'{i} é par' if i % 2 == 0\n",
    "    else f'{i} é ímpar'\n",
    "    for i in range(0, 10)\n",
    "]\n",
    "\n",
    "x"
   ]
  },
  {
   "cell_type": "markdown",
   "id": "4a12098a",
   "metadata": {},
   "source": [
    "> ### Função embutida `all`\n",
    ">\n",
    "> Avalia se todos elementos em um iterável são *True*\n",
    ">\n",
    "> <br>"
   ]
  },
  {
   "cell_type": "code",
   "execution_count": 62,
   "id": "14515ccb",
   "metadata": {},
   "outputs": [
    {
     "name": "stdout",
     "output_type": "stream",
     "text": [
      "O MMC entre [5, 10, 15] é 30\n"
     ]
    }
   ],
   "source": [
    "# Mínimo Múltiplo Comum\n",
    "\n",
    "nums = [5, 10, 15]\n",
    "\n",
    "_max = max(nums)\n",
    "\n",
    "i = 1\n",
    "\n",
    "while True:\n",
    "    \n",
    "    mmc = _max * i\n",
    "    \n",
    "    if all(mmc % num == 0 for num in nums):\n",
    "        \n",
    "        break\n",
    "    \n",
    "    i += 1\n",
    "    \n",
    "print(f'O MMC entre {nums} é {mmc}')\n"
   ]
  },
  {
   "cell_type": "markdown",
   "id": "879c08d2",
   "metadata": {},
   "source": [
    "> ### Função embutida `any`\n",
    ">\n",
    "> Avalia se algum elemento de um iterável é *True*\n",
    ">\n",
    "> <br>"
   ]
  },
  {
   "cell_type": "code",
   "execution_count": 63,
   "id": "91d42584",
   "metadata": {},
   "outputs": [
    {
     "name": "stdout",
     "output_type": "stream",
     "text": [
      "O MDC entre [36, 54] é 18\n"
     ]
    }
   ],
   "source": [
    "# Máximo Divisor Comum\n",
    "\n",
    "nums = [36, 54]\n",
    "\n",
    "_max = max(nums)\n",
    "\n",
    "i = 1\n",
    "\n",
    "while True:\n",
    "    \n",
    "    mdc = _max // i\n",
    "    \n",
    "    if any(min(nums) // i == mdc for i in range(1, min(nums))):\n",
    "        \n",
    "        break\n",
    "    \n",
    "    i += 1\n",
    "    \n",
    "print(f'O MDC entre {nums} é {mdc}')"
   ]
  },
  {
   "cell_type": "code",
   "execution_count": 64,
   "id": "f8765cb3",
   "metadata": {},
   "outputs": [
    {
     "data": {
      "text/plain": [
       "18"
      ]
     },
     "execution_count": 64,
     "metadata": {},
     "output_type": "execute_result"
    }
   ],
   "source": [
    "# Encontrar elemento comum usando conjuntos\n",
    "\n",
    "divisores_a = set([1, 2, 3, 6, 9, 18, 27, 54])\n",
    "\n",
    "divisores_b = set([1, 2, 3, 4, 6, 9, 12, 18, 36])\n",
    "\n",
    "mdc = divisores_a.intersection(divisores_b)\n",
    "\n",
    "max(mdc)"
   ]
  },
  {
   "cell_type": "markdown",
   "id": "dae17826",
   "metadata": {},
   "source": [
    "> ### `List Comprehension`\n",
    ">\n",
    "> Desaninhar/Planificar listas aninhadas\n",
    ">\n",
    "> <br>"
   ]
  },
  {
   "cell_type": "code",
   "execution_count": 100,
   "id": "f88d7f17",
   "metadata": {},
   "outputs": [
    {
     "name": "stdout",
     "output_type": "stream",
     "text": [
      "[[1, 2, 3], [4, 5, 6]]\n"
     ]
    },
    {
     "data": {
      "text/plain": [
       "[1, 2, 3, 4, 5, 6]"
      ]
     },
     "execution_count": 100,
     "metadata": {},
     "output_type": "execute_result"
    }
   ],
   "source": [
    "# Utilidade: Desaninhar listas aninhadas\n",
    "\n",
    "lst = [[1, 2, 3], [4, 5, 6]]\n",
    "\n",
    "print(lst)\n",
    "\n",
    "lst_flat = [item for _lst in lst for item in _lst]\n",
    "\n",
    "lst_flat"
   ]
  },
  {
   "cell_type": "code",
   "execution_count": 101,
   "id": "bbae683e",
   "metadata": {},
   "outputs": [
    {
     "data": {
      "text/plain": [
       "{'marker': 'oo', 's': 12, 'alpha': 0.8, 'color': 'bb'}"
      ]
     },
     "execution_count": 101,
     "metadata": {},
     "output_type": "execute_result"
    }
   ],
   "source": [
    "# A mesma ideia com dicionário\n",
    "\n",
    "kw_plot = dict(marker='o', s=6, alpha=.4, color='b')\n",
    "\n",
    "kw_plot = {\n",
    "    key: value*2\n",
    "    for key, value in kw_plot.items()\n",
    "    }\n",
    "\n",
    "kw_plot"
   ]
  },
  {
   "cell_type": "markdown",
   "id": "d87d8ad8",
   "metadata": {},
   "source": [
    "> ## Tratamento de Erros/Exceções (*Exceptions*)\n",
    ">\n",
    "> Possibilidade de continuidade do fluxo de execução\n",
    ">\n",
    "> <br>"
   ]
  },
  {
   "cell_type": "code",
   "execution_count": 67,
   "id": "aec74422",
   "metadata": {},
   "outputs": [
    {
     "ename": "ValueError",
     "evalue": "invalid literal for int() with base 10: '123a'",
     "output_type": "error",
     "traceback": [
      "\u001b[1;31m---------------------------------------------------------------------------\u001b[0m",
      "\u001b[1;31mValueError\u001b[0m                                Traceback (most recent call last)",
      "Cell \u001b[1;32mIn[67], line 3\u001b[0m\n\u001b[0;32m      1\u001b[0m s \u001b[38;5;241m=\u001b[39m \u001b[38;5;124m'\u001b[39m\u001b[38;5;124m123a\u001b[39m\u001b[38;5;124m'\u001b[39m\n\u001b[1;32m----> 3\u001b[0m valor \u001b[38;5;241m=\u001b[39m \u001b[38;5;28;43mint\u001b[39;49m\u001b[43m(\u001b[49m\u001b[43ms\u001b[49m\u001b[43m)\u001b[49m\n\u001b[0;32m      5\u001b[0m valor\n",
      "\u001b[1;31mValueError\u001b[0m: invalid literal for int() with base 10: '123a'"
     ]
    }
   ],
   "source": [
    "s = '123a'\n",
    "\n",
    "valor = int(s)\n",
    "\n",
    "valor\n"
   ]
  },
  {
   "cell_type": "markdown",
   "id": "ca2ab4e0",
   "metadata": {},
   "source": [
    "> ## Tratamento de `Erros/Exceções` (*Exceptions*)\n",
    ">\n",
    "> Antever erros potenciais e isolá-los mantendo o fluxo de execução do programa\n",
    ">\n",
    "> ### Estrutura `try/except`\n",
    ">\n",
    "> ~~~python\n",
    "> # Sintaxe:\n",
    ">\n",
    "> try:\n",
    ">\n",
    ">   <expressão>\n",
    ">\n",
    "> except <erro>:\n",
    ">\n",
    ">   <expressão>\n",
    "> ~~~\n",
    ">\n",
    "> ***\n",
    "> Onde:\n",
    ">\n",
    "> ~~~python\n",
    ">   pode haver quantos except forem necessários\n",
    "> ~~~\n",
    ">\n",
    "> ~~~python\n",
    ">   <erro> é opcional, mas quando especificado podemos categorizar o tratamento dos erros\n",
    "> ~~~\n",
    ">\n",
    "> ***\n",
    ">\n",
    "> ### Estrutura `try/except/else`\n",
    ">\n",
    "> ~~~python\n",
    "> # Sintaxe:\n",
    ">\n",
    "> try:\n",
    ">\n",
    ">   <expressão>\n",
    ">\n",
    "> except <erro>:\n",
    ">\n",
    ">   <expressão>\n",
    ">\n",
    "> else:\n",
    ">\n",
    ">   <expressão>\n",
    "> ~~~\n",
    ">\n",
    "> ***\n",
    "> Onde:\n",
    ">\n",
    "> ~~~python\n",
    ">   havendo else, a <expressão> só será executada se não houver erro\n",
    "> ~~~\n",
    ">\n",
    "> ***\n",
    ">\n",
    ">>\n",
    "> ### Estrutura `try/except/else/finally`\n",
    ">\n",
    "> ~~~python\n",
    "> # Sintaxe:\n",
    ">\n",
    "> try:\n",
    ">\n",
    ">   <expressão>\n",
    ">\n",
    "> except <erro>:\n",
    ">\n",
    ">   <expressão>\n",
    ">\n",
    "> else:\n",
    ">\n",
    ">   <expressão>\n",
    ">\n",
    "> finally:\n",
    ">\n",
    ">   <expressão>\n",
    "> ~~~\n",
    ">\n",
    "> ***\n",
    "> Onde:\n",
    ">\n",
    "> ~~~python\n",
    ">   havendo finally, a <expressão> é executada ao final do fluxo\n",
    "> ~~~\n",
    ">\n",
    "> ***\n",
    "> <br>"
   ]
  },
  {
   "cell_type": "code",
   "execution_count": null,
   "id": "867af72b",
   "metadata": {},
   "outputs": [
    {
     "name": "stdout",
     "output_type": "stream",
     "text": [
      "[0, 1, 2]\n",
      "O fluxo de execução continua se o erro for tratado.\n"
     ]
    }
   ],
   "source": [
    "# Exemplo erro de indexação\n",
    "\n",
    "x = [0, 1, 2]\n",
    "\n",
    "try:\n",
    "\n",
    "    # Não existe o item com posição 3\n",
    "\n",
    "    print(x[3])\n",
    "\n",
    "    # Ocorre erro de indexação com a seguinte mensagem:\n",
    "\n",
    "    # \"IndexError: list index out of range\"\n",
    "\n",
    "# Então, no caso de erro de indexação:\n",
    "\n",
    "except IndexError:\n",
    "\n",
    "    print(x) # imprime o x todo\n",
    "\n",
    "print('O fluxo de execução continua se o erro for tratado.')\n"
   ]
  },
  {
   "cell_type": "code",
   "execution_count": 5,
   "id": "79bdaf7c",
   "metadata": {},
   "outputs": [
    {
     "name": "stdout",
     "output_type": "stream",
     "text": [
      "Não é possível divisão por zero.\n",
      "O valor da divisão é None\n",
      "Foi possível dividir 123 po 45.\n",
      "O valor da divisão é 2.7333333333333334\n"
     ]
    }
   ],
   "source": [
    "# Calcular uma divisão\n",
    "\n",
    "# Tratamento de erros: prever e isolar\n",
    "\n",
    "while True:\n",
    "\n",
    "    dividendo = input('Digite um valor para o dividendo: ')\n",
    "\n",
    "    divisor = input('Digite um valor para o divisor: ')\n",
    "\n",
    "    try:\n",
    "\n",
    "        dividendo = int(dividendo)\n",
    "\n",
    "        divisor = int(divisor)\n",
    "\n",
    "        quociente = dividendo / divisor\n",
    "\n",
    "    except ValueError:\n",
    "\n",
    "        print(f'Verifique o valor digitado.', 'Digite valores inteiros.')\n",
    "\n",
    "        quociente = None\n",
    "\n",
    "    except ZeroDivisionError:\n",
    "\n",
    "        print('Não é possível divisão por zero.')\n",
    "\n",
    "        quociente = None\n",
    "\n",
    "    except: # Se houvesse mais uma possibilidade de erro não mapeada até o momento\n",
    "\n",
    "        print(f'Não foi possível calcular a divisão de {dividendo} por {divisor}')\n",
    "\n",
    "        quociente = None\n",
    "\n",
    "    else:\n",
    "\n",
    "        print(f'Foi possível dividir {dividendo} po {divisor}.')\n",
    "\n",
    "        break\n",
    "\n",
    "    finally:\n",
    "\n",
    "        print(f'O valor da divisão é {quociente}')\n"
   ]
  },
  {
   "cell_type": "markdown",
   "id": "e04e9dc9",
   "metadata": {},
   "source": [
    "> ## Comando `raise`\n",
    ">\n",
    "> Lançamento de Erro (criar / levantar exceção através identificação de erro), interrompendo o fluxo de execução\n",
    ">\n",
    "> ~~~python\n",
    "> # Sintaxe:\n",
    ">\n",
    "> raise Exception('mensagem')\n",
    "> ~~~\n",
    ">\n",
    "> ***\n",
    ">\n",
    "> Onde:\n",
    ">\n",
    "> ~~~python\n",
    "> Exception é uma exceção, e pode ser categorizada quando especificada\n",
    "> ~~~\n",
    ">\n",
    "> ~~~python\n",
    "> e 'mensagem' é opcional, porém não informa nada\n",
    "> ~~~\n",
    ">\n",
    "> <br>"
   ]
  },
  {
   "cell_type": "code",
   "execution_count": 78,
   "id": "39c91c15",
   "metadata": {},
   "outputs": [
    {
     "name": "stdout",
     "output_type": "stream",
     "text": [
      "10.0 é par\n"
     ]
    }
   ],
   "source": [
    "x = 10.\n",
    "\n",
    "# x = 'a'\n",
    "\n",
    "if not isinstance(x, (int, float)): # personalizando o erro\n",
    "    \n",
    "    raise Exception(f'{x} não é um número') # interrompe a execução\n",
    "\n",
    "if x % 2 == 0:\n",
    "    \n",
    "    print(f'{x} é par')\n",
    "    \n",
    "else:\n",
    "    \n",
    "    print(f'{x} é ímpar')"
   ]
  },
  {
   "cell_type": "markdown",
   "id": "39ef674c",
   "metadata": {},
   "source": [
    "> ### Mapeamento de Erros\n",
    ">\n",
    "> Categorização e Personalização de Erros\n",
    "> \n",
    "> <br>"
   ]
  },
  {
   "cell_type": "code",
   "execution_count": 86,
   "id": "6d8ba1cb",
   "metadata": {},
   "outputs": [
    {
     "name": "stdout",
     "output_type": "stream",
     "text": [
      "Erro: x deve ser um valor numérico\n"
     ]
    }
   ],
   "source": [
    "# Mapeamento Tipos de Erros: Categorização e Personalização\n",
    "\n",
    "x = 'a'\n",
    "# x = 10.\n",
    "\n",
    "try:\n",
    "\n",
    "    if not isinstance(x, int | float):\n",
    "        \n",
    "        raise TypeError('x deve ser um valor numérico')\n",
    "\n",
    "    if x == 0:\n",
    "\n",
    "        raise ValueError('x deve ser diferente de zero')\n",
    "\n",
    "except TypeError as terror:\n",
    "\n",
    "    print(f'Erro: {terror}')\n",
    "\n",
    "except ValueError as verror:\n",
    "\n",
    "    print(f'Erro: {verror}')\n",
    "\n",
    "else:\n",
    "\n",
    "    print(f'x é um(a) {type(x)}')\n"
   ]
  },
  {
   "cell_type": "markdown",
   "id": "d871e144",
   "metadata": {},
   "source": [
    "> ### Função `lambda`\n",
    ">\n",
    "> Função anônima de expressão única (função de uma linha)\n",
    ">\n",
    "> ~~~python\n",
    "> # Sintaxe:\n",
    ">\n",
    "> lambda <parâmetro>: <expressão>\n",
    "> ~~~\n",
    "> \n",
    "> ***\n",
    "> Onde:\n",
    ">\n",
    "> ~~~python\n",
    "> <parâmetro> é o argumento envolvido na <expressão>\n",
    "> ~~~\n",
    ">\n",
    "> <br>"
   ]
  },
  {
   "cell_type": "code",
   "execution_count": null,
   "id": "c100bb0c",
   "metadata": {},
   "outputs": [
    {
     "data": {
      "text/plain": [
       "1024"
      ]
     },
     "execution_count": 18,
     "metadata": {},
     "output_type": "execute_result"
    }
   ],
   "source": [
    "xx = lambda x: 2 ** x\n",
    "\n",
    "# Chamada da função passando argumento 10:\n",
    "\n",
    "xx(10)"
   ]
  },
  {
   "cell_type": "code",
   "execution_count": null,
   "id": "b11e6a39",
   "metadata": {},
   "outputs": [
    {
     "data": {
      "text/plain": [
       "1024"
      ]
     },
     "execution_count": 19,
     "metadata": {},
     "output_type": "execute_result"
    }
   ],
   "source": [
    "# Uso de parênteses -> função pode ser executada passando o argumento em seguida\n",
    "\n",
    "xx = (lambda x: 2 ** x)(10)\n",
    "\n",
    "xx"
   ]
  },
  {
   "cell_type": "code",
   "execution_count": 87,
   "id": "02faf705",
   "metadata": {},
   "outputs": [
    {
     "ename": "TypeError",
     "evalue": "isinstance() arg 2 must be a type, a tuple of types, or a union",
     "output_type": "error",
     "traceback": [
      "\u001b[1;31m---------------------------------------------------------------------------\u001b[0m",
      "\u001b[1;31mTypeError\u001b[0m                                 Traceback (most recent call last)",
      "Cell \u001b[1;32mIn[87], line 2\u001b[0m\n\u001b[0;32m      1\u001b[0m l \u001b[38;5;241m=\u001b[39m [ n \u001b[38;5;28;01mfor\u001b[39;00m n \u001b[38;5;129;01min\u001b[39;00m \u001b[38;5;28mrange\u001b[39m(\u001b[38;5;241m10\u001b[39m) ]\n\u001b[1;32m----> 2\u001b[0m res \u001b[38;5;241m=\u001b[39m \u001b[38;5;28;43misinstance\u001b[39;49m\u001b[43m(\u001b[49m\u001b[38;5;28;43mlist\u001b[39;49m\u001b[43m,\u001b[49m\u001b[43m \u001b[49m\u001b[43ml\u001b[49m\u001b[43m)\u001b[49m\n",
      "\u001b[1;31mTypeError\u001b[0m: isinstance() arg 2 must be a type, a tuple of types, or a union"
     ]
    }
   ],
   "source": [
    "l = [ n for n in range(10) ]\n",
    "res = isinstance(list, l)"
   ]
  },
  {
   "cell_type": "code",
   "execution_count": null,
   "id": "983c7e15",
   "metadata": {},
   "outputs": [
    {
     "data": {
      "text/plain": [
       "0.6666666666666666"
      ]
     },
     "execution_count": 17,
     "metadata": {},
     "output_type": "execute_result"
    }
   ],
   "source": [
    "# Função lambda de dois ou mais argumentos:\n",
    "\n",
    "(lambda x, y, z: (x * y) / z)(1, 2, 3)"
   ]
  },
  {
   "cell_type": "code",
   "execution_count": null,
   "id": "99845a0b",
   "metadata": {},
   "outputs": [
    {
     "data": {
      "text/plain": [
       "'par'"
      ]
     },
     "execution_count": 20,
     "metadata": {},
     "output_type": "execute_result"
    }
   ],
   "source": [
    "# Usando inline if:\n",
    "\n",
    "(lambda x: 'par' if x % 2 == 0 else 'ímpar')(10)\n"
   ]
  },
  {
   "cell_type": "code",
   "execution_count": null,
   "id": "15c7dfcd",
   "metadata": {},
   "outputs": [
    {
     "data": {
      "text/plain": [
       "['26,6°C', '33,0°C', '39,1°C', '70,4°C', '88,3°C', '94,5°C']"
      ]
     },
     "execution_count": 41,
     "metadata": {},
     "output_type": "execute_result"
    }
   ],
   "source": [
    "# lambda e list comprehension\n",
    "\n",
    "# Converter temperatura em Fahrenheit para °Celsius\n",
    "\n",
    "tempF = [79.95, 91.4, 102.34, 158.7, 190.98, 202.14]\n",
    "\n",
    "tempC = [(lambda t: (t - 32) * 5 / 9)(x) for x in tempF]\n",
    "\n",
    "[f'{t:.1f}°C'.replace('.', ',') for t in tempC]"
   ]
  },
  {
   "cell_type": "markdown",
   "id": "9bed81fd",
   "metadata": {},
   "source": [
    "> ### Função embutida `map`\n",
    ">\n",
    "> \"Aplica\" uma função (*func*) a um iterável e retorna um objeto *map*\n",
    ">\n",
    "> ~~~python\n",
    "> # Sintaxe:\n",
    ">\n",
    "> map(func, *iterables)\n",
    "> ~~~\n",
    "> \n",
    "> <br>"
   ]
  },
  {
   "cell_type": "code",
   "execution_count": null,
   "id": "a28e118a",
   "metadata": {},
   "outputs": [
    {
     "data": {
      "text/plain": [
       "[2, 4, 8, 16, 32, 64, 128, 256, 512, 1024]"
      ]
     },
     "execution_count": 14,
     "metadata": {},
     "output_type": "execute_result"
    }
   ],
   "source": [
    "# map e função lambda:\n",
    "\n",
    "result = map(lambda x: 2**x, [1, 2, 3, 4, 5, 6, 7, 8, 9, 10])\n",
    "\n",
    "list(result)"
   ]
  },
  {
   "cell_type": "code",
   "execution_count": null,
   "id": "03c252fd",
   "metadata": {},
   "outputs": [
    {
     "name": "stdout",
     "output_type": "stream",
     "text": [
      "2 4 8 16 32 64 128 256 512 1024 "
     ]
    }
   ],
   "source": [
    "# map retorna um map object que sabe os valores\n",
    "\n",
    "result = map(lambda x: 2**x, [1, 2, 3, 4, 5, 6, 7, 8, 9, 10])\n",
    "\n",
    "for x in result:\n",
    "\n",
    "    print(x, end=' ')\n"
   ]
  },
  {
   "cell_type": "markdown",
   "id": "6a6eb423",
   "metadata": {},
   "source": [
    "> ## Função embutida `filter`\n",
    ">\n",
    "> Filtrar valores verdadeiros em um iterável e retorna um objeto *filter*\n",
    ">\n",
    "> <br>"
   ]
  },
  {
   "cell_type": "code",
   "execution_count": null,
   "id": "dd846ddd",
   "metadata": {},
   "outputs": [
    {
     "name": "stdout",
     "output_type": "stream",
     "text": [
      "<class 'filter'>\n"
     ]
    },
    {
     "data": {
      "text/plain": [
       "([False, True, True], [100, 1000])"
      ]
     },
     "execution_count": 16,
     "metadata": {},
     "output_type": "execute_result"
    }
   ],
   "source": [
    "\n",
    "x = [10, 100, 1000]\n",
    "\n",
    "value = 50\n",
    "\n",
    "result_map = map(lambda x: x > value, x)\n",
    "\n",
    "result_filter = filter(lambda x: x > value, x)\n",
    "\n",
    "print(type(result_filter))\n",
    "\n",
    "# convertendo em lista porque\n",
    "# map devolve um objeto map e \n",
    "# filter devolve objeto filter\n",
    "\n",
    "list(result_map), list(result_filter)\n",
    "\n",
    "# método filter é implementado em alguns outros pacotes, \n",
    "# por exemplo, no pandas"
   ]
  },
  {
   "cell_type": "markdown",
   "id": "b8f6d1e5",
   "metadata": {},
   "source": [
    "> ### __*func*__ pode ser uma Função Nomeada (definida pelo programador)\n",
    ">\n",
    "> #### (Veremos a seguir com mais detalhes como definir funções)\n",
    ">\n",
    "> <br>"
   ]
  },
  {
   "cell_type": "code",
   "execution_count": null,
   "id": "b91d7110",
   "metadata": {},
   "outputs": [
    {
     "data": {
      "text/plain": [
       "[2, 4, 8, 16, 32]"
      ]
     },
     "execution_count": 19,
     "metadata": {},
     "output_type": "execute_result"
    }
   ],
   "source": [
    "# Definindo uma função:\n",
    "\n",
    "def exponenciacao_base2(x): # declaração da função\n",
    "    \n",
    "    return 2 ** x # retorno da função\n",
    "\n",
    "\n",
    "# map e função nomeada:\n",
    "\n",
    "list(map(exponenciacao_base2, [1, 2, 3, 4, 5]))\n",
    "\n",
    "# (convertendo em lista porque map devolve um objeto map)"
   ]
  },
  {
   "cell_type": "code",
   "execution_count": 20,
   "id": "3cc7d5b4",
   "metadata": {},
   "outputs": [
    {
     "data": {
      "text/plain": [
       "[11, 12, 13]"
      ]
     },
     "execution_count": 20,
     "metadata": {},
     "output_type": "execute_result"
    }
   ],
   "source": [
    "def maiorque(x, valor=10):\n",
    "    \n",
    "    return x > valor\n",
    "\n",
    "# filter e função nomeada:\n",
    "\n",
    "list(filter(maiorque, [8, 9 , 10, 11, 12, 13]))\n",
    "\n",
    "# (convertendo em lista porque filter devolve um objeto filter)\n"
   ]
  },
  {
   "cell_type": "markdown",
   "id": "3bf3588b",
   "metadata": {},
   "source": [
    "> ### __Funções Nomeadas (`def` &thinsp; &rarr; &thinsp; palavra reservada)__\n",
    ">\n",
    "> Possibilita modularização, reutilização e manutenção de código\n",
    ">\n",
    "> ~~~python\n",
    "> # Sintaxe:\n",
    ">\n",
    "> def <nome>(<parâmetro 1>, ..., <parâmetro n>):\n",
    ">\n",
    ">    # Código identado dentro da função\n",
    ">    <bloco de instruções identado>\n",
    ">\n",
    ">    # retorno da função\n",
    ">    return <retorno>\n",
    ">\n",
    "> ~~~\n",
    ">\n",
    "> ***\n",
    ">\n",
    "> Onde:\n",
    "> \n",
    "> ~~~python\n",
    "> <nome> é algum nome para a função\n",
    ">\n",
    "> <parâmetro 1> é o parâmetro (variável envolvida no problema, não obrigatório); se a função tem mais de um parâmetro, eles são passados separados por \",\")\n",
    ">\n",
    "> <bloco de instruções identado> são ações realizadas no escopo da função (dentro da função)\n",
    ">\n",
    "> e <retorno> é o valor/objeto que a função retorna, caso retorne algo, se não há um retorno explícito da função, ela retorna None implicitamente.\n",
    "> ~~~\n",
    ">\n",
    "> <br>"
   ]
  },
  {
   "cell_type": "code",
   "execution_count": null,
   "id": "af627571",
   "metadata": {},
   "outputs": [
    {
     "name": "stdout",
     "output_type": "stream",
     "text": [
      "Escrevendo uma função\n"
     ]
    }
   ],
   "source": [
    "\n",
    "# Definição / Chamada\n",
    "\n",
    "def primeira_funcao(): # sem declaração de parâmetro\n",
    "\n",
    "    print('Escrevendo uma função')\n",
    "\n",
    "\n",
    "primeira_funcao()\n"
   ]
  },
  {
   "cell_type": "code",
   "execution_count": null,
   "id": "b31c7b7d",
   "metadata": {},
   "outputs": [
    {
     "name": "stdout",
     "output_type": "stream",
     "text": [
      "2\n",
      "4\n",
      "6\n",
      "8\n",
      "10\n"
     ]
    }
   ],
   "source": [
    "'''\n",
    "Suponha que no nosso programa precisamos utilizar um equação diversas vezes, \n",
    "por exemplo, uma função que realiza a multiplicação por 2.\n",
    "\n",
    "Então poderíamos colocar o código em uma função para não ter que escrever \n",
    "a equação diversas vezes, e dessa forma, apenas chamamos a função.\n",
    "'''\n",
    "\n",
    "def multiplica_2(x): # parâmetro - definição da função\n",
    "\n",
    "    '''\n",
    "    Realiza a multiplicação de um número (x) por 2 (dois).\n",
    "    '''\n",
    "\n",
    "    return x * 2\n",
    "\n",
    "# Parâmetro / Argumento\n",
    "\n",
    "for num in [1, 2, 3, 4, 5]:\n",
    "    \n",
    "    print(multiplica_2(num)) # argumento - chamada da função\n"
   ]
  },
  {
   "cell_type": "code",
   "execution_count": null,
   "id": "2370c5bd",
   "metadata": {},
   "outputs": [
    {
     "name": "stdout",
     "output_type": "stream",
     "text": [
      "\u001b[1;31mSignature:\u001b[0m \u001b[0mmultiplica_2\u001b[0m\u001b[1;33m(\u001b[0m\u001b[0mx\u001b[0m\u001b[1;33m)\u001b[0m\u001b[1;33m\u001b[0m\u001b[1;33m\u001b[0m\u001b[0m\n",
      "\u001b[1;31mDocstring:\u001b[0m Realiza a multiplicação de um número (x) por 2 (dois).\n",
      "\u001b[1;31mFile:\u001b[0m      c:\\users\\aib4\\appdata\\local\\temp\\ipykernel_3356\\1337979249.py\n",
      "\u001b[1;31mType:\u001b[0m      function"
     ]
    }
   ],
   "source": [
    "# Docstring - Documentação\n",
    "\n",
    "multiplica_2?"
   ]
  },
  {
   "cell_type": "code",
   "execution_count": null,
   "id": "e8233d22",
   "metadata": {},
   "outputs": [
    {
     "name": "stdout",
     "output_type": "stream",
     "text": [
      "2\n",
      "None\n",
      "4\n",
      "None\n",
      "6\n",
      "None\n",
      "8\n",
      "None\n",
      "10\n",
      "None\n"
     ]
    }
   ],
   "source": [
    "# Retorno implícito: se não há um return explícito, \n",
    "# a função retorna \"None\" implicitamente\n",
    "\n",
    "def multiplica_2(x):\n",
    "\n",
    "    '''\n",
    "    Apenas imprime a multiplicação de um valor (x) por 2 (dois).\n",
    "    '''\n",
    "\n",
    "    print(x * 2)\n",
    "\n",
    "\n",
    "for num in [1 , 2, 3, 4, 5]:\n",
    "    \n",
    "    print(multiplica_2(num))\n",
    "\n",
    "    \n",
    "# Fluxo:\n"
   ]
  },
  {
   "cell_type": "code",
   "execution_count": null,
   "id": "4fe566e7",
   "metadata": {},
   "outputs": [
    {
     "name": "stdout",
     "output_type": "stream",
     "text": [
      "[10, 20, 30]\n",
      "[10, 20, 30]\n",
      "[10, 20, 30]\n"
     ]
    }
   ],
   "source": [
    "\n",
    "'''\n",
    "Mas se a função pudesse fazer a multiplicação por qualquer valor?\n",
    "\n",
    "Suponha uma função que recebe uma lista (lst) e faz a multiplicação\n",
    "de cada item por qualquer valor (y):\n",
    "\n",
    "(passando o laço para o escopo da função)\n",
    "'''\n",
    "\n",
    "def multiplica_for(lst, x):\n",
    "    \n",
    "    multi = []\n",
    "    \n",
    "    for item in lst: # usando laço for\n",
    "        \n",
    "        multi.append(item * x)\n",
    "\n",
    "    return multi\n",
    "\n",
    "\n",
    "def multiplica_lstcomp(lst, x):\n",
    "\n",
    "    return [item * x for item in lst] # usando list comprehension\n",
    "\n",
    "\n",
    "print(multiplica_for([1, 2, 3], 10))\n",
    "\n",
    "# Parâmetro nomeado - passagem do argumento através do nome do parâmetro\n",
    "\n",
    "print(multiplica_lstcomp(x=10, lst=[1, 2, 3]))\n",
    "\n",
    "x = 10\n",
    "\n",
    "lst = [1, 2, 3]\n",
    "\n",
    "print(multiplica_lstcomp(x=x, lst=lst))\n"
   ]
  },
  {
   "cell_type": "markdown",
   "id": "ca928a7d",
   "metadata": {},
   "source": [
    "> ### __Parâmetros *non-default* e *default* de uma função__\n",
    "> \n",
    "> Definidos na definição da função (não confundir com parâmetros nomeados - na chamada da função)\n",
    ">\n",
    "> ~~~python\n",
    "> # Sintaxe:\n",
    ">\n",
    "> def <nome_função>(<parâmetro 1>, <parâmetro 2>=<valor default>):\n",
    ">\n",
    ">    # Código identado dentro da função\n",
    ">    <bloco de instruções identado>\n",
    ">\n",
    ">    # retorno da função\n",
    ">    return <retorno>\n",
    ">\n",
    "> ~~~\n",
    ">\n",
    "> ***\n",
    ">\n",
    "> Onde:\n",
    ">\n",
    "> ~~~python\n",
    ">\n",
    "> <parâmetro 1> é um parâmetro \"não padrão\" e deve ser anterior a parâmetro \"padrão\"\n",
    ">\n",
    "> <parâmetro 2> é um parâmetro com valor \"padrão\" (pré-estabelecido, caso nenhum valor seja passado)\n",
    "> ~~~\n",
    ">\n",
    "> > OBS: parâmetros *default* precedem *non-default* \n",
    ">\n",
    "> <br>"
   ]
  },
  {
   "cell_type": "code",
   "execution_count": null,
   "id": "74f282d3",
   "metadata": {},
   "outputs": [
    {
     "data": {
      "text/plain": [
       "([2, 4, 6], [10, 20, 30])"
      ]
     },
     "execution_count": 26,
     "metadata": {},
     "output_type": "execute_result"
    }
   ],
   "source": [
    "# Multiplicação por qualquer fator (parâmetro default)\n",
    "\n",
    "def multiplica(x, fator=2):\n",
    "\n",
    "    return [item * fator for item in x]\n",
    "\n",
    "\n",
    "multiplica([1, 2, 3]), multiplica([1, 2, 3], 10)\n"
   ]
  },
  {
   "cell_type": "code",
   "execution_count": null,
   "id": "6369b293",
   "metadata": {},
   "outputs": [
    {
     "data": {
      "text/plain": [
       "(10, [2, 4, 6], 21.0, None)"
      ]
     },
     "execution_count": 35,
     "metadata": {},
     "output_type": "execute_result"
    }
   ],
   "source": [
    "'''\n",
    "Suponha que essa função pode receber tanto um número quanto uma lista:\n",
    "'''\n",
    "\n",
    "def multiplica(x, fator=2):\n",
    "\n",
    "    if isinstance(x, (int, float)):\n",
    "\n",
    "        return x * fator\n",
    "\n",
    "    elif isinstance(x, (list)):\n",
    "\n",
    "        return [item * fator for item in x]\n",
    "\n",
    "\n",
    "multiplica(5), multiplica([1, 2, 3]), \\\n",
    "    multiplica(2.1, 10), multiplica((1, 2, 3), 10)"
   ]
  },
  {
   "cell_type": "code",
   "execution_count": null,
   "id": "6e5e2e98",
   "metadata": {},
   "outputs": [
    {
     "data": {
      "text/plain": [
       "(True, False)"
      ]
     },
     "execution_count": 27,
     "metadata": {},
     "output_type": "execute_result"
    }
   ],
   "source": [
    "# Exemplo usando inline if\n",
    "\n",
    "def divisivel(a, b):\n",
    "\n",
    "    '''Verifica se a é divisível por b, retornando True, \n",
    "    caso contrário, False.'''\n",
    "\n",
    "    return True if a % b == 0 else False\n",
    "\n",
    "\n",
    "divisivel(33, 11), divisivel(9, 8)\n"
   ]
  },
  {
   "cell_type": "markdown",
   "id": "958ae197",
   "metadata": {},
   "source": [
    "> ### Funções - __`Escopo: variáveis globais e variáveis locais`__\n",
    ">\n",
    ">  - __Variável local__ existe dentro da função (escopo da função)\n",
    ">\n",
    "> - __Variável global__ existe em qualquer momento do programa\n",
    ">\n",
    "> <br>"
   ]
  },
  {
   "cell_type": "code",
   "execution_count": 11,
   "id": "ac825007",
   "metadata": {},
   "outputs": [
    {
     "name": "stdout",
     "output_type": "stream",
     "text": [
      "Variável Global e Local: Python\n",
      "Dentro da função: lst=['P', 'y', 't', 'h', 'o', 'n']\n",
      "Fora da função: lst=[]\n"
     ]
    }
   ],
   "source": [
    "# Escopo/Visibilidade de Variáveis\n",
    "\n",
    "def escopo(): # sem declaração sem parâmetros\n",
    "\n",
    "    # Escopo Local\n",
    "\n",
    "    print(f'Variável Global e Local: {nome}') # variável nome é \"visualizada\" dentro da função\n",
    "\n",
    "    lst = list(nome) # atribuição dentro função - escopo local\n",
    "\n",
    "    print(f'Dentro da função: lst={lst}') # \"lst dentro\" != \"lst fora\"\n",
    "\n",
    "\n",
    "# Parte Principal - Escopo Global\n",
    "\n",
    "nome = 'Python'\n",
    "\n",
    "lst = []\n",
    "\n",
    "escopo() # Chamada da função sem argumento\n",
    "\n",
    "print(f'Fora da função: lst={lst}') # \"lst fora\" não sofre alteração\n",
    "\n",
    "# Cuidado: confusão variáveis globais e locais com mesmo nome!\n"
   ]
  },
  {
   "cell_type": "markdown",
   "id": "4db68217",
   "metadata": {},
   "source": [
    "> ### Comando `global`\n",
    ">\n",
    "> Torna uma variável global\n",
    ">\n",
    "> <br>"
   ]
  },
  {
   "cell_type": "code",
   "execution_count": null,
   "id": "e02923d6",
   "metadata": {},
   "outputs": [
    {
     "name": "stdout",
     "output_type": "stream",
     "text": [
      "Variável Local lst=['P', 'y', 't', 'h', 'o', 'n']\n",
      "Variável Local nome=Python\n",
      "Variável Global lst=[]\n",
      "Variável Global, novo_nome=Pyt\n"
     ]
    }
   ],
   "source": [
    "\n",
    "def escopo(outra='jupyter'):\n",
    "    \n",
    "    global novo_nome\n",
    "\n",
    "    lst = list(linguagem)\n",
    "    \n",
    "    print(f'Variável Local: lst={lst}')\n",
    "    \n",
    "    novo_nome = ''.join(\n",
    "        [item\n",
    "         for item in lst\n",
    "         if item.upper() in outra.upper() # se um caractere esté em outra palavra\n",
    "        ]\n",
    "    )\n",
    "\n",
    "    print(f'Variável Local: nome={nome}')\n",
    "\n",
    "# Parte Principal - Escopo Global\n",
    "\n",
    "linguagem = 'Python'\n",
    "\n",
    "lst = []\n",
    "\n",
    "escopo()\n",
    "\n",
    "print(f'Variável Global: lst={lst}')\n",
    "\n",
    "print(f'Variável Global: novo_nome={novo_nome}')"
   ]
  },
  {
   "cell_type": "markdown",
   "id": "2f2d43b9",
   "metadata": {},
   "source": [
    "> ### Comando `nonlocal`\n",
    ">\n",
    "> Declaração de variável não local\n",
    ">\n",
    "> <br>"
   ]
  },
  {
   "cell_type": "code",
   "execution_count": 64,
   "id": "24332678",
   "metadata": {},
   "outputs": [
    {
     "name": "stdout",
     "output_type": "stream",
     "text": [
      "Produto 545: custo: 100, venda: 150.00\n",
      "Produto 955: custo: 100, venda: 110.00\n",
      "Produto 247: custo: 100, venda: 120.00\n"
     ]
    }
   ],
   "source": [
    "\n",
    "def venda(produto, custo): # função container\n",
    "    \n",
    "    def aumento():\n",
    "        \n",
    "        nonlocal porcentagem\n",
    "    \n",
    "        if produto[0] == '5':\n",
    "            \n",
    "            porcentagem = .5\n",
    "            \n",
    "        elif produto[0] == '9':\n",
    "            \n",
    "            porcentagem = .1\n",
    "    \n",
    "    porcentagem = .2\n",
    "    \n",
    "    aumento()\n",
    "    \n",
    "    return custo * (1 + porcentagem)\n",
    "\n",
    "\n",
    "produtos = ['545', '955', '247']\n",
    "\n",
    "custos = [100] * len(produtos)\n",
    "\n",
    "for produto, custo in zip(produtos, custos):\n",
    "\n",
    "    print(f'Produto {produto}: custo: {custo}, venda: {venda(produto, custo):.2f}')\n"
   ]
  },
  {
   "cell_type": "markdown",
   "id": "48ab0987",
   "metadata": {},
   "source": [
    "> ### Funções - __Escopo: Variáveis mutáveis e imutáveis__"
   ]
  },
  {
   "cell_type": "code",
   "execution_count": 20,
   "id": "6d59640a",
   "metadata": {},
   "outputs": [
    {
     "name": "stdout",
     "output_type": "stream",
     "text": [
      "Antes da função: lst=[1, 2, 3]\n",
      "Depois da função: lst=[1, 2, 3, 10]\n",
      "Retorno da função: lst2=[1, 2, 3, 10]\n"
     ]
    },
    {
     "data": {
      "text/plain": [
       "True"
      ]
     },
     "execution_count": 20,
     "metadata": {},
     "output_type": "execute_result"
    }
   ],
   "source": [
    "# Variáveis mutáveis\n",
    "\n",
    "def modificaLista(l): # a função recebe a referência do objeto\n",
    "    \n",
    "    l.append(10)\n",
    "    \n",
    "    return l\n",
    "\n",
    "\n",
    "lst = [1, 2, 3]\n",
    "\n",
    "print(f'Antes da função: lst={lst}')\n",
    "\n",
    "lst2 = modificaLista(lst)\n",
    "\n",
    "print(f'Depois da função: lst={lst}')\n",
    "\n",
    "print(f'Retorno da função: lst2={lst2}')\n",
    "\n",
    "id(lst2) == id(lst)\n"
   ]
  },
  {
   "cell_type": "code",
   "execution_count": null,
   "id": "855cadc7",
   "metadata": {},
   "outputs": [
    {
     "name": "stdout",
     "output_type": "stream",
     "text": [
      "4\n",
      "5\n",
      "6\n",
      "[4, 5, 6, [...]]\n"
     ]
    }
   ],
   "source": [
    "# Variáveis imutáveis"
   ]
  },
  {
   "cell_type": "markdown",
   "id": "f8e623d3",
   "metadata": {},
   "source": [
    "> ### Empacotamento de argumentos: `*args`\n",
    ">\n",
    "> Passar número indefinido de argumentos não-nomeados\n",
    ">\n",
    "> <br>"
   ]
  },
  {
   "cell_type": "code",
   "execution_count": null,
   "id": "594a28a7",
   "metadata": {},
   "outputs": [
    {
     "name": "stdout",
     "output_type": "stream",
     "text": [
      "6 10\n"
     ]
    },
    {
     "data": {
      "text/plain": [
       "1.0"
      ]
     },
     "execution_count": 43,
     "metadata": {},
     "output_type": "execute_result"
    }
   ],
   "source": [
    "# Empacotamento (packing)\n",
    "\n",
    "def soma_acumulada(*args):\n",
    "    \n",
    "    soma = 0\n",
    "    \n",
    "    for n in args:\n",
    "        \n",
    "        soma += n\n",
    "        \n",
    "    return soma\n",
    "\n",
    "\n",
    "lst = [1 , 2, 3, 4]\n",
    "\n",
    "print(soma_acumulada(1, 2, 3), soma_acumulada(*lst))\n",
    "\n",
    "\n",
    "# Desempacotamento (unpacking)\n",
    "\n",
    "def soma_divide(a, b, c):\n",
    "\n",
    "    ''' Recebe três valores (a, b e c) e realiza o cálculo: '''\n",
    "\n",
    "    return (a + b) / c\n",
    "\n",
    "\n",
    "lst = [30, 60, 90]\n",
    "\n",
    "soma_divide(*lst)"
   ]
  },
  {
   "cell_type": "code",
   "execution_count": null,
   "id": "49d80ab3",
   "metadata": {},
   "outputs": [
    {
     "data": {
      "text/plain": [
       "('1, 2, 3', 'abc', 'Crux, Bonier, Atom, -*-')"
      ]
     },
     "execution_count": 37,
     "metadata": {},
     "output_type": "execute_result"
    }
   ],
   "source": [
    "# OBS: Parâmetro Nomeado e Valor Padrão em Empacotamento de Argumentos\n",
    "\n",
    "def saidaPadrao(*items, separador=', '):\n",
    "    \n",
    "    s = separador.join([str(item) for item in items])\n",
    "    \n",
    "    return s\n",
    "\n",
    "saidaPadrao(1, 2, 3), saidaPadrao('a', 'b', 'c', separador=''), \\\n",
    "    saidaPadrao('Crux', 'Bonier', 'Atom', '-*-')\n",
    "    \n",
    "# Com empacotamento necessário usar parâmetro nomeado.\n"
   ]
  },
  {
   "cell_type": "markdown",
   "id": "7c2ea5b3",
   "metadata": {},
   "source": [
    "> ### Empacotamento de palavras-chave: `**kwargs`\n",
    ">\n",
    "> Passar número indefinido de argumentos nomeados (\"palavras-chave\")\n",
    ">\n",
    "> <br>"
   ]
  },
  {
   "cell_type": "code",
   "execution_count": null,
   "id": "bf8a9c3c",
   "metadata": {},
   "outputs": [
    {
     "data": {
      "text/plain": [
       "({'marker': 'o', 'markersize': 5, 'alpha': 0.4, 'color': 'b'},\n",
       " {'marker': 'o', 'markersize': 3, 'alpha': 0.4, 'color': 'b'})"
      ]
     },
     "execution_count": 54,
     "metadata": {},
     "output_type": "execute_result"
    }
   ],
   "source": [
    "'''\n",
    "Exemplo de função que recebe um dicionário e altera valores \n",
    "pré-estabelecidos (kw_plot) através do dicionário recebido.\n",
    "\n",
    "Muitas funções aceitam o empacotemanto de argumentos na forma \n",
    "de chave-valor (kwargs - keywords arguments).\n",
    "\n",
    "Isso é últil quando se define uma função com valores padrões, \n",
    "mas permitindo que os valores sejam modificados passando as chaves \n",
    "correspondentes com valores diferentes.\n",
    "'''\n",
    "\n",
    "# Empacotamento (packing)\n",
    "\n",
    "def plot_keywords(**kwargs):\n",
    "\n",
    "    kw_plot = dict(marker='o', markersize=5, alpha=.4, color='b')\n",
    "\n",
    "    return {\n",
    "        key: kwargs.get(key, value) \n",
    "        for key, value in kw_plot.items()\n",
    "        }\n",
    "\n",
    "\n",
    "plot_keywords(), plot_keywords(**{'markersize': 3, 'linewidth': .8})\n"
   ]
  },
  {
   "cell_type": "code",
   "execution_count": null,
   "id": "7be1e032",
   "metadata": {},
   "outputs": [
    {
     "data": {
      "text/plain": [
       "('o', 3, 'grey')"
      ]
     },
     "execution_count": 57,
     "metadata": {},
     "output_type": "execute_result"
    }
   ],
   "source": [
    "# Dempacotamento (unpacking) - passando valores de dicionário como argumentos\n",
    "\n",
    "def plot_keywords_2(marker, markersize, color):\n",
    "    \n",
    "    return (marker, markersize, color)\n",
    "\n",
    "\n",
    "kwargs = {'marker': 'o',  'markersize': 3, 'color': 'grey'}\n",
    "\n",
    "plot_keywords_2(**kwargs)\n"
   ]
  },
  {
   "cell_type": "markdown",
   "id": "511eb882",
   "metadata": {},
   "source": [
    "> ### Operador de Desempacotamento `**`\n",
    ">\n",
    "> Juntar dicionários\n",
    ">\n",
    "> <br>"
   ]
  },
  {
   "cell_type": "code",
   "execution_count": null,
   "id": "7e024a98",
   "metadata": {},
   "outputs": [
    {
     "data": {
      "text/plain": [
       "{'Maria': 8.4, 'João': 8.6}"
      ]
     },
     "execution_count": 59,
     "metadata": {},
     "output_type": "execute_result"
    }
   ],
   "source": [
    "nota_p1 = {'Maria': 8.2, 'João': 7.7}\n",
    "\n",
    "nota_p2 = {'Maria': 8.4, 'João': 8.6}\n",
    "\n",
    "{**nota_p1, **nota_p2}"
   ]
  },
  {
   "cell_type": "markdown",
   "id": "de128853",
   "metadata": {},
   "source": [
    "> ## Funções podem ser escritas no próprio programa, mas também podem estar escritas em outros programas/arquivos\n",
    ">\n",
    "> ## Assim podemos modularizar nossos programas, podemos criar módulos, criar pacotes, criar bibliotecas\n",
    ">\n",
    "> <br>"
   ]
  },
  {
   "cell_type": "markdown",
   "id": "f255aced",
   "metadata": {},
   "source": [
    "> ### Comando `import`\n",
    ">\n",
    "> #### Importação de Módulos / Bibliotecas / Pacotes\n",
    ">\n",
    "> ~~~python\n",
    "> # Sintaxe:\n",
    ">\n",
    "> import <módulo>\n",
    "> ~~~\n",
    ">\n",
    "> ***\n",
    ">\n",
    "> ~~~python\n",
    "> # Sintaxe:\n",
    ">\n",
    "> import <módulo(/.submódulo)> as <nome>\n",
    "> ~~~\n",
    ">\n",
    "> ***\n",
    "> ~~~python\n",
    "> # Sintaxe:\n",
    ">\n",
    "> from <módulo(.submódulo/método)> import <método/submétodo/atributo>\n",
    "> ~~~\n",
    ">\n",
    "> ***\n",
    ">\n",
    "> ~~~python\n",
    "> # Sintaxe:\n",
    ">\n",
    "> from <módulo> import <método/atributo> as <nome>\n",
    "> ~~~\n",
    ">\n",
    "> <br>"
   ]
  },
  {
   "cell_type": "markdown",
   "id": "e4f88c6e",
   "metadata": {},
   "source": [
    "> ### Biblioteca `math`\n",
    ">\n",
    "> Algumas funções e números matemáticos (tarefas simples)\n",
    ">\n",
    "> > OBS: As bibliotecas `scipy` e `numpy` são mais completas (veremos depois)\n",
    ">\n",
    "> <br>"
   ]
  },
  {
   "cell_type": "code",
   "execution_count": null,
   "id": "2680245e",
   "metadata": {},
   "outputs": [
    {
     "name": "stdout",
     "output_type": "stream",
     "text": [
      "\u001b[1;31mType:\u001b[0m        module\n",
      "\u001b[1;31mString form:\u001b[0m <module 'math' (built-in)>\n",
      "\u001b[1;31mDocstring:\u001b[0m  \n",
      "This module provides access to the mathematical functions\n",
      "defined by the C standard."
     ]
    }
   ],
   "source": [
    "\n",
    "import math\n",
    "\n",
    "math?"
   ]
  },
  {
   "cell_type": "code",
   "execution_count": null,
   "id": "bb67d4da",
   "metadata": {},
   "outputs": [
    {
     "data": {
      "text/plain": [
       "3.141592653589793"
      ]
     },
     "execution_count": 467,
     "metadata": {},
     "output_type": "execute_result"
    }
   ],
   "source": [
    "# Atributo\n",
    "\n",
    "math.pi"
   ]
  },
  {
   "cell_type": "code",
   "execution_count": null,
   "id": "7a5cbb0c",
   "metadata": {},
   "outputs": [
    {
     "data": {
      "text/plain": [
       "1.0"
      ]
     },
     "execution_count": 463,
     "metadata": {},
     "output_type": "execute_result"
    }
   ],
   "source": [
    "# Método\n",
    "\n",
    "math.cos(0)"
   ]
  },
  {
   "cell_type": "markdown",
   "id": "be718225",
   "metadata": {},
   "source": [
    "> (Há outras bibliotecas matemáticas como *Numpy* e *Scipy* que possuem mais funcionalidades e serão vistas adiante.)"
   ]
  },
  {
   "cell_type": "markdown",
   "id": "39244630",
   "metadata": {},
   "source": [
    "> ### Biblioteca `datetime`\n",
    ">\n",
    "> Para se trabalhar com datas e horas\n",
    ">\n",
    "> https://docs.python.org/pt-br/3.6/library/datetime.html\n",
    ">\n",
    "> (Há também outras bibliotecas com outras funcionalidades `time`, `calendar`, `dateutil`)\n",
    ">\n",
    "> <br>"
   ]
  },
  {
   "cell_type": "code",
   "execution_count": null,
   "id": "2ac16de8",
   "metadata": {},
   "outputs": [
    {
     "name": "stdout",
     "output_type": "stream",
     "text": [
      "\u001b[1;31mType:\u001b[0m        module\n",
      "\u001b[1;31mString form:\u001b[0m <module 'datetime' from 'c:\\\\Users\\\\AIB4\\\\AppData\\\\Local\\\\miniforge3\\\\envs\\\\work\\\\lib\\\\datetime.py'>\n",
      "\u001b[1;31mFile:\u001b[0m        c:\\users\\aib4\\appdata\\local\\miniforge3\\envs\\work\\lib\\datetime.py\n",
      "\u001b[1;31mDocstring:\u001b[0m   Fast implementation of the datetime type."
     ]
    }
   ],
   "source": [
    "import datetime\n",
    "\n",
    "datetime?"
   ]
  },
  {
   "cell_type": "code",
   "execution_count": null,
   "id": "3fb11666",
   "metadata": {},
   "outputs": [
    {
     "name": "stdout",
     "output_type": "stream",
     "text": [
      "\u001b[1;31mInit signature:\u001b[0m \u001b[0mdatetime\u001b[0m\u001b[1;33m.\u001b[0m\u001b[0mdatetime\u001b[0m\u001b[1;33m(\u001b[0m\u001b[0mself\u001b[0m\u001b[1;33m,\u001b[0m \u001b[1;33m/\u001b[0m\u001b[1;33m,\u001b[0m \u001b[1;33m*\u001b[0m\u001b[0margs\u001b[0m\u001b[1;33m,\u001b[0m \u001b[1;33m**\u001b[0m\u001b[0mkwargs\u001b[0m\u001b[1;33m)\u001b[0m\u001b[1;33m\u001b[0m\u001b[1;33m\u001b[0m\u001b[0m\n",
      "\u001b[1;31mDocstring:\u001b[0m     \n",
      "datetime(year, month, day[, hour[, minute[, second[, microsecond[,tzinfo]]]]])\n",
      "\n",
      "The year, month and day arguments are required. tzinfo may be None, or an\n",
      "instance of a tzinfo subclass. The remaining arguments may be ints.\n",
      "\u001b[1;31mFile:\u001b[0m           c:\\users\\aib4\\appdata\\local\\miniforge3\\envs\\work\\lib\\datetime.py\n",
      "\u001b[1;31mType:\u001b[0m           type\n",
      "\u001b[1;31mSubclasses:\u001b[0m     "
     ]
    }
   ],
   "source": [
    "# Submódulo\n",
    "\n",
    "datetime.datetime?"
   ]
  },
  {
   "cell_type": "code",
   "execution_count": null,
   "id": "ccb6797f",
   "metadata": {},
   "outputs": [
    {
     "data": {
      "text/plain": [
       "(datetime.datetime(2025, 1, 31, 0, 0), datetime.datetime(2025, 1, 31, 12, 45))"
      ]
     },
     "execution_count": 235,
     "metadata": {},
     "output_type": "execute_result"
    }
   ],
   "source": [
    "# Objeto datetime representam dataHora\n",
    "\n",
    "datetime.datetime(2025, 1, 31), datetime.datetime(2025, 1, 31, 12, 45)"
   ]
  },
  {
   "cell_type": "code",
   "execution_count": null,
   "id": "a3e713c8",
   "metadata": {},
   "outputs": [
    {
     "data": {
      "text/plain": [
       "datetime.datetime(2025, 5, 2, 16, 5, 6, 182042)"
      ]
     },
     "execution_count": 236,
     "metadata": {},
     "output_type": "execute_result"
    }
   ],
   "source": [
    "# Importanto apenas o submódulo datetime\n",
    "\n",
    "from datetime import datetime\n",
    "\n",
    "datetime.now() # ano, mês, dia, hora, minuto, segundo, milisegundo"
   ]
  },
  {
   "cell_type": "code",
   "execution_count": null,
   "id": "085d3ab0",
   "metadata": {},
   "outputs": [],
   "source": [
    "# Poderíamos importar tudo do módulo - Coringa \"*\" significa tudo\n",
    "\n",
    "from datetime import *"
   ]
  },
  {
   "cell_type": "code",
   "execution_count": null,
   "id": "10b62095",
   "metadata": {},
   "outputs": [
    {
     "data": {
      "text/plain": [
       "(datetime.date(2025, 5, 2), datetime.time(16, 5, 19, 596638))"
      ]
     },
     "execution_count": 237,
     "metadata": {},
     "output_type": "execute_result"
    }
   ],
   "source": [
    "# Importanto o submódulo, renomeando ele\n",
    "\n",
    "from datetime import datetime as dt\n",
    "\n",
    "data, hora = dt.now().date(), dt.now().time()\n",
    "\n",
    "data, hora"
   ]
  },
  {
   "cell_type": "code",
   "execution_count": null,
   "id": "896f3843",
   "metadata": {},
   "outputs": [
    {
     "data": {
      "text/plain": [
       "(2025, 5, 2, 16, 5, 19, 596638)"
      ]
     },
     "execution_count": 238,
     "metadata": {},
     "output_type": "execute_result"
    }
   ],
   "source": [
    "data.year, data.month, data.day, hora.hour, hora.minute, hora.second, hora.microsecond"
   ]
  },
  {
   "cell_type": "code",
   "execution_count": null,
   "id": "dd3dfd4a",
   "metadata": {},
   "outputs": [
    {
     "data": {
      "text/plain": [
       "(3866, 10.591780821917808, '2014/10/01')"
      ]
     },
     "execution_count": 259,
     "metadata": {},
     "output_type": "execute_result"
    }
   ],
   "source": [
    "\n",
    "date = '01/10/2014'\n",
    "\n",
    "# Converter uma string de data em objeto datetime\n",
    "\n",
    "start = datetime.strptime(date, r'%d/%m/%Y')\n",
    "\n",
    "now = datetime.now()\n",
    "\n",
    "ndias = (now - start).days\n",
    "\n",
    "ndias, ndias / 365, start.strftime(r'%Y/%m/%d')\n"
   ]
  },
  {
   "cell_type": "code",
   "execution_count": null,
   "id": "1d809db6",
   "metadata": {},
   "outputs": [],
   "source": [
    "# Submódulo timedelta - trabalhar com diferença de/no tempo\n",
    "\n",
    "from datetime import timedelta"
   ]
  },
  {
   "cell_type": "code",
   "execution_count": null,
   "id": "be787ec0",
   "metadata": {},
   "outputs": [
    {
     "data": {
      "text/plain": [
       "(datetime.datetime(2025, 4, 22, 17, 9, 37, 100634),\n",
       " datetime.datetime(2025, 5, 1, 17, 9, 37, 100634))"
      ]
     },
     "execution_count": 290,
     "metadata": {},
     "output_type": "execute_result"
    }
   ],
   "source": [
    "now = datetime.now()\n",
    "\n",
    "now - timedelta(days=10), now.replace(day=1)\n"
   ]
  },
  {
   "cell_type": "code",
   "execution_count": null,
   "id": "b60b16b2",
   "metadata": {},
   "outputs": [
    {
     "data": {
      "text/plain": [
       "'2025-05-02T16:57:15.187717'"
      ]
     },
     "execution_count": 260,
     "metadata": {},
     "output_type": "execute_result"
    }
   ],
   "source": [
    "# Dados podem vir no formato:\n",
    "\n",
    "datetime.now().isoformat(timespec='microseconds')"
   ]
  },
  {
   "cell_type": "markdown",
   "id": "ef2084a1",
   "metadata": {},
   "source": [
    "> ### Biblioteca `os`\n",
    ">\n",
    "> Iteragir com o Sistema Operacional (e trabalhar entre diferentes sistemas operacionais)\n",
    ">\n",
    "> <br>"
   ]
  },
  {
   "cell_type": "code",
   "execution_count": null,
   "id": "6e69cde1",
   "metadata": {},
   "outputs": [
    {
     "data": {
      "text/plain": [
       "'c:\\\\Users\\\\AIB4\\\\projetos\\\\python\\\\meq'"
      ]
     },
     "execution_count": 22,
     "metadata": {},
     "output_type": "execute_result"
    }
   ],
   "source": [
    "import os\n",
    "\n",
    "# Alguns métodos:\n",
    "\n",
    "# Caminho atual\n",
    "\n",
    "os.getcwd() # get current work directory\n",
    "\n",
    "# OBS: Windows \\\\ e outros OS /\n"
   ]
  },
  {
   "cell_type": "code",
   "execution_count": null,
   "id": "7dc8d419",
   "metadata": {},
   "outputs": [
    {
     "name": "stdout",
     "output_type": "stream",
     "text": [
      "C:\temp\n",
      "ew\foto.png\n",
      "C:\\temp\\new\\foto.png\n"
     ]
    }
   ],
   "source": [
    "# OBS: Escape em strings - caracteres especiais\n",
    "\n",
    "print('C:\\temp\\new\\foto.png') # \\f não existe: ignorado\n",
    "\n",
    "print('C:\\\\temp\\\\new\\\\foto.png')\n"
   ]
  },
  {
   "cell_type": "code",
   "execution_count": null,
   "id": "b7f09e9b",
   "metadata": {},
   "outputs": [
    {
     "data": {
      "text/plain": [
       "['.input_meq.json',\n",
       " '.ipynb_checkpoints',\n",
       " '.pytest_cache',\n",
       " '2025-01-14T14-51_separado.xlsx',\n",
       " 'animated_maps.ipynb',\n",
       " 'aprender_python.ipynb',\n",
       " 'chuva_climatologia_macapa.png',\n",
       " 'chuva_oiapoque.py',\n",
       " 'chuva_oiapoque_acumulado_diario.png',\n",
       " 'chuva_oiapoque_acumulado_diario_atual.png',\n",
       " 'chuva_oiapoque_horaria.png',\n",
       " 'chuva_oiapoque_horaria_2.png',\n",
       " 'chuva_oiapoque_horaria_3.png',\n",
       " 'chuva_oiapoque_horaria_atual.png',\n",
       " 'chuva_oiapoque_somatorio_horario.png',\n",
       " 'chuva_oiapoque_somatorio_horario_atual.png',\n",
       " 'climatologia_chuva_macapa_inmet.csv',\n",
       " 'dask-cluster-dump.msgpack.gz',\n",
       " 'download_data.py',\n",
       " 'environment.yml',\n",
       " 'escrevendo_arquivo.txt',\n",
       " 'extract_limit_values.py',\n",
       " 'Figure_1.png',\n",
       " 'fig_sonda_meb.png',\n",
       " 'libs',\n",
       " 'meb_136_3d_map_stats.json',\n",
       " 'meb_136_3d_uvelvvel_50m_reduced_20110101-20110131_teste.mp4',\n",
       " 'meb_136_3d_uvelvvel_50m_reduced_20110101-20110522_teste.mp4',\n",
       " 'Oiapoque_chuva_2025.xlsx',\n",
       " 'plot_area.py',\n",
       " 'plot_spd_drt_meq.py',\n",
       " 'saln_20100301-20100331.mp4',\n",
       " 'selected',\n",
       " 'selected_point',\n",
       " 'ssh.gif',\n",
       " 'ssh_20100101-20100131.gif',\n",
       " 'ssh_20100201-20100228.gif',\n",
       " 'tabela_Oiapoque_chuva.xlsx',\n",
       " 'temp_1000m_20100501-20100531.mp4',\n",
       " 'teste.ipynb',\n",
       " 'teste_chuva_horaria.png',\n",
       " 'teste_somatorio_horario.png',\n",
       " 'testing_dask_xarray.ipynb',\n",
       " 'work.yml']"
      ]
     },
     "execution_count": 110,
     "metadata": {},
     "output_type": "execute_result"
    }
   ],
   "source": [
    "# Listar o conteúdo de um caminho\n",
    "\n",
    "os.listdir()\n"
   ]
  },
  {
   "cell_type": "code",
   "execution_count": 54,
   "id": "012f96fa",
   "metadata": {},
   "outputs": [
    {
     "data": {
      "text/plain": [
       "'c:\\\\Users\\\\AIB4\\\\projetos\\\\python\\\\meq\\\\aprendendo_python.ipynb'"
      ]
     },
     "execution_count": 54,
     "metadata": {},
     "output_type": "execute_result"
    }
   ],
   "source": [
    "# Submódulo path para tratamento de caminho \n",
    "# (Há também o módulo pathlib)\n",
    "\n",
    "# Caminho relativo\n",
    "\n",
    "caminho_relativo = 'aprendendo_python.ipynb'\n",
    "\n",
    "os.path.abspath(caminho_relativo)\n",
    "\n",
    "# Caminho Absoluto\n",
    "\n",
    "# os.path.abspath('')"
   ]
  },
  {
   "cell_type": "code",
   "execution_count": null,
   "id": "a459119e",
   "metadata": {},
   "outputs": [
    {
     "name": "stdout",
     "output_type": "stream",
     "text": [
      "c:\\Users\\AIB4\\projetos\\python\\meq\\libs\n",
      "c:\\Users\\AIB4\\projetos\\python\\meq\n"
     ]
    }
   ],
   "source": [
    "# Mudança de caminho\n",
    "\n",
    "os.chdir('./libs') # Coringa \".\" significa a partir daqui\n",
    "\n",
    "print(os.getcwd())\n",
    "\n",
    "os.chdir('..') # Coringa \"..\" significa voltar um (anterior a partir daqui) \n",
    "\n",
    "print(os.getcwd())"
   ]
  },
  {
   "cell_type": "code",
   "execution_count": null,
   "id": "5d9b607b",
   "metadata": {},
   "outputs": [
    {
     "name": "stdout",
     "output_type": "stream",
     "text": [
      "12 é par\n"
     ]
    },
    {
     "data": {
      "text/plain": [
       "(0.5144, ['#0073e6', '#4d4dff', '#ff471a', '#39ac73', '#ffbf00'], None, True)"
      ]
     },
     "execution_count": 28,
     "metadata": {},
     "output_type": "execute_result"
    }
   ],
   "source": [
    "# Importar módulo (arquivo .py) em outro caminho\n",
    "\n",
    "os.chdir('./libs')\n",
    "\n",
    "import exemplo_modulo\n",
    "\n",
    "exemplo_modulo.knot2ms, exemplo_modulo.cores, exemplo_modulo.paridade(12), exemplo_modulo.primo(19)"
   ]
  },
  {
   "cell_type": "code",
   "execution_count": null,
   "id": "d8938c96",
   "metadata": {},
   "outputs": [
    {
     "data": {
      "text/plain": [
       "['#0073e6', '#4d4dff', '#ff471a', '#39ac73', '#ffbf00']"
      ]
     },
     "execution_count": 56,
     "metadata": {},
     "output_type": "execute_result"
    }
   ],
   "source": [
    "# Observe que a pasta libs está no mesmo caminho que nosso programa\n",
    "\n",
    "# Portanto podemos importar o módulo exemplo_módulo\n",
    "\n",
    "# importar módulo (arquivo .py)\n",
    "\n",
    "import libs.exemplo_modulo\n",
    "\n",
    "libs.exemplo_modulo.cores"
   ]
  },
  {
   "cell_type": "code",
   "execution_count": 29,
   "id": "7e0835c0",
   "metadata": {},
   "outputs": [
    {
     "data": {
      "text/plain": [
       "True"
      ]
     },
     "execution_count": 29,
     "metadata": {},
     "output_type": "execute_result"
    }
   ],
   "source": [
    "# Se um diretório/pasta existe\n",
    "\n",
    "os.path.exists(os.path.abspath('c:\\\\Users\\\\AIB4\\\\projetos\\\\python\\\\meq\\\\output'))"
   ]
  },
  {
   "cell_type": "code",
   "execution_count": null,
   "id": "d4e10a5a",
   "metadata": {},
   "outputs": [],
   "source": [
    "# Se um \"caminho\" não existe, criar:\n",
    "\n",
    "if not os.path.exists('output/'):\n",
    "\n",
    "    os.mkdir('output/') # no Windows, embora use \\\\, \"aceita\" o /\n"
   ]
  },
  {
   "cell_type": "markdown",
   "id": "8f48c5b1",
   "metadata": {},
   "source": [
    "> ### OBS: A biblioteca pathlib também lida com caminhos e tem outras praticidades\n",
    ">\n",
    "> ~~~ python\n",
    "> # Sintaxe:\n",
    "> from pathlib import Path\n",
    ">\n",
    "> fpath = Path('caminho/dados/')\n",
    ">\n",
    "> data = fpath / 'dados.txt'\n",
    ">\n",
    "> print(data.read_text())\n",
    "> ~~~\n",
    ">\n",
    "> <br/>"
   ]
  },
  {
   "cell_type": "markdown",
   "id": "74a66c85",
   "metadata": {},
   "source": [
    "> ### Biblioteca `glob`\n",
    ">\n",
    "> Listagem de arquivos a partir de um padrão\n",
    ">\n",
    "> <br>"
   ]
  },
  {
   "cell_type": "code",
   "execution_count": null,
   "id": "798b3464",
   "metadata": {},
   "outputs": [
    {
     "data": {
      "text/plain": [
       "['c:\\\\Users\\\\AIB4\\\\projetos\\\\python\\\\meq\\\\selected\\\\archvhc.2011_001.nc',\n",
       " 'c:\\\\Users\\\\AIB4\\\\projetos\\\\python\\\\meq\\\\selected\\\\archvhc.2011_002.nc',\n",
       " 'c:\\\\Users\\\\AIB4\\\\projetos\\\\python\\\\meq\\\\selected\\\\archvhc.2011_003.nc',\n",
       " 'c:\\\\Users\\\\AIB4\\\\projetos\\\\python\\\\meq\\\\selected\\\\archvhc.2011_004.nc',\n",
       " 'c:\\\\Users\\\\AIB4\\\\projetos\\\\python\\\\meq\\\\selected\\\\archvhc.2011_005.nc']"
      ]
     },
     "execution_count": 123,
     "metadata": {},
     "output_type": "execute_result"
    }
   ],
   "source": [
    "from glob import glob\n",
    "import os\n",
    "\n",
    "folder = 'selected/'\n",
    "\n",
    "path = os.path.abspath('') # = os.getcwd()\n",
    "\n",
    "fpath = os.path.join(path, folder)\n",
    "\n",
    "pattern = '*.nc'\n",
    "\n",
    "fnames = glob(os.path.join(fpath, pattern))\n",
    "\n",
    "fnames[:5]"
   ]
  },
  {
   "cell_type": "markdown",
   "id": "202b23d3",
   "metadata": {},
   "source": [
    "> ### Biblioteca `sys`\n",
    ">\n",
    "> \"Interagir\" com o Sistema Operacional\n",
    ">\n",
    "> <br>"
   ]
  },
  {
   "cell_type": "code",
   "execution_count": 30,
   "id": "2fc11dae",
   "metadata": {},
   "outputs": [
    {
     "data": {
      "text/plain": [
       "['c:\\\\Users\\\\AIB4\\\\AppData\\\\Local\\\\miniforge3\\\\envs\\\\work\\\\python310.zip',\n",
       " 'c:\\\\Users\\\\AIB4\\\\AppData\\\\Local\\\\miniforge3\\\\envs\\\\work\\\\DLLs',\n",
       " 'c:\\\\Users\\\\AIB4\\\\AppData\\\\Local\\\\miniforge3\\\\envs\\\\work\\\\lib',\n",
       " 'c:\\\\Users\\\\AIB4\\\\AppData\\\\Local\\\\miniforge3\\\\envs\\\\work',\n",
       " '',\n",
       " 'c:\\\\Users\\\\AIB4\\\\AppData\\\\Local\\\\miniforge3\\\\envs\\\\work\\\\lib\\\\site-packages',\n",
       " 'c:\\\\Users\\\\AIB4\\\\AppData\\\\Local\\\\miniforge3\\\\envs\\\\work\\\\lib\\\\site-packages\\\\win32',\n",
       " 'c:\\\\Users\\\\AIB4\\\\AppData\\\\Local\\\\miniforge3\\\\envs\\\\work\\\\lib\\\\site-packages\\\\win32\\\\lib',\n",
       " 'c:\\\\Users\\\\AIB4\\\\AppData\\\\Local\\\\miniforge3\\\\envs\\\\work\\\\lib\\\\site-packages\\\\Pythonwin']"
      ]
     },
     "execution_count": 30,
     "metadata": {},
     "output_type": "execute_result"
    }
   ],
   "source": [
    "import sys\n",
    "\n",
    "# Variável \"path\" do sistema\n",
    "\n",
    "sys.path"
   ]
  },
  {
   "cell_type": "code",
   "execution_count": 31,
   "id": "dc392644",
   "metadata": {},
   "outputs": [
    {
     "data": {
      "text/plain": [
       "['c:\\\\Users\\\\AIB4\\\\projetos\\\\python\\\\meq\\\\libs\\\\libs',\n",
       " 'c:\\\\Users\\\\AIB4\\\\AppData\\\\Local\\\\miniforge3\\\\envs\\\\work\\\\python310.zip',\n",
       " 'c:\\\\Users\\\\AIB4\\\\AppData\\\\Local\\\\miniforge3\\\\envs\\\\work\\\\DLLs',\n",
       " 'c:\\\\Users\\\\AIB4\\\\AppData\\\\Local\\\\miniforge3\\\\envs\\\\work\\\\lib',\n",
       " 'c:\\\\Users\\\\AIB4\\\\AppData\\\\Local\\\\miniforge3\\\\envs\\\\work',\n",
       " '',\n",
       " 'c:\\\\Users\\\\AIB4\\\\AppData\\\\Local\\\\miniforge3\\\\envs\\\\work\\\\lib\\\\site-packages',\n",
       " 'c:\\\\Users\\\\AIB4\\\\AppData\\\\Local\\\\miniforge3\\\\envs\\\\work\\\\lib\\\\site-packages\\\\win32',\n",
       " 'c:\\\\Users\\\\AIB4\\\\AppData\\\\Local\\\\miniforge3\\\\envs\\\\work\\\\lib\\\\site-packages\\\\win32\\\\lib',\n",
       " 'c:\\\\Users\\\\AIB4\\\\AppData\\\\Local\\\\miniforge3\\\\envs\\\\work\\\\lib\\\\site-packages\\\\Pythonwin']"
      ]
     },
     "execution_count": 31,
     "metadata": {},
     "output_type": "execute_result"
    }
   ],
   "source": [
    "# Incluir um caminho no path\n",
    "\n",
    "# Python ou interpretador Python tem que saber para onde olhar / procurar\n",
    "\n",
    "sys.path.insert(0, os.path.join(os.getcwd(), 'libs'))\n",
    "\n",
    "sys.path"
   ]
  },
  {
   "cell_type": "code",
   "execution_count": 32,
   "id": "e4a190c2",
   "metadata": {},
   "outputs": [
    {
     "data": {
      "text/plain": [
       "('c:\\\\Users\\\\AIB4\\\\projetos\\\\python\\\\meq\\\\libs',\n",
       " 'c:\\\\Users\\\\AIB4\\\\projetos\\\\python\\\\meq\\\\libs')"
      ]
     },
     "execution_count": 32,
     "metadata": {},
     "output_type": "execute_result"
    }
   ],
   "source": [
    "os.getcwd(), os.path.abspath('')"
   ]
  },
  {
   "cell_type": "code",
   "execution_count": null,
   "id": "b435c438",
   "metadata": {},
   "outputs": [
    {
     "name": "stdout",
     "output_type": "stream",
     "text": [
      "c:\\Users\\AIB4\\projetos\\python\\meq\n",
      "\n",
      "c:\\Users\\AIB4\\projetos\\python\\meq\\libs\\libs\n",
      "c:\\Users\\AIB4\\AppData\\Local\\miniforge3\\envs\\work\\python310.zip\n",
      "c:\\Users\\AIB4\\AppData\\Local\\miniforge3\\envs\\work\\DLLs\n",
      "c:\\Users\\AIB4\\AppData\\Local\\miniforge3\\envs\\work\\lib\n",
      "c:\\Users\\AIB4\\AppData\\Local\\miniforge3\\envs\\work\n",
      "c:\\Users\\AIB4\\AppData\\Local\\miniforge3\\envs\\work\\lib\\site-packages\n",
      "c:\\Users\\AIB4\\AppData\\Local\\miniforge3\\envs\\work\\lib\\site-packages\\win32\n",
      "c:\\Users\\AIB4\\AppData\\Local\\miniforge3\\envs\\work\\lib\\site-packages\\win32\\lib\n",
      "c:\\Users\\AIB4\\AppData\\Local\\miniforge3\\envs\\work\\lib\\site-packages\\Pythonwin\n"
     ]
    },
    {
     "data": {
      "text/plain": [
       "(['#0073e6', '#4d4dff', '#ff471a', '#39ac73', '#ffbf00'], True)"
      ]
     },
     "execution_count": 45,
     "metadata": {},
     "output_type": "execute_result"
    }
   ],
   "source": [
    "# Incluindo um caminho no path podemos importar um módulo/funções\n",
    "\n",
    "'''\n",
    "Por exemplo, na pasta \"lib\" tem o arquivo \"exemplo_modulo.py\"\n",
    "\n",
    "que contém atributos e métodos. Vamos importá-lo, após inserir esse caminho no\n",
    "\n",
    "path, sem precisar ir até o arquivo.\n",
    "'''\n",
    "\n",
    "# Primeiro verificando o caminho: Windows \\\\\n",
    "#                                 Outros OS /  \n",
    "if os.getcwd() == 'c:\\\\Users\\\\AIB4\\\\projetos\\\\python\\\\meq\\\\libs':\n",
    "\n",
    "    os.chdir('..')\n",
    "\n",
    "# Verificar caminho corrente\n",
    "\n",
    "print(os.getcwd(), end='\\n\\n')\n",
    "\n",
    "# Verificar path\n",
    "\n",
    "for spath in sys.path:\n",
    "\n",
    "    if spath: # tem uma linha vazia ''\n",
    "\n",
    "        print(spath)\n",
    "\n",
    "\n",
    "import exemplo_modulo as modulo\n",
    "\n",
    "\n",
    "modulo.cores, modulo.primo(11)\n"
   ]
  },
  {
   "cell_type": "markdown",
   "id": "d59165ff",
   "metadata": {},
   "source": [
    "> ### Biblioteca `zlib`\n",
    ">\n",
    "> Comprimir / Descomprimir arquivos\n",
    ">\n",
    "> <br>"
   ]
  },
  {
   "cell_type": "code",
   "execution_count": null,
   "id": "dad58f53",
   "metadata": {},
   "outputs": [
    {
     "name": "stdout",
     "output_type": "stream",
     "text": [
      "b'acentua\\xc3\\xa7\\xc3\\xa3o' b'acentua\\xe7\\xe3o'\n"
     ]
    },
    {
     "data": {
      "text/plain": [
       "(b'x\\x9cKLN\\xcd+)M<\\xbc\\xfc\\xf0\\xe2|\\x00$+\\x06!',\n",
       " b'x\\x9cKLN\\xcd+)M|\\xfe8\\x1f\\x00\\x18\\xe8\\x05\\x1b')"
      ]
     },
     "execution_count": 309,
     "metadata": {},
     "output_type": "execute_result"
    }
   ],
   "source": [
    "import zlib\n",
    "\n",
    "# OBS: Codificação Caracteres - Tabelas\n",
    "# Como cada caractere é escrito (número de bytes)\n",
    "\n",
    "data1 = 'acentuação'.encode('utf-8')      #       2 bytes\n",
    "data2 = 'acentuação'.encode('iso-8859-1') # ANSI: 1 byte\n",
    "\n",
    "print(data1, data2)\n",
    "\n",
    "compressed1 = zlib.compress(data1)\n",
    "compressed2 = zlib.compress(data2)\n",
    "\n",
    "compressed1, compressed2\n"
   ]
  },
  {
   "cell_type": "code",
   "execution_count": null,
   "id": "113c5607",
   "metadata": {},
   "outputs": [
    {
     "data": {
      "text/plain": [
       "('acentuação', 'acentuação')"
      ]
     },
     "execution_count": 159,
     "metadata": {},
     "output_type": "execute_result"
    }
   ],
   "source": [
    "zlib.decompress(compressed1).decode(), \\\n",
    "    zlib.decompress(compressed2).decode('iso-8859-1')\n",
    "\n",
    "# 'utf8' é padrão"
   ]
  },
  {
   "cell_type": "markdown",
   "id": "646e64f6",
   "metadata": {},
   "source": [
    "> ## `Namespaces`\n",
    ">\n",
    "> Nomes simbólicos / Mapeamento de objetos em memória (faz referência a objetos)\n",
    ">\n",
    "> Existem enquanto o interpretador Python estiver ativo\n",
    ">\n",
    "> 4 tipos:\n",
    "> \n",
    "> - \\_\\_bultiins__ nomes de todos os objetos internos do Python\n",
    ">\n",
    "> - \\_\\_globals__\n",
    ">\n",
    "> - \\_\\_locals__\n",
    ">\n",
    "> - \\_\\_nonlocals__\n",
    ">\n",
    "> Aparece no The Zen of Python :\n",
    ">\n",
    "> Namespaces são uma ótima ideia — vamos fazer mais disso!\n",
    "> — Tim Peters\n",
    ">\n",
    "> <br>\n",
    ">\n",
    "> ### Função embutida `dir`\n",
    ">\n",
    "> Lista variáveis / objetos no escopo do interpretador\n",
    ">\n",
    "> <br>"
   ]
  },
  {
   "cell_type": "code",
   "execution_count": null,
   "id": "d7106dd9",
   "metadata": {},
   "outputs": [
    {
     "data": {
      "text/plain": [
       "['In',\n",
       " 'Out',\n",
       " '_',\n",
       " '__',\n",
       " '___',\n",
       " '__builtin__',\n",
       " '__builtins__',\n",
       " '__doc__',\n",
       " '__loader__',\n",
       " '__name__',\n",
       " '__package__',\n",
       " '__spec__',\n",
       " '__vsc_ipynb_file__',\n",
       " '_dh',\n",
       " '_i',\n",
       " '_i1',\n",
       " '_i2',\n",
       " '_i3',\n",
       " '_ih',\n",
       " '_ii',\n",
       " '_iii',\n",
       " '_oh',\n",
       " 'a',\n",
       " 'exit',\n",
       " 'get_ipython',\n",
       " 'open',\n",
       " 'quit']"
      ]
     },
     "execution_count": 3,
     "metadata": {},
     "output_type": "execute_result"
    }
   ],
   "source": [
    "# antes faça restart do kernel\n",
    "\n",
    "dir()\n"
   ]
  },
  {
   "cell_type": "code",
   "execution_count": 6,
   "id": "efaf9957",
   "metadata": {},
   "outputs": [
    {
     "data": {
      "text/plain": [
       "['In',\n",
       " 'Out',\n",
       " '_',\n",
       " '_3',\n",
       " '_5',\n",
       " '__',\n",
       " '___',\n",
       " '__builtin__',\n",
       " '__builtins__',\n",
       " '__doc__',\n",
       " '__loader__',\n",
       " '__name__',\n",
       " '__package__',\n",
       " '__spec__',\n",
       " '__vsc_ipynb_file__',\n",
       " '_dh',\n",
       " '_i',\n",
       " '_i1',\n",
       " '_i2',\n",
       " '_i3',\n",
       " '_i4',\n",
       " '_i5',\n",
       " '_i6',\n",
       " '_ih',\n",
       " '_ii',\n",
       " '_iii',\n",
       " '_oh',\n",
       " 'a',\n",
       " 'exit',\n",
       " 'get_ipython',\n",
       " 'open',\n",
       " 'quit',\n",
       " 'uma_variavel']"
      ]
     },
     "execution_count": 6,
     "metadata": {},
     "output_type": "execute_result"
    }
   ],
   "source": [
    "uma_variavel = 42\n",
    "\n",
    "dir()"
   ]
  },
  {
   "cell_type": "code",
   "execution_count": null,
   "id": "6161a59a",
   "metadata": {},
   "outputs": [
    {
     "data": {
      "text/plain": [
       "['ArithmeticError',\n",
       " 'AssertionError',\n",
       " 'AttributeError',\n",
       " 'BaseException',\n",
       " 'BlockingIOError',\n",
       " 'BrokenPipeError',\n",
       " 'BufferError',\n",
       " 'BytesWarning',\n",
       " 'ChildProcessError',\n",
       " 'ConnectionAbortedError',\n",
       " 'ConnectionError',\n",
       " 'ConnectionRefusedError',\n",
       " 'ConnectionResetError',\n",
       " 'DeprecationWarning',\n",
       " 'EOFError',\n",
       " 'Ellipsis',\n",
       " 'EncodingWarning',\n",
       " 'EnvironmentError',\n",
       " 'Exception',\n",
       " 'False',\n",
       " 'FileExistsError',\n",
       " 'FileNotFoundError',\n",
       " 'FloatingPointError',\n",
       " 'FutureWarning',\n",
       " 'GeneratorExit',\n",
       " 'IOError',\n",
       " 'ImportError',\n",
       " 'ImportWarning',\n",
       " 'IndentationError',\n",
       " 'IndexError',\n",
       " 'InterruptedError',\n",
       " 'IsADirectoryError',\n",
       " 'KeyError',\n",
       " 'KeyboardInterrupt',\n",
       " 'LookupError',\n",
       " 'MemoryError',\n",
       " 'ModuleNotFoundError',\n",
       " 'NameError',\n",
       " 'None',\n",
       " 'NotADirectoryError',\n",
       " 'NotImplemented',\n",
       " 'NotImplementedError',\n",
       " 'OSError',\n",
       " 'OverflowError',\n",
       " 'PendingDeprecationWarning',\n",
       " 'PermissionError',\n",
       " 'ProcessLookupError',\n",
       " 'RecursionError',\n",
       " 'ReferenceError',\n",
       " 'ResourceWarning',\n",
       " 'RuntimeError',\n",
       " 'RuntimeWarning',\n",
       " 'StopAsyncIteration',\n",
       " 'StopIteration',\n",
       " 'SyntaxError',\n",
       " 'SyntaxWarning',\n",
       " 'SystemError',\n",
       " 'SystemExit',\n",
       " 'TabError',\n",
       " 'TimeoutError',\n",
       " 'True',\n",
       " 'TypeError',\n",
       " 'UnboundLocalError',\n",
       " 'UnicodeDecodeError',\n",
       " 'UnicodeEncodeError',\n",
       " 'UnicodeError',\n",
       " 'UnicodeTranslateError',\n",
       " 'UnicodeWarning',\n",
       " 'UserWarning',\n",
       " 'ValueError',\n",
       " 'Warning',\n",
       " 'WindowsError',\n",
       " 'ZeroDivisionError',\n",
       " '__IPYTHON__',\n",
       " '__build_class__',\n",
       " '__debug__',\n",
       " '__doc__',\n",
       " '__import__',\n",
       " '__loader__',\n",
       " '__name__',\n",
       " '__package__',\n",
       " '__spec__',\n",
       " 'abs',\n",
       " 'aiter',\n",
       " 'all',\n",
       " 'anext',\n",
       " 'any',\n",
       " 'ascii',\n",
       " 'bin',\n",
       " 'bool',\n",
       " 'breakpoint',\n",
       " 'bytearray',\n",
       " 'bytes',\n",
       " 'callable',\n",
       " 'chr',\n",
       " 'classmethod',\n",
       " 'compile',\n",
       " 'complex',\n",
       " 'copyright',\n",
       " 'credits',\n",
       " 'delattr',\n",
       " 'dict',\n",
       " 'dir',\n",
       " 'display',\n",
       " 'divmod',\n",
       " 'enumerate',\n",
       " 'eval',\n",
       " 'exec',\n",
       " 'execfile',\n",
       " 'filter',\n",
       " 'float',\n",
       " 'format',\n",
       " 'frozenset',\n",
       " 'get_ipython',\n",
       " 'getattr',\n",
       " 'globals',\n",
       " 'hasattr',\n",
       " 'hash',\n",
       " 'help',\n",
       " 'hex',\n",
       " 'id',\n",
       " 'input',\n",
       " 'int',\n",
       " 'isinstance',\n",
       " 'issubclass',\n",
       " 'iter',\n",
       " 'len',\n",
       " 'license',\n",
       " 'list',\n",
       " 'locals',\n",
       " 'map',\n",
       " 'max',\n",
       " 'memoryview',\n",
       " 'min',\n",
       " 'next',\n",
       " 'object',\n",
       " 'oct',\n",
       " 'open',\n",
       " 'ord',\n",
       " 'pow',\n",
       " 'print',\n",
       " 'property',\n",
       " 'range',\n",
       " 'repr',\n",
       " 'reversed',\n",
       " 'round',\n",
       " 'runfile',\n",
       " 'set',\n",
       " 'setattr',\n",
       " 'slice',\n",
       " 'sorted',\n",
       " 'staticmethod',\n",
       " 'str',\n",
       " 'sum',\n",
       " 'super',\n",
       " 'tuple',\n",
       " 'type',\n",
       " 'vars',\n",
       " 'zip']"
      ]
     },
     "execution_count": 5,
     "metadata": {},
     "output_type": "execute_result"
    }
   ],
   "source": [
    "# __builtins__: namespace interno que contém os nomes de todos os objetos internos do Python\n",
    "\n",
    "dir(__builtins__)\n"
   ]
  },
  {
   "cell_type": "code",
   "execution_count": 21,
   "id": "76a8daf8",
   "metadata": {},
   "outputs": [
    {
     "name": "stdout",
     "output_type": "stream",
     "text": [
      "['x', 'y', 'z']\n",
      "In\n",
      "Out\n",
      "_\n",
      "_19\n",
      "_3\n",
      "_5\n",
      "_6\n",
      "__\n",
      "___\n",
      "__builtin__\n",
      "__builtins__\n",
      "__doc__\n",
      "__loader__\n",
      "__name__\n",
      "__package__\n",
      "__spec__\n",
      "__vsc_ipynb_file__\n",
      "_dh\n",
      "_i\n",
      "_i1\n",
      "_i10\n",
      "_i11\n",
      "_i12\n",
      "_i13\n",
      "_i14\n",
      "_i15\n",
      "_i16\n",
      "_i17\n",
      "_i18\n",
      "_i19\n",
      "_i2\n",
      "_i20\n",
      "_i21\n",
      "_i3\n",
      "_i4\n",
      "_i5\n",
      "_i6\n",
      "_i7\n",
      "_i8\n",
      "_i9\n",
      "_ih\n",
      "_ii\n",
      "_iii\n",
      "_oh\n",
      "a\n",
      "d\n",
      "exit\n",
      "get_ipython\n",
      "myfunc\n",
      "open\n",
      "quit\n",
      "result\n",
      "uma_variavel\n"
     ]
    }
   ],
   "source": [
    "# namespace local\n",
    "\n",
    "def myfunc(z):\n",
    "    x, y = 1, 2\n",
    "    print(dir())\n",
    "    return (x + y) * z\n",
    "\n",
    "\n",
    "result = myfunc(2)\n",
    "\n",
    "for d in dir():\n",
    "    \n",
    "    if not d.startswith('_') or not d.startswith('[A-Z]'):\n",
    "        \n",
    "        print(d)\n",
    "\n"
   ]
  },
  {
   "cell_type": "code",
   "execution_count": 3,
   "id": "0307b583",
   "metadata": {},
   "outputs": [
    {
     "data": {
      "text/plain": [
       "['__add__',\n",
       " '__class__',\n",
       " '__contains__',\n",
       " '__delattr__',\n",
       " '__dir__',\n",
       " '__doc__',\n",
       " '__eq__',\n",
       " '__format__',\n",
       " '__ge__',\n",
       " '__getattribute__',\n",
       " '__getitem__',\n",
       " '__getnewargs__',\n",
       " '__gt__',\n",
       " '__hash__',\n",
       " '__init__',\n",
       " '__init_subclass__',\n",
       " '__iter__',\n",
       " '__le__',\n",
       " '__len__',\n",
       " '__lt__',\n",
       " '__mod__',\n",
       " '__mul__',\n",
       " '__ne__',\n",
       " '__new__',\n",
       " '__reduce__',\n",
       " '__reduce_ex__',\n",
       " '__repr__',\n",
       " '__rmod__',\n",
       " '__rmul__',\n",
       " '__setattr__',\n",
       " '__sizeof__',\n",
       " '__str__',\n",
       " '__subclasshook__',\n",
       " 'capitalize',\n",
       " 'casefold',\n",
       " 'center',\n",
       " 'count',\n",
       " 'encode',\n",
       " 'endswith',\n",
       " 'expandtabs',\n",
       " 'find',\n",
       " 'format',\n",
       " 'format_map',\n",
       " 'index',\n",
       " 'isalnum',\n",
       " 'isalpha',\n",
       " 'isascii',\n",
       " 'isdecimal',\n",
       " 'isdigit',\n",
       " 'isidentifier',\n",
       " 'islower',\n",
       " 'isnumeric',\n",
       " 'isprintable',\n",
       " 'isspace',\n",
       " 'istitle',\n",
       " 'isupper',\n",
       " 'join',\n",
       " 'ljust',\n",
       " 'lower',\n",
       " 'lstrip',\n",
       " 'maketrans',\n",
       " 'partition',\n",
       " 'removeprefix',\n",
       " 'removesuffix',\n",
       " 'replace',\n",
       " 'rfind',\n",
       " 'rindex',\n",
       " 'rjust',\n",
       " 'rpartition',\n",
       " 'rsplit',\n",
       " 'rstrip',\n",
       " 'split',\n",
       " 'splitlines',\n",
       " 'startswith',\n",
       " 'strip',\n",
       " 'swapcase',\n",
       " 'title',\n",
       " 'translate',\n",
       " 'upper',\n",
       " 'zfill']"
      ]
     },
     "execution_count": 3,
     "metadata": {},
     "output_type": "execute_result"
    }
   ],
   "source": [
    "\n",
    "dir(__name__)"
   ]
  },
  {
   "cell_type": "markdown",
   "id": "0ccf9158",
   "metadata": {},
   "source": [
    "> ## Módulo e _script_ \n",
    ">\n",
    "> ~~~python\n",
    "> if __name__ == '__main__':\n",
    ">\n",
    ">    <bloco identado>\n",
    "> ~~~\n",
    ">\n",
    "> ***\n",
    "> Onde:\n",
    ">\n",
    "> ~~~python\n",
    "> __name__ é o nome de um programa quando está sendo executado\n",
    ">\n",
    "> '__main__' é o nome do programa principal\n",
    "> ~~~\n",
    ">\n",
    "> <br>"
   ]
  },
  {
   "cell_type": "markdown",
   "id": "06b3ea4c",
   "metadata": {},
   "source": [
    "> ## __Arquivos__\n",
    ">\n",
    "> #### Sequência de *bytes* armazenada em memória secundária (dados não-voláteis)\n",
    ">\n",
    "> Ex.: *.txt*, *.html*, *.py*\n",
    ">\n",
    "> <br>\n",
    ">\n",
    "> ### Função embutida `open`\n",
    ">\n",
    "> Abertura de arquivo para leitura ou escrita\n",
    ">\n",
    "> ~~~python\n",
    "> # Sintaxe:\n",
    ">\n",
    "> f = open(<'nome_arquivo.formato'>, <'mode'>) # parâmetros mais usados\n",
    "> ~~~\n",
    ">\n",
    "> ***\n",
    "> Onde:\n",
    ">\n",
    "> ~~~python\n",
    "> <nome_arquivo> é o nome do arquivo e, se o caminho absoluto ou relativo não forem passados, o arquivo é salvo no caminho corrente (localmente)\n",
    "> ~~~\n",
    ">\n",
    "> ~~~python\n",
    "> <mode> é o modo como o arquivo é aberto\n",
    "> ~~~\n",
    "> \n",
    "> - 'r' - leitura\n",
    ">\n",
    "> - 'w' - escrita\n",
    "> \n",
    ">\n",
    "> <br>"
   ]
  },
  {
   "cell_type": "code",
   "execution_count": null,
   "id": "f8cf01bc",
   "metadata": {},
   "outputs": [
    {
     "data": {
      "text/plain": [
       "True"
      ]
     },
     "execution_count": 135,
     "metadata": {},
     "output_type": "execute_result"
    }
   ],
   "source": [
    "# Abrir arquivo para escrita\n",
    "\n",
    "f = open('escrevendo_arquivo.txt', 'w')\n",
    "\n",
    "# Método write - escrever no arquivo\n",
    "\n",
    "f.write('Escrevendo Arquivo Texto\\n')\n",
    "\n",
    "# \\n caractere de quebra de linha (line feed), OBS:\n",
    "# \"universal\" entre sistemas operacionais\n",
    "\n",
    "# Windows: quebra de linha \\r\\n e \\n\n",
    "\n",
    "f.write('É necessário indicar a mudança de linha\\n')\n",
    "\n",
    "f.write(\n",
    "    'Método write recebe strings\\n' \\\n",
    "    'Então se for usado um valor a partir de uma variável\\n' \\\n",
    "    'É preciso fazer uma composição\\n')\n",
    "\n",
    "xx = 25.5\n",
    "\n",
    "f.write(f'Por exemplo, pode-se usar uma f-string {xx}\\n')\n",
    "\n",
    "f.write(\n",
    "    'Se o arquivo não for fechado após o término da escrita:\\n' \\\n",
    "    'Informações podem ser perdidas')\n",
    "\n",
    "f.close()\n",
    "\n",
    "f.closed # depois de fechado o objeto continua"
   ]
  },
  {
   "cell_type": "code",
   "execution_count": 6,
   "id": "b9a9cff2",
   "metadata": {},
   "outputs": [
    {
     "name": "stdout",
     "output_type": "stream",
     "text": [
      "Imprimindo \"content\" lido com .read()\n",
      "\n",
      "Escrevendo Novo Arquivo Texto\n",
      "DataHora: 02/05/2025 17:29:18\n",
      "É necessário indicar a mudança de linha\n",
      "Método write recebe strings\n",
      "Então se for usado um valor a partir de uma variável\n",
      "É preciso fazer uma composição\n",
      "Por exemplo, pode-se usar uma f-string 52.5\n",
      "Se o arquivo não for fechado após o término da escrita:\n",
      "Informações podem ser perdidas \n",
      "\n",
      "\n",
      "Imprimindo \"lines\" lido com .readlines()\n",
      "\n",
      "['Escrevendo Novo Arquivo Texto\\n', 'DataHora: 02/05/2025 17:29:18\\n', 'É necessário indicar a mudança de linha\\n', 'Método write recebe strings\\n', 'Então se for usado um valor a partir de uma variável\\n', 'É preciso fazer uma composição\\n', 'Por exemplo, pode-se usar uma f-string 52.5\\n', 'Se o arquivo não for fechado após o término da escrita:\\n', 'Informações podem ser perdidas'] \n",
      "\n",
      "\n",
      "Iterando linha por linha e selecionando conforme interesse:\n",
      "\n",
      "Escrevendo Novo Arquivo Texto\n",
      " 52.5\n"
     ]
    }
   ],
   "source": [
    "# Leitura do arquivo\n",
    "\n",
    "f = open('escrevendo_arquivo.txt', 'r') # default: mode='r'\n",
    "\n",
    "# Leitura do conteúdo todo\n",
    "\n",
    "content = f.read()\n",
    "\n",
    "# Voltar cursor para início\n",
    "\n",
    "f.seek(0)\n",
    "\n",
    "# Leitura das linhas\n",
    "\n",
    "lines = f.readlines()\n",
    "\n",
    "print('Imprimindo \"content\" lido com .read()\\n')\n",
    "print(content, '\\n\\n') # content é uma string\n",
    "\n",
    "print('Imprimindo \"lines\" lido com .readlines()\\n')\n",
    "print(lines, '\\n\\n') # lines é uma lista\n",
    "\n",
    "f.seek(0)\n",
    "\n",
    "# Iterar linha por linha\n",
    "\n",
    "print('Iterando linha por linha e selecionando conforme interesse:\\n')\n",
    "for line in f:\n",
    "\n",
    "\tif line.startswith('Escrevendo'):\n",
    "\n",
    "\t\tcabecalho = line\n",
    "\n",
    "\tif line.startswith('Por exemplo,'):\n",
    "\n",
    "\t\tvalor = float(line.split()[-1])\n",
    "\n",
    "print(cabecalho, valor)\n",
    "\n"
   ]
  },
  {
   "cell_type": "code",
   "execution_count": null,
   "id": "df1366f2",
   "metadata": {},
   "outputs": [],
   "source": [
    "# Conteúdo de arquivo em lista\n",
    "\n",
    "from datetime import datetime\n",
    "\n",
    "xx = 52.5\n",
    "\n",
    "lines = ['Escrevendo Novo Arquivo Texto\\n',\n",
    "         f'DataHora: {datetime.now().strftime(\"%d/%m/%Y %H:%M:%S\")}\\n',\n",
    "         'É necessário indicar a mudança de linha\\n',\n",
    "         'Método write recebe strings\\n',\n",
    "         '',\n",
    "         '',\n",
    "         'Então se for usado um valor a partir de uma variável\\n',\n",
    "         'É preciso fazer uma composição\\n',\n",
    "         f'Por exemplo, pode-se usar uma f-string {xx}\\n',\n",
    "         'Se o arquivo não for fechado após o término da escrita:\\n',\n",
    "         'Informações podem ser perdidas']\n",
    "\n",
    "# Método writelines - escrever diversas linhas em uma operação\n",
    "\n",
    "f = open('escrevendo_arquivo.txt', 'w')\n",
    "\n",
    "# Note que abrimos um objeto referenciando ao mesmo arquivo anterior\n",
    "# Portanto sobreescreve o arquivo (CUIDADO PARA NÃO PERDER DADOS!)\n",
    "\n",
    "if False:\n",
    "\n",
    "    for line in lines:\n",
    "\n",
    "        f.write(line)\n",
    "\n",
    "        f.close()\n",
    "\n",
    "f.writelines(lines) # Recebe um iterável, lista ou tupla, mas só string como no\n",
    "# .write() (no fundo ele usa o método write)\n",
    "\n",
    "f.close()\n",
    "\n"
   ]
  },
  {
   "cell_type": "code",
   "execution_count": null,
   "id": "17524e30",
   "metadata": {},
   "outputs": [],
   "source": [
    "# Tratamento de Erros\n",
    "\n",
    "f = open('escrevendo_arquivo.txt', 'r')\n",
    "\n",
    "try:\n",
    "\n",
    "    content = f.read()\n",
    "\n",
    "    print(content)\n",
    "\n",
    "finally:\n",
    "\n",
    "    f.close()\n"
   ]
  },
  {
   "cell_type": "markdown",
   "id": "d8e388f6",
   "metadata": {},
   "source": [
    "> ### Comando `with` (palavra reservada)\n",
    ">\n",
    "> Cria um escopo (contexto / trecho identado de código)\n",
    ">\n",
    "> <br>"
   ]
  },
  {
   "cell_type": "code",
   "execution_count": null,
   "id": "667c816c",
   "metadata": {},
   "outputs": [
    {
     "name": "stdout",
     "output_type": "stream",
     "text": [
      "<class '_io.TextIOWrapper'>\n",
      "***********************\n",
      "Escrevendo Novo Arquivo Texto\n",
      "DataHora: 02/05/2025 17:29:18\n",
      "É necessário indicar a mudança de linha\n",
      "Método write recebe strings\n",
      "Então se for usado um valor a partir de uma variável\n",
      "É preciso fazer uma composição\n",
      "Por exemplo, pode-se usar uma f-string 52.5\n",
      "Se o arquivo não for fechado após o término da escrita:\n",
      "Informações podem ser perdidas\n",
      "***********************\n",
      "Escrevendo Novo Arquivo Texto\n",
      " 52.5\n"
     ]
    },
    {
     "data": {
      "text/plain": [
       "True"
      ]
     },
     "execution_count": 305,
     "metadata": {},
     "output_type": "execute_result"
    }
   ],
   "source": [
    "# Similar a estrutura de tratamento de erros acima\n",
    "\n",
    "with open('escrevendo_arquivo.txt', 'r') as f:\n",
    "\n",
    "    print(type(f)) # Classe \"tipo arquivo\"\n",
    "\n",
    "    print('***********************')\n",
    "\n",
    "    for line in f: # podemos iterar sobre esse objeto\n",
    "\n",
    "        print(line.rstrip()) # arquivos texto tem \\n no final da linha\n",
    "\n",
    "        if not line: # linha vazia\n",
    "\n",
    "            continue # havendo processamneto grande -> mais eficiente\n",
    "\n",
    "        if line.startswith('Escrevendo'):\n",
    "\n",
    "            cabecalho = line\n",
    "\n",
    "        if line.startswith('Por exemplo,'):\n",
    "\n",
    "            valor = float(line.split()[-1])\n",
    "\n",
    "print('***********************')\n",
    "\n",
    "print(cabecalho, valor)\n",
    "\n",
    "f.closed # arquivo fecha automaticamente com o fim do escopo\n"
   ]
  },
  {
   "cell_type": "markdown",
   "id": "90a7fd54",
   "metadata": {},
   "source": [
    "> ### Biblioteca `re`\n",
    ">\n",
    "> Expressões Regulares: Busca por padrões\n",
    ">\n",
    "> <br>"
   ]
  },
  {
   "cell_type": "code",
   "execution_count": null,
   "id": "f00478da",
   "metadata": {},
   "outputs": [
    {
     "name": "stdout",
     "output_type": "stream",
     "text": [
      "Escrevendo Novo Arquivo Texto\n",
      " 02/05/2025 17:29:18\n",
      " 52.5\n",
      " É preciso fazer uma composição\n",
      " Informações podem ser perdidas\n"
     ]
    }
   ],
   "source": [
    "# Expressões regulares\n",
    "\n",
    "import re\n",
    "\n",
    "\n",
    "with open('escrevendo_arquivo.txt', 'r') as f:\n",
    "\n",
    "    for line in f:\n",
    "\n",
    "        if re.match('Escrevendo\\w+Texto', line):\n",
    "\n",
    "            cabecalho = line\n",
    "\n",
    "        if line.startswith('DataHora'):\n",
    "\n",
    "            regex = re.compile(\n",
    "                '[\\w]+:\\s((\\d{2}\\/){2}\\d{4}\\s(\\d{2}\\:){2}\\d{2})')\n",
    "\n",
    "            data = regex.search(line).group(1)\n",
    "\n",
    "            data += '\\n'\n",
    "\n",
    "        if re.search(r'\\d+.\\d', line):\n",
    "\n",
    "            valor = re.search('\\d+.\\d', line).group()\n",
    "\n",
    "            valor += '\\n'\n",
    "\n",
    "        if re.match('^É([\\s\\w]+)composição$', line):\n",
    "\n",
    "            outra_linha = line\n",
    "\n",
    "        if re.match('Informa[çc][õo]es.+', line, flags=re.IGNORECASE):\n",
    "\n",
    "            ultima = line\n",
    "\n",
    "        else:\n",
    "\n",
    "            pass\n",
    "\n",
    "print(cabecalho, data, valor, outra_linha, ultima)\n"
   ]
  },
  {
   "cell_type": "markdown",
   "id": "4af8e080",
   "metadata": {},
   "source": [
    "> # Daqui para baixo, ainda precisa ser trabalhado."
   ]
  },
  {
   "cell_type": "markdown",
   "id": "878ca6ed",
   "metadata": {},
   "source": [
    "> ## `Generators` &thinsp; &rarr; &thinsp; `yield` (palavra reservada)\n",
    ">\n",
    "> Funções Geradoras - são objetos iteráveis que permanecem em memória mantendo o estado interno, assim seu retorno ocorre quando requisitado\n",
    ">\n",
    "> Uso: limitação / questões de memória\n",
    ">\n",
    "> ~~~python\n",
    "> # Sintaxe\n",
    ">\n",
    "> def func():\n",
    ">\n",
    ">   <bloco identado>\n",
    ">\n",
    ">   yield <valor>\n",
    "> ~~~\n",
    "> \n",
    "> ***\n",
    "> Onde:\n",
    ">\n",
    "> ~~~python\n",
    "> yield\n",
    "> ~~~\n",
    "> \n",
    "> <br>"
   ]
  },
  {
   "cell_type": "code",
   "execution_count": 96,
   "id": "663e5ac2",
   "metadata": {},
   "outputs": [
    {
     "name": "stdout",
     "output_type": "stream",
     "text": [
      "<class 'function'> <class 'generator'>\n",
      "1\n",
      "2\n",
      "3\n"
     ]
    }
   ],
   "source": [
    "def geradora():\n",
    "\n",
    "    yield 1\n",
    "    yield 2\n",
    "    yield 3\n",
    "\n",
    "g = geradora()\n",
    "\n",
    "print(type(geradora), type(g))\n",
    "\n",
    "                # Mesma coisa que:\n",
    "for x in g:     # for x in geradora():\n",
    "    \n",
    "    print(x)\n"
   ]
  },
  {
   "cell_type": "markdown",
   "id": "25ed4ebb",
   "metadata": {},
   "source": [
    "> ## *`Generator Expressions`*\n",
    ">\n",
    "> ~~~python\n",
    "> # Sintaxe:\n",
    "> \n",
    "> (item for item in items)\n",
    ">\n",
    "> ~~~\n",
    ">\n",
    "> <br>"
   ]
  },
  {
   "cell_type": "code",
   "execution_count": 26,
   "id": "fad88eaf",
   "metadata": {},
   "outputs": [
    {
     "data": {
      "text/plain": [
       "(generator, [10, 20, 30])"
      ]
     },
     "execution_count": 26,
     "metadata": {},
     "output_type": "execute_result"
    }
   ],
   "source": [
    "result = (item*10 for item in [1, 2, 3])\n",
    "\n",
    "type(result), list(result)"
   ]
  },
  {
   "cell_type": "code",
   "execution_count": null,
   "id": "64737f52",
   "metadata": {},
   "outputs": [],
   "source": [
    "from sys import getsizeof\n",
    "\n"
   ]
  },
  {
   "cell_type": "markdown",
   "id": "3839fd61",
   "metadata": {},
   "source": [
    "> ## **Programação Orientada a Objetos (POO)**\n",
    ">\n",
    "> ##### Programação Estruturada\n",
    ">\n",
    "> - Implementação em blocos:\n",
    ">\n",
    ">   - Estrutura de Sequência;\n",
    ">\n",
    ">   - Estrutura de Seleção;\n",
    ">\n",
    ">   - Estrutura de Repetição.\n",
    ">\n",
    "> - Comunicação entre blocos através da passagem de parâmetros;\n",
    ">\n",
    "> - Ações/Tarefas para manipulação de dados.\n",
    ">\n",
    "> ### **`Programação Orientada a Objetos`**\n",
    ">\n",
    "> - Encapsulamento em objeto:\n",
    ">\n",
    ">   - Capacidade de armazenar informações do objeto;\n",
    ">\n",
    ">   - Capacidade de interagir não só com o próprio objeto mas com os outros elementos.\n",
    ">\n",
    "> - Objetos são construídos a partir de uma `classe` (classe é o construtor de um objeto).\n",
    ">\n",
    "> - Um objeto passa a existir quando o instanciamos através da classe correspondente.\n",
    ">\n",
    "> &ensp;&emsp;&emsp;&emsp;&emsp;&emsp; ↳ __objetos são entidades concretas e classes são abstrações__\n",
    ">\n",
    "> <br>"
   ]
  },
  {
   "cell_type": "markdown",
   "id": "6bb7e3fb",
   "metadata": {},
   "source": [
    "> ## Definição de classe\n",
    ">\n",
    "> ~~~python\n",
    "> # Sintaxe:\n",
    ">\n",
    "> class <nome>:\n",
    ">\n",
    ">    def __init__(self, <valor 1>, <valor 2>, ..., <valor n>):\n",
    ">\n",
    ">        self.<atributo 1> = <valor 1>\n",
    ">        self.<atributo 2> = <valor 2>\n",
    ">        .\n",
    ">        .\n",
    ">        .\n",
    ">        self.<atributo n> = <valor n>\n",
    ">\n",
    ">    def set(self, <valor 1>, <valor 2>, ..., <valor n>)\n",
    ">       \n",
    ">       self.<atributo 1> = <valor 1>\n",
    ">       self.<atributo 2> = <valor 2>\n",
    ">       .\n",
    ">       .\n",
    ">       .\n",
    ">       self.<atributo n> = <valor n>\n",
    ">\n",
    ">    def get(self):\n",
    ">\n",
    ">        return self.<atributo 1>, self.<atributo 2>, ..., self.<atributo n>\n",
    "> ~~~\n",
    ">\n",
    "> <br>"
   ]
  },
  {
   "cell_type": "code",
   "execution_count": 24,
   "id": "a13478a0",
   "metadata": {},
   "outputs": [
    {
     "data": {
      "text/plain": [
       "<__main__.Point at 0x1e69978e8c0>"
      ]
     },
     "execution_count": 24,
     "metadata": {},
     "output_type": "execute_result"
    }
   ],
   "source": [
    "# Exemplo: Classe para Ponto em Plano Cartesiano\n",
    "\n",
    "class Point():\n",
    "    \n",
    "    def __init__(self, x=0, y=0):\n",
    "        \n",
    "        self.x = x\n",
    "        self.y = y\n",
    "        \n",
    "    def setx(self, x):\n",
    "        \n",
    "        self.x = x\n",
    "        \n",
    "    def sety(self, y):\n",
    "        \n",
    "        self.y = y\n",
    "        \n",
    "    def move(self, offsetx, offsety):\n",
    "        \n",
    "        self.x += offsetx\n",
    "        self.y += offsety\n",
    "        \n",
    "    def get(self):\n",
    "        \n",
    "        return self.x, self.y\n",
    "    \n",
    "p = Point()\n",
    "\n",
    "p\n",
    "\n",
    "# Retorno padrão"
   ]
  },
  {
   "cell_type": "code",
   "execution_count": 15,
   "id": "8e93efe0",
   "metadata": {},
   "outputs": [
    {
     "data": {
      "text/plain": [
       "((0, 0), (0, 0))"
      ]
     },
     "execution_count": 15,
     "metadata": {},
     "output_type": "execute_result"
    }
   ],
   "source": [
    "# Classe para Ponto Cartesiano\n",
    "\n",
    "class Point():\n",
    "    \n",
    "    def __init__(self, x=0, y=0):\n",
    "        \n",
    "        self.x = x\n",
    "        self.y = y\n",
    "\n",
    "    def setx(self, x):\n",
    "        \n",
    "        self.x = x\n",
    "        \n",
    "    def sety(self, y):\n",
    "        \n",
    "        self.y = y\n",
    "\n",
    "    def move(self, offsetx, offsety):\n",
    "        \n",
    "        self.x += offsetx\n",
    "        self.y += offsety\n",
    "        \n",
    "    def get(self):\n",
    "        \n",
    "        return self.x, self.y\n",
    "    \n",
    "    # Implementação de representação do objeto\n",
    "    def __repr__(self):\n",
    "        \n",
    "        return f'({self.x}, {self.y})'\n",
    "        \n",
    "p = Point()\n",
    "\n",
    "p, p.get()"
   ]
  },
  {
   "cell_type": "code",
   "execution_count": 20,
   "id": "244e7d11",
   "metadata": {},
   "outputs": [
    {
     "data": {
      "text/plain": [
       "(5, -2)"
      ]
     },
     "execution_count": 20,
     "metadata": {},
     "output_type": "execute_result"
    }
   ],
   "source": [
    "p.setx(5), p.sety(-2)\n",
    "\n",
    "p"
   ]
  },
  {
   "cell_type": "code",
   "execution_count": 21,
   "id": "d66a89d4",
   "metadata": {},
   "outputs": [
    {
     "data": {
      "text/plain": [
       "(7, 8)"
      ]
     },
     "execution_count": 21,
     "metadata": {},
     "output_type": "execute_result"
    }
   ],
   "source": [
    "p.move(2, 10)\n",
    "\n",
    "p"
   ]
  },
  {
   "cell_type": "code",
   "execution_count": 22,
   "id": "93b533ee",
   "metadata": {},
   "outputs": [
    {
     "data": {
      "text/plain": [
       "(4, -2)"
      ]
     },
     "execution_count": 22,
     "metadata": {},
     "output_type": "execute_result"
    }
   ],
   "source": [
    "q = Point(4, -2)\n",
    "\n",
    "q"
   ]
  },
  {
   "cell_type": "markdown",
   "id": "cd060fa2",
   "metadata": {},
   "source": [
    "> ## `Sobrecarga Operadores`\n",
    ">\n",
    "> ~~~python\n",
    "> 2 + 3 -> 5\n",
    ">\n",
    "> 'ab' + 'c' -> 'abc'\n",
    ">\n",
    "> [1, 2, 3] + [4] -> [1, 2, 3, 4]\n",
    "> ~~~\n",
    ">\n",
    "> <br/>"
   ]
  },
  {
   "cell_type": "code",
   "execution_count": null,
   "id": "b8797e1a",
   "metadata": {},
   "outputs": [
    {
     "name": "stdout",
     "output_type": "stream",
     "text": [
      "\u001b[1;31mSignature:\u001b[0m      \u001b[0mint\u001b[0m\u001b[1;33m.\u001b[0m\u001b[0m__add__\u001b[0m\u001b[1;33m(\u001b[0m\u001b[0mself\u001b[0m\u001b[1;33m,\u001b[0m \u001b[0mvalue\u001b[0m\u001b[1;33m,\u001b[0m \u001b[1;33m/\u001b[0m\u001b[1;33m)\u001b[0m\u001b[1;33m\u001b[0m\u001b[1;33m\u001b[0m\u001b[0m\n",
      "\u001b[1;31mCall signature:\u001b[0m \u001b[0mint\u001b[0m\u001b[1;33m.\u001b[0m\u001b[0m__add__\u001b[0m\u001b[1;33m(\u001b[0m\u001b[1;33m*\u001b[0m\u001b[0margs\u001b[0m\u001b[1;33m,\u001b[0m \u001b[1;33m**\u001b[0m\u001b[0mkwargs\u001b[0m\u001b[1;33m)\u001b[0m\u001b[1;33m\u001b[0m\u001b[1;33m\u001b[0m\u001b[0m\n",
      "\u001b[1;31mType:\u001b[0m           wrapper_descriptor\n",
      "\u001b[1;31mString form:\u001b[0m    <slot wrapper '__add__' of 'int' objects>\n",
      "\u001b[1;31mNamespace:\u001b[0m      Python builtin\n",
      "\u001b[1;31mDocstring:\u001b[0m      Return self+value."
     ]
    }
   ],
   "source": [
    "int.__add__?, list."
   ]
  },
  {
   "cell_type": "code",
   "execution_count": null,
   "id": "ddb18455",
   "metadata": {},
   "outputs": [],
   "source": [
    "# Exemplo leitura log grande - Implementação __iter__\n",
    "\n",
    "class logArquivos():\n",
    "\n",
    "    def __init__(self, fname='download.log'):\n",
    "\n",
    "        self.arquivo = open(fname, 'r')\n",
    "        \n",
    "        self.linha_atual = ''\n",
    "\n",
    "    def __iter__(self):\n",
    "\n",
    "        return self\n",
    "\n",
    "    def __next__(self):\n",
    "\n",
    "        self.linha_atual = self.arquivo.readline()\n",
    "\n",
    "        while self.linha_atual and not self.linha_atual.startswith('NOK'):\n",
    "\n",
    "            self.linha_atual = self.arquivo.readline()\n",
    "\n",
    "        if self.linha_atual:\n",
    "\n",
    "            return self.linha_atual\n",
    "\n",
    "        raise StopIteration\n",
    "\n",
    "\n",
    "iterador = logArquivos()\n",
    "\n",
    "for item in iterador:\n",
    "    \n",
    "    print(item)\n",
    "\n",
    "# Exemplo geradores"
   ]
  },
  {
   "cell_type": "code",
   "execution_count": null,
   "id": "e93187a4-cd71-43a3-b35e-32dcccf1674c",
   "metadata": {},
   "outputs": [
    {
     "name": "stdout",
     "output_type": "stream",
     "text": [
      "Application directory:   C:\\Users\\AIB4\\AppData\\Local\\miniforge3\\envs\\work\\share\\jupyter\\lab\n",
      "User Settings directory: C:\\Users\\AIB4\\.jupyter\\lab\\user-settings\n",
      "Workspaces directory: C:\\Users\\AIB4\\.jupyter\\lab\\workspaces\n"
     ]
    }
   ],
   "source": [
    "!jupyter lab path"
   ]
  },
  {
   "cell_type": "code",
   "execution_count": null,
   "id": "3d912ba5-3f90-4d81-b672-01011b9371e3",
   "metadata": {},
   "outputs": [
    {
     "name": "stdout",
     "output_type": "stream",
     "text": [
      "config:\n",
      "    C:\\Users\\AIB4\\AppData\\Local\\miniforge3\\envs\\work\\etc\\jupyter\n",
      "    C:\\Users\\AIB4\\.jupyter\n",
      "    C:\\Users\\AIB4\\AppData\\Roaming\\Python\\etc\\jupyter\n",
      "    C:\\ProgramData\\jupyter\n",
      "data:\n",
      "    C:\\Users\\AIB4\\AppData\\Local\\miniforge3\\envs\\work\\share\\jupyter\n",
      "    C:\\Users\\AIB4\\AppData\\Roaming\\jupyter\n",
      "    C:\\Users\\AIB4\\AppData\\Roaming\\Python\\share\\jupyter\n",
      "    C:\\ProgramData\\jupyter\n",
      "runtime:\n",
      "    C:\\Users\\AIB4\\AppData\\Roaming\\jupyter\\runtime\n"
     ]
    }
   ],
   "source": [
    "!jupyter --path"
   ]
  },
  {
   "cell_type": "code",
   "execution_count": null,
   "id": "3949c076-db7a-4a9f-af15-2b5e3a445d6e",
   "metadata": {},
   "outputs": [
    {
     "data": {
      "text/plain": [
       "'C:\\\\Users\\\\AIB4\\\\projetos\\\\python\\\\meq'"
      ]
     },
     "execution_count": 5,
     "metadata": {},
     "output_type": "execute_result"
    }
   ],
   "source": [
    "pwd"
   ]
  },
  {
   "cell_type": "code",
   "execution_count": null,
   "id": "a03ab5cb-ece3-42cb-ac6d-dc24ac38f439",
   "metadata": {},
   "outputs": [
    {
     "name": "stdout",
     "output_type": "stream",
     "text": [
      "\n",
      "Note: you may need to restart the kernel to use updated packages.Transaction\n",
      "\n",
      "  Prefix: C:\\Users\\AIB4\\AppData\\Local\\miniforge3\\envs\\work\n",
      "\n",
      "  All requested packages already installed\n",
      "\n",
      "\n",
      "Looking for: ['gsw']\n",
      "\n",
      "\n",
      "Pinned packages:\n",
      "  - python 3.10.*\n",
      "\n",
      "\n",
      "\n"
     ]
    }
   ],
   "source": [
    "%mamba install gsw"
   ]
  },
  {
   "cell_type": "code",
   "execution_count": 66,
   "id": "e9a6f9f9",
   "metadata": {},
   "outputs": [
    {
     "name": "stdout",
     "output_type": "stream",
     "text": [
      "__\n",
      "___\n",
      "__builtin__\n",
      "__builtins__\n",
      "__doc__\n",
      "__loader__\n",
      "__name__\n",
      "__package__\n",
      "__spec__\n",
      "__vsc_ipynb_file__\n"
     ]
    }
   ],
   "source": [
    "for d in dir():\n",
    "    \n",
    "    if d.startswith('__'):\n",
    "        \n",
    "        print(d)"
   ]
  },
  {
   "cell_type": "code",
   "execution_count": null,
   "id": "3b2ff3ba",
   "metadata": {},
   "outputs": [],
   "source": []
  }
 ],
 "metadata": {
  "kernelspec": {
   "display_name": "work",
   "language": "python",
   "name": "python3"
  },
  "language_info": {
   "codemirror_mode": {
    "name": "ipython",
    "version": 3
   },
   "file_extension": ".py",
   "mimetype": "text/x-python",
   "name": "python",
   "nbconvert_exporter": "python",
   "pygments_lexer": "ipython3",
   "version": "3.10.15"
  }
 },
 "nbformat": 4,
 "nbformat_minor": 5
}
