{
 "cells": [
  {
   "cell_type": "markdown",
   "metadata": {},
   "source": [
    "> ## **Learning Python**\n",
    ">\n",
    "> https://docs.python.org/pt-br/3/\n",
    ">\n",
    "> ### author (unless ommited): Ronaldo Mitsuo Sato\n",
    "> \n",
    "> ![][some-id]\n",
    "> \n",
    "> [some-id]: https://www.python.org/static/community_logos/python-logo-master-v3-TM.png \"Python Logo\"\n",
    ">\n",
    "> <br>"
   ]
  },
  {
   "cell_type": "markdown",
   "id": "a55f5973-fb60-4485-8fa7-c0b76a012ac3",
   "metadata": {},
   "source": [
    "> # JupyterNotebook | JupyterLab\n",
    ">\n",
    "> (Atualmente comporta diversas linguagens)\n",
    ">\n",
    "> navegador: https://jupyter.org/try-jupyter/lab/\n",
    ">\n",
    "> documentação: https://jupyterlab.readthedocs.io/en/latest/\n",
    "> \n",
    "> ![][some-id]\n",
    "> \n",
    "> [some-id]: https://jupyter.org/assets/share.png \"Jupyter Logo\"\n",
    ">\n",
    "> <br>\n",
    "> \n",
    "> ## Jupyter = Julia + Python + R\n",
    ">\n",
    "> Ambiente de desenvolvimento integrado - **IDE** (**Integrated Development Environment**).\n",
    ">\n",
    "> Nele conseguimos programar de forma interativa.\n",
    ">\n",
    "> Mais utilizado para ensino ou demonstração -> Código + Texto.\n",
    "> \n",
    "> <br>\n"
   ]
  },
  {
   "cell_type": "code",
   "execution_count": 47,
   "id": "fcf6308c-85d7-405c-a0b8-b4ba7763bd60",
   "metadata": {},
   "outputs": [
    {
     "data": {
      "text/plain": [
       "'Olá Jupyter e Python!'"
      ]
     },
     "execution_count": 47,
     "metadata": {},
     "output_type": "execute_result"
    }
   ],
   "source": [
    "\"Olá Jupyter e Python!\""
   ]
  },
  {
   "cell_type": "markdown",
   "id": "65f4f591",
   "metadata": {},
   "source": [
    "> ### __*The Zen of Python*__ - Filosofia Python\n",
    ">\n",
    "> ##### Princípios que facilitam entendimento/leitura\n",
    ">\n",
    "> ~~~Python\n",
    "> '''\n",
    "> The Zen of Python, por Tim Peters\n",
    "> \n",
    "> Bonito é melhor que feio.\n",
    "> Explícito é melhor que implícito.\n",
    "> Simples é melhor que complexo.\n",
    "> Complexo é melhor que complicado.\n",
    "> Plano é melhor que aglomerado.\n",
    "> Esparso é melhor que denso.\n",
    "> Legibilidade conta.\n",
    "> Casos especiais não são especiais o bastante para quebrar as regras.\n",
    "> Embora a praticidade venca a pureza.\n",
    "> Erros nunca devem passar silenciosamente.\n",
    "> A menos que sejam explicitamente silenciados.\n",
    "> Diante da ambiguidade, recuse a tentação de adivinhar.\n",
    "> Deve haver um -- e só um -- modo óbvio para fazer algo.\n",
    "> Embora esse modo possa não ser óbvio à primeira vista a menos que você seja holandês.\n",
    "> Agora é melhor que nunca.\n",
    "> Embora nunca frequentemente seja melhor que *exatamente* agora.\n",
    "> Se a implementação é difícil de explicar, é uma má ideia.\n",
    "> Se a implementação é fácil de explicar, pode ser uma boa ideia.\n",
    "> Namespaces são uma grande ideia -- vamos fazer mais dessas!\n",
    "> '''\n",
    "> ~~~\n",
    "> \n",
    "> <br>"
   ]
  },
  {
   "cell_type": "code",
   "execution_count": null,
   "id": "be35e759",
   "metadata": {},
   "outputs": [
    {
     "name": "stdout",
     "output_type": "stream",
     "text": [
      "The Zen of Python, by Tim Peters\n",
      "\n",
      "Beautiful is better than ugly.\n",
      "Explicit is better than implicit.\n",
      "Simple is better than complex.\n",
      "Complex is better than complicated.\n",
      "Flat is better than nested.\n",
      "Sparse is better than dense.\n",
      "Readability counts.\n",
      "Special cases aren't special enough to break the rules.\n",
      "Although practicality beats purity.\n",
      "Errors should never pass silently.\n",
      "Unless explicitly silenced.\n",
      "In the face of ambiguity, refuse the temptation to guess.\n",
      "There should be one-- and preferably only one --obvious way to do it.\n",
      "Although that way may not be obvious at first unless you're Dutch.\n",
      "Now is better than never.\n",
      "Although never is often better than *right* now.\n",
      "If the implementation is hard to explain, it's a bad idea.\n",
      "If the implementation is easy to explain, it may be a good idea.\n",
      "Namespaces are one honking great idea -- let's do more of those!\n"
     ]
    }
   ],
   "source": [
    "import this  # The Zen of Python\n"
   ]
  },
  {
   "cell_type": "markdown",
   "id": "6dc1099d-2377-40f0-ae6d-0c941f8a6f86",
   "metadata": {},
   "source": [
    "> ## **Tipos de dados no Python**\n",
    ">\n",
    "> <br>"
   ]
  },
  {
   "cell_type": "code",
   "execution_count": 234,
   "id": "107b6c58-ca23-477f-9dd5-8d65e8ecd269",
   "metadata": {},
   "outputs": [],
   "source": [
    "# Comentário: cerquilha/hastag não é executado\n",
    "\n",
    "# (Atalho neste ambiente para comentar/descomentar: ctrl + ;)\n",
    "\n",
    "# Tipos básicos:\n",
    "\n",
    "x = -3           # inteiro \n",
    "y = 3.14         # ponto flutuante \n",
    "c = 4.2 + 5.14j  # complexo (i -> corrente elétrica)\n",
    "b = True         # booleano\n",
    "n = None         # vazio (ausência de valor / nenhuma informação)\n",
    "\n",
    "# (Tipo complexo)\n",
    "\n",
    "s = 'texto'      # string\n"
   ]
  },
  {
   "cell_type": "markdown",
   "id": "0c6f5aca",
   "metadata": {},
   "source": [
    "> ### **Armazenamento de dados** (na memória)\n",
    ">\n",
    "> #### __Variáveis__: atribuição de um valor a um identificador (apelido para algo que está na memória)\n",
    ">\n",
    "> &emsp;&emsp; ↳ Código mais legível e reutilizável (quando bem usado)\n",
    ">\n",
    "> <br>\n",
    ">\n",
    "> &emsp; x = -1 &thinsp; &rarr; &thinsp; x recebe -1\n",
    ">\n",
    "> <br>\n",
    ">\n",
    "> #### Nomes de variáveis __podem conter__ letras minúsculas, maiúsculas, underscore (_), e exceto para o primeiro caractere, podem ter números.\n",
    ">\n",
    "> <br>\n",
    ">\n",
    "> &emsp; my_x, myX, x1, _x &thinsp; &rarr; &thinsp; __válidos__\n",
    ">\n",
    "> &emsp; 1x &thinsp; &rarr; &thinsp; __inválido__\n",
    ">\n",
    "> <br>\n",
    ">\n",
    "> #### __Python é *case-sensitive*__ &thinsp; &rarr; &thinsp; mx $\\neq$ mX &thinsp; ou &thinsp; True $\\neq$ true\n",
    ">\n",
    "> <br>\n",
    ">\n",
    "> #### `Palavras reservadas`: fazem parte da linguagem, então não podem ser usadas (mensagem de erro).\n",
    ">\n",
    "> &emsp; Exemplo: `False`, `True`, `None`, `if`, `elif`, `else`, `for`, `while`, `with`, `and`, `or`, `not`, `is`, `in`, `import`, `from`, `as`, `def`, `return`, `yield`, `try`, `except`, `finally`, `raise`, `pass`, `break`, `continue`, `class`, `assert`, `del`, `lambda`, ...\n",
    ">\n",
    "> <br>"
   ]
  },
  {
   "cell_type": "markdown",
   "id": "1a41806f",
   "metadata": {},
   "source": [
    "> ### **Função embutida** (*built-in function*) `type`\n",
    ">\n",
    "> lista de funções embutidas: https://docs.python.org/3/library/functions.html\n",
    ">\n",
    "> <br>"
   ]
  },
  {
   "cell_type": "code",
   "execution_count": null,
   "id": "f4a18b01",
   "metadata": {},
   "outputs": [
    {
     "name": "stdout",
     "output_type": "stream",
     "text": [
      "\u001b[1;31mInit signature:\u001b[0m \u001b[0mtype\u001b[0m\u001b[1;33m(\u001b[0m\u001b[0mself\u001b[0m\u001b[1;33m,\u001b[0m \u001b[1;33m/\u001b[0m\u001b[1;33m,\u001b[0m \u001b[1;33m*\u001b[0m\u001b[0margs\u001b[0m\u001b[1;33m,\u001b[0m \u001b[1;33m**\u001b[0m\u001b[0mkwargs\u001b[0m\u001b[1;33m)\u001b[0m\u001b[1;33m\u001b[0m\u001b[1;33m\u001b[0m\u001b[0m\n",
      "\u001b[1;31mDocstring:\u001b[0m     \n",
      "type(object) -> the object's type\n",
      "type(name, bases, dict, **kwds) -> a new type\n",
      "\u001b[1;31mType:\u001b[0m           type\n",
      "\u001b[1;31mSubclasses:\u001b[0m     ABCMeta, EnumMeta, NamedTupleMeta, _TypedDictMeta, _ABC, MetaHasDescriptors, PyCStructType, UnionType, PyCPointerType, PyCArrayType, ..."
     ]
    }
   ],
   "source": [
    "type?\n",
    "\n",
    "# (na verdade é uma classe, embora inicie com letra minúscula)"
   ]
  },
  {
   "cell_type": "code",
   "execution_count": null,
   "id": "9b8b9cf5-d12c-4a0f-916a-6160bab47579",
   "metadata": {},
   "outputs": [
    {
     "data": {
      "text/plain": [
       "(int, float, complex, bool, str, NoneType)"
      ]
     },
     "execution_count": 52,
     "metadata": {},
     "output_type": "execute_result"
    }
   ],
   "source": [
    "# Tipos das variáveis criadas anteriormente:\n",
    "\n",
    "type(x), type(y), type(c), type(b), type(s), type(n)"
   ]
  },
  {
   "cell_type": "markdown",
   "id": "1f36418e",
   "metadata": {},
   "source": [
    "> ### Formas de se **visualizar/mostrar valores ou conteúdo de variáveis**\n",
    ">\n",
    "> ### Lançando as variáveis direto na linha de comando\n",
    ">\n",
    "> <br>"
   ]
  },
  {
   "cell_type": "code",
   "execution_count": null,
   "id": "21e9b195",
   "metadata": {},
   "outputs": [
    {
     "data": {
      "text/plain": [
       "-3"
      ]
     },
     "execution_count": 53,
     "metadata": {},
     "output_type": "execute_result"
    }
   ],
   "source": [
    "# Uma variável:\n",
    "\n",
    "x"
   ]
  },
  {
   "cell_type": "code",
   "execution_count": 236,
   "id": "f3865ea7",
   "metadata": {},
   "outputs": [
    {
     "data": {
      "text/plain": [
       "(3.14, 'texto')"
      ]
     },
     "execution_count": 236,
     "metadata": {},
     "output_type": "execute_result"
    }
   ],
   "source": [
    "# Duas variáveis:\n",
    "\n",
    "y, s\n",
    "\n",
    "# em Python, elementos separados por vírgula é uma tupla (tipo de dado nativo do Python - veremos adiante)"
   ]
  },
  {
   "cell_type": "markdown",
   "id": "dc42387d",
   "metadata": {},
   "source": [
    "> ### Formas de se **visualizar/mostrar valores ou conteúdo de variáveis**\n",
    ">\n",
    "> ### Função `print`: imprimir na tela (na saída padrão)\n",
    ">\n",
    "> ~~~Python\n",
    "> # Sintaxe:\n",
    ">\n",
    "> print(<argumento 1>, ..., <argumento n>)\n",
    "> ~~~\n",
    ">\n",
    "> ***\n",
    "> onde:\n",
    "> ~~~Python\n",
    "> <argumento 1> é algo que passamos para uma função e\n",
    ">\n",
    "> podem ser passados n argumentos: <argumento n>\n",
    "> ~~~\n",
    ">\n",
    "> <br>"
   ]
  },
  {
   "cell_type": "code",
   "execution_count": null,
   "id": "60720982",
   "metadata": {},
   "outputs": [
    {
     "name": "stdout",
     "output_type": "stream",
     "text": [
      "True None\n"
     ]
    }
   ],
   "source": [
    "b = True\n",
    "n = None\n",
    "\n",
    "print(b, n)  # por padrão separa com espaço os argumentos "
   ]
  },
  {
   "cell_type": "code",
   "execution_count": null,
   "id": "c99460f8",
   "metadata": {},
   "outputs": [
    {
     "name": "stdout",
     "output_type": "stream",
     "text": [
      "Valores de x e y: -3 e 3.14\n"
     ]
    }
   ],
   "source": [
    "print('Valores de x e y:', x, 'e', y)  # composição de string"
   ]
  },
  {
   "cell_type": "code",
   "execution_count": 394,
   "id": "d4e684f4",
   "metadata": {},
   "outputs": [
    {
     "name": "stdout",
     "output_type": "stream",
     "text": [
      "Valores de x e y: -3 e 3.14\n"
     ]
    }
   ],
   "source": [
    "# Antigamente composição era por soma\n",
    "\n",
    "print('Valores de x e y: ' + str(x) + ' e ' + str(y))"
   ]
  },
  {
   "cell_type": "markdown",
   "id": "4c01d217",
   "metadata": {},
   "source": [
    ">### Obter informações sobre uma função: `func?`\n",
    ">\n",
    "> ~~~python\n",
    "> # ou:\n",
    ">\n",
    "> help(func)\n",
    "> ~~~\n",
    ">\n",
    "> ***\n",
    ">\n",
    "> Onde:\n",
    ">\n",
    "> func &thinsp; &rarr; &thinsp; é o nome da função\n",
    ">\n",
    "> <br>"
   ]
  },
  {
   "cell_type": "code",
   "execution_count": 48,
   "id": "dac2e962",
   "metadata": {},
   "outputs": [
    {
     "name": "stdout",
     "output_type": "stream",
     "text": [
      "Help on built-in function print in module builtins:\n",
      "\n",
      "print(...)\n",
      "    print(value, ..., sep=' ', end='\\n', file=sys.stdout, flush=False)\n",
      "    \n",
      "    Prints the values to a stream, or to sys.stdout by default.\n",
      "    Optional keyword arguments:\n",
      "    file:  a file-like object (stream); defaults to the current sys.stdout.\n",
      "    sep:   string inserted between values, default a space.\n",
      "    end:   string appended after the last value, default a newline.\n",
      "    flush: whether to forcibly flush the stream.\n",
      "\n"
     ]
    }
   ],
   "source": [
    "help(print)"
   ]
  },
  {
   "cell_type": "code",
   "execution_count": 49,
   "id": "85e2d48c",
   "metadata": {},
   "outputs": [
    {
     "name": "stdout",
     "output_type": "stream",
     "text": [
      "\u001b[1;31mDocstring:\u001b[0m\n",
      "print(value, ..., sep=' ', end='\\n', file=sys.stdout, flush=False)\n",
      "\n",
      "Prints the values to a stream, or to sys.stdout by default.\n",
      "Optional keyword arguments:\n",
      "file:  a file-like object (stream); defaults to the current sys.stdout.\n",
      "sep:   string inserted between values, default a space.\n",
      "end:   string appended after the last value, default a newline.\n",
      "flush: whether to forcibly flush the stream.\n",
      "\u001b[1;31mType:\u001b[0m      builtin_function_or_method"
     ]
    }
   ],
   "source": [
    "# ou:\n",
    " \n",
    "print?\n",
    "\n",
    "# OBS: Argumentos não-nomeados e argumentos nomeados"
   ]
  },
  {
   "cell_type": "code",
   "execution_count": null,
   "id": "d5d41194",
   "metadata": {},
   "outputs": [
    {
     "name": "stdout",
     "output_type": "stream",
     "text": [
      "11 - 22\n",
      "33/44\n"
     ]
    }
   ],
   "source": [
    "print(11, 22, sep=' - ')  # possibilidade de se alterar o separador\n",
    "print(33, 44, sep='/')\n",
    "\n",
    "# pode ajudar na formatação como visualização da saída"
   ]
  },
  {
   "cell_type": "code",
   "execution_count": null,
   "id": "ecd6d89b",
   "metadata": {},
   "outputs": [
    {
     "name": "stdout",
     "output_type": "stream",
     "text": [
      "11 22\n",
      "\n",
      "33 44**55 66\n",
      "##"
     ]
    }
   ],
   "source": [
    "print(11, 22, end='\\n\\n')  # possibilidade de se alterar o final do print; default \"\\n\"\n",
    "print(33, 44, end='**')    # há caracteres que não são exibidos (depende do SO)\n",
    "print(55, 66, end='\\n##')\n",
    "\n",
    "# Quebra de linha no Windows: \\r\\n = CRLF (Carriage Return Line Feed)\n",
    "# Quebra de linha no Linux/Mac: \\n = LF (Line Feed)\n",
    "\n",
    "# OBS: Há uma tendência do Windows de se aproximar do Unix (comandos Unix tendem a funcionar no Windows)\n"
   ]
  },
  {
   "cell_type": "markdown",
   "id": "e68812f3",
   "metadata": {},
   "source": [
    "> ## `Tudo em Python é um objeto`\n",
    ">\n",
    "> ### Um __objeto__ é __definido por uma classe__ (construtor/receita/gabarito).\n",
    "> \n",
    "> ### Todo __objeto__ tem __atributos e métodos__ associados.\n",
    ">\n",
    "> #### __Dados são armazenados na memória na forma de objetos__, que possuem um tipo (depende do valor).\n",
    ">\n",
    "> x = -3 &thinsp; &rarr; &thinsp; identificador/variável = classe(valor)\n",
    ">\n",
    "> <br>\n",
    ">\n",
    "> ***\n",
    "> Construtores: (um objeto só existe quando instanciado)\n",
    ">\n",
    "> \n",
    ">\n",
    "> x = 3 &thinsp; $\\iff$ &thinsp; x = int(3)\n",
    ">\n",
    "> y = 3.14 &thinsp; $\\iff$ &thinsp; y = float(3.14)\n",
    ">\n",
    "> s = 'texto' &thinsp; $\\iff$ &thinsp; s = str('texto')\n",
    ">\n",
    "> b = True &thinsp; $\\iff$ &thinsp; b = bool(True)\n",
    ">\n",
    "> <br>\n",
    ">\n",
    "> ## `Python é de tipagem dinâmica e forte`\n",
    ">\n",
    "> <br>"
   ]
  },
  {
   "cell_type": "code",
   "execution_count": 64,
   "id": "6b955989",
   "metadata": {},
   "outputs": [
    {
     "name": "stdout",
     "output_type": "stream",
     "text": [
      "<class 'int'>\n",
      "<class 'float'>\n",
      "<class 'str'>\n",
      "<class 'bool'>\n"
     ]
    }
   ],
   "source": [
    "\n",
    "# Tudo em Python é um objeto:\n",
    "\n",
    "print(type(x))\n",
    "print(type(y))\n",
    "print(type(s))\n",
    "print(type(b))"
   ]
  },
  {
   "cell_type": "markdown",
   "id": "b962542a",
   "metadata": {},
   "source": [
    "> ### __O tipo de um objeto está relacionado aos valores que ele pode armazenar, quais métodos estão associados e quais operações podem ser executadas__\n",
    ">\n",
    "> <br>"
   ]
  },
  {
   "cell_type": "markdown",
   "id": "ad00cb93",
   "metadata": {},
   "source": [
    "> ### Exemplo `Atributo` (armazena informações)\n",
    ">\n",
    ">~~~python\n",
    "># Sintaxe:\n",
    ">\n",
    "><objeto>.<atributo>\n",
    ">~~~\n",
    ">\n",
    "> <br>\n",
    ">\n",
    "> ***\n",
    "> Onde:\n",
    "> ~~~python\n",
    "> <objeto> é o identificador\n",
    ">\n",
    "> <atributo> é algum atributo/propriedade associado ao tipo do objeto\n",
    ">~~~\n",
    ">\n",
    ">\n",
    "> <br>"
   ]
  },
  {
   "cell_type": "code",
   "execution_count": 397,
   "id": "4454cae2",
   "metadata": {},
   "outputs": [
    {
     "data": {
      "text/plain": [
       "1"
      ]
     },
     "execution_count": 397,
     "metadata": {},
     "output_type": "execute_result"
    }
   ],
   "source": [
    "x = 5\n",
    "\n",
    "x.denominator"
   ]
  },
  {
   "cell_type": "markdown",
   "id": "96d63f21",
   "metadata": {},
   "source": [
    "> ### Exemplo `Método` (executa uma tarefa / ação)\n",
    ">\n",
    ">~~~python\n",
    "># Sintaxe:\n",
    ">\n",
    "><objeto>.<método>()\n",
    ">~~~\n",
    ">\n",
    "> <br>\n",
    ">\n",
    "> ***\n",
    "> Onde:\n",
    "> ~~~python\n",
    "> <objeto> é o identificador\n",
    ">\n",
    "> <método> é algum método associado ao tipo do objeto\n",
    ">~~~\n",
    ">\n",
    "> <br>"
   ]
  },
  {
   "cell_type": "code",
   "execution_count": null,
   "id": "073ff6b7",
   "metadata": {},
   "outputs": [
    {
     "data": {
      "text/plain": [
       "('um exemplo de string', 'Um exemplo de string')"
      ]
     },
     "execution_count": 104,
     "metadata": {},
     "output_type": "execute_result"
    }
   ],
   "source": [
    "s = 'um exemplo de string'\n",
    "\n",
    "s, s.capitalize()  # exemplo método"
   ]
  },
  {
   "cell_type": "markdown",
   "id": "80f89c41",
   "metadata": {},
   "source": [
    "> Vimos os tipos básicos, porém eles podem ser convertidos:\n",
    ">\n",
    "> ### `Conversão` / `Coerção de Tipos` (*type conversion*, *typecasting*, *coercion*)\n",
    ">\n",
    "> #### Converter um tipo de dado em outro (tipos primitivos e imutáveis)\n",
    ">\n",
    "> <br>"
   ]
  },
  {
   "cell_type": "code",
   "execution_count": 85,
   "id": "c4573f43",
   "metadata": {},
   "outputs": [
    {
     "name": "stdout",
     "output_type": "stream",
     "text": [
      "2\n"
     ]
    }
   ],
   "source": [
    "print(1 + 1)"
   ]
  },
  {
   "cell_type": "code",
   "execution_count": null,
   "id": "8492bfa3",
   "metadata": {},
   "outputs": [
    {
     "name": "stdout",
     "output_type": "stream",
     "text": [
      "12\n"
     ]
    }
   ],
   "source": [
    "print('1' + '2')  # operador matemático de soma funciona com strings (concatena)\n",
    "\n",
    "# Linguagem dinâmica -> Polimorfismo: um mesmo operador fazendo coisas diferentes"
   ]
  },
  {
   "cell_type": "code",
   "execution_count": null,
   "id": "a4374dd4",
   "metadata": {},
   "outputs": [
    {
     "ename": "TypeError",
     "evalue": "can only concatenate str (not \"int\") to str",
     "output_type": "error",
     "traceback": [
      "\u001b[1;31m---------------------------------------------------------------------------\u001b[0m",
      "\u001b[1;31mTypeError\u001b[0m                                 Traceback (most recent call last)",
      "Cell \u001b[1;32mIn[102], line 1\u001b[0m\n\u001b[1;32m----> 1\u001b[0m \u001b[38;5;28mprint\u001b[39m(\u001b[38;5;124;43m'\u001b[39;49m\u001b[38;5;124;43m1\u001b[39;49m\u001b[38;5;124;43m'\u001b[39;49m\u001b[43m \u001b[49m\u001b[38;5;241;43m+\u001b[39;49m\u001b[43m \u001b[49m\u001b[38;5;241;43m2\u001b[39;49m)\n\u001b[0;32m      3\u001b[0m \u001b[38;5;66;03m# só concatena str com str\u001b[39;00m\n\u001b[0;32m      4\u001b[0m \n\u001b[0;32m      5\u001b[0m \u001b[38;5;66;03m# Python é linguagem dinâmica forte, a fraca em geral, converte uma coisa em outra\u001b[39;00m\n",
      "\u001b[1;31mTypeError\u001b[0m: can only concatenate str (not \"int\") to str"
     ]
    }
   ],
   "source": [
    "print('1' + 2)\n",
    "\n",
    "# Erro de tipo, no caso, só concatena str com str\n",
    "\n",
    "# Python é linguagem dinâmica forte. A fraca em geral, converte uma coisa em outra"
   ]
  },
  {
   "cell_type": "code",
   "execution_count": 106,
   "id": "4c2a7223",
   "metadata": {},
   "outputs": [
    {
     "ename": "TypeError",
     "evalue": "unsupported operand type(s) for +: 'int' and 'str'",
     "output_type": "error",
     "traceback": [
      "\u001b[1;31m---------------------------------------------------------------------------\u001b[0m",
      "\u001b[1;31mTypeError\u001b[0m                                 Traceback (most recent call last)",
      "Cell \u001b[1;32mIn[106], line 1\u001b[0m\n\u001b[1;32m----> 1\u001b[0m \u001b[38;5;28mprint\u001b[39m(\u001b[38;5;241;43m1\u001b[39;49m\u001b[43m \u001b[49m\u001b[38;5;241;43m+\u001b[39;49m\u001b[43m \u001b[49m\u001b[38;5;124;43m'\u001b[39;49m\u001b[38;5;124;43m2\u001b[39;49m\u001b[38;5;124;43m'\u001b[39;49m)\n\u001b[0;32m      3\u001b[0m \u001b[38;5;66;03m# Erro de tipo, no caso, o operador + não soma int com str\u001b[39;00m\n",
      "\u001b[1;31mTypeError\u001b[0m: unsupported operand type(s) for +: 'int' and 'str'"
     ]
    }
   ],
   "source": [
    "print(1 + '2')\n",
    "\n",
    "# Erro de tipo, no caso, o operador + não soma int com str"
   ]
  },
  {
   "cell_type": "code",
   "execution_count": 103,
   "id": "36474f51",
   "metadata": {},
   "outputs": [
    {
     "name": "stdout",
     "output_type": "stream",
     "text": [
      "3.0\n"
     ]
    }
   ],
   "source": [
    "# Mas é possível converter uma string em float, por exemplo:\n",
    "\n",
    "print(float('1') + 2)"
   ]
  },
  {
   "cell_type": "code",
   "execution_count": null,
   "id": "d53b7c60",
   "metadata": {},
   "outputs": [
    {
     "name": "stdout",
     "output_type": "stream",
     "text": [
      "False = 0 e True = 1\n",
      "-1\n"
     ]
    },
    {
     "data": {
      "text/plain": [
       "(False, True, False, False)"
      ]
     },
     "execution_count": 163,
     "metadata": {},
     "output_type": "execute_result"
    }
   ],
   "source": [
    "# Valor dos booleanos False e True:\n",
    "\n",
    "print('False =', int(False), 'e', 'True =', int(True))\n",
    "\n",
    "print(False - True)  # Python: Linguagem Dinâmica Forte\n",
    "\n",
    "# string vazia = False; string não vazia = True\n",
    "\n",
    "bool(''), bool(' ')\n"
   ]
  },
  {
   "cell_type": "code",
   "execution_count": 115,
   "id": "31b64a80",
   "metadata": {},
   "outputs": [
    {
     "data": {
      "text/plain": [
       "(0, 1.0, '2', 1)"
      ]
     },
     "execution_count": 115,
     "metadata": {},
     "output_type": "execute_result"
    }
   ],
   "source": [
    "int('0'), float('1'), str(2), int(bool(10))"
   ]
  },
  {
   "cell_type": "markdown",
   "id": "a2ce07f7",
   "metadata": {},
   "source": [
    "> ## `Strings`\n",
    ">\n",
    "> ### Coleção/sequência de caracteres (texto dentro de aspas)\n",
    ">\n",
    "> <br>"
   ]
  },
  {
   "cell_type": "code",
   "execution_count": 16,
   "id": "c542c9cb",
   "metadata": {},
   "outputs": [
    {
     "data": {
      "text/plain": [
       "('string usando aspas simples',\n",
       " 'usando aspas duplas',\n",
       " 'usando aspas duplas triplicadas',\n",
       " 'ou ainda com aspas simples triplicadas')"
      ]
     },
     "execution_count": 16,
     "metadata": {},
     "output_type": "execute_result"
    }
   ],
   "source": [
    "'string usando aspas simples', \"usando aspas duplas\", \"\"\"usando aspas duplas triplicadas\"\"\", '''ou ainda com aspas simples triplicadas'''\n"
   ]
  },
  {
   "cell_type": "code",
   "execution_count": 83,
   "id": "2ac0f69d",
   "metadata": {},
   "outputs": [
    {
     "data": {
      "text/plain": [
       "'123'"
      ]
     },
     "execution_count": 83,
     "metadata": {},
     "output_type": "execute_result"
    }
   ],
   "source": [
    "# usando o construtor da classe\n",
    "\n",
    "str(123)"
   ]
  },
  {
   "cell_type": "markdown",
   "id": "d729ec2a",
   "metadata": {},
   "source": [
    "> ## `Indexação`: uso de colchetes e índice da posição\n",
    ">\n",
    ">~~~python\n",
    "># Sitaxe:\n",
    ">\n",
    "><identificador>[índice/posição]\n",
    ">~~~\n",
    ">\n",
    "> <br>\n"
   ]
  },
  {
   "cell_type": "code",
   "execution_count": null,
   "id": "a679a150",
   "metadata": {},
   "outputs": [
    {
     "data": {
      "text/plain": [
       "'2'"
      ]
     },
     "execution_count": 75,
     "metadata": {},
     "output_type": "execute_result"
    }
   ],
   "source": [
    "\n",
    "numero = '12345'\n",
    "\n",
    "numero[1]\n",
    "\n",
    "# Primeiro elemento é o elemento índice zero"
   ]
  },
  {
   "cell_type": "markdown",
   "id": "b609b061",
   "metadata": {},
   "source": [
    "> ### Como em muitas outras linguagens: \n",
    ">\n",
    "> ## `Indexação em Python começa em zero`\n",
    ">\n",
    "> ### O primeiro elemento é o elemento zero\n",
    ">\n",
    "> <br>"
   ]
  },
  {
   "cell_type": "markdown",
   "id": "320c9c91",
   "metadata": {},
   "source": [
    "> ### `Slice`: fatiar\n",
    ">\n",
    ">~~~python\n",
    "># Sintaxe:\n",
    ">\n",
    "><identificador>[início:fim:passo]\n",
    ">~~~\n",
    ">***\n",
    ">- início, fim e passo podem ser omitidos\n",
    ">\n",
    ">- se omitidos, implicitamente entendido como:\n",
    ">\n",
    ">    - início: primeiro elemento\n",
    ">\n",
    ">    - fim: último elemento\n",
    ">\n",
    ">    - passo: de elemento a elemento\n",
    ">\n",
    "> <br>"
   ]
  },
  {
   "cell_type": "code",
   "execution_count": null,
   "id": "8d52f8f3",
   "metadata": {},
   "outputs": [
    {
     "data": {
      "text/plain": [
       "('abcde', 'abc', 'abc')"
      ]
     },
     "execution_count": 76,
     "metadata": {},
     "output_type": "execute_result"
    }
   ],
   "source": [
    "#        +01234\n",
    "letras = 'abcde'\n",
    "\n",
    "letras, letras[0:3:1], letras[0:3]\n",
    "\n",
    "# Último elemento não inclusivo (em geral essa é a regra no Python)"
   ]
  },
  {
   "cell_type": "code",
   "execution_count": 84,
   "id": "4d49e7ac",
   "metadata": {},
   "outputs": [
    {
     "data": {
      "text/plain": [
       "'012'"
      ]
     },
     "execution_count": 84,
     "metadata": {},
     "output_type": "execute_result"
    }
   ],
   "source": [
    "#         +012345\n",
    "numeros = '012345'\n",
    "\n",
    "numeros[:3]"
   ]
  },
  {
   "cell_type": "code",
   "execution_count": 86,
   "id": "9853663f",
   "metadata": {},
   "outputs": [
    {
     "data": {
      "text/plain": [
       "('012345', '5', '01234', '543210', '45')"
      ]
     },
     "execution_count": 86,
     "metadata": {},
     "output_type": "execute_result"
    }
   ],
   "source": [
    "#         +012345\n",
    "numeros = '012345'\n",
    "#         -654321\n",
    "\n",
    "# Indexação negativa (pensando de trás pra frente)\n",
    "\n",
    "numeros, numeros[-1], numeros[:-1], numeros[::-1], numeros[-2:]"
   ]
  },
  {
   "cell_type": "code",
   "execution_count": null,
   "id": "304b7545",
   "metadata": {},
   "outputs": [
    {
     "data": {
      "text/plain": [
       "('012345', '135')"
      ]
     },
     "execution_count": 83,
     "metadata": {},
     "output_type": "execute_result"
    }
   ],
   "source": [
    "#         +012345\n",
    "numeros = '012345'\n",
    "#         -654321\n",
    "\n",
    "numeros[::2], numeros[1::2], numeros[1:5:2]  # passo é de quanto em quanto\n"
   ]
  },
  {
   "cell_type": "markdown",
   "id": "6cb07a0a",
   "metadata": {},
   "source": [
    "> ## `Concatenação de strings`\n",
    ">\n",
    "> <br>"
   ]
  },
  {
   "cell_type": "code",
   "execution_count": null,
   "id": "42ee6ca7",
   "metadata": {},
   "outputs": [
    {
     "data": {
      "text/plain": [
       "'textoe mais texto concatenado'"
      ]
     },
     "execution_count": 1,
     "metadata": {},
     "output_type": "execute_result"
    }
   ],
   "source": [
    "s = 'texto'\n",
    "\n",
    "s2 = 'e mais texto concatenado'\n",
    "\n",
    "s + s2  # sobrecarga operadores (concatenação)"
   ]
  },
  {
   "cell_type": "code",
   "execution_count": 407,
   "id": "82918f0b",
   "metadata": {},
   "outputs": [
    {
     "name": "stdout",
     "output_type": "stream",
     "text": [
      "texto e mais texto concatenado\n"
     ]
    }
   ],
   "source": [
    "print(s, s2)"
   ]
  },
  {
   "cell_type": "markdown",
   "id": "c7db080c",
   "metadata": {},
   "source": [
    "> ## Função *built-in* `len`\n",
    ">\n",
    "> ### Tamanho de coleção/sequência\n",
    ">\n",
    "> <br>"
   ]
  },
  {
   "cell_type": "code",
   "execution_count": 408,
   "id": "3ac49693",
   "metadata": {},
   "outputs": [
    {
     "name": "stdout",
     "output_type": "stream",
     "text": [
      "\u001b[1;31mSignature:\u001b[0m \u001b[0mlen\u001b[0m\u001b[1;33m(\u001b[0m\u001b[0mobj\u001b[0m\u001b[1;33m,\u001b[0m \u001b[1;33m/\u001b[0m\u001b[1;33m)\u001b[0m\u001b[1;33m\u001b[0m\u001b[1;33m\u001b[0m\u001b[0m\n",
      "\u001b[1;31mDocstring:\u001b[0m Return the number of items in a container.\n",
      "\u001b[1;31mType:\u001b[0m      builtin_function_or_method"
     ]
    }
   ],
   "source": [
    "len?"
   ]
  },
  {
   "cell_type": "code",
   "execution_count": 409,
   "id": "afb8333a",
   "metadata": {},
   "outputs": [
    {
     "data": {
      "text/plain": [
       "9"
      ]
     },
     "execution_count": 409,
     "metadata": {},
     "output_type": "execute_result"
    }
   ],
   "source": [
    "len('sequência')"
   ]
  },
  {
   "cell_type": "markdown",
   "id": "e4f731ca-a3d5-4e80-92a7-b8f34847a96b",
   "metadata": {},
   "source": [
    "> (falaremos mais sobre _strings_ adiante)\n",
    "> \n",
    "> ## **Objetos nativos do Python**\n",
    "> \n",
    "> ### Listas, Tuplas, Dicionários, Conjuntos\n",
    "> \n",
    "> #### Tipos compostos / complexos\n",
    ">\n",
    "> <br>"
   ]
  },
  {
   "cell_type": "markdown",
   "id": "8cf02e99",
   "metadata": {},
   "source": [
    "> ## `Listas`\n",
    ">\n",
    "> <br>"
   ]
  },
  {
   "cell_type": "code",
   "execution_count": null,
   "id": "0b88d567-8d64-4d30-ab7b-f1bc55e47f03",
   "metadata": {},
   "outputs": [
    {
     "name": "stdout",
     "output_type": "stream",
     "text": [
      "[] []\n"
     ]
    }
   ],
   "source": [
    "# Listas Vazias\n",
    "\n",
    "lista_vazia1 = list()  # usando o construtor\n",
    "\n",
    "lista_vazia2 = []      # no fundo, chama o construtor\n",
    "\n",
    "print(lista_vazia1, lista_vazia2)"
   ]
  },
  {
   "cell_type": "code",
   "execution_count": null,
   "id": "51c9c480",
   "metadata": {},
   "outputs": [
    {
     "data": {
      "text/plain": [
       "list"
      ]
     },
     "execution_count": 93,
     "metadata": {},
     "output_type": "execute_result"
    }
   ],
   "source": [
    "# Lista: objeto do tipo 'list'\n",
    "\n",
    "type(lista_vazia1)"
   ]
  },
  {
   "cell_type": "code",
   "execution_count": 238,
   "id": "a3dcf3d3",
   "metadata": {},
   "outputs": [
    {
     "data": {
      "text/plain": [
       "([1, 2, 3], [1, 'a', 0.75, [2, 3, 4], False])"
      ]
     },
     "execution_count": 238,
     "metadata": {},
     "output_type": "execute_result"
    }
   ],
   "source": [
    "# Suporta vários elementos de qualquer tipo\n",
    "\n",
    "lista_1 = list([1, 2, 3])\n",
    "\n",
    "lista_2 = [1, 'a', .75, [2, 3, 4], False]\n",
    "\n",
    "lista_1, lista_2"
   ]
  },
  {
   "cell_type": "code",
   "execution_count": null,
   "id": "db1db2d0",
   "metadata": {},
   "outputs": [
    {
     "data": {
      "text/plain": [
       "[{1: 2}, <map at 0x20261d023e0>]"
      ]
     },
     "execution_count": 94,
     "metadata": {},
     "output_type": "execute_result"
    }
   ],
   "source": [
    "# exemplos de qualquer tipo, inclusive objeto abstrato:\n",
    "\n",
    "# Dicionários veremos a seguir, e map mais adiante\n",
    "\n",
    "[{1: 2}, map(list, [2])]\n"
   ]
  },
  {
   "cell_type": "markdown",
   "id": "be3736a2",
   "metadata": {},
   "source": [
    "> ## `Indexação`\n",
    ">\n",
    "> ### Acessar elementos pela posição\n",
    ">\n",
    "> <br>"
   ]
  },
  {
   "cell_type": "code",
   "execution_count": null,
   "id": "cb53b2a4",
   "metadata": {},
   "outputs": [
    {
     "name": "stdout",
     "output_type": "stream",
     "text": [
      "[1, 2, 3]\n",
      "[1, 2, 3]\n",
      "[1, 2, 3]\n"
     ]
    }
   ],
   "source": [
    "#           + 0  1  2    <---   índices positivos\n",
    "lista = list([1, 2, 3])\n",
    "#           - 3  2  1    <---   índices negativos\n",
    "\n",
    "print(lista)\n",
    "\n",
    "# \"Printar\" individualmente elementos\n",
    "\n",
    "print([lista[0], lista[1], lista[2]])     # usando índices positivos\n",
    "\n",
    "print([lista[-3], lista[-2], lista[-1]])  # usando índices negativos"
   ]
  },
  {
   "cell_type": "markdown",
   "id": "67997b87",
   "metadata": {},
   "source": [
    "> ## `Slice`\n",
    ">\n",
    "> ### Fatiar &thinsp; &rarr; &thinsp; Selecionar \"pedaço\"\n",
    ">\n",
    ">~~~python\n",
    "># Sintaxe:\n",
    ">\n",
    "><sequência>[início:fim:passo]\n",
    ">~~~\n",
    ">***\n",
    "> - início, fim e passo podem ser omitidos\n",
    ">\n",
    "> - se omitidos, implicitamente entendido como:\n",
    ">\n",
    ">    - início: primeiro elemento\n",
    ">\n",
    ">    - fim: último elemento\n",
    ">\n",
    ">    - passo: de elemento a elemento\n",
    ">\n",
    "> <br>"
   ]
  },
  {
   "cell_type": "code",
   "execution_count": null,
   "id": "eae997f2",
   "metadata": {},
   "outputs": [
    {
     "data": {
      "text/plain": [
       "[1, 2]"
      ]
     },
     "execution_count": 414,
     "metadata": {},
     "output_type": "execute_result"
    }
   ],
   "source": [
    "#      + 0  1  2\n",
    "lista = [1, 2, 3]  # três elementos\n",
    "\n",
    "lista[0:2]\n",
    "\n",
    "# Último elemento não inclusivo (em geral essa é a regra no Python)"
   ]
  },
  {
   "cell_type": "code",
   "execution_count": null,
   "id": "7fc077ed",
   "metadata": {},
   "outputs": [
    {
     "name": "stdout",
     "output_type": "stream",
     "text": [
      "[1, 2, 3]\n"
     ]
    },
    {
     "data": {
      "text/plain": [
       "([1, 2, 3], [1, 2, 3], [1, 2, 3], [1, 2, 3])"
      ]
     },
     "execution_count": 101,
     "metadata": {},
     "output_type": "execute_result"
    }
   ],
   "source": [
    "\n",
    "print(lista)  # lista toda\n",
    "\n",
    "# com slice:\n",
    "\n",
    "lista[0:3], lista[0:len(lista)], lista[0:], lista[:]"
   ]
  },
  {
   "cell_type": "code",
   "execution_count": null,
   "id": "9403cd7b",
   "metadata": {},
   "outputs": [
    {
     "data": {
      "text/plain": [
       "[1, 2, 3, 4, 5, 6]"
      ]
     },
     "execution_count": 419,
     "metadata": {},
     "output_type": "execute_result"
    }
   ],
   "source": [
    "# Alguns métodos de lista\n",
    "\n",
    "# Estender uma lista\n",
    "\n",
    "lista = [1, 2, 3]\n",
    "\n",
    "lista.extend([4, 5, 6])  # inplace (trabalha diretamente na própria lista)\n",
    "\n",
    "lista"
   ]
  },
  {
   "cell_type": "code",
   "execution_count": null,
   "id": "1a0f4354",
   "metadata": {},
   "outputs": [
    {
     "name": "stdout",
     "output_type": "stream",
     "text": [
      "None\n"
     ]
    }
   ],
   "source": [
    "outra_lista = [0, 1, 2]\n",
    "\n",
    "nova_lista = outra_lista.extend([3, 4, 5])  # inplace: exetend retorna None\n",
    "\n",
    "print(nova_lista)"
   ]
  },
  {
   "cell_type": "code",
   "execution_count": null,
   "id": "27b2ade2",
   "metadata": {},
   "outputs": [
    {
     "data": {
      "text/plain": [
       "[1, 2, 3, 4, 5, 6, 'a', 'b', 'c', 'd', 'e']"
      ]
     },
     "execution_count": 420,
     "metadata": {},
     "output_type": "execute_result"
    }
   ],
   "source": [
    "# Estender usando uma sequência\n",
    "\n",
    "lista.extend('abcde')\n",
    "\n",
    "lista"
   ]
  },
  {
   "cell_type": "code",
   "execution_count": 124,
   "id": "f986fe0a",
   "metadata": {},
   "outputs": [
    {
     "data": {
      "text/plain": [
       "[1, 2, 3, 4, 5, 6]"
      ]
     },
     "execution_count": 124,
     "metadata": {},
     "output_type": "execute_result"
    }
   ],
   "source": [
    "# Polimorfismo: um mesmo operador fazendo coisas diferentes\n",
    "\n",
    "lista_a = [1, 2, 3]\n",
    "\n",
    "lista_b = [4, 5, 6]\n",
    "\n",
    "lista_a + lista_b  # operador adição concatena listas"
   ]
  },
  {
   "cell_type": "code",
   "execution_count": null,
   "id": "f15da4cd",
   "metadata": {},
   "outputs": [
    {
     "data": {
      "text/plain": [
       "0"
      ]
     },
     "execution_count": 90,
     "metadata": {},
     "output_type": "execute_result"
    }
   ],
   "source": [
    "# Índice de um item (default: primeira ocorrência)\n",
    "\n",
    "lista.index(1)"
   ]
  },
  {
   "cell_type": "code",
   "execution_count": null,
   "id": "f71ce207",
   "metadata": {},
   "outputs": [
    {
     "data": {
      "text/plain": [
       "[1, 0, 2, 3]"
      ]
     },
     "execution_count": 91,
     "metadata": {},
     "output_type": "execute_result"
    }
   ],
   "source": [
    "# Inserir um item em determinada posição\n",
    "\n",
    "lista.insert(1, 0)\n",
    "\n",
    "lista"
   ]
  },
  {
   "cell_type": "code",
   "execution_count": null,
   "id": "0ffa5e10",
   "metadata": {},
   "outputs": [
    {
     "data": {
      "text/plain": [
       "([0, 1, 2, 3, 4, 5, 6, 7, 8], 9)"
      ]
     },
     "execution_count": 97,
     "metadata": {},
     "output_type": "execute_result"
    }
   ],
   "source": [
    "# Remover e retornar um valor (padrão: último)\n",
    "\n",
    "_ = lista.pop()  # \"_\" variável coringa (armazenamento do valor da última expressão)\n",
    "\n",
    "lista, _"
   ]
  },
  {
   "cell_type": "code",
   "execution_count": null,
   "id": "b32c235b",
   "metadata": {},
   "outputs": [
    {
     "data": {
      "text/plain": [
       "[1, 1, 2, 3, 4, 5, 6, 'b', 'c', 'd']"
      ]
     },
     "execution_count": 424,
     "metadata": {},
     "output_type": "execute_result"
    }
   ],
   "source": [
    "# Remover determinado item (determinada posição)\n",
    "\n",
    "lista.pop(lista.index('a'))\n",
    "\n",
    "lista"
   ]
  },
  {
   "cell_type": "code",
   "execution_count": null,
   "id": "b1f83e36",
   "metadata": {},
   "outputs": [
    {
     "data": {
      "text/plain": [
       "2"
      ]
     },
     "execution_count": 425,
     "metadata": {},
     "output_type": "execute_result"
    }
   ],
   "source": [
    "# Contar quantos elementos\n",
    "\n",
    "lista.count(1)"
   ]
  },
  {
   "cell_type": "code",
   "execution_count": null,
   "id": "94e27aee",
   "metadata": {},
   "outputs": [
    {
     "data": {
      "text/plain": [
       "[20, 20.5, 21]"
      ]
     },
     "execution_count": 100,
     "metadata": {},
     "output_type": "execute_result"
    }
   ],
   "source": [
    "lista = [20.5, 21, 20]\n",
    "\n",
    "# Ordenar\n",
    "\n",
    "lista.sort()  # altera a lista \"inplace\"\n",
    "\n",
    "lista"
   ]
  },
  {
   "cell_type": "code",
   "execution_count": null,
   "id": "a0770b55",
   "metadata": {},
   "outputs": [
    {
     "data": {
      "text/plain": [
       "[21, 20.5, 20]"
      ]
     },
     "execution_count": 101,
     "metadata": {},
     "output_type": "execute_result"
    }
   ],
   "source": [
    "# Ordenar em ordem reversa\n",
    "\n",
    "lista.sort(reverse=True)\n",
    "\n",
    "lista"
   ]
  },
  {
   "cell_type": "markdown",
   "id": "329aaafb",
   "metadata": {},
   "source": [
    "> ## `Lista aninhada` (*`nested list`*)\n",
    ">\n",
    "> ### Uma lista dentro de outra (interna à outra)\n",
    ">\n",
    "> <br>"
   ]
  },
  {
   "cell_type": "code",
   "execution_count": null,
   "id": "c00ff52c",
   "metadata": {},
   "outputs": [
    {
     "data": {
      "text/plain": [
       "[-1, 0, [1.0, 2, 3]]"
      ]
     },
     "execution_count": 428,
     "metadata": {},
     "output_type": "execute_result"
    }
   ],
   "source": [
    "lista_aninhada = [-1, 0, [1.0, 2, 3]]  # lista dentro de lista\n",
    "\n",
    "lista_aninhada"
   ]
  },
  {
   "cell_type": "code",
   "execution_count": 239,
   "id": "fb40ede7",
   "metadata": {},
   "outputs": [
    {
     "name": "stdout",
     "output_type": "stream",
     "text": [
      "['00', '01', '02'] ['11', '12'] 231\n"
     ]
    }
   ],
   "source": [
    "# Indexação Lista Aninhadas\n",
    "\n",
    "nested_list = [\n",
    "    ['00', '01', '02', ],\n",
    "    ['10', '11', '12', ],\n",
    "    ['20', '21', '22', ('230', '231', '232'), ]\n",
    "]\n",
    "\n",
    "print(nested_list[0], nested_list[1][1:], nested_list[2][3][1])"
   ]
  },
  {
   "cell_type": "code",
   "execution_count": null,
   "id": "7d448250",
   "metadata": {},
   "outputs": [
    {
     "name": "stdout",
     "output_type": "stream",
     "text": [
      "[1, 2, 3, 4]\n"
     ]
    }
   ],
   "source": [
    "lista_1 = [1, 2, 3]\n",
    "\n",
    "# Adicionar item ao final\n",
    "\n",
    "lista_1.append(4)\n",
    "\n",
    "print(lista_1)\n"
   ]
  },
  {
   "cell_type": "code",
   "execution_count": 240,
   "id": "fab1d3fd",
   "metadata": {},
   "outputs": [
    {
     "ename": "IndexError",
     "evalue": "list index out of range",
     "output_type": "error",
     "traceback": [
      "\u001b[1;31m---------------------------------------------------------------------------\u001b[0m",
      "\u001b[1;31mIndexError\u001b[0m                                Traceback (most recent call last)",
      "Cell \u001b[1;32mIn[240], line 3\u001b[0m\n\u001b[0;32m      1\u001b[0m \u001b[38;5;66;03m# Ao acessar índice que não existe:\u001b[39;00m\n\u001b[1;32m----> 3\u001b[0m \u001b[43mlista_1\u001b[49m\u001b[43m[\u001b[49m\u001b[38;5;241;43m10\u001b[39;49m\u001b[43m]\u001b[49m\n\u001b[0;32m      5\u001b[0m \u001b[38;5;66;03m# Erro: IndexError - > out of range\u001b[39;00m\n",
      "\u001b[1;31mIndexError\u001b[0m: list index out of range"
     ]
    }
   ],
   "source": [
    "# Ao acessar índice que não existe:\n",
    "\n",
    "lista_1[10]\n",
    "\n",
    "# Erro: IndexError - > out of range\n"
   ]
  },
  {
   "cell_type": "code",
   "execution_count": null,
   "id": "76767ec0",
   "metadata": {},
   "outputs": [
    {
     "data": {
      "text/plain": [
       "[0, 1, 2, 3]"
      ]
     },
     "execution_count": 121,
     "metadata": {},
     "output_type": "execute_result"
    }
   ],
   "source": [
    "# MAS, CONTUDO, PORÉM, TODAVIA, NO ENTANDO:\n",
    "\n",
    "lista = [0, 1, 2]\n",
    "\n",
    "lista.insert(10000, 3)  # inserindo em \"índice que não existe\" (insere no final)\n",
    "\n",
    "lista"
   ]
  },
  {
   "cell_type": "markdown",
   "id": "7374159e",
   "metadata": {},
   "source": [
    "> ## Lista vazia &thinsp; &rarr; &thinsp; `\"Apendar\"` (adicionar ao final)\n",
    ">\n",
    "> <br>"
   ]
  },
  {
   "cell_type": "code",
   "execution_count": null,
   "id": "cb7e9c23",
   "metadata": {},
   "outputs": [
    {
     "data": {
      "text/plain": [
       "[1, 2, 3, 4]"
      ]
     },
     "execution_count": 120,
     "metadata": {},
     "output_type": "execute_result"
    }
   ],
   "source": [
    "lista_1 = [1, 2, 3, 4]\n",
    "\n",
    "lista_3 = []\n",
    "\n",
    "# Há outras formas de se fazer isso (com laço), como veremos depois\n",
    "\n",
    "lista_3.append(lista_1[0])\n",
    "lista_3.append(lista_1[1])\n",
    "lista_3.append(lista_1[2])\n",
    "lista_3.append(lista_1[3])\n",
    "\n",
    "lista_3"
   ]
  },
  {
   "cell_type": "code",
   "execution_count": null,
   "id": "c694e5ad",
   "metadata": {},
   "outputs": [
    {
     "data": {
      "text/plain": [
       "True"
      ]
     },
     "execution_count": 105,
     "metadata": {},
     "output_type": "execute_result"
    }
   ],
   "source": [
    "# Operador Relacional (== - avalia se uma coisa é igual a outra)\n",
    "\n",
    "lista_3 == lista_1\n"
   ]
  },
  {
   "cell_type": "code",
   "execution_count": null,
   "id": "5baafd5e",
   "metadata": {},
   "outputs": [
    {
     "data": {
      "text/plain": [
       "False"
      ]
     },
     "execution_count": 106,
     "metadata": {},
     "output_type": "execute_result"
    }
   ],
   "source": [
    "# Operador Lógico (is - avalia se uma coisa é outra)\n",
    "\n",
    "lista_3 is lista_1"
   ]
  },
  {
   "cell_type": "markdown",
   "id": "13ce6a0d",
   "metadata": {},
   "source": [
    "> ### Função *built-in* `id`\n",
    "> \n",
    "> #### Referência ao endereço de memória do objeto\n",
    ">\n",
    "> <br>"
   ]
  },
  {
   "cell_type": "code",
   "execution_count": null,
   "id": "591b2913",
   "metadata": {},
   "outputs": [
    {
     "data": {
      "text/plain": [
       "(2233812169664, 2233838041664)"
      ]
     },
     "execution_count": 433,
     "metadata": {},
     "output_type": "execute_result"
    }
   ],
   "source": [
    "# Se l3 is not l1 -> são objetos diferentes\n",
    "\n",
    "\n",
    "id(lista_1), id(lista_3)  # \"ids\" diferentes\n",
    "\n",
    "# id?"
   ]
  },
  {
   "cell_type": "code",
   "execution_count": null,
   "id": "aa41eaa7",
   "metadata": {},
   "outputs": [
    {
     "name": "stdout",
     "output_type": "stream",
     "text": [
      "[1, 2, 3, 4]\n",
      "[1, 2, 3, 4]\n"
     ]
    }
   ],
   "source": [
    "# Objetos diferentes, mas são iguais:\n",
    "\n",
    "print(lista_1)\n",
    "\n",
    "print(lista_3)"
   ]
  },
  {
   "cell_type": "code",
   "execution_count": null,
   "id": "e9d0df16",
   "metadata": {},
   "outputs": [],
   "source": [
    "# Definindo l3 a partir de outro objeto (l1)\n",
    "\n",
    "lista_3 = lista_1  # atribuição de lista é uma \"cópia\"\n",
    "\n"
   ]
  },
  {
   "cell_type": "code",
   "execution_count": null,
   "id": "2dc636d4",
   "metadata": {},
   "outputs": [
    {
     "name": "stdout",
     "output_type": "stream",
     "text": [
      "True\n",
      "True\n"
     ]
    }
   ],
   "source": [
    "print(lista_3 == lista_1)  # operador relacional\n",
    "\n",
    "print(lista_3 is lista_1)  # operador lógico (de associção - se uma coisa é outra)"
   ]
  },
  {
   "cell_type": "code",
   "execution_count": null,
   "id": "f141b2a9",
   "metadata": {},
   "outputs": [
    {
     "name": "stdout",
     "output_type": "stream",
     "text": [
      "2209276921216 2209276921216\n",
      "True\n"
     ]
    }
   ],
   "source": [
    "# lista_3 = lista_1 -> atribuição de lista aponta para o mesmo local de memória\n",
    "\n",
    "print(id(lista_1), id(lista_3))\n",
    "\n",
    "print(id(lista_1) == id(lista_3))\n"
   ]
  },
  {
   "cell_type": "code",
   "execution_count": null,
   "id": "9e84543a",
   "metadata": {},
   "outputs": [
    {
     "data": {
      "text/plain": [
       "([1, 2, 3, 4, 4], [1, 2, 3, 4, 4])"
      ]
     },
     "execution_count": 111,
     "metadata": {},
     "output_type": "execute_result"
    }
   ],
   "source": [
    "# Então se modificarmos a lista mãe, muda a lista filha\n",
    "# (se modificarmos o objeto pai, muda o objeto filho)\n",
    "\n",
    "lista_1.append(4)\n",
    "\n",
    "lista_1, lista_3"
   ]
  },
  {
   "cell_type": "code",
   "execution_count": null,
   "id": "70808507",
   "metadata": {},
   "outputs": [
    {
     "name": "stdout",
     "output_type": "stream",
     "text": [
      "True\n"
     ]
    }
   ],
   "source": [
    "print(id(lista_3) == id(lista_1))"
   ]
  },
  {
   "cell_type": "markdown",
   "id": "6074fac0",
   "metadata": {},
   "source": [
    "> ## Objeto `mutável` (*mutable*): __quando se altera o valor do objeto, o *id* não é alterado__ (apesar da alteração de conteúdo o objeto continua tendo o mesmo *id*)\n",
    ">\n",
    "> ### &ensp;&emsp;&emsp;&emsp;&emsp;&emsp; ↳ Objetos complexos: `list`, `set`, `dict`, `bytearray`\n",
    ">\n",
    "> <br>"
   ]
  },
  {
   "cell_type": "code",
   "execution_count": null,
   "id": "f4a9922e",
   "metadata": {},
   "outputs": [
    {
     "name": "stdout",
     "output_type": "stream",
     "text": [
      "[10, 12, 3, 4]\n"
     ]
    },
    {
     "data": {
      "text/plain": [
       "([10, 22, 3], [10, 22, 3])"
      ]
     },
     "execution_count": 114,
     "metadata": {},
     "output_type": "execute_result"
    }
   ],
   "source": [
    "\n",
    "# Listas são mutáveis, podemos alterar seu conteúdo -> vimos alguns métodos que alteram uma lista\n",
    "\n",
    "print(lista_3)\n",
    "\n",
    "lista_3[0] = 10   # substitui o elemento zero\n",
    "\n",
    "lista_3[1] = lista_3[1] + 10  # alterando elemento 1 somando valor ao prórpio elemento \n",
    "\n",
    "del lista_3[-1]   # deletando o último elemento (cuidado: deletar requer reorganizar a lista, se grande requer muito processamento)\n",
    "\n",
    "# como: lista_3 = lista_1   ->   lista_3 == lista_1\n",
    "\n",
    "lista_3, lista_1"
   ]
  },
  {
   "cell_type": "code",
   "execution_count": null,
   "id": "2ed863bc",
   "metadata": {},
   "outputs": [
    {
     "name": "stdout",
     "output_type": "stream",
     "text": [
      "True False\n"
     ]
    }
   ],
   "source": [
    "# Cópia de uma lista como objeto diferente\n",
    "\n",
    "# Método copy\n",
    "\n",
    "lista_4 = lista_1.copy()\n",
    "\n",
    "print(lista_4 == lista_1, id(lista_4) == id(lista_1))  # são iguais\n"
   ]
  },
  {
   "cell_type": "code",
   "execution_count": null,
   "id": "0351e50f",
   "metadata": {},
   "outputs": [
    {
     "name": "stdout",
     "output_type": "stream",
     "text": [
      "2209287361728 2209287100288\n",
      "[0, 2, 3, 4] [1, 2, 3, 4]\n"
     ]
    }
   ],
   "source": [
    "# mas não são o mesmo objeto:\n",
    "\n",
    "print(id(lista_1), id(lista_4))\n",
    "\n",
    "lista_1[0] = 0\n",
    "\n",
    "print(lista_1, lista_4)\n"
   ]
  },
  {
   "cell_type": "markdown",
   "id": "817271f6",
   "metadata": {},
   "source": [
    "> ### Falando em `id`...\n",
    ">\n",
    "> # Gestão de Memória\n",
    ">\n",
    "> <br>"
   ]
  },
  {
   "cell_type": "code",
   "execution_count": 443,
   "id": "ea8108a6",
   "metadata": {},
   "outputs": [
    {
     "name": "stdout",
     "output_type": "stream",
     "text": [
      "50 50 50 50\n"
     ]
    }
   ],
   "source": [
    "x = 50\n",
    "w = 50\n",
    "y = 12 + 38\n",
    "z = 60 - 10\n",
    "\n",
    "print(x, w, y, z)"
   ]
  },
  {
   "cell_type": "code",
   "execution_count": 444,
   "id": "519ba37b",
   "metadata": {},
   "outputs": [
    {
     "data": {
      "text/plain": [
       "True"
      ]
     },
     "execution_count": 444,
     "metadata": {},
     "output_type": "execute_result"
    }
   ],
   "source": [
    "id(x) == id(y) == id(z) == id(w)"
   ]
  },
  {
   "cell_type": "markdown",
   "id": "df533759",
   "metadata": {},
   "source": [
    "> ## __Objetos de mesma classe e mesmo conteúdo apontam para o mesmo `id`__ (mesmo lugar de memória)\n",
    ">\n",
    "> <br>"
   ]
  },
  {
   "cell_type": "code",
   "execution_count": 445,
   "id": "3b4db724",
   "metadata": {},
   "outputs": [
    {
     "name": "stdout",
     "output_type": "stream",
     "text": [
      "2233735120656\n",
      "2233735120656\n",
      "2233735120624\n",
      "2233735120656\n"
     ]
    }
   ],
   "source": [
    "z = 49\n",
    "\n",
    "print(id(x))\n",
    "print(id(y))\n",
    "print(id(z))\n",
    "print(id(w))"
   ]
  },
  {
   "cell_type": "markdown",
   "id": "91a7fb62",
   "metadata": {},
   "source": [
    "\n",
    "> ## Objetos `imutáveis` (*inmutable*): __alteração no valor do objeto implica em alteração do *id* numérico__ (como não pode ser alterado, outro objeto é criado ao se atribuir um novo valor).\n",
    "> \n",
    "> ### &ensp;&emsp;&emsp;&emsp;&emsp;&emsp; ↳ Objetos de classe simples: `int`, `float`, `complex`, `bool`, `None`\n",
    "> ### &ensp;&emsp;&emsp;&emsp;&emsp;&emsp; ↳ Objetos de classe complexas: `string`, `tuple`, `frozenset`, `bytearray`\n",
    ">\n",
    "> <br>\n"
   ]
  },
  {
   "cell_type": "code",
   "execution_count": 130,
   "id": "47745977",
   "metadata": {},
   "outputs": [
    {
     "name": "stdout",
     "output_type": "stream",
     "text": [
      "João True\n",
      "Maria False\n",
      "['Pedro', 'Maria'] True\n"
     ]
    }
   ],
   "source": [
    "# Resumindo:\n",
    "\n",
    "# Mutáveis: \"copia\" o valor\n",
    "\n",
    "nome = 'João'       # nome aponta para João\n",
    "nome_antigo = nome  # nome_antigo aponta para João\n",
    "\n",
    "print(nome_antigo, id(nome_antigo) == id(nome))\n",
    "\n",
    "nome = 'Maria'      # nome aponta para Maria\n",
    "\n",
    "print(nome, id(nome) == id(nome_antigo))\n",
    "\n",
    "\n",
    "# Imutáveis: aponta para mesmo local de memória\n",
    "\n",
    "lista_a = ['João', 'Maria']\n",
    "lista_b = lista_a            # lista_b aponta para a lista_a\n",
    "\n",
    "lista_a[0] = 'Pedro'\n",
    "\n",
    "print(lista_b, id(lista_a) == id(lista_b))\n"
   ]
  },
  {
   "cell_type": "markdown",
   "id": "f165f4b1",
   "metadata": {},
   "source": [
    "> ## `Tuplas`\n",
    ">\n",
    "> <br>"
   ]
  },
  {
   "cell_type": "code",
   "execution_count": 241,
   "id": "5a9cde1a",
   "metadata": {},
   "outputs": [
    {
     "name": "stdout",
     "output_type": "stream",
     "text": [
      "() ()\n"
     ]
    }
   ],
   "source": [
    "# Tuplas vazias (uso limitado): são imutáveis\n",
    "\n",
    "tupla_1 = ()       # no fundo, chama o construtor\n",
    "\n",
    "tupla_2 = tuple()  # construtor\n",
    "\n",
    "print(tupla_1, tupla_2)"
   ]
  },
  {
   "cell_type": "code",
   "execution_count": null,
   "id": "8ce85688",
   "metadata": {},
   "outputs": [
    {
     "name": "stdout",
     "output_type": "stream",
     "text": [
      "('João', 'Maria', 'Helena') <class 'tuple'>\n",
      "('João', 'Maria', 'Helena')\n"
     ]
    }
   ],
   "source": [
    "\n",
    "# Criar tupla passando \"lista sem colchetes\":\n",
    "\n",
    "tupla = 'João', 'Maria', 'Helena'  # elementos separados por vírgula é uma tupla\n",
    "\n",
    "print(tupla, type(tupla))\n",
    "\n",
    "# Pode criar tupla a partir de lista\n",
    "\n",
    "lista = ['João', 'Maria', 'Helena']\n",
    "\n",
    "tupla_de_lista = tuple(lista)\n",
    "\n",
    "print(tupla_de_lista)"
   ]
  },
  {
   "cell_type": "code",
   "execution_count": null,
   "id": "1f00847e",
   "metadata": {},
   "outputs": [
    {
     "data": {
      "text/plain": [
       "((-5, 'c', 3.14, ['a', 'b'], None, False),\n",
       " (-3, 'c', 3.14, [1, 2], ('a', 4.0), None, True))"
      ]
     },
     "execution_count": 150,
     "metadata": {},
     "output_type": "execute_result"
    }
   ],
   "source": [
    "\n",
    "# Suporta vários elementos de qualquer tipo (tuplas aceitam qualquer tipo de objeto)\n",
    "\n",
    "tupla_1 = (-5, 'c', 3.14, ['a', 'b'], None, False)\n",
    "\n",
    "tupla_2 = tuple([-3, 'c', 3.14, [1, 2], ('a', 4.), None, True])\n",
    "\n",
    "tupla_1, tupla_2"
   ]
  },
  {
   "cell_type": "code",
   "execution_count": null,
   "id": "08a00b51",
   "metadata": {},
   "outputs": [
    {
     "ename": "TypeError",
     "evalue": "'int' object is not iterable",
     "output_type": "error",
     "traceback": [
      "\u001b[1;31m---------------------------------------------------------------------------\u001b[0m",
      "\u001b[1;31mTypeError\u001b[0m                                 Traceback (most recent call last)",
      "Cell \u001b[1;32mIn[243], line 3\u001b[0m\n\u001b[0;32m      1\u001b[0m \u001b[38;5;66;03m# Querendo criar uma tupla com único valor:\u001b[39;00m\n\u001b[1;32m----> 3\u001b[0m tupla \u001b[38;5;241m=\u001b[39m \u001b[38;5;28;43mtuple\u001b[39;49m\u001b[43m(\u001b[49m\u001b[38;5;241;43m-\u001b[39;49m\u001b[38;5;241;43m3\u001b[39;49m\u001b[43m)\u001b[49m\n\u001b[0;32m      5\u001b[0m \u001b[38;5;66;03m# Erro: TypeError (not iterable)\u001b[39;00m\n",
      "\u001b[1;31mTypeError\u001b[0m: 'int' object is not iterable"
     ]
    }
   ],
   "source": [
    "# Querendo criar uma tupla com um único valor:\n",
    "\n",
    "tupla = tuple(-3)\n",
    "\n",
    "# Erro de tipagem: TypeError (not iterable)\n"
   ]
  },
  {
   "cell_type": "markdown",
   "id": "2b6543d7",
   "metadata": {},
   "source": [
    "> ### Erros! (ajudam a entender / \"debuggar\")\n",
    ">\n",
    "> > *Syntax Errors*: erro na compilação do código-fonte em código executável\n",
    "> \n",
    "> #### (falaremos mais sobre tratamento de erros depois)\n",
    "> \n",
    "> \n",
    "> ## `iterables` (iteráveis $\\simeq$ sequência / coleção)\n",
    ">\n",
    "> ### &ensp;&emsp;&emsp;&emsp;&emsp;&emsp; ↳ objetos complexos: `string`, `dict`, `tuple`, `set`, `bytearray`\n",
    ">\n",
    "> > OBS: Implementam o método `__iter__`: avaliação preguiçosa, à medida que for necessário\n",
    ">\n",
    "> <br>"
   ]
  },
  {
   "cell_type": "code",
   "execution_count": 244,
   "id": "c022af1e",
   "metadata": {},
   "outputs": [
    {
     "data": {
      "text/plain": [
       "((-3,), (-3,), (-3,))"
      ]
     },
     "execution_count": 244,
     "metadata": {},
     "output_type": "execute_result"
    }
   ],
   "source": [
    "# Querendo criar uma tupla com um único valor:\n",
    "\n",
    "# Usando parênteses, necessário usar a vírgula antes de fechar\n",
    "\n",
    "tupla_1 = (-3,)\n",
    "\n",
    "tupla_2 = -3,\n",
    "\n",
    "tupla_3 = tuple([-3])\n",
    "\n",
    "tupla_1, tupla_2, tupla_3"
   ]
  },
  {
   "cell_type": "code",
   "execution_count": null,
   "id": "223e9132",
   "metadata": {},
   "outputs": [
    {
     "ename": "TypeError",
     "evalue": "'tuple' object does not support item assignment",
     "output_type": "error",
     "traceback": [
      "\u001b[1;31m---------------------------------------------------------------------------\u001b[0m",
      "\u001b[1;31mTypeError\u001b[0m                                 Traceback (most recent call last)",
      "Cell \u001b[1;32mIn[245], line 5\u001b[0m\n\u001b[0;32m      1\u001b[0m \u001b[38;5;66;03m# Tuplas: são imutáveis\u001b[39;00m\n\u001b[0;32m      3\u001b[0m tupla_1 \u001b[38;5;241m=\u001b[39m (\u001b[38;5;241m-\u001b[39m\u001b[38;5;241m3\u001b[39m, \u001b[38;5;124m'\u001b[39m\u001b[38;5;124mc\u001b[39m\u001b[38;5;124m'\u001b[39m, \u001b[38;5;241m1.41\u001b[39m, [\u001b[38;5;241m1\u001b[39m, \u001b[38;5;241m2\u001b[39m], (\u001b[38;5;124m'\u001b[39m\u001b[38;5;124ma\u001b[39m\u001b[38;5;124m'\u001b[39m, \u001b[38;5;241m4.\u001b[39m), \u001b[38;5;28;01mNone\u001b[39;00m, \u001b[38;5;28;01mTrue\u001b[39;00m)\n\u001b[1;32m----> 5\u001b[0m \u001b[43mtupla_1\u001b[49m\u001b[43m[\u001b[49m\u001b[38;5;241;43m0\u001b[39;49m\u001b[43m]\u001b[49m \u001b[38;5;241m=\u001b[39m \u001b[38;5;241m50\u001b[39m\n\u001b[0;32m      7\u001b[0m \u001b[38;5;66;03m# Precisaria criar uma nova tupla ou sobreescrever a antiga:\u001b[39;00m\n\u001b[0;32m      8\u001b[0m \n\u001b[0;32m      9\u001b[0m \u001b[38;5;66;03m# tupla_1 = tuple([50, 'c', y, [1, 2], ('a', 4.), None, True])\u001b[39;00m\n",
      "\u001b[1;31mTypeError\u001b[0m: 'tuple' object does not support item assignment"
     ]
    }
   ],
   "source": [
    "# Tuplas: são imutáveis\n",
    "\n",
    "tupla_1 = (-3, 'c', 1.41, [1, 2], ('a', 4.), None, True)\n",
    "\n",
    "tupla_1[0] = 50  # não permite alteração\n",
    "\n",
    "# Precisaria criar uma nova tupla ou sobreescrever a antiga:\n",
    "\n",
    "# tupla_1 = tuple([50, 'c', y, [1, 2], ('a', 4.), None, True])"
   ]
  },
  {
   "cell_type": "markdown",
   "id": "0f8f8b74",
   "metadata": {},
   "source": [
    "> #### (Falando em Lista e Tupla -> iteráveis)\n",
    ">\n",
    "> ## `Empacotamento` / `Desempacotamento`\n",
    ">\n",
    "> ###     *Packing* / *Unpacking*\n",
    ">\n",
    "> <br>"
   ]
  },
  {
   "cell_type": "code",
   "execution_count": null,
   "id": "3ed645e7",
   "metadata": {},
   "outputs": [
    {
     "name": "stdout",
     "output_type": "stream",
     "text": [
      "Maria João Helena\n",
      "Maria João Helena\n"
     ]
    }
   ],
   "source": [
    "nomes_lista = ['Maria', 'João', 'Helena']\n",
    "\n",
    "nomes_tupla = ('Maria', 'João', 'Helena')\n",
    "\n",
    "nome1_l, nome2_l, nome3_l = nomes_lista  # desempacotamento da lista\n",
    "\n",
    "nome1_t, nome2_t, nome3_t = nomes_tupla  # desempacotamento da tupla\n",
    "\n",
    "print(nome1_l, nome2_l, nome3_l)\n",
    "\n",
    "print(nome1_t, nome2_t, nome3_t)"
   ]
  },
  {
   "cell_type": "markdown",
   "id": "e2475f88",
   "metadata": {},
   "source": [
    "> ## Operador `*`\n",
    ">\n",
    "> ###  Empacotamento e desempacotamento de iterável\n",
    ">\n",
    "> <br>"
   ]
  },
  {
   "cell_type": "code",
   "execution_count": null,
   "id": "2b0a5b7e",
   "metadata": {},
   "outputs": [
    {
     "name": "stdout",
     "output_type": "stream",
     "text": [
      "Maria João Helena\n"
     ]
    }
   ],
   "source": [
    "# Operador * e desempacotamento de lista\n",
    "\n",
    "lista = ['Maria', 'João', 'Helena']\n",
    "\n",
    "# Expansão de Lista\n",
    "\n",
    "print(*lista)  # desempacotamento (unpacking)\n"
   ]
  },
  {
   "cell_type": "code",
   "execution_count": null,
   "id": "22f4ea39",
   "metadata": {},
   "outputs": [
    {
     "name": "stdout",
     "output_type": "stream",
     "text": [
      "Maria João Helena 1 2 a b c\n"
     ]
    }
   ],
   "source": [
    "# Operador * e desempacotamento de tupla\n",
    "\n",
    "tupla = 'Maria', 'João', 'Helena', 1, 2, 'a', 'b', 'c'\n",
    "\n",
    "# Expansão de Tupla\n",
    "\n",
    "print(*tupla)  # desempacotamento (unpacking)\n"
   ]
  },
  {
   "cell_type": "code",
   "execution_count": null,
   "id": "91231f5f",
   "metadata": {},
   "outputs": [
    {
     "name": "stdout",
     "output_type": "stream",
     "text": [
      "['Maria', 'João', 'Helena']\n",
      "[1, 2, 3, 4]\n",
      "['a', 'b', 'c', 'd', 'e', 'f']\n"
     ]
    }
   ],
   "source": [
    "# Operador * e desempacotamento de iterável\n",
    "\n",
    "# Lista Aninhada\n",
    "\n",
    "lista_aninhada = [['Maria', 'João', 'Helena'],\n",
    "                  [1, 2, 3, 4],\n",
    "                  ['a', 'b', 'c', 'd', 'e', 'f']]\n",
    "\n",
    "print(*lista_aninhada, sep='\\n')  # cada sublista em um linha\n",
    "\n",
    "# Alterar o separador pode ajudar a debuggar / visualizar"
   ]
  },
  {
   "cell_type": "code",
   "execution_count": 221,
   "id": "70b76bbc",
   "metadata": {},
   "outputs": [
    {
     "name": "stdout",
     "output_type": "stream",
     "text": [
      "Maria ['João', 'Helena']\n",
      "Maria ['João', 'Helena']\n"
     ]
    }
   ],
   "source": [
    "nomes_lista = ['Maria', 'João', 'Helena']\n",
    "\n",
    "nomes_tupla = ('Maria', 'João', 'Helena')\n",
    "\n",
    "nome1_l, *resto_lista = nomes_lista  # empacotamento da lista\n",
    "\n",
    "nome1_t, *resto_tupla = nomes_tupla  # empacotamento da tupla\n",
    "\n",
    "print(nome1_l, resto_lista)\n",
    "\n",
    "print(nome1_t, resto_tupla)"
   ]
  },
  {
   "cell_type": "code",
   "execution_count": 205,
   "id": "e9682c87",
   "metadata": {},
   "outputs": [
    {
     "name": "stdout",
     "output_type": "stream",
     "text": [
      "Maria ['João', 'Helena'] Carlos\n",
      "Maria João ['Helena', 'Carlos']\n"
     ]
    }
   ],
   "source": [
    "nomes_tupla = ('Maria', 'João', 'Helena', 'Carlos')\n",
    "\n",
    "nome1, *_, nome4 = nomes_tupla  # \"_\" variável coringa (armazenamento do valor da última expressão)\n",
    "\n",
    "print(nome1, _, nome4)\n",
    "\n",
    "nome1, nome2, *_ = nomes_tupla\n",
    "\n",
    "print(nome1, nome2, _)"
   ]
  },
  {
   "cell_type": "code",
   "execution_count": null,
   "id": "dbbbd4ba",
   "metadata": {},
   "outputs": [
    {
     "ename": "ValueError",
     "evalue": "too many values to unpack (expected 2)",
     "output_type": "error",
     "traceback": [
      "\u001b[1;31m---------------------------------------------------------------------------\u001b[0m",
      "\u001b[1;31mValueError\u001b[0m                                Traceback (most recent call last)",
      "Cell \u001b[1;32mIn[135], line 3\u001b[0m\n\u001b[0;32m      1\u001b[0m nomes \u001b[38;5;241m=\u001b[39m [\u001b[38;5;124m'\u001b[39m\u001b[38;5;124mMaria\u001b[39m\u001b[38;5;124m'\u001b[39m, \u001b[38;5;124m'\u001b[39m\u001b[38;5;124mJoão\u001b[39m\u001b[38;5;124m'\u001b[39m, \u001b[38;5;124m'\u001b[39m\u001b[38;5;124mHelena\u001b[39m\u001b[38;5;124m'\u001b[39m]\n\u001b[1;32m----> 3\u001b[0m nome1, nome2 \u001b[38;5;241m=\u001b[39m nomes  \u001b[38;5;66;03m# erro desempacotamento\u001b[39;00m\n",
      "\u001b[1;31mValueError\u001b[0m: too many values to unpack (expected 2)"
     ]
    }
   ],
   "source": [
    "nomes = ['Maria', 'João', 'Helena']\n",
    "\n",
    "nome1, nome2 = nomes  # erro desempacotamento\n",
    "\n",
    "# Erro do tipo ValueError (too many values to unpack)"
   ]
  },
  {
   "cell_type": "code",
   "execution_count": null,
   "id": "e22e0c22",
   "metadata": {},
   "outputs": [
    {
     "ename": "ValueError",
     "evalue": "not enough values to unpack (expected 4, got 3)",
     "output_type": "error",
     "traceback": [
      "\u001b[1;31m---------------------------------------------------------------------------\u001b[0m",
      "\u001b[1;31mValueError\u001b[0m                                Traceback (most recent call last)",
      "Cell \u001b[1;32mIn[136], line 3\u001b[0m\n\u001b[0;32m      1\u001b[0m nomes \u001b[38;5;241m=\u001b[39m [\u001b[38;5;124m'\u001b[39m\u001b[38;5;124mMaria\u001b[39m\u001b[38;5;124m'\u001b[39m, \u001b[38;5;124m'\u001b[39m\u001b[38;5;124mJoão\u001b[39m\u001b[38;5;124m'\u001b[39m, \u001b[38;5;124m'\u001b[39m\u001b[38;5;124mHelena\u001b[39m\u001b[38;5;124m'\u001b[39m]\n\u001b[1;32m----> 3\u001b[0m nome1, nome2, nome3, nome4 \u001b[38;5;241m=\u001b[39m nomes  \u001b[38;5;66;03m# erro desempacotamento\u001b[39;00m\n\u001b[0;32m      5\u001b[0m \u001b[38;5;66;03m# Erro do tipo ValueError (too many values to unpack)\u001b[39;00m\n",
      "\u001b[1;31mValueError\u001b[0m: not enough values to unpack (expected 4, got 3)"
     ]
    }
   ],
   "source": [
    "nomes = ['Maria', 'João', 'Helena']\n",
    "\n",
    "nome1, nome2, nome3, nome4 = nomes  # erro desempacotamento\n",
    "\n",
    "# Erro do tipo ValueError (not enough values to unpack)"
   ]
  },
  {
   "cell_type": "markdown",
   "id": "98282a56",
   "metadata": {},
   "source": [
    "> ...voltando aos tipos nativos:\n",
    ">\n",
    "> ## `Dicionários`\n",
    ">\n",
    "> <br>"
   ]
  },
  {
   "cell_type": "code",
   "execution_count": null,
   "id": "b09a9a85",
   "metadata": {},
   "outputs": [
    {
     "name": "stdout",
     "output_type": "stream",
     "text": [
      "{} {}\n"
     ]
    }
   ],
   "source": [
    "# Dicionários\n",
    "\n",
    "dicionario_1 = dict()\n",
    "\n",
    "dicionario_2 = {}\n",
    "\n",
    "print(dicionario_1, dicionario_2)"
   ]
  },
  {
   "cell_type": "code",
   "execution_count": null,
   "id": "d4f9fe5b",
   "metadata": {},
   "outputs": [
    {
     "data": {
      "text/plain": [
       "({'a': 1, 'b': 2, 'c': 3}, {'a': 10, 'b': 2, 'c': 3})"
      ]
     },
     "execution_count": 147,
     "metadata": {},
     "output_type": "execute_result"
    }
   ],
   "source": [
    "# Dicionários: estrutura chave-valor\n",
    "\n",
    "dicionario_1 = dict(a=1, b=2, c=3)\n",
    "\n",
    "dicionario_2 = {'a': 10, 'b': 2, 'c': 3}\n",
    "\n",
    "dicionario_1, dicionario_2"
   ]
  },
  {
   "cell_type": "code",
   "execution_count": null,
   "id": "23b86b4e",
   "metadata": {},
   "outputs": [
    {
     "data": {
      "text/plain": [
       "{'a': 10,\n",
       " 'b': (12.0, 34.0),\n",
       " 'c': [4.0, 5.0, 6.0],\n",
       " 'd': {'a': True, 'b': False, 'c': None}}"
      ]
     },
     "execution_count": 148,
     "metadata": {},
     "output_type": "execute_result"
    }
   ],
   "source": [
    "# Dicionários aceitam qualquer tipo de objeto\n",
    "\n",
    "dicionario_3 = {\n",
    "    'a': 10,\n",
    "    'b': (12., 34.),\n",
    "    'c': [4., 5., 6.],\n",
    "    'd': {'a': True, 'b': False, 'c': None}\n",
    "    }\n",
    "\n",
    "dicionario_3"
   ]
  },
  {
   "cell_type": "code",
   "execution_count": null,
   "id": "0ad19346",
   "metadata": {},
   "outputs": [
    {
     "data": {
      "text/plain": [
       "(10, (12.0, 34.0), 6.0, None)"
      ]
     },
     "execution_count": 149,
     "metadata": {},
     "output_type": "execute_result"
    }
   ],
   "source": [
    "# Indexação: acesso a valor através do uso de chave\n",
    "\n",
    "chave = 'b'\n",
    "\n",
    "dicionario_3['a'], dicionario_3[chave], dicionario_3['c'][-1], dicionario_3['d']['c']\n"
   ]
  },
  {
   "cell_type": "code",
   "execution_count": null,
   "id": "f372e734",
   "metadata": {},
   "outputs": [
    {
     "data": {
      "text/plain": [
       "{'a': 10,\n",
       " 'b': (12.0, 34.0),\n",
       " 'c': [4.0, 5.0, 6.0],\n",
       " 'd': {'a': True, 'b': False, 'c': None},\n",
       " 100: 100,\n",
       " 50.0: '50.',\n",
       " (1, 'a', 27.45): None}"
      ]
     },
     "execution_count": 150,
     "metadata": {},
     "output_type": "execute_result"
    }
   ],
   "source": [
    "# chave de dicionário também pode ser um número, tupla (objetos imutáveis)\n",
    "\n",
    "dicionario_3[100] = 100\n",
    "\n",
    "dicionario_3[50.] = '50.'\n",
    "\n",
    "dicionario_3[(1, 'a', 27.45)] = None\n",
    "\n",
    "dicionario_3"
   ]
  },
  {
   "cell_type": "code",
   "execution_count": null,
   "id": "b3f27150",
   "metadata": {},
   "outputs": [
    {
     "name": "stdout",
     "output_type": "stream",
     "text": [
      "180\n"
     ]
    },
    {
     "data": {
      "text/plain": [
       "{'a': 90,\n",
       " 'b': (12.0, 34.0),\n",
       " 'c': [4.0, 5.0, 6.0],\n",
       " 'd': {'a': True, 'b': False, 'c': None},\n",
       " 100: 100,\n",
       " 50.0: '50.',\n",
       " (1, 'a', 27.45): None,\n",
       " 'e': 90}"
      ]
     },
     "execution_count": 151,
     "metadata": {},
     "output_type": "execute_result"
    }
   ],
   "source": [
    "# Dicionários: são mutáveis\n",
    "\n",
    "dicionario_3['a'] += 80  # -> d3['a'] = d3['a'] + 80 (operador de atribuição)\n",
    "\n",
    "dicionario_3['e'] = 90\n",
    "\n",
    "print(dicionario_3['a'] + dicionario_3['e'])\n",
    "\n",
    "dicionario_3\n"
   ]
  },
  {
   "cell_type": "markdown",
   "id": "44a92423",
   "metadata": {},
   "source": [
    "> ### OBS: **`Em Python, atribuição de objeto mutável aponta para o mesmo local de memória`**\n",
    ">\n",
    "> Exemplo:\n",
    ">\n",
    "> <br>"
   ]
  },
  {
   "cell_type": "code",
   "execution_count": null,
   "id": "219b1f8d",
   "metadata": {},
   "outputs": [
    {
     "name": "stdout",
     "output_type": "stream",
     "text": [
      "True\n",
      "True\n"
     ]
    }
   ],
   "source": [
    "# Dicionários:\n",
    "\n",
    "dicionario = {'a': 1, 'b': 2,}\n",
    "\n",
    "dicionario_1 = dicionario\n",
    "\n",
    "print(id(dicionario_1) == id(dicionario))\n",
    "\n",
    "# Listas:\n",
    "\n",
    "lista = ['a', 'b']\n",
    "\n",
    "lista1 = lista\n",
    "\n",
    "print(id(lista1) == id(lista))"
   ]
  },
  {
   "cell_type": "code",
   "execution_count": null,
   "id": "9217642d",
   "metadata": {},
   "outputs": [
    {
     "data": {
      "text/plain": [
       "(dict_keys, dict_keys(['a', 'b', 'c']))"
      ]
     },
     "execution_count": 213,
     "metadata": {},
     "output_type": "execute_result"
    }
   ],
   "source": [
    "# Alguns métodos\n",
    "\n",
    "dicionario_1 = dict(a=1, b=2, c=3)\n",
    "\n",
    "# Percorrer pelas chaves\n",
    "\n",
    "keys = dicionario_1.keys()\n",
    "\n",
    "type(keys), keys"
   ]
  },
  {
   "cell_type": "code",
   "execution_count": null,
   "id": "491aad36",
   "metadata": {},
   "outputs": [
    {
     "data": {
      "text/plain": [
       "dict_values([1, 2, 3])"
      ]
     },
     "execution_count": 203,
     "metadata": {},
     "output_type": "execute_result"
    }
   ],
   "source": [
    "\n",
    "dicionario_1 = dict(a=1, b=2, c=3)\n",
    "\n",
    "# Percorrer pelos valores\n",
    "\n",
    "dicionario_1.values()"
   ]
  },
  {
   "cell_type": "code",
   "execution_count": null,
   "id": "b0c64028",
   "metadata": {},
   "outputs": [
    {
     "data": {
      "text/plain": [
       "dict_items([('a', 1), ('b', 2), ('c', 3)])"
      ]
     },
     "execution_count": 204,
     "metadata": {},
     "output_type": "execute_result"
    }
   ],
   "source": [
    "\n",
    "dicionario_1 = dict(a=1, b=2, c=3)\n",
    "\n",
    "# Percorrer pelo par chave-valor\n",
    "\n",
    "dicionario_1.items()\n"
   ]
  },
  {
   "cell_type": "code",
   "execution_count": null,
   "id": "ce6b5fcd",
   "metadata": {},
   "outputs": [
    {
     "data": {
      "text/plain": [
       "(3, None)"
      ]
     },
     "execution_count": 70,
     "metadata": {},
     "output_type": "execute_result"
    }
   ],
   "source": [
    "# Iterar sobre chaves (se não existir não ocorre erro)\n",
    "\n",
    "dicionario_1 = dict(a=1, b=2, c=3)\n",
    "\n",
    "# dicionario_1['c'], dicionario_1['d'] -> erro: KeyError\n",
    "\n",
    "# Método get, acessar valor de uma chave, sem erro mesmo se não existir a chave\n",
    "\n",
    "dicionario_1.get('c'), dicionario_1.get('d')"
   ]
  },
  {
   "cell_type": "code",
   "execution_count": null,
   "id": "01dee983",
   "metadata": {},
   "outputs": [
    {
     "name": "stdout",
     "output_type": "stream",
     "text": [
      "{'a': 1, 'b': 22, 'c': 3, 'd': 4}\n",
      "\n",
      "{'a': 1, 'b': 22, 'c': 3, 'd': 44, 'e': 6}\n"
     ]
    },
    {
     "data": {
      "text/plain": [
       "{'a': 1, 'b': 22, 'c': 3, 'd': 44, 'e': 66, 'f': 7}"
      ]
     },
     "execution_count": 78,
     "metadata": {},
     "output_type": "execute_result"
    }
   ],
   "source": [
    "dicionario_1 = dict(a=1, b=2, c=3)\n",
    "\n",
    "b = {'b': 22, 'd': 4}\n",
    "\n",
    "# Atualizar / juntar um dicionário com outro\n",
    "\n",
    "dicionario_1.update(b)\n",
    "\n",
    "print(dicionario_1), print()  # só para pular uma linha\n",
    "\n",
    "# Pode passar lista ou tupla\n",
    "\n",
    "dicionario_1.update([('d', 44), ('e', 6)])\n",
    "\n",
    "print(dicionario_1)\n",
    "\n",
    "dicionario_1.update([['e', 66], ['f', 7]])\n",
    "\n",
    "dicionario_1"
   ]
  },
  {
   "cell_type": "code",
   "execution_count": null,
   "id": "cd19006c",
   "metadata": {},
   "outputs": [
    {
     "name": "stdout",
     "output_type": "stream",
     "text": [
      "{'a': 1, 'b': 22, 'c': 3, 'd': 44, 'e': 66, 'f': 7}\n"
     ]
    },
    {
     "data": {
      "text/plain": [
       "(8, 7)"
      ]
     },
     "execution_count": 79,
     "metadata": {},
     "output_type": "execute_result"
    }
   ],
   "source": [
    "print(dicionario_1)\n",
    "\n",
    "# Valor padrão caso a chave não exista\n",
    "\n",
    "dicionario_1.setdefault('g', 8), dicionario_1.setdefault('f', 77)"
   ]
  },
  {
   "cell_type": "code",
   "execution_count": null,
   "id": "3d674eeb",
   "metadata": {},
   "outputs": [
    {
     "data": {
      "text/plain": [
       "{'a': None, 'b': None, 'c': None}"
      ]
     },
     "execution_count": 215,
     "metadata": {},
     "output_type": "execute_result"
    }
   ],
   "source": [
    "# Criar dicionário \"vazio\" com chaves específicas\n",
    "\n",
    "keys = ['a', 'b', 'c']\n",
    "\n",
    "dicionario = {}.fromkeys(keys)\n",
    "\n",
    "dicionario"
   ]
  },
  {
   "cell_type": "markdown",
   "id": "82af2d53",
   "metadata": {},
   "source": [
    "> ## `Conjuntos`\n",
    ">\n",
    "> <br>"
   ]
  },
  {
   "cell_type": "code",
   "execution_count": null,
   "id": "fcb57902",
   "metadata": {},
   "outputs": [
    {
     "data": {
      "text/plain": [
       "(set(), set, 0)"
      ]
     },
     "execution_count": 39,
     "metadata": {},
     "output_type": "execute_result"
    }
   ],
   "source": [
    "# Conjuntos\n",
    "\n",
    "conjunto = set()\n",
    "\n",
    "conjunto, type(conjunto), len(conjunto)"
   ]
  },
  {
   "cell_type": "code",
   "execution_count": null,
   "id": "52fac6b2",
   "metadata": {},
   "outputs": [
    {
     "data": {
      "text/plain": [
       "(set, dict)"
      ]
     },
     "execution_count": 27,
     "metadata": {},
     "output_type": "execute_result"
    }
   ],
   "source": [
    "# Conjuntos - também se constrói usando colchetes\n",
    "\n",
    "conjunto = {'a', 'b', 'c'}\n",
    "\n",
    "# Mas cuidado, lembre-se que colchetes vazios é um dicionário vazio\n",
    "\n",
    "conjunto_1 = {}\n",
    "\n",
    "type(conjunto), type(conjunto_1)"
   ]
  },
  {
   "cell_type": "code",
   "execution_count": null,
   "id": "6295ce26",
   "metadata": {},
   "outputs": [
    {
     "ename": "TypeError",
     "evalue": "set expected at most 1 argument, got 3",
     "output_type": "error",
     "traceback": [
      "\u001b[1;31m---------------------------------------------------------------------------\u001b[0m",
      "\u001b[1;31mTypeError\u001b[0m                                 Traceback (most recent call last)",
      "Cell \u001b[1;32mIn[48], line 3\u001b[0m\n\u001b[0;32m      1\u001b[0m \u001b[38;5;66;03m# Querendo criar um conjunto\u001b[39;00m\n\u001b[1;32m----> 3\u001b[0m s \u001b[38;5;241m=\u001b[39m \u001b[38;5;28;43mset\u001b[39;49m\u001b[43m(\u001b[49m\u001b[38;5;241;43m1\u001b[39;49m\u001b[43m,\u001b[49m\u001b[43m \u001b[49m\u001b[38;5;241;43m2\u001b[39;49m\u001b[43m,\u001b[49m\u001b[43m \u001b[49m\u001b[38;5;241;43m3\u001b[39;49m\u001b[43m)\u001b[49m\n",
      "\u001b[1;31mTypeError\u001b[0m: set expected at most 1 argument, got 3"
     ]
    }
   ],
   "source": [
    "# Querendo criar um conjunto\n",
    "\n",
    "conjunto = set(1, 2, 3)\n"
   ]
  },
  {
   "cell_type": "code",
   "execution_count": null,
   "id": "b08af134",
   "metadata": {},
   "outputs": [
    {
     "name": "stdout",
     "output_type": "stream",
     "text": [
      "{1, 2, 3} {1, 2, 3}\n"
     ]
    }
   ],
   "source": [
    "# Criando a partir de lista ou tupla\n",
    "\n",
    "lista = [1, 2, 3]\n",
    "\n",
    "tupla = (1, 2, 3)\n",
    "\n",
    "conjunto_1 = set(lista)\n",
    "\n",
    "conjunto_2 = set(tupla)\n",
    "\n",
    "print(conjunto_1, conjunto_2)\n"
   ]
  },
  {
   "cell_type": "code",
   "execution_count": null,
   "id": "36b51513",
   "metadata": {},
   "outputs": [
    {
     "data": {
      "text/plain": [
       "({1, 2, 3, 4}, {1, 2, 3, 4})"
      ]
     },
     "execution_count": 80,
     "metadata": {},
     "output_type": "execute_result"
    }
   ],
   "source": [
    "# Exemplo de uso de conjuntos\n",
    "\n",
    "# Em um conjunto não há valores repetidos\n",
    "\n",
    "lista = [1, 2, 2, 3, 3, 3, 4, 4, 4, 4,]\n",
    "\n",
    "conjunto_1 = set(lista)\n",
    "\n",
    "conjunto_2 = {*lista}  # expansão / desempacotamento de lista\n",
    "\n",
    "conjunto_1, conjunto_2"
   ]
  },
  {
   "cell_type": "code",
   "execution_count": null,
   "id": "5b9f6bac",
   "metadata": {},
   "outputs": [
    {
     "name": "stdout",
     "output_type": "stream",
     "text": [
      "{1, 2, 3}\n",
      "{'3', 2, 3, 1}\n"
     ]
    }
   ],
   "source": [
    "# Em um conjunto não há valores repetidos\n",
    "\n",
    "# Mas cuidado:\n",
    "\n",
    "conjunto_1 = {1, 2, 2, 3, 3, 3}\n",
    "\n",
    "print(conjunto_1)\n",
    "\n",
    "conjunto_2 = {1, 2, 2., 3, 3.0, '3'}\n",
    "\n",
    "print(conjunto_2)\n"
   ]
  },
  {
   "cell_type": "code",
   "execution_count": null,
   "id": "eac61495",
   "metadata": {},
   "outputs": [
    {
     "ename": "TypeError",
     "evalue": "unhashable type: 'list'",
     "output_type": "error",
     "traceback": [
      "\u001b[1;31m---------------------------------------------------------------------------\u001b[0m",
      "\u001b[1;31mTypeError\u001b[0m                                 Traceback (most recent call last)",
      "Cell \u001b[1;32mIn[74], line 3\u001b[0m\n\u001b[0;32m      1\u001b[0m \u001b[38;5;66;03m# Nem tudo pode pertencer a (estar contido em) um conjunto\u001b[39;00m\n\u001b[1;32m----> 3\u001b[0m \u001b[38;5;28;43mset\u001b[39;49m\u001b[43m(\u001b[49m\u001b[43m[\u001b[49m\u001b[38;5;241;43m1\u001b[39;49m\u001b[43m,\u001b[49m\u001b[43m \u001b[49m\u001b[38;5;241;43m2.\u001b[39;49m\u001b[43m,\u001b[49m\u001b[43m \u001b[49m\u001b[38;5;124;43m'\u001b[39;49m\u001b[38;5;124;43m3\u001b[39;49m\u001b[38;5;124;43m'\u001b[39;49m\u001b[43m,\u001b[49m\u001b[43m \u001b[49m\u001b[43m(\u001b[49m\u001b[38;5;241;43m4\u001b[39;49m\u001b[43m,\u001b[49m\u001b[43m \u001b[49m\u001b[38;5;241;43m-\u001b[39;49m\u001b[38;5;241;43m5\u001b[39;49m\u001b[43m)\u001b[49m\u001b[43m,\u001b[49m\u001b[43m \u001b[49m\u001b[43m[\u001b[49m\u001b[38;5;241;43m6\u001b[39;49m\u001b[43m,\u001b[49m\u001b[43m \u001b[49m\u001b[38;5;241;43m7.\u001b[39;49m\u001b[43m,\u001b[49m\u001b[43m \u001b[49m\u001b[38;5;124;43m'\u001b[39;49m\u001b[38;5;124;43m8\u001b[39;49m\u001b[38;5;124;43m'\u001b[39;49m\u001b[43m]\u001b[49m\u001b[43m]\u001b[49m\u001b[43m)\u001b[49m\n",
      "\u001b[1;31mTypeError\u001b[0m: unhashable type: 'list'"
     ]
    }
   ],
   "source": [
    "# Nem tudo pode pertencer a (estar contido em) um conjunto\n",
    "\n",
    "set([1, 2., '3', (4, -5), [6, 7., '8']])"
   ]
  },
  {
   "cell_type": "markdown",
   "id": "51df95f6",
   "metadata": {},
   "source": [
    "> ## `hashable` e `unhashable`\n",
    ">\n",
    "> ### Comando `hash`\n",
    ">\n",
    "> #### Referência ao identificador numérico do objeto (não é o ponteiro de memória); é calculado a partir do conteúdo do objeto.\n",
    ">\n",
    "> #### &ensp;&emsp; ↳ __Hashable__: objetos __imutáveis__ (`int`, `float`, `string`, `tuple`)\n",
    ">\n",
    "> #### &ensp;&emsp; ↳ __Unhashable__: objetos __mutáveis__ (`list`, `dict`, `set`)\n",
    ">\n",
    "> <br>\n",
    ">\n",
    "> > Portanto, __apenas objetos imutáveis possuem `hash`__\n",
    ">\n",
    "> <br>"
   ]
  },
  {
   "cell_type": "code",
   "execution_count": null,
   "id": "d4585357",
   "metadata": {},
   "outputs": [
    {
     "name": "stdout",
     "output_type": "stream",
     "text": [
      "{1, 2.0, '3', (4, -5)}\n",
      "1\n",
      "2\n",
      "-3711485770636015630\n",
      "6760200777197352020\n"
     ]
    }
   ],
   "source": [
    "# Conjuntos aceitam apenas objetos imutáveis\n",
    "\n",
    "# Embora, conjuntos sejam objetos mutáveis\n",
    "\n",
    "conjunto = set([1, 2., '3', (4, -5),])\n",
    "\n",
    "print(conjunto)\n",
    "\n",
    "print(hash(1))  # hash de um inteiro é o próprio número\n",
    "\n",
    "print(hash(2.))\n",
    "\n",
    "print(hash('3'))\n",
    "\n",
    "print(hash((4, -5)))\n"
   ]
  },
  {
   "cell_type": "markdown",
   "id": "79633c7c",
   "metadata": {},
   "source": [
    "> ### __Em conjunto, não há números com mesmo *hash*__\n",
    ">\n",
    "> #### Por isso não há elementos repetidos no conjunto\n",
    ">\n",
    "> <br>"
   ]
  },
  {
   "cell_type": "code",
   "execution_count": null,
   "id": "79e410f1",
   "metadata": {},
   "outputs": [
    {
     "name": "stdout",
     "output_type": "stream",
     "text": [
      "3 3\n",
      "{3}\n"
     ]
    }
   ],
   "source": [
    "\n",
    "print(hash(3), hash(3.000000000000))\n",
    "\n",
    "print(set([3, 3.000000000000]))"
   ]
  },
  {
   "cell_type": "code",
   "execution_count": null,
   "id": "f3ead772",
   "metadata": {},
   "outputs": [
    {
     "name": "stdout",
     "output_type": "stream",
     "text": [
      "-2 -2\n",
      "{-1, -2}\n",
      "1972955513008 1972955512976\n"
     ]
    }
   ],
   "source": [
    "# Exceção: Valores diferentes com mesmo hash\n",
    "\n",
    "print(hash(-1), hash(-2))\n",
    "\n",
    "print(set([-1, -2]))\n",
    "\n",
    "print(id(-1), id(-2))"
   ]
  },
  {
   "cell_type": "code",
   "execution_count": null,
   "id": "ef2223d8",
   "metadata": {},
   "outputs": [
    {
     "name": "stdout",
     "output_type": "stream",
     "text": [
      "{10, 7}\n",
      "{7}\n"
     ]
    }
   ],
   "source": [
    "# Alguns métodos\n",
    "\n",
    "conjunto = set()\n",
    "\n",
    "conjunto.add(7)  # adicionar elemento\n",
    "\n",
    "conjunto.add(10)\n",
    "\n",
    "print(conjunto)\n",
    "\n",
    "conjunto.discard(10)  # descaratar elemento\n",
    "\n",
    "print(conjunto)\n",
    "\n",
    "conjunto.discard(100)  # não ocorre erro se não pertencer ao conjunto, diferentemente\n",
    "\n",
    "# de conjunto.remove(100), se o elemento não estiver contido no conjunto"
   ]
  },
  {
   "cell_type": "code",
   "execution_count": null,
   "id": "8b88390a",
   "metadata": {},
   "outputs": [
    {
     "name": "stdout",
     "output_type": "stream",
     "text": [
      "{1, 2, 3, 4}\n",
      "{8, 9, 6, 7}\n"
     ]
    },
    {
     "data": {
      "text/plain": [
       "{1, 2, 3, 4}"
      ]
     },
     "execution_count": 102,
     "metadata": {},
     "output_type": "execute_result"
    }
   ],
   "source": [
    "conjunto_1 = {0, 1, 2, 3, 4, 5}\n",
    "\n",
    "conjunto_2 = {5, 6, 7, 8, 9, 0}\n",
    "\n",
    "diferenca_1 = conjunto_1.difference(conjunto_2)  # elementos em conjunto_1 que não estão em conjunto_2\n",
    "\n",
    "diferenca_2 = conjunto_2.difference(conjunto_1)\n",
    "\n",
    "print(diferenca_1)\n",
    "\n",
    "print(diferenca_2)\n",
    "\n",
    "conjunto_1.difference_update(conjunto_2)\n",
    "\n",
    "conjunto_1"
   ]
  },
  {
   "cell_type": "code",
   "execution_count": null,
   "id": "b432f1e4",
   "metadata": {},
   "outputs": [
    {
     "data": {
      "text/plain": [
       "{0, 5}"
      ]
     },
     "execution_count": 2,
     "metadata": {},
     "output_type": "execute_result"
    }
   ],
   "source": [
    "conjunto_1 = {0, 1, 2, 3, 4, 5}\n",
    "\n",
    "conjunto_2 = {5, 6, 7, 8, 9, 0}\n",
    "\n",
    "diferenca_1 = conjunto_1.intersection(conjunto_2)  # interseção\n",
    "\n",
    "diferenca_1"
   ]
  },
  {
   "cell_type": "code",
   "execution_count": null,
   "id": "3520ad45",
   "metadata": {},
   "outputs": [
    {
     "data": {
      "text/plain": [
       "(True, True)"
      ]
     },
     "execution_count": 3,
     "metadata": {},
     "output_type": "execute_result"
    }
   ],
   "source": [
    "# Respectivamente, se um conjunto é subconjunto de outro e,\n",
    "# se um conjunto contém outro conjunto\n",
    "\n",
    "diferenca_1.issubset(conjunto_1), conjunto_2.issuperset(diferenca_1)"
   ]
  },
  {
   "cell_type": "code",
   "execution_count": null,
   "id": "5fb4a77e",
   "metadata": {},
   "outputs": [
    {
     "data": {
      "text/plain": [
       "{0, 1, 2, 3, 4, 5, 6, 7, 8, 9}"
      ]
     },
     "execution_count": 4,
     "metadata": {},
     "output_type": "execute_result"
    }
   ],
   "source": [
    "# União\n",
    "\n",
    "conjunto_1.union(conjunto_2)"
   ]
  },
  {
   "cell_type": "markdown",
   "id": "5f5f391b",
   "metadata": {},
   "source": [
    "> Então,\n",
    ">\n",
    "> ### Tipos de Dados Nativos do Python: \n",
    ">\n",
    "> #### Listas, Tuplas, Dicionários, Conjuntos\n",
    ">\n",
    "> #### `Lists`, `Tuples`, `Dictionaries`, `Sets`\n",
    ">\n",
    "> <br>"
   ]
  },
  {
   "cell_type": "markdown",
   "id": "9ca0a14b-60e3-4969-96f2-58b58a398365",
   "metadata": {},
   "source": [
    "> ## `Strings`\n",
    "> \n",
    "> https://docs.python.org/pt-br/3.13/library/string.html\n",
    ">\n",
    "> <br>"
   ]
  },
  {
   "cell_type": "code",
   "execution_count": 285,
   "id": "bdf02cde-b935-4e18-93d9-e03e2fafde65",
   "metadata": {},
   "outputs": [
    {
     "data": {
      "text/plain": [
       "'Uma DocString'"
      ]
     },
     "execution_count": 285,
     "metadata": {},
     "output_type": "execute_result"
    }
   ],
   "source": [
    "string = 'olá Jupyter'  # aspas simples ou duplas\n",
    "\n",
    "# DocString: Aspas simples triplas ou aspas duplas triplas\n",
    "\n",
    "docstring = '''Uma DocString'''\n",
    "\n",
    "docstring"
   ]
  },
  {
   "cell_type": "code",
   "execution_count": null,
   "id": "28432441",
   "metadata": {},
   "outputs": [
    {
     "ename": "TypeError",
     "evalue": "'str' object does not support item assignment",
     "output_type": "error",
     "traceback": [
      "\u001b[1;31m---------------------------------------------------------------------------\u001b[0m",
      "\u001b[1;31mTypeError\u001b[0m                                 Traceback (most recent call last)",
      "Cell \u001b[1;32mIn[412], line 5\u001b[0m\n\u001b[0;32m      1\u001b[0m \u001b[38;5;66;03m# String são imutáveis\u001b[39;00m\n\u001b[0;32m      3\u001b[0m s \u001b[38;5;241m=\u001b[39m \u001b[38;5;124m'\u001b[39m\u001b[38;5;124molá Jupyter\u001b[39m\u001b[38;5;124m'\u001b[39m\n\u001b[1;32m----> 5\u001b[0m \u001b[43ms\u001b[49m\u001b[43m[\u001b[49m\u001b[38;5;241;43m0\u001b[39;49m\u001b[43m]\u001b[49m \u001b[38;5;241m=\u001b[39m \u001b[38;5;124m'\u001b[39m\u001b[38;5;124mO\u001b[39m\u001b[38;5;124m'\u001b[39m\n",
      "\u001b[1;31mTypeError\u001b[0m: 'str' object does not support item assignment"
     ]
    }
   ],
   "source": [
    "# String são imutáveis\n",
    "\n",
    "string = 'olá Jupyter'\n",
    " \n",
    "string[0] = 'O'\n"
   ]
  },
  {
   "cell_type": "code",
   "execution_count": null,
   "id": "c5bbf139",
   "metadata": {},
   "outputs": [
    {
     "name": "stdout",
     "output_type": "stream",
     "text": [
      "olá Jupyter\n",
      "\n",
      "Olá jupyter\n"
     ]
    }
   ],
   "source": [
    "string = 'olá Jupyter'\n",
    "\n",
    "print(string, end='\\n\\n')   # adicionar linha em branco entre os prints\n",
    "\n",
    "print(string.capitalize())  # primeira letra da string em maiúsculo\n"
   ]
  },
  {
   "cell_type": "code",
   "execution_count": null,
   "id": "d5a9bfc0-08cc-4aaf-9301-d3c3d6e27146",
   "metadata": {},
   "outputs": [
    {
     "name": "stdout",
     "output_type": "stream",
     "text": [
      "\n",
      "        Forma literal\n",
      "\n",
      "            de se escrever\n",
      "\n",
      "                uma string.\n",
      "\n",
      "    \n"
     ]
    }
   ],
   "source": [
    "# String literais\n",
    "\n",
    "string_1 = \"\"\"\n",
    "            Forma literal\n",
    "\n",
    "                de se escrever\n",
    "\n",
    "                     uma string.\n",
    "\n",
    "    \"\"\"\n",
    "\n",
    "print(string_1)"
   ]
  },
  {
   "cell_type": "code",
   "execution_count": null,
   "id": "6852416c-9f7f-41af-80e2-77febff38ea1",
   "metadata": {},
   "outputs": [
    {
     "data": {
      "text/plain": [
       "'\\n        Forma literal\\n\\n            de se escrever\\n\\n                uma string.\\n\\n    '"
      ]
     },
     "execution_count": 31,
     "metadata": {},
     "output_type": "execute_result"
    }
   ],
   "source": [
    "string_1"
   ]
  },
  {
   "cell_type": "code",
   "execution_count": null,
   "id": "713a5bc0",
   "metadata": {},
   "outputs": [
    {
     "name": "stdout",
     "output_type": "stream",
     "text": [
      "\tString\n",
      "\n",
      "\t\tusando\n",
      "\n",
      "\t\t\tfomatadores\n"
     ]
    }
   ],
   "source": [
    "print(\"\\tString\\n\\n\\t\\tusando\\n\\n\\t\\t\\tfomatadores\")  # caracteres especiais"
   ]
  },
  {
   "cell_type": "markdown",
   "id": "c891de82",
   "metadata": {},
   "source": [
    "> ### `Contrabarra (barra invertida)`\n",
    "> \n",
    "> ### `\\` Escape caracteres especiais\n",
    ">\n",
    "> ### `\\`  continuação de texto ou de expressão matemática em outra linha\n",
    ">\n",
    "> <br>"
   ]
  },
  {
   "cell_type": "code",
   "execution_count": 27,
   "id": "ba20e368",
   "metadata": {},
   "outputs": [
    {
     "data": {
      "text/plain": [
       "(\"Apóstrofe ' em uma string\", \"Apóstrofe ' em uma string\")"
      ]
     },
     "execution_count": 27,
     "metadata": {},
     "output_type": "execute_result"
    }
   ],
   "source": [
    "# Escape caracteres especiais\n",
    "\n",
    "'Apóstrofe \\' em uma string', \\\n",
    "\"Apóstrofe ' em uma string\"\n",
    "\n",
    "# OBS: Em geral em programação quando se abre algo com determinado caractere, fecha-se com o mesmo caractere\n"
   ]
  },
  {
   "cell_type": "code",
   "execution_count": 39,
   "id": "27302f29",
   "metadata": {},
   "outputs": [
    {
     "data": {
      "text/plain": [
       "'Querendo colocar uma palavra entre \"aspas\" em uma string'"
      ]
     },
     "execution_count": 39,
     "metadata": {},
     "output_type": "execute_result"
    }
   ],
   "source": [
    "# Portanto, para que o interpretador não entenda que a string está fechando onde estamos \n",
    "# querendo que seja uma aspas duplas, precisamos escapar o significado literal da aspas \n",
    "# com a barra invertida:\n",
    "\n",
    "\"Querendo colocar uma palavra entre \\\"aspas\\\" em uma string\"\n",
    "\n"
   ]
  },
  {
   "cell_type": "code",
   "execution_count": 41,
   "id": "ae7242c9",
   "metadata": {},
   "outputs": [
    {
     "data": {
      "text/plain": [
       "'Querendo colocar uma palavra entre \"aspas\" em uma string'"
      ]
     },
     "execution_count": 41,
     "metadata": {},
     "output_type": "execute_result"
    }
   ],
   "source": [
    "# Código limpo:\n",
    "\n",
    "'Querendo colocar uma palavra entre \"aspas\" em uma string'"
   ]
  },
  {
   "cell_type": "markdown",
   "id": "e89158f9",
   "metadata": {},
   "source": [
    "> ## Métodos:\n",
    "> \n",
    "> ~~~python\n",
    "> # Sintaxe:\n",
    "> \n",
    "> <objeto>.<método>()\n",
    "> ~~~\n",
    "> \n",
    "> &nbsp;\n",
    "> ***\n",
    "> Onde:\n",
    ">\n",
    "> ~~~python\n",
    "> <objeto> é o identificador\n",
    ">\n",
    "> <método> é algum método associado ao tipo do identificador\n",
    "> ~~~\n",
    "> \n",
    "> ***\n",
    "> OBS:\n",
    "> (Dependendo do ambiente: `obj.` ou `obj.+Tab`)\n",
    "> \n",
    "> ## Já sabemos que **tudo em Python é um objeto**, i.e., o objeto tem um tipo, tem métodos e atributos.\n",
    ">\n",
    "> <br>"
   ]
  },
  {
   "cell_type": "code",
   "execution_count": 277,
   "id": "a3a5791b",
   "metadata": {},
   "outputs": [
    {
     "name": "stdout",
     "output_type": "stream",
     "text": [
      "Object `string_1.isdecimal` not found.\n"
     ]
    }
   ],
   "source": [
    "string_1.isdecimal?"
   ]
  },
  {
   "cell_type": "code",
   "execution_count": 38,
   "id": "b6d9f4f6",
   "metadata": {},
   "outputs": [
    {
     "data": {
      "text/plain": [
       "(True, True)"
      ]
     },
     "execution_count": 38,
     "metadata": {},
     "output_type": "execute_result"
    }
   ],
   "source": [
    "'0123456789'.isdecimal()"
   ]
  },
  {
   "cell_type": "code",
   "execution_count": 249,
   "id": "ea1002b9",
   "metadata": {},
   "outputs": [
    {
     "name": "stdout",
     "output_type": "stream",
     "text": [
      "Object `string_2.isdigit` not found.\n"
     ]
    }
   ],
   "source": [
    "# Mesma coisa que .isdecimal:\n",
    "\n",
    "string_2.isdigit?"
   ]
  },
  {
   "cell_type": "markdown",
   "id": "267c655f",
   "metadata": {},
   "source": [
    "> ## Particularidades de `strings` e alguns métodos\n",
    ">\n",
    "> <br>"
   ]
  },
  {
   "cell_type": "code",
   "execution_count": null,
   "id": "c2665f09",
   "metadata": {},
   "outputs": [
    {
     "data": {
      "text/plain": [
       "True"
      ]
     },
     "execution_count": 32,
     "metadata": {},
     "output_type": "execute_result"
    }
   ],
   "source": [
    "# Formas de composição de string (string longa)\n",
    "\n",
    "# Concatenação com operador de adição\n",
    "string_2 = 'Montando' + \\\n",
    "           ' uma string' + \\\n",
    "           ' concatenando partes'\n",
    "\n",
    "# Concatenar envolvendo com parênteses (e quebrando linhas)\n",
    "string_3 = (\n",
    "    'Montando'\n",
    "    ' uma string'\n",
    "    ' concatenando partes')\n",
    "\n",
    "string_2 == string_3\n"
   ]
  },
  {
   "cell_type": "code",
   "execution_count": null,
   "id": "f4b5895c",
   "metadata": {},
   "outputs": [
    {
     "data": {
      "text/plain": [
       "True"
      ]
     },
     "execution_count": 11,
     "metadata": {},
     "output_type": "execute_result"
    }
   ],
   "source": [
    "# Strings tem muitos métodos úteis (que provavelmente você irá usar)\n",
    "\n",
    "string_2.startswith('Montando uma')  # exemplo em condicional"
   ]
  },
  {
   "cell_type": "code",
   "execution_count": null,
   "id": "e1b3bf33",
   "metadata": {},
   "outputs": [
    {
     "data": {
      "text/plain": [
       "['Montando', 'uma', 'string', 'somando-se', 'partes']"
      ]
     },
     "execution_count": 222,
     "metadata": {},
     "output_type": "execute_result"
    }
   ],
   "source": [
    "splitted = string_2.split(' ')  # exemplo em processamento\n",
    "\n",
    "splitted"
   ]
  },
  {
   "cell_type": "code",
   "execution_count": null,
   "id": "60b98f54",
   "metadata": {},
   "outputs": [
    {
     "data": {
      "text/plain": [
       "'Montando uma string somando-se partes'"
      ]
     },
     "execution_count": 226,
     "metadata": {},
     "output_type": "execute_result"
    }
   ],
   "source": [
    "' '.join(splitted)  # exemplo em processamento/composição"
   ]
  },
  {
   "cell_type": "code",
   "execution_count": null,
   "id": "5904ee2b",
   "metadata": {},
   "outputs": [
    {
     "data": {
      "text/plain": [
       "('palavras entre espaços',\n",
       " 'palavras entre espaços    ',\n",
       " '    palavras entre espaços')"
      ]
     },
     "execution_count": 181,
     "metadata": {},
     "output_type": "execute_result"
    }
   ],
   "source": [
    "string_1 = '    palavras entre espaços    '\n",
    "\n",
    "# Removendo espaços vazios:\n",
    "\n",
    "string_1.strip(), string_1.lstrip(), string_1.rstrip()"
   ]
  },
  {
   "cell_type": "markdown",
   "id": "b6664b4b",
   "metadata": {},
   "source": [
    "> ## Concatenar métodos\n",
    ">\n",
    "> Atenção:\n",
    ">\n",
    "> - o que uma função pode receber\n",
    ">\n",
    "> - e o que uma função retorna\n",
    ">\n",
    "> <br> "
   ]
  },
  {
   "cell_type": "code",
   "execution_count": 60,
   "id": "520455bb",
   "metadata": {},
   "outputs": [
    {
     "name": "stdout",
     "output_type": "stream",
     "text": [
      "\u001b[1;31mSignature:\u001b[0m \u001b[0mstr\u001b[0m\u001b[1;33m.\u001b[0m\u001b[0mjoin\u001b[0m\u001b[1;33m(\u001b[0m\u001b[0mself\u001b[0m\u001b[1;33m,\u001b[0m \u001b[0miterable\u001b[0m\u001b[1;33m,\u001b[0m \u001b[1;33m/\u001b[0m\u001b[1;33m)\u001b[0m\u001b[1;33m\u001b[0m\u001b[1;33m\u001b[0m\u001b[0m\n",
      "\u001b[1;31mDocstring:\u001b[0m\n",
      "Concatenate any number of strings.\n",
      "\n",
      "The string whose method is called is inserted in between each given string.\n",
      "The result is returned as a new string.\n",
      "\n",
      "Example: '.'.join(['ab', 'pq', 'rs']) -> 'ab.pq.rs'\n",
      "\u001b[1;31mType:\u001b[0m      method_descriptor"
     ]
    }
   ],
   "source": [
    "str.join?"
   ]
  },
  {
   "cell_type": "code",
   "execution_count": null,
   "id": "bd1ba312",
   "metadata": {},
   "outputs": [
    {
     "data": {
      "text/plain": [
       "['26', '03', '2025']"
      ]
     },
     "execution_count": 115,
     "metadata": {},
     "output_type": "execute_result"
    }
   ],
   "source": [
    "'26/03/2025'.split('/')\n"
   ]
  },
  {
   "cell_type": "code",
   "execution_count": null,
   "id": "fe72b87b",
   "metadata": {},
   "outputs": [
    {
     "data": {
      "text/plain": [
       "'26-03-2025'"
      ]
     },
     "execution_count": 13,
     "metadata": {},
     "output_type": "execute_result"
    }
   ],
   "source": [
    "'-'.join('26/03/2025'.split('/'))\n",
    "\n",
    "# datetime: biblioteca para se trabalhar com datas"
   ]
  },
  {
   "cell_type": "code",
   "execution_count": 174,
   "id": "1aacc5b1",
   "metadata": {},
   "outputs": [
    {
     "data": {
      "text/plain": [
       "'26-03-2025'"
      ]
     },
     "execution_count": 174,
     "metadata": {},
     "output_type": "execute_result"
    }
   ],
   "source": [
    "'26/03/2025'.replace('/', '-')"
   ]
  },
  {
   "cell_type": "markdown",
   "id": "ee72c188",
   "metadata": {},
   "source": [
    "> ### Função embutida `input`\n",
    "> \n",
    "> **Entrada de dados (`str`) e interação com usuário**\n",
    ">\n",
    "> <br>"
   ]
  },
  {
   "cell_type": "code",
   "execution_count": null,
   "id": "759426b2",
   "metadata": {},
   "outputs": [
    {
     "name": "stdout",
     "output_type": "stream",
     "text": [
      "\u001b[1;31mSignature:\u001b[0m \u001b[0minput\u001b[0m\u001b[1;33m(\u001b[0m\u001b[0mprompt\u001b[0m\u001b[1;33m=\u001b[0m\u001b[1;34m''\u001b[0m\u001b[1;33m)\u001b[0m\u001b[1;33m\u001b[0m\u001b[1;33m\u001b[0m\u001b[0m\n",
      "\u001b[1;31mDocstring:\u001b[0m\n",
      "Forward raw_input to frontends\n",
      "\n",
      "Raises\n",
      "------\n",
      "StdinNotImplementedError if active frontend doesn't support stdin.\n",
      "\u001b[1;31mFile:\u001b[0m      c:\\users\\aib4\\appdata\\local\\miniforge3\\envs\\work\\lib\\site-packages\\ipykernel\\kernelbase.py\n",
      "\u001b[1;31mType:\u001b[0m      method"
     ]
    }
   ],
   "source": [
    "input?"
   ]
  },
  {
   "cell_type": "code",
   "execution_count": 262,
   "id": "698f55a3",
   "metadata": {},
   "outputs": [
    {
     "name": "stdout",
     "output_type": "stream",
     "text": [
      "Ronaldo\n"
     ]
    }
   ],
   "source": [
    "nome = input('Qual seu nome?')\n",
    "\n",
    "print(nome)"
   ]
  },
  {
   "cell_type": "code",
   "execution_count": null,
   "id": "204641a3",
   "metadata": {},
   "outputs": [
    {
     "data": {
      "text/plain": [
       "str"
      ]
     },
     "execution_count": 16,
     "metadata": {},
     "output_type": "execute_result"
    }
   ],
   "source": [
    "type(nome)\n",
    "\n",
    "# n = int(n) ou = int(input('Digite um numero: ')) # porém isso pode gerar erros, se usuário digita str\n",
    "\n",
    "# n = input('Digite um numero: ')\n",
    "\n",
    "# Algoritmo:\n",
    "\n",
    "# se n for um número:\n",
    "#     n = int(n)"
   ]
  },
  {
   "cell_type": "markdown",
   "id": "b450dff3",
   "metadata": {},
   "source": [
    "> ### Forma antiga de se compor *string* usando variáveis (interpolação de _string_)\n",
    ">\n",
    "> ~~~python\n",
    "> # Sintaxe:\n",
    ">\n",
    "> '%s %s...' % (<variável 1>, <variável 2>, ...)\n",
    "> ~~~\n",
    ">\n",
    "> <br>"
   ]
  },
  {
   "cell_type": "code",
   "execution_count": 263,
   "id": "4e5cf55d",
   "metadata": {},
   "outputs": [
    {
     "data": {
      "text/plain": [
       "'Me chamo Ronaldo e estou aprendendo Python'"
      ]
     },
     "execution_count": 263,
     "metadata": {},
     "output_type": "execute_result"
    }
   ],
   "source": [
    "# em cima pegamos nome\n",
    "\n",
    "linguagem = input('Qual linguagem de programação estamos usando?')\n",
    "\n",
    "'Me chamo %s e estou aprendendo %s' % (nome, linguagem)"
   ]
  },
  {
   "cell_type": "code",
   "execution_count": null,
   "id": "d1f92c24",
   "metadata": {},
   "outputs": [
    {
     "data": {
      "text/plain": [
       "'O preço do monitor é de R$1599.99, mas está com 25% de desconto, então o valor é de R$1199.99'"
      ]
     },
     "execution_count": 254,
     "metadata": {},
     "output_type": "execute_result"
    }
   ],
   "source": [
    "'''\n",
    "Formatação:\n",
    "\n",
    "%s para string\n",
    "\n",
    "%d para inteiro\n",
    "\n",
    "%f para float\n",
    "\n",
    ".<número de dígitos>f\n",
    "\n",
    "'''\n",
    "\n",
    "produto = 'monitor'\n",
    "valor = 1599.99\n",
    "desconto = 25\n",
    "valor_desconto = valor -((desconto/100) *valor)\n",
    "\n",
    "'O preço do %s é de R$%.2f, mas está com %d%% de desconto, então o valor é de R$%.2f' % (produto, valor, desconto, valor_desconto)\n"
   ]
  },
  {
   "cell_type": "code",
   "execution_count": null,
   "id": "ffed315a",
   "metadata": {},
   "outputs": [
    {
     "data": {
      "text/plain": [
       "'O número 2025 em hexadecimal é 000007E9'"
      ]
     },
     "execution_count": 260,
     "metadata": {},
     "output_type": "execute_result"
    }
   ],
   "source": [
    "# Hexadecimal (ABCDEF0123456789):\n",
    "\n",
    "# Formatação: %x ou %X\n",
    "\n",
    "numero = 2025\n",
    "\n",
    "'O número %d em hexadecimal é %08X' % (numero, numero)"
   ]
  },
  {
   "cell_type": "markdown",
   "id": "3b738e66",
   "metadata": {},
   "source": [
    "> ## Forma atual: `f-strings` (_strings_ formatadas)\n",
    ">\n",
    "> ~~~python\n",
    "> # Sintaxe:\n",
    ">\n",
    "> f'Olá, me chamo {<nome>} e estou aprendendo {<linguagem>}.'\n",
    "> ~~~\n",
    ">\n",
    "> ***\n",
    "> Onde:\n",
    "> ~~~Python\n",
    "> f''  # denota que a string é formatada\n",
    "> ~~~\n",
    ">\n",
    "> ~~~Python\n",
    "> {}  # é onde uma variável será inserida\n",
    "> ~~~\n",
    ">\n",
    "> ~~~Python\n",
    "> <nome> e <linguagem> # são as respectivas variáveis\n",
    "> ~~~\n",
    "> \n",
    "> <br>"
   ]
  },
  {
   "cell_type": "code",
   "execution_count": 164,
   "id": "eb94fc9b",
   "metadata": {},
   "outputs": [
    {
     "data": {
      "text/plain": [
       "'Olá, me chamo Ronaldo e estou aprendendo Python.'"
      ]
     },
     "execution_count": 164,
     "metadata": {},
     "output_type": "execute_result"
    }
   ],
   "source": [
    "# Formatação de string usando variáveis:\n",
    "\n",
    "f'Olá, me chamo {nome} e estou aprendendo {linguagem}.'"
   ]
  },
  {
   "cell_type": "code",
   "execution_count": null,
   "id": "56093784",
   "metadata": {},
   "outputs": [
    {
     "data": {
      "text/plain": [
       "'Olá, me chamo Ronaldo e estou aprendendo Python.'"
      ]
     },
     "execution_count": 130,
     "metadata": {},
     "output_type": "execute_result"
    }
   ],
   "source": [
    "# Forma intermediária (usando método .format de string):\n",
    "\n",
    "'Olá, me chamo {} e estou aprendendo {}.'.format(nome, linguagem)  # marcador posicional implícito"
   ]
  },
  {
   "cell_type": "code",
   "execution_count": null,
   "id": "04fb77a6",
   "metadata": {},
   "outputs": [
    {
     "data": {
      "text/plain": [
       "'Olá, me chamo Python e estou aprendendo Ronaldo.'"
      ]
     },
     "execution_count": 70,
     "metadata": {},
     "output_type": "execute_result"
    }
   ],
   "source": [
    "'Olá, me chamo {1} e estou aprendendo {0}.'.format(nome, linguagem)  # argumento posicional explícito"
   ]
  },
  {
   "cell_type": "code",
   "execution_count": 136,
   "id": "5d64415e",
   "metadata": {},
   "outputs": [
    {
     "data": {
      "text/plain": [
       "'Olá, me chamo Ronaldo e estou aprendendo Python.'"
      ]
     },
     "execution_count": 136,
     "metadata": {},
     "output_type": "execute_result"
    }
   ],
   "source": [
    "'Olá, me chamo {var1} e estou aprendendo {var2}.'.format(var1=nome, var2=linguagem)  # parâmetros nomeados"
   ]
  },
  {
   "cell_type": "code",
   "execution_count": null,
   "id": "4b0f9937",
   "metadata": {},
   "outputs": [
    {
     "data": {
      "text/plain": [
       "'abracadabra'"
      ]
     },
     "execution_count": 71,
     "metadata": {},
     "output_type": "execute_result"
    }
   ],
   "source": [
    "'{0}{1}{0}'.format('abra', 'cad')  # repetição de argumento"
   ]
  },
  {
   "cell_type": "code",
   "execution_count": null,
   "id": "52ce25f0",
   "metadata": {},
   "outputs": [
    {
     "data": {
      "text/plain": [
       "('---------centralizado---------', 30)"
      ]
     },
     "execution_count": 266,
     "metadata": {},
     "output_type": "execute_result"
    }
   ],
   "source": [
    "# Padding (espaço delimitado)\n",
    "\n",
    "'''\n",
    "Formatação:\n",
    "\n",
    "(caractere)(><^)(quantidade)\n",
    "\n",
    "> à esquerda\n",
    "\n",
    "< à direita\n",
    "\n",
    "^ centralizado\n",
    "\n",
    "'''\n",
    "\n",
    "'{:-^30}'.format('centralizado'), \\\n",
    "    len('{:-^30}'.format('centralizado'))\n",
    "\n"
   ]
  },
  {
   "cell_type": "code",
   "execution_count": null,
   "id": "67849eeb",
   "metadata": {},
   "outputs": [
    {
     "data": {
      "text/plain": [
       "('                    à esquerda', 'à direita                     ')"
      ]
     },
     "execution_count": 297,
     "metadata": {},
     "output_type": "execute_result"
    }
   ],
   "source": [
    "# Se caractere não especificado para padding,\n",
    "# implicitamente usa ' '\n",
    "\n",
    "'{: >30}'.format('à esquerda'), '{:<30}'.format('à direita')"
   ]
  },
  {
   "cell_type": "code",
   "execution_count": 295,
   "id": "2f1ff299",
   "metadata": {},
   "outputs": [
    {
     "data": {
      "text/plain": [
       "('Área do círculo = 19.634375000000002', 'Área do círculo = 19.63')"
      ]
     },
     "execution_count": 295,
     "metadata": {},
     "output_type": "execute_result"
    }
   ],
   "source": [
    "pi = 3.1415\n",
    "raio = 2.5\n",
    "\n",
    "area = pi * raio**2\n",
    "\n",
    "f'Área do círculo = {area}', f'Área do círculo = {area:.2f}'\n"
   ]
  },
  {
   "cell_type": "code",
   "execution_count": null,
   "id": "e6b384f8",
   "metadata": {},
   "outputs": [
    {
     "data": {
      "text/plain": [
       "'Dívida em dólares: $-0,015,000.00'"
      ]
     },
     "execution_count": 284,
     "metadata": {},
     "output_type": "execute_result"
    }
   ],
   "source": [
    "# Formatar número: nunca usei isto aqui nesta complexidade\n",
    "# dependendo da biblioteca que estivermos usando, tem outras formas\n",
    "# mas só para saber que existe:\n",
    "\n",
    "dolares = -15000.00\n",
    "\n",
    "f'Dívida em dólares: ${dolares:0=-12,.2f}'\n"
   ]
  },
  {
   "cell_type": "code",
   "execution_count": null,
   "id": "ef2d84a5",
   "metadata": {},
   "outputs": [
    {
     "data": {
      "text/plain": [
       "'9,99'"
      ]
     },
     "execution_count": 285,
     "metadata": {},
     "output_type": "execute_result"
    }
   ],
   "source": [
    "# Formatar número com vírgula (em português):\n",
    "\n",
    "numero = str(9.99).replace(\".\", \",\")\n",
    "\n",
    "f'{numero}'\n"
   ]
  },
  {
   "cell_type": "code",
   "execution_count": null,
   "id": "3d0c7bb0",
   "metadata": {},
   "outputs": [
    {
     "data": {
      "text/plain": [
       "'Número inteiro com zero à esquerda: 0011 e número ponto flutuante com zero à esquerda e à direita 001.4100'"
      ]
     },
     "execution_count": 191,
     "metadata": {},
     "output_type": "execute_result"
    }
   ],
   "source": [
    "f'Número inteiro com zero à esquerda: {11:04d} e número ponto flutuante com zero à esquerda e à direita {1.41:08.4f}'"
   ]
  },
  {
   "cell_type": "code",
   "execution_count": 292,
   "id": "5ba0c9c9",
   "metadata": {},
   "outputs": [
    {
     "data": {
      "text/plain": [
       "('texto alinhado à esquerda                         ',\n",
       " '                                              texto alinhado à direita')"
      ]
     },
     "execution_count": 292,
     "metadata": {},
     "output_type": "execute_result"
    }
   ],
   "source": [
    "f'{\"texto alinhado à esquerda\":<50}', f'{\"texto alinhado à direita\":>70}'"
   ]
  },
  {
   "cell_type": "code",
   "execution_count": 165,
   "id": "604649e2",
   "metadata": {},
   "outputs": [
    {
     "name": "stdout",
     "output_type": "stream",
     "text": [
      "valor='teste'\n"
     ]
    }
   ],
   "source": [
    "valor = 'teste'\n",
    "\n",
    "# Forma de se verificar o valor de uma variável usando f-string:\n",
    "\n",
    "print(f'{valor=}') # ao invés de escrever f'valor={valor}'"
   ]
  },
  {
   "cell_type": "markdown",
   "id": "fa5f7a62",
   "metadata": {},
   "source": [
    "> ### `Contrabarra (barra invertida)`\n",
    ">\n",
    "> ## `\\`  continuação de texto ou de expressão matemática em outra linha\n",
    "> \n",
    "> ### `\\` Escape caracteres especiais\n",
    ">\n",
    "> <br>"
   ]
  },
  {
   "cell_type": "code",
   "execution_count": 284,
   "id": "27793164",
   "metadata": {},
   "outputs": [
    {
     "data": {
      "text/plain": [
       "'Composição de texto usando 3 variáveis onde a 1a variável é var1, a 2a é var2 e a 3a, var3'"
      ]
     },
     "execution_count": 284,
     "metadata": {},
     "output_type": "execute_result"
    }
   ],
   "source": [
    "lista = ['var1', 'var2', 'var3']\n",
    "\n",
    "# Texto em mais de uma linha usando \\\n",
    "\n",
    "string = f'Composição de texto usando {len(lista)} variáveis' + \\\n",
    "         f' onde a 1a variável é {lista[0]},' + \\\n",
    "         f' a 2a é {lista[1]}' + \\\n",
    "         f' e a 3a, {lista[2]}'\n",
    "\n",
    "string"
   ]
  },
  {
   "cell_type": "code",
   "execution_count": null,
   "id": "2cc44420",
   "metadata": {},
   "outputs": [
    {
     "data": {
      "text/plain": [
       "16.125"
      ]
     },
     "execution_count": 142,
     "metadata": {},
     "output_type": "execute_result"
    }
   ],
   "source": [
    "x = 4; y = 7\n",
    "\n",
    "# Equação em mais de uma linha usando o \\\n",
    "\n",
    "equacao = x ** 2 + y * 0.5 \\\n",
    "    / (x * y)\n",
    "\n",
    "equacao"
   ]
  },
  {
   "cell_type": "code",
   "execution_count": null,
   "id": "0923bed5",
   "metadata": {},
   "outputs": [
    {
     "name": "stdout",
     "output_type": "stream",
     "text": [
      "Ellipsis\n"
     ]
    }
   ],
   "source": [
    "# Ellipses (placeholder)\n",
    "\n",
    "# Suponha que você tem que fazer um cálculo em determinado ponto, mas ainda não sabe como fazê-lo\n",
    "\n",
    "eq = ...  # não gera erro\n",
    "\n",
    "print(eq)"
   ]
  },
  {
   "cell_type": "markdown",
   "id": "8c4062a4",
   "metadata": {},
   "source": [
    "> # Números\n",
    ">\n",
    "> <br>"
   ]
  },
  {
   "cell_type": "code",
   "execution_count": null,
   "id": "dc4992cc-c027-44dc-9450-a8c2e7ee286a",
   "metadata": {},
   "outputs": [
    {
     "data": {
      "text/plain": [
       "5.2"
      ]
     },
     "execution_count": 33,
     "metadata": {},
     "output_type": "execute_result"
    }
   ],
   "source": [
    "# Soma de inteiro com ponto flutuante\n",
    "\n",
    "5 + .2 # Conversão implícita: 5.0 + 0.2"
   ]
  },
  {
   "cell_type": "code",
   "execution_count": null,
   "id": "786ec6e9",
   "metadata": {},
   "outputs": [
    {
     "data": {
      "text/plain": [
       "6"
      ]
     },
     "execution_count": 32,
     "metadata": {},
     "output_type": "execute_result"
    }
   ],
   "source": [
    "# Conversão implícita: operando de diferentes tipos\n",
    "\n",
    "True + 5"
   ]
  },
  {
   "cell_type": "code",
   "execution_count": null,
   "id": "6cfd9a16",
   "metadata": {},
   "outputs": [
    {
     "data": {
      "text/plain": [
       "(3, 9.0, '3.14', 5.16, False, 'True')"
      ]
     },
     "execution_count": 45,
     "metadata": {},
     "output_type": "execute_result"
    }
   ],
   "source": [
    "# Conversão explícita (coerção)\n",
    "\n",
    "int(3.14), float(9), str(3.14), float('5.16'), bool(0), str(True)"
   ]
  },
  {
   "cell_type": "code",
   "execution_count": 167,
   "id": "dfb660ad",
   "metadata": {},
   "outputs": [
    {
     "data": {
      "text/plain": [
       "179769313486231590772930519078902473361797697894230657273430081157732675805500963132708477322407536021120113879871393357658789768814416622492847430639474124377767893424865485276302219601246094119453082952085005768838150682342462881473913110540827237163350510684586298239947245938479716304835356329624224137216"
      ]
     },
     "execution_count": 167,
     "metadata": {},
     "output_type": "execute_result"
    }
   ],
   "source": [
    "2 ** 1024"
   ]
  },
  {
   "cell_type": "code",
   "execution_count": 169,
   "id": "0c81a4ce",
   "metadata": {},
   "outputs": [
    {
     "ename": "OverflowError",
     "evalue": "(34, 'Result too large')",
     "output_type": "error",
     "traceback": [
      "\u001b[1;31m---------------------------------------------------------------------------\u001b[0m",
      "\u001b[1;31mOverflowError\u001b[0m                             Traceback (most recent call last)",
      "Cell \u001b[1;32mIn[169], line 3\u001b[0m\n\u001b[0;32m      1\u001b[0m \u001b[38;5;66;03m# Tipo float: limite 64 bits\u001b[39;00m\n\u001b[1;32m----> 3\u001b[0m \u001b[38;5;241;43m2.0\u001b[39;49m\u001b[43m \u001b[49m\u001b[38;5;241;43m*\u001b[39;49m\u001b[38;5;241;43m*\u001b[39;49m\u001b[43m \u001b[49m\u001b[38;5;241;43m1024\u001b[39;49m\n",
      "\u001b[1;31mOverflowError\u001b[0m: (34, 'Result too large')"
     ]
    }
   ],
   "source": [
    "# Tipo float: limite 64 bits\n",
    "\n",
    "2.0 ** 1024"
   ]
  },
  {
   "cell_type": "code",
   "execution_count": 172,
   "id": "680a3460",
   "metadata": {},
   "outputs": [
    {
     "data": {
      "text/plain": [
       "(36028797018963968, 3.602879701896397e+16, 0.0002, 2000.0)"
      ]
     },
     "execution_count": 172,
     "metadata": {},
     "output_type": "execute_result"
    }
   ],
   "source": [
    "# Notação científica e arredondamento\n",
    "\n",
    "(2 ** 55, 2.0 ** 55, 2 * 1e-4, 2 * 1e3)"
   ]
  },
  {
   "cell_type": "code",
   "execution_count": null,
   "id": "41c8418f",
   "metadata": {},
   "outputs": [
    {
     "name": "stdout",
     "output_type": "stream",
     "text": [
      "1.4142135623730951 0.3333333333333333 1.7475468957064284\n"
     ]
    },
    {
     "data": {
      "text/plain": [
       "(1.41, '0.33', 1.7475)"
      ]
     },
     "execution_count": 173,
     "metadata": {},
     "output_type": "execute_result"
    }
   ],
   "source": [
    "# Imprecisão de números ponto flutuante:\n",
    "\n",
    "'''https://docs.python.org/3/tutorial/floatingpoint.html'''\n",
    "\n",
    "raiz_2 = 2 ** .5\n",
    "\n",
    "dizima_3 = 1 / 3 \n",
    "\n",
    "soma = raiz_2 + dizima_3\n",
    "\n",
    "print(raiz_2, dizima_3, soma)\n",
    "\n",
    "round(raiz_2, 2), f'{dizima_3:.2f}', round(soma, 4)\n"
   ]
  },
  {
   "cell_type": "markdown",
   "id": "29a5c8aa",
   "metadata": {},
   "source": [
    "> ## `Sobrecarga Operadores`\n",
    ">\n",
    "> #### Operadores definidos para diferentes classes\n",
    ">\n",
    "> <br>"
   ]
  },
  {
   "cell_type": "code",
   "execution_count": 119,
   "id": "b037bc3a",
   "metadata": {},
   "outputs": [
    {
     "data": {
      "text/plain": [
       "('abcd', [1, 2, 3, 4], 'aaa', [2, 2, 2, 2])"
      ]
     },
     "execution_count": 119,
     "metadata": {},
     "output_type": "execute_result"
    }
   ],
   "source": [
    "'abc' + 'd', [1, 2, 3] + [4], 'a' * 3, [2] * 4"
   ]
  },
  {
   "cell_type": "markdown",
   "id": "568fa1a4",
   "metadata": {},
   "source": [
    "> ### Operações -> Precedência (de cima para baixo, da esquerda para direita)\n",
    ">\n",
    "> ~~~Python\n",
    "> # 1° Parênteses (de dentro para fora):\n",
    "> (a + (x * b))\n",
    "> ~~~\n",
    ">\n",
    "> ~~~Python\n",
    "> # 2° Potenciação:\n",
    "> **\n",
    "> ~~~\n",
    ">\n",
    "> ~~~Python\n",
    "> # 3° Multiplicação, Divisão, Divisão Inteira, Módulo (Resto):\n",
    "> * / // %\n",
    "> ~~~\n",
    ">\n",
    "> ~~~Python\n",
    "> # 4° Adição e Subtração:\n",
    "> + -\n",
    "> ~~~\n",
    ">\n",
    "> <br>"
   ]
  },
  {
   "cell_type": "code",
   "execution_count": null,
   "id": "73f7dcae",
   "metadata": {},
   "outputs": [
    {
     "data": {
      "text/plain": [
       "5"
      ]
     },
     "execution_count": 124,
     "metadata": {},
     "output_type": "execute_result"
    }
   ],
   "source": [
    "\n",
    "1 + 1 ** 7 + 3  # = 1 + (1 ** 7) + 3 = 1 + 1 + 3 = 5\n",
    "\n",
    "# 2 ** 10 = 1024    ->    (1 + 1) ** (7 + 3)\n"
   ]
  },
  {
   "cell_type": "markdown",
   "id": "0790a6b3",
   "metadata": {},
   "source": [
    "> # Precedência Operações\n",
    "> \n",
    "> (__De cima para baixo e da esquerda para a direita__)\n",
    "> \n",
    "> ## Operadores Aritméticos\n",
    "> \n",
    "> ### `**`\n",
    "> ### `*` `/` `%` `//`\n",
    "> ### `+` `-`\n",
    "> \n",
    "> ## Operadores Relacionais\n",
    "> \n",
    "> ### `<=` `<` `>` `>=`\n",
    "> ### `==` `!=`\n",
    "> \n",
    "> ## Operadores de Atribuição\n",
    "> \n",
    "> ### `=` `%=` `/=` `//=` `-=` `+=` `*=` `**=`\n",
    "> \n",
    "> ## Operadores Lógicos\n",
    "> \n",
    "> ### `is` `is not`  &emsp; (Operadores de Identidade)\n",
    "> ### `in` `not in`  &emsp; (Operadores de Associação)\n",
    "> ### `not` `or` `and`\n",
    ">\n",
    "> <br>"
   ]
  },
  {
   "cell_type": "code",
   "execution_count": null,
   "id": "a80bc078",
   "metadata": {},
   "outputs": [
    {
     "data": {
      "text/plain": [
       "True"
      ]
     },
     "execution_count": 19,
     "metadata": {},
     "output_type": "execute_result"
    }
   ],
   "source": [
    "resultado = 20 > 5 * 2 + 2  # Não muito usual\n",
    "\n",
    "resultado"
   ]
  },
  {
   "cell_type": "markdown",
   "id": "d8a53c5d",
   "metadata": {},
   "source": [
    "> ## Operadores aritméticos\n",
    "> \n",
    "> ### `**`\n",
    "> ### `*` `/` `%` `//`\n",
    "> ### `+` `-`\n",
    ">\n",
    "> <br>"
   ]
  },
  {
   "cell_type": "markdown",
   "id": "808eac57",
   "metadata": {},
   "source": [
    "> ### Divisão (mesmo entre inteiros retorna *float*)\n",
    ">\n",
    "> <br>"
   ]
  },
  {
   "cell_type": "markdown",
   "id": "cb48b613",
   "metadata": {},
   "source": [
    "> Como colocar uma divisão por chaves aqui?\n"
   ]
  },
  {
   "cell_type": "code",
   "execution_count": null,
   "id": "0ddb370e",
   "metadata": {},
   "outputs": [
    {
     "data": {
      "text/plain": [
       "2.5"
      ]
     },
     "execution_count": 177,
     "metadata": {},
     "output_type": "execute_result"
    }
   ],
   "source": [
    "# Divisão (resultado é float):\n",
    "\n",
    "5 / 2"
   ]
  },
  {
   "cell_type": "code",
   "execution_count": null,
   "id": "8e011b64",
   "metadata": {},
   "outputs": [
    {
     "data": {
      "text/plain": [
       "2"
      ]
     },
     "execution_count": 190,
     "metadata": {},
     "output_type": "execute_result"
    }
   ],
   "source": [
    "# Divisão Inteira:\n",
    "\n",
    "5 // 2"
   ]
  },
  {
   "cell_type": "code",
   "execution_count": 194,
   "id": "b18bbf89",
   "metadata": {},
   "outputs": [
    {
     "data": {
      "text/plain": [
       "1"
      ]
     },
     "execution_count": 194,
     "metadata": {},
     "output_type": "execute_result"
    }
   ],
   "source": [
    "# Módulo (Resto)\n",
    "\n",
    "5 % 2"
   ]
  },
  {
   "cell_type": "markdown",
   "id": "94a59237",
   "metadata": {},
   "source": [
    "> ### Potenciação (sem uso de alguma biblioteca matemática)\n",
    ">\n",
    "> <br>"
   ]
  },
  {
   "cell_type": "code",
   "execution_count": 143,
   "id": "2ac0f083",
   "metadata": {},
   "outputs": [
    {
     "data": {
      "text/plain": [
       "36"
      ]
     },
     "execution_count": 143,
     "metadata": {},
     "output_type": "execute_result"
    }
   ],
   "source": [
    "# Exponenciação:\n",
    "\n",
    "6 ** 2"
   ]
  },
  {
   "cell_type": "code",
   "execution_count": null,
   "id": "3515d02f",
   "metadata": {},
   "outputs": [
    {
     "data": {
      "text/plain": [
       "11.0"
      ]
     },
     "execution_count": 125,
     "metadata": {},
     "output_type": "execute_result"
    }
   ],
   "source": [
    "# Precedência:\n",
    "\n",
    "6 + 5 * (4 / 2 ** 2)"
   ]
  },
  {
   "cell_type": "markdown",
   "id": "2cf56c48",
   "metadata": {},
   "source": [
    "> ### Radiciação\n",
    "> \n",
    "> $\\sqrt[n]{k^1}$ = $k^{1/n}$\n",
    ">\n",
    "> <br>"
   ]
  },
  {
   "cell_type": "code",
   "execution_count": null,
   "id": "7e5f0450",
   "metadata": {},
   "outputs": [
    {
     "data": {
      "text/plain": [
       "7.0"
      ]
     },
     "execution_count": 71,
     "metadata": {},
     "output_type": "execute_result"
    }
   ],
   "source": [
    "49 ** (1/2)\n",
    "\n",
    "# Mesma coisa:\n",
    "\n",
    "49 ** .5"
   ]
  },
  {
   "cell_type": "markdown",
   "id": "f1cc8bc8",
   "metadata": {},
   "source": [
    "> ## Operações de atribuição do Python\n",
    "> \n",
    "> ### `=` `%=` `/=` `//=` `-=` `+=` `*=` `**=`\n",
    "> \n",
    "> x = x + 10 &thinsp; $\\iff$ &thinsp; x += 10\n",
    ">\n",
    "> <br>"
   ]
  },
  {
   "cell_type": "code",
   "execution_count": null,
   "id": "4ff202bd",
   "metadata": {},
   "outputs": [
    {
     "data": {
      "text/plain": [
       "18"
      ]
     },
     "execution_count": 2,
     "metadata": {},
     "output_type": "execute_result"
    }
   ],
   "source": [
    "xx = 9\n",
    "\n",
    "xx *= 2  # xx recebe \"valor antigo\" * 2\n",
    "\n",
    "xx\n"
   ]
  },
  {
   "cell_type": "markdown",
   "id": "8fe446b6",
   "metadata": {},
   "source": [
    "> ### OBS: Atribuição de Variáveis\n",
    "> \n",
    "> <b>Cuidado: não sobrescrever nome de função (apenas palavras reservadas ocasionam erro)</b>\n",
    ">\n",
    "> <br>\n"
   ]
  },
  {
   "cell_type": "code",
   "execution_count": null,
   "id": "f9e0bd1a",
   "metadata": {},
   "outputs": [
    {
     "data": {
      "text/plain": [
       "<map at 0x1c4a2708dc0>"
      ]
     },
     "execution_count": 150,
     "metadata": {},
     "output_type": "execute_result"
    }
   ],
   "source": [
    "_map = map(pow, [1, 2, 3])\n",
    "\n",
    "_map"
   ]
  },
  {
   "cell_type": "markdown",
   "id": "925d53c4",
   "metadata": {},
   "source": [
    "> ## Operadores relacionais / Operadores de comparação\n",
    "> \n",
    "> ### `<=` `<` `>` `>=` `==` `!=`\n",
    ">\n",
    "> <br>"
   ]
  },
  {
   "cell_type": "code",
   "execution_count": null,
   "id": "7ee48e19",
   "metadata": {},
   "outputs": [
    {
     "data": {
      "text/plain": [
       "True"
      ]
     },
     "execution_count": 161,
     "metadata": {},
     "output_type": "execute_result"
    }
   ],
   "source": [
    "a = 10; b = 10\n",
    "\n",
    "a == b"
   ]
  },
  {
   "cell_type": "code",
   "execution_count": null,
   "id": "ced51700",
   "metadata": {},
   "outputs": [
    {
     "data": {
      "text/plain": [
       "True"
      ]
     },
     "execution_count": 162,
     "metadata": {},
     "output_type": "execute_result"
    }
   ],
   "source": [
    "# \"Não igual\"\n",
    "\n",
    "a != b"
   ]
  },
  {
   "cell_type": "markdown",
   "id": "43b89991",
   "metadata": {},
   "source": [
    "> ## Operadores Lógicos\n",
    ">\n",
    "> ### `is` `is not` `in` `not in` `not` `or` `and`\n",
    "> \n",
    "> <br>\n",
    ">\n",
    "> #### Operadores de identidade: `is` `is not`\n",
    ">\n",
    "> #### Operadores de associação: `in` `not in`\n",
    ">\n",
    "> <br>"
   ]
  },
  {
   "cell_type": "code",
   "execution_count": null,
   "id": "6ed44649",
   "metadata": {},
   "outputs": [
    {
     "data": {
      "text/plain": [
       "True"
      ]
     },
     "execution_count": 172,
     "metadata": {},
     "output_type": "execute_result"
    }
   ],
   "source": [
    "# Já vimos (se um objeto é \"igual\" a outro, se são o mesmo objeto, se apontam para o mesmo local de memória)\n",
    "\n",
    "# \"is\" e \"is not\" são operadores de identidade\n",
    "\n",
    "a = 10; b = 10\n",
    " \n",
    "a is b"
   ]
  },
  {
   "cell_type": "code",
   "execution_count": null,
   "id": "bfba1090",
   "metadata": {},
   "outputs": [
    {
     "name": "stdout",
     "output_type": "stream",
     "text": [
      "False True False True\n"
     ]
    }
   ],
   "source": [
    "# \"not\" inverte o resultado verdadeiro ou falso\n",
    "\n",
    "# not True -> False\n",
    "# not False -> True \n",
    "\n",
    "print(not True, not False, not 1, not 0)\n"
   ]
  },
  {
   "cell_type": "code",
   "execution_count": null,
   "id": "5bc05026",
   "metadata": {},
   "outputs": [
    {
     "data": {
      "text/plain": [
       "True"
      ]
     },
     "execution_count": 200,
     "metadata": {},
     "output_type": "execute_result"
    }
   ],
   "source": [
    "# not True -> False\n",
    "# not False -> True \n",
    "\n",
    "a = 10; b = 10\n",
    "\n",
    "not a == b # Precedência: not (a == b)"
   ]
  },
  {
   "cell_type": "code",
   "execution_count": null,
   "id": "7e3b2479",
   "metadata": {},
   "outputs": [
    {
     "data": {
      "text/plain": [
       "(True, True)"
      ]
     },
     "execution_count": 14,
     "metadata": {},
     "output_type": "execute_result"
    }
   ],
   "source": [
    "lista = ['a', 'b', 'c', 'd', 'e']\n",
    "\n",
    "# \"in\" e \"not in\" são operadores de associação (se um valor/objeto pertence a uma estrutura de dados/coleção/sequência)\n",
    "\n",
    "'a' in lista, 5 not in [2, 3, 4]"
   ]
  },
  {
   "cell_type": "markdown",
   "id": "ebb62c7b",
   "metadata": {},
   "source": [
    "> ### Condições compostas: `and` e `or`\n",
    "> \n",
    "> ### Tabela Verdade `and`\n",
    "> \n",
    "> | Condição 1 | Condição 2 | Condição 1 `and` 1 |\n",
    "> |:----------:|:----------:|:------------------:|\n",
    "> |   False    |   False    |  False             |\n",
    "> |   False    |   True     |  False             |\n",
    "> |   True     |   False    |  False             |\n",
    "> |   True     |   True     |  True              |\n",
    "> \n",
    "> <br>\n",
    "> \n",
    "> ### Tabela Verdade `or`\n",
    "> \n",
    "> | Condição 1 | Condição 2 | Condição 1 `or` 2 |\n",
    "> |:----------:|:----------:|:-----------------:|\n",
    "> |  False     |  False     |  False            |\n",
    "> |  False     |  True      |  True             |\n",
    "> |  True      |  False     |  True             |\n",
    "> |  True      |  True      |  True             |\n",
    "> \n",
    "> &nbsp;\n",
    "> ***\n",
    "> \n",
    "> #### **Obs:** `and` e `or` são `curto-circuitos`, isto é:\n",
    "> \n",
    "> \n",
    "> > <expressão 1> `and` <expressão 2> \n",
    "> \n",
    "> - expressão 2 só é avaliada se 1 for verdadeira\n",
    ">\n",
    "> <br>\n",
    "> \n",
    "> > <expressão 1> `or` <expressão 2> \n",
    "> \n",
    "> - expressão 2 só é avaliada se 1 for falsa\n",
    ">\n",
    "> <br>\n"
   ]
  },
  {
   "cell_type": "code",
   "execution_count": 190,
   "id": "a074498a",
   "metadata": {},
   "outputs": [
    {
     "name": "stdout",
     "output_type": "stream",
     "text": [
      "False\n"
     ]
    }
   ],
   "source": [
    "print(True and False)  # \"and\" implica que qualquer False -> False"
   ]
  },
  {
   "cell_type": "code",
   "execution_count": 191,
   "id": "80968256",
   "metadata": {},
   "outputs": [
    {
     "name": "stdout",
     "output_type": "stream",
     "text": [
      "True\n"
     ]
    }
   ],
   "source": [
    "print(False or True)  # \"or\" implica que qualquer True -> True"
   ]
  },
  {
   "cell_type": "code",
   "execution_count": null,
   "id": "ab25a214",
   "metadata": {},
   "outputs": [
    {
     "data": {
      "text/plain": [
       "True"
      ]
     },
     "execution_count": 192,
     "metadata": {},
     "output_type": "execute_result"
    }
   ],
   "source": [
    "a = 10; b = 50\n",
    "\n",
    "# CUIDADO COM CURTO-CIRCUITO\n",
    "\n",
    "b >= 10 or a == 10 and a >= b  # Mas a < b\n",
    "\n",
    "# Como a primeira expressão é verdadeira\n",
    "# qualquer expressão falsa depois é avaliada como verdadeira\n",
    "# (apesar de inconsistências)\n",
    "\n",
    "# True or False and False -> True"
   ]
  },
  {
   "cell_type": "code",
   "execution_count": 196,
   "id": "0979db5e",
   "metadata": {},
   "outputs": [
    {
     "data": {
      "text/plain": [
       "False"
      ]
     },
     "execution_count": 196,
     "metadata": {},
     "output_type": "execute_result"
    }
   ],
   "source": [
    "(True or False) and False\n",
    "\n",
    "# Então atenção para usar explicitamente os parênteses"
   ]
  },
  {
   "cell_type": "code",
   "execution_count": 239,
   "id": "c8f7783c",
   "metadata": {},
   "outputs": [
    {
     "name": "stdout",
     "output_type": "stream",
     "text": [
      "Sem senha\n"
     ]
    }
   ],
   "source": [
    "# Avaliação como um 'if' usando somente 'or':\n",
    "\n",
    "senha = input('Digite sua senha') or 'Sem senha'\n",
    "\n",
    "print(senha)"
   ]
  },
  {
   "cell_type": "code",
   "execution_count": null,
   "id": "ea87ea76",
   "metadata": {},
   "outputs": [
    {
     "data": {
      "text/plain": [
       "True"
      ]
     },
     "execution_count": 199,
     "metadata": {},
     "output_type": "execute_result"
    }
   ],
   "source": [
    "# Lembrando da precedência\n",
    "\n",
    "# 1° Aritiméticos: ** * / // % + -\n",
    "# 2° Relacionais: <= < > >= == != \n",
    "# (3° Atribuição)\n",
    "# 4° Lógicos: is, is not, in, not in, not, or e and\n",
    "\n",
    "a = 10; b = 50\n",
    "\n",
    "a * 5 == b and a <= b / 5"
   ]
  },
  {
   "cell_type": "code",
   "execution_count": null,
   "id": "0001c025",
   "metadata": {},
   "outputs": [
    {
     "data": {
      "text/plain": [
       "False"
      ]
     },
     "execution_count": 45,
     "metadata": {},
     "output_type": "execute_result"
    }
   ],
   "source": [
    "# lembrando: \"is\" avalia se é o mesmo objeto\n",
    "\n",
    "a = 10\n",
    "\n",
    "a is int"
   ]
  },
  {
   "cell_type": "code",
   "execution_count": null,
   "id": "936fb496",
   "metadata": {},
   "outputs": [
    {
     "data": {
      "text/plain": [
       "(2728888172912, 140714789734896)"
      ]
     },
     "execution_count": 189,
     "metadata": {},
     "output_type": "execute_result"
    }
   ],
   "source": [
    "id(a), id(int)\n",
    "\n",
    "# Para avaliar se um objeto é de um determinado tipo:\n"
   ]
  },
  {
   "cell_type": "markdown",
   "id": "6335c549",
   "metadata": {},
   "source": [
    "> ### Função embutida `isinstance`\n",
    ">\n",
    "> Verificar se um objeto é de determinada classe\n",
    ">\n",
    "> ~~~python\n",
    "> # Sintaxe:\n",
    ">\n",
    "> isinstance(<objeto>, (<classe 1>,))\n",
    ">\n",
    "> isinstance(<objeto>, <classe 1> | <classe 2>)\n",
    "> ~~~\n",
    ">\n",
    "> <br>"
   ]
  },
  {
   "cell_type": "code",
   "execution_count": 152,
   "id": "15355d56",
   "metadata": {},
   "outputs": [
    {
     "data": {
      "text/plain": [
       "(True, True, True)"
      ]
     },
     "execution_count": 152,
     "metadata": {},
     "output_type": "execute_result"
    }
   ],
   "source": [
    "a = 10\n",
    "\n",
    "# Formas de se verificar se um objeto é de determinado tipo ou não\n",
    "\n",
    "isinstance(a, int), type(a) == int, type(a) != float"
   ]
  },
  {
   "cell_type": "code",
   "execution_count": 151,
   "id": "bd3a4fd4",
   "metadata": {},
   "outputs": [
    {
     "data": {
      "text/plain": [
       "(True, True)"
      ]
     },
     "execution_count": 151,
     "metadata": {},
     "output_type": "execute_result"
    }
   ],
   "source": [
    "# Formas de se verificar se um objeto é de um tipo dentre alguns\n",
    "\n",
    "isinstance(a, (int, float)),  isinstance(a,  int | float)"
   ]
  },
  {
   "cell_type": "markdown",
   "id": "8d5aedfd",
   "metadata": {},
   "source": [
    "\n",
    "> ### Comandos condicionais\n",
    ">\n",
    "> Avaliação de expressões (uma condição é uma pergunta implica em verdadeiro ou falso)\n",
    "> \n",
    "> ~~~python\n",
    "> # Sintaxe:\n",
    ">\n",
    "> <expressão 1> <operador> <expressão 2>\n",
    "> ~~~\n",
    ">\n",
    "> <br>\n",
    ">\n",
    "> ***\n",
    "> #### onde:\n",
    "> \n",
    "> ~~~python\n",
    "> <expressão 1> ou <expressão 2> podem ser:\n",
    "> ~~~\n",
    "> \n",
    "> - literal (número ou texto)\n",
    "> \n",
    "> - objeto\n",
    "> \n",
    "> - expressão aritmética\n",
    "> \n",
    "> - chamada de função\n",
    "> \n",
    "> ~~~python\n",
    "> e <operador>\n",
    "> ~~~\n",
    "> \n",
    "> - envolve a avaliação de operadores relacionais e/ou operadores lógicos\n",
    ">\n",
    "> <br>\n"
   ]
  },
  {
   "cell_type": "code",
   "execution_count": 153,
   "id": "cd4cb843",
   "metadata": {},
   "outputs": [
    {
     "data": {
      "text/plain": [
       "True"
      ]
     },
     "execution_count": 153,
     "metadata": {},
     "output_type": "execute_result"
    }
   ],
   "source": [
    "# Exemplo (algo melhor?)\n",
    "\n",
    "xx = 'ab'\n",
    "\n",
    "20 + 4 == 24 and xx == 'a' + 'b'"
   ]
  },
  {
   "cell_type": "markdown",
   "id": "bd750fa8",
   "metadata": {},
   "source": [
    "## **Controle de Fluxo**\n"
   ]
  },
  {
   "cell_type": "markdown",
   "id": "dc5a84f1",
   "metadata": {},
   "source": [
    "> ### Estrutura de __Condição de 1 Via__\n",
    "> \n",
    "> ~~~python\n",
    "> # Sintaxe:\n",
    ">\n",
    "> if <condição 1>: # Obrigatório\n",
    "> \n",
    ">     # Código se condição 1 for verdadeira\n",
    ">     <bloco identado de instruções da condição 1>\n",
    "> \n",
    "> # Código fora da condição 1\n",
    "> <bloco de instruções não-identado>\n",
    "> ~~~\n",
    "> \n",
    "> <br>\n",
    ">\n",
    "> Onde:\n",
    ">\n",
    "> ~~~python\n",
    "> <condição 1> é um comando condicional  # implica em verdadeiro ou falso\n",
    "> ~~~\n",
    ">\n",
    "> > #### OBS: __`Identação`__: __estruturação/hierarquia de código__\n",
    "> \n",
    "> ***\n",
    "> \n",
    "> ### Estrutura de __Condição de 2 Vias__\n",
    "> \n",
    "> ~~~python\n",
    "> # Sintaxe:\n",
    ">\n",
    "> if <condição 1>: # Obrigatório\n",
    "> \n",
    ">     # Código se condição 1 for verdadeira\n",
    ">     <bloco de instruções identado da condição 1>\n",
    "> \n",
    "> else: # Executado se condição 1 for falsa\n",
    "> \n",
    ">     # Código se condição 1 for falsa\n",
    ">     <bloco de instruções identado da condição 2>\n",
    "> \n",
    "> # Código fora da estrutura de condições\n",
    "> <bloco de instruções não-identado>\n",
    "> ~~~\n",
    ">\n",
    "> <br>\n",
    ">\n",
    "> > #### OBS: Estrutura e duas ou mais vias são **curto-circuitos**, isto é:\n",
    "> > - Se uma for verdadeira, as seguintes não são verificadas\n",
    "> \n",
    "> ***\n",
    "> \n",
    "> ### Estruturas de __Condição de n-Vias__ (forma completa)\n",
    "> \n",
    "> ~~~python\n",
    "> # Sintaxe:\n",
    ">\n",
    "> if <condição 1>: # Obrigatório\n",
    "> \n",
    ">     # Código se a condição 1 for verdadeira\n",
    ">     <bloco de instruções identado da condição 1>\n",
    "> \n",
    "> elif <condição 2>: # contração else + if\n",
    "> \n",
    ">     # Código se a condição 2 for verdadeira\n",
    ">     <bloco de instruções identado da condição 2>\n",
    "> \n",
    "> elif <...>: # quantas condições forem necessárias\n",
    "> \n",
    ">     <bloco de instruções identado da condição...>\n",
    ">\n",
    "> elif <condição n-1>:\n",
    "> \n",
    ">     # Código se a condição n-1 for verdadeira\n",
    ">     <bloco de instruções identado da condição n-1>\n",
    "> \n",
    "> else: # Executado se todas as condições anteriores forem falsas\n",
    "> \n",
    ">     # Código se todas as condições anteriores forem falsas\n",
    ">     <bloco de instruções identado da condição n>\n",
    "> \n",
    "> # Código fora da estrutura de condições\n",
    "> <bloco de instruções não-identado>\n",
    "> ~~~\n",
    ">\n",
    "> <br>\n",
    ">\n",
    "> > #### OBS: Estrutura e duas ou mais vias são **curto-circuitos**, isto é:\n",
    "> > - Se uma for verdadeira, as seguintes não são verificadas\n",
    ">\n",
    "> <br>"
   ]
  },
  {
   "cell_type": "code",
   "execution_count": null,
   "id": "7ce94964",
   "metadata": {},
   "outputs": [
    {
     "name": "stdout",
     "output_type": "stream",
     "text": [
      "bloco do else\n",
      "bloco fora do if-else\n"
     ]
    }
   ],
   "source": [
    "condicao = False\n",
    "                        # Mesma coisa:\n",
    "if condicao:\n",
    "\n",
    "    print('bloco do if')\n",
    "\n",
    "else:                   # elif not condicao:\n",
    "\n",
    "    print('bloco do else')\n",
    "\n",
    "print('bloco fora do if-else')"
   ]
  },
  {
   "cell_type": "code",
   "execution_count": 162,
   "id": "5381418b",
   "metadata": {},
   "outputs": [
    {
     "name": "stdout",
     "output_type": "stream",
     "text": [
      "bloco condição 3\n",
      "bloco fora do if-else\n"
     ]
    }
   ],
   "source": [
    "condicao1 = False\n",
    "condicao2 = False\n",
    "condicao3 = True\n",
    "condicao4 = True\n",
    "\n",
    "if condicao1:\n",
    "\n",
    "    print('bloco condição 1')\n",
    "\n",
    "elif condicao2:\n",
    "\n",
    "    print('bloco condição 2')\n",
    "\n",
    "elif condicao3:\n",
    "\n",
    "    print('bloco condição 3')\n",
    "\n",
    "elif condicao4:\n",
    "\n",
    "    print('bloco condição 4')\n",
    "\n",
    "else:\n",
    "\n",
    "    print('bloco do else')\n",
    "\n",
    "print('bloco fora do if-else')"
   ]
  },
  {
   "cell_type": "code",
   "execution_count": null,
   "id": "4c634f49",
   "metadata": {},
   "outputs": [
    {
     "name": "stdout",
     "output_type": "stream",
     "text": [
      "n: k-z\n"
     ]
    }
   ],
   "source": [
    "# Caracteres são representados numericamente (Tabela Unicode)\n",
    "\n",
    "lang = 'Python'\n",
    "\n",
    "caractere = lang[-1]\n",
    "\n",
    "if caractere <= 'e':\n",
    "\n",
    "    print(f'{caractere}:', 'a-e')\n",
    "\n",
    "elif caractere <= 'j':\n",
    "\n",
    "    print(f'{caractere}:', 'f-j')\n",
    "\n",
    "else:\n",
    "\n",
    "    print(f'{caractere}:', 'k-z')"
   ]
  },
  {
   "cell_type": "markdown",
   "id": "a1090b23",
   "metadata": {},
   "source": [
    "> ### `inline if` - Operação Ternária (condicional de uma linha)\n",
    ">\n",
    "> Se a estrutura if/else contiver um comando único em cada, podemos reduzir o código para uma linha com *inline if*\n",
    ">\n",
    "> ~~~python\n",
    "> # Sintaxe:\n",
    ">\n",
    "> <expressão 1> if <condição> else <expressão 2>\n",
    "> ~~~\n",
    ">\n",
    "> ***\n",
    "> Onde: \n",
    ">\n",
    "> ~~~python\n",
    "> sendo <condição> verdadeira a <expressão 1> é realizada, senão, <expressão 2>\n",
    "> ~~~\n",
    ">\n",
    "> > OBS:\n",
    "> > ~~~python\n",
    "> > else é obrigatório\n",
    "> > ~~~\n",
    "> > - se não for necessário cumprir nenhuma ação pode ser substituído por `None`\n",
    ">\n",
    "> <br>"
   ]
  },
  {
   "cell_type": "code",
   "execution_count": 272,
   "id": "24d94958",
   "metadata": {},
   "outputs": [
    {
     "name": "stdout",
     "output_type": "stream",
     "text": [
      "Valor\n"
     ]
    }
   ],
   "source": [
    "\n",
    "print('Valor' if True else 'Outro valor')\n"
   ]
  },
  {
   "cell_type": "code",
   "execution_count": null,
   "id": "980e30b1",
   "metadata": {},
   "outputs": [
    {
     "name": "stdout",
     "output_type": "stream",
     "text": [
      "False\n"
     ]
    }
   ],
   "source": [
    "\n",
    "condicao = 9 > 10\n",
    "\n",
    "print(True if condicao else False)\n"
   ]
  },
  {
   "cell_type": "code",
   "execution_count": null,
   "id": "d08c5dfe",
   "metadata": {},
   "outputs": [
    {
     "name": "stdout",
     "output_type": "stream",
     "text": [
      "20 é par\n"
     ]
    }
   ],
   "source": [
    "\n",
    "valor = 20\n",
    "\n",
    "# Atribuição usando inline if\n",
    "\n",
    "par = True if valor % 2 == 0 else False\n",
    "\n",
    "# Printando com \n",
    "\n",
    "print(f'{valor} é par' if par else f'{valor} é ímpar')"
   ]
  },
  {
   "cell_type": "code",
   "execution_count": null,
   "id": "0bfd2a34",
   "metadata": {},
   "outputs": [
    {
     "name": "stdout",
     "output_type": "stream",
     "text": [
      "Outra coisa\n"
     ]
    }
   ],
   "source": [
    "# Dá para ir colocando mais if, porém começa a fugir do código simples, porém existe:\n",
    "\n",
    "print('Valor' if False else 'Outro valor' if False else 'Outra coisa')\n"
   ]
  },
  {
   "cell_type": "markdown",
   "id": "a46e0302",
   "metadata": {},
   "source": [
    "> ### Uso dos booleanos `True` e `False`\n",
    ">\n",
    "> Exemplo:\n",
    ">\n",
    "> <br>"
   ]
  },
  {
   "cell_type": "code",
   "execution_count": 31,
   "id": "3efbe1d5",
   "metadata": {},
   "outputs": [
    {
     "name": "stdout",
     "output_type": "stream",
     "text": [
      "True\n"
     ]
    }
   ],
   "source": [
    "# Utilidade isolar partes do código\n",
    "\n",
    "if True:\n",
    "    \n",
    "    print('True')\n",
    "    \n",
    "if False:\n",
    "    \n",
    "    print('False')\n"
   ]
  },
  {
   "cell_type": "code",
   "execution_count": null,
   "id": "b60d5532",
   "metadata": {},
   "outputs": [
    {
     "name": "stdout",
     "output_type": "stream",
     "text": [
      "bloco do if 0\n",
      "bloco do if 0.0\n",
      "bloco do if ''\n"
     ]
    }
   ],
   "source": [
    "'''\n",
    "\n",
    "OBSERVAÇÃO: 'zero', 'zero.zero' e 'string vazia'\n",
    "\n",
    "0, 0.0 e '' são falsy (não são exatamente falsos, são considerados falsos):\n",
    "\n",
    "'''\n",
    "\n",
    "# not False  ->  True\n",
    "\n",
    "if not 0:\n",
    "\n",
    "    print('bloco do if 0')\n",
    "\n",
    "if not 0.0:\n",
    "\n",
    "    print('bloco do if 0.0')\n",
    "\n",
    "if not '':\n",
    "\n",
    "    print(\"bloco do if ''\")\n"
   ]
  },
  {
   "cell_type": "code",
   "execution_count": null,
   "id": "01ea6c04",
   "metadata": {},
   "outputs": [
    {
     "data": {
      "text/plain": [
       "(True, True, True)"
      ]
     },
     "execution_count": 214,
     "metadata": {},
     "output_type": "execute_result"
    }
   ],
   "source": [
    "# 0, 0.0 e '' são falsy (não são exatamente falsos, são considerados falsos):\n",
    "\n",
    "bool(0) == False, bool(0.0) == False, bool('') == False\n"
   ]
  },
  {
   "cell_type": "code",
   "execution_count": null,
   "id": "29ad0ef8",
   "metadata": {},
   "outputs": [
    {
     "data": {
      "text/plain": [
       "(True, True, True)"
      ]
     },
     "execution_count": 216,
     "metadata": {},
     "output_type": "execute_result"
    }
   ],
   "source": [
    "# 1, 1.0 e 'não-vazio' são truthy (são considerados verdadeiros)\n",
    "\n",
    "bool(1) == True, bool(1.0) == True, bool(' ') == True"
   ]
  },
  {
   "cell_type": "code",
   "execution_count": null,
   "id": "f706e671",
   "metadata": {},
   "outputs": [
    {
     "name": "stdout",
     "output_type": "stream",
     "text": [
      "False\n",
      "abc\n",
      "\n",
      "abc\n",
      "abc\n",
      "\n",
      "0\n",
      "1\n",
      "\n",
      "Empty\n",
      "abc\n",
      "\n"
     ]
    }
   ],
   "source": [
    "# Valores \"falsy\" e \"truthy\":\n",
    "\n",
    "if 1 and 1:\n",
    "\n",
    "    # Retorno de avaliação de expressão (pode ser útil para debugar):\n",
    "    # (Às vezes está recebendo um monte de coisa de algum lugar)\n",
    "\n",
    "    expressao_1 = True and 1 and False  # 'and' onde falha\n",
    "\n",
    "    print(expressao_1)\n",
    "\n",
    "    expressao_2 = False or 0 or 'abc'   # 'or' onde verdadeiro\n",
    "\n",
    "    print(expressao_2)\n",
    "\n",
    "    print()\n",
    "\n",
    "if 0 or 1:\n",
    "\n",
    "    expressao_1 = True and 'abc' or 0  # 'and' onde falha\n",
    "\n",
    "    print(expressao_1)\n",
    "\n",
    "    expressao_2 = False or 'abc' or 0  # 'or' onde verdadeiro\n",
    "\n",
    "    print(expressao_2)\n",
    "\n",
    "    print()\n",
    "\n",
    "if not 0 and not '':\n",
    "\n",
    "    expressao_1 = True and 0 and 'abc'  # 'and' onde falha\n",
    "\n",
    "    print(expressao_1)\n",
    "\n",
    "    expressao_2 = False or 1 or ''      # 'or' onde verdadeiro\n",
    "\n",
    "    print(expressao_2)\n",
    "\n",
    "    print()\n",
    "\n",
    "if ' ' and 1:\n",
    "\n",
    "    expressao_1 = True and '' and 1                # 'and' onde falha\n",
    "\n",
    "    print('Empty' if expressao_1 == '' else None)  # inline if\n",
    "\n",
    "    expressao_2 = False or 'abc' or 1              # 'or' onde verdadeiro\n",
    "\n",
    "    print(expressao_2)\n",
    "\n",
    "# OBS: Retorno de avaliação de expressão (pode ser útil para debugar):"
   ]
  },
  {
   "cell_type": "markdown",
   "id": "fd855f4f",
   "metadata": {},
   "source": [
    "> ### Uso de `None`\n",
    ">\n",
    "> #### Vazio (ausência de valor / nenhuma informação)\n",
    ">\n",
    "> Exemplo:\n",
    ">\n",
    "> <br>"
   ]
  },
  {
   "cell_type": "code",
   "execution_count": null,
   "id": "d6f5d28e",
   "metadata": {},
   "outputs": [
    {
     "name": "stdout",
     "output_type": "stream",
     "text": [
      "<class 'NoneType'>\n"
     ]
    }
   ],
   "source": [
    "# Se um objeto \"existe\" ou não - semelhante a True e False\n",
    "\n",
    "a = None  # não é exatamente False, mas é considerado False\n",
    "\n",
    "if a:\n",
    "\n",
    "    print(a)\n",
    "\n",
    "if a is None:  # forma mais usual de None como condição\n",
    "\n",
    "    print(type(None))\n"
   ]
  },
  {
   "cell_type": "code",
   "execution_count": 9,
   "id": "7ef9a89d",
   "metadata": {},
   "outputs": [
    {
     "name": "stdout",
     "output_type": "stream",
     "text": [
      "Passou no if\n"
     ]
    }
   ],
   "source": [
    "# Debugar código - uso de None como flag (marcar local):\n",
    "\n",
    "velocidade_carro = 100     # velocidade de um carro\n",
    "velocidade_permitida = 80  # velocidade limite de um radar\n",
    "\n",
    "posicao_radar = 50  # posição de um radar\n",
    "posicao_carro = 51  # posição do carro\n",
    "\n",
    "limite_distancia_radar = 1  # limite de distância em que radar consegue verificar\n",
    "\n",
    "'''Dependendo do número de condições o código começa a ficar muito complexo\n",
    "\n",
    "   Mas lembre-se:\n",
    "\n",
    "        Explícito é melhor que implícito.\n",
    "        Simples é melhor que complexo.\n",
    "\n",
    "        Beautiful is better than ugly.\n",
    "        Explicit is better than implicit.\n",
    "        Simple is better than complex.\n",
    "'''\n",
    "condicao_acima_velocidade_permitida = velocidade_carro > velocidade_permitida\n",
    "condicao_distancia_radar = (posicao_carro - posicao_radar) <= limite_distancia_radar\n",
    "\n",
    "condicao_multado = condicao_acima_velocidade_permitida and \\\n",
    "                   condicao_distancia_radar\n",
    "\n",
    "passou_no_if = None\n",
    "\n",
    "if condicao_multado:\n",
    "    \n",
    "    # fazer algo\n",
    "    passou_no_if = True\n",
    "    \n",
    "else:\n",
    "    \n",
    "    # faça outra coisa\n",
    "    pass\n",
    "\n",
    "if passou_no_if is None:\n",
    "    \n",
    "    print('Não passou no if')\n",
    "    \n",
    "elif passou_no_if is not None:\n",
    "    \n",
    "    print('Passou no if')\n",
    "\n",
    "# útil para debuggar módulos e funções"
   ]
  },
  {
   "cell_type": "markdown",
   "id": "1b323b22",
   "metadata": {},
   "source": [
    "> ## Estruturas Condicionais aninhadas\n",
    ">\n",
    "> #### Condição dentro de condição\n",
    ">\n",
    "> <br>"
   ]
  },
  {
   "cell_type": "code",
   "execution_count": null,
   "id": "f6e42369",
   "metadata": {},
   "outputs": [
    {
     "name": "stdout",
     "output_type": "stream",
     "text": [
      "6 é par.\n"
     ]
    }
   ],
   "source": [
    "valor = 6\n",
    "\n",
    "# Se a é um inteiro ou float\n",
    "if isinstance(valor, (int, float)):\n",
    "\n",
    "    # Se a é divisível por 2\n",
    "    if valor % 2 == 0:\n",
    "\n",
    "        print(valor, 'é par.')\n",
    "\n",
    "    # Senão se não for divisível por 2\n",
    "    elif valor % 2 != 0:\n",
    "\n",
    "        print(valor, 'é ímpar.')\n",
    "\n",
    "# Senão (se for diferente de int e float)\n",
    "else:\n",
    "\n",
    "    print(valor, 'não é um \"int\" ou \"float\".')\n",
    "        \n"
   ]
  },
  {
   "cell_type": "markdown",
   "id": "eb728eda",
   "metadata": {},
   "source": [
    "> ### Comando `match/case`\n",
    ">\n",
    "> Verificar conteúdo de objeto através de multicondições\n",
    ">\n",
    "> ~~~python\n",
    "> # Sintaxe:\n",
    ">\n",
    "> match <objeto>\n",
    ">\n",
    ">   case <conteúdo 1>:\n",
    ">\n",
    ">       <tarefa 1>\n",
    ">\n",
    ">   case <conteúdo 2>:\n",
    ">\n",
    ">       <tarefa 2>\n",
    ">\n",
    ">   case <conteúdo n-1>:\n",
    ">\n",
    ">       <tarefa n-1>\n",
    ">\n",
    ">   case <_>: # se nenhum caso anterior for satisfeito\n",
    ">\n",
    ">       <última tarefa>\n",
    "> ~~~\n",
    ">\n",
    "> ***\n",
    "> \n",
    "> Onde, em cada cláusula:\n",
    ">\n",
    "> ~~~python\n",
    "> case <conteúdo> será verificado se <objeto> == <conteúdo>\n",
    ">\n",
    "> case <_> é \"obrigatório\", senão se um caso não previsto nos casos anteriores ocorrer, nenhuma ação ocorre\n",
    ">\n",
    "> porém se case <_> estiver presente, ele deve ser o último case da sequência\n",
    "> ~~~\n",
    ">\n",
    "> <br>"
   ]
  },
  {
   "cell_type": "code",
   "execution_count": 255,
   "id": "bc022b63",
   "metadata": {},
   "outputs": [
    {
     "name": "stdout",
     "output_type": "stream",
     "text": [
      "\"numero\" != 1, 2, 3 ou 0\n"
     ]
    }
   ],
   "source": [
    "numero = 9\n",
    "\n",
    "match numero:\n",
    "\n",
    "    case 1:\n",
    "\n",
    "        print(f'\"numero\" = 1')\n",
    "\n",
    "    case 2:\n",
    "\n",
    "        print(f'\"numero\" = 2')\n",
    "\n",
    "    case 3:\n",
    "\n",
    "        print(f'\"numero\" = 3')\n",
    "\n",
    "    case 0: # os casos podem vir em qualquer ordem, porém...\n",
    "\n",
    "        print(f'\"numero\" = 0')\n",
    "\n",
    "    # o caso padrão \"_\", deve ser o último\n",
    "\n",
    "    case _: # qualquer caso diferente dos anteriores \n",
    "\n",
    "        print('\"numero\" != 1, 2, 3 ou 0')\n"
   ]
  },
  {
   "cell_type": "markdown",
   "id": "25465742",
   "metadata": {},
   "source": [
    "> ## __Estruturas de Repetição__\n",
    "> \n",
    "> #### Permitem a repetição sucessiva de comandos (Laço - *Loop*)\n",
    ">\n",
    "> <br>"
   ]
  },
  {
   "cell_type": "markdown",
   "id": "907e4473",
   "metadata": {},
   "source": [
    "> ### Comando `for` - __repetição para cada item de um iterável__ (sequência)\n",
    "> \n",
    "> ~~~python\n",
    "> # Sintaxe:\n",
    ">\n",
    "> for <variavel> in <sequência>:\n",
    "> \n",
    ">     # Código dentro do for\n",
    ">     <bloco instruções identado>\n",
    "> \n",
    "> # Código fora do for\n",
    "> <bloco instruções não-identado>\n",
    "> ~~~\n",
    ">\n",
    "> <br>\n",
    ">\n",
    "> ***\n",
    "> Onde:\n",
    ">\n",
    "> - sequência é um iterável (acessar elemento à elemento)\n",
    ">\n",
    "> - variável recebe sequencialmente cada valor de sequência a cada passo\n",
    ">\n",
    "> <br>"
   ]
  },
  {
   "cell_type": "code",
   "execution_count": 35,
   "id": "5b01c0bd",
   "metadata": {},
   "outputs": [
    {
     "name": "stdout",
     "output_type": "stream",
     "text": [
      "a\n",
      "b\n",
      "c\n"
     ]
    }
   ],
   "source": [
    "lista = ['a', 'b', 'c']\n",
    "\n",
    "for item in lista:\n",
    "    \n",
    "    print(item)"
   ]
  },
  {
   "cell_type": "markdown",
   "id": "9921171c",
   "metadata": {},
   "source": [
    "> ### Função embutida / Classe `range`\n",
    "> \n",
    "> Retorna um objeto classe range que é um iterável\n",
    ">\n",
    "> ~~~python\n",
    "> # Sintaxe:\n",
    ">\n",
    "> range(start, stop, step)\n",
    "> ~~~\n",
    ">\n",
    "> ***\n",
    "> Onde:\n",
    "> \n",
    "> - start é o início (opcional, padrão inicia em zero)\n",
    "> \n",
    "> - stop é o fim (não inclusivo)\n",
    ">\n",
    "> - step é o passo (opcional, padrão de 1 em 1 incremental)\n",
    ">\n",
    "> <br>"
   ]
  },
  {
   "cell_type": "code",
   "execution_count": null,
   "id": "7ad22a0a",
   "metadata": {},
   "outputs": [
    {
     "name": "stdout",
     "output_type": "stream",
     "text": [
      "range(1, 10)\n",
      "<class 'range'>\n"
     ]
    }
   ],
   "source": [
    "# range é uma classe:\n",
    "\n",
    "numeros = range(1, 10)  # cuidado range = range(1, 10)\n",
    "\n",
    "print(numeros)\n",
    "\n",
    "print(type(range(1, 10)))\n"
   ]
  },
  {
   "cell_type": "code",
   "execution_count": null,
   "id": "d1176d33",
   "metadata": {},
   "outputs": [
    {
     "name": "stdout",
     "output_type": "stream",
     "text": [
      "0\n",
      "1\n",
      "2\n",
      "3\n"
     ]
    }
   ],
   "source": [
    "for i in range(4):\n",
    "\n",
    "    print(i)\n",
    "\n",
    "# Em geral, em Python o último índice é não inclusivo"
   ]
  },
  {
   "cell_type": "code",
   "execution_count": 61,
   "id": "c54c3b14",
   "metadata": {},
   "outputs": [
    {
     "name": "stdout",
     "output_type": "stream",
     "text": [
      "1\n",
      "2\n",
      "3\n",
      "4\n",
      "5\n",
      "6\n",
      "7\n",
      "8\n",
      "9\n"
     ]
    }
   ],
   "source": [
    "numeros = range(1, 10)\n",
    "\n",
    "for numero in numeros:\n",
    "\n",
    "    print(numero)"
   ]
  },
  {
   "cell_type": "code",
   "execution_count": null,
   "id": "989c3b73",
   "metadata": {},
   "outputs": [
    {
     "name": "stdout",
     "output_type": "stream",
     "text": [
      "Progressão Aritimética de 4 (10 valores): 4 8 12 16 20 24 28 32 36 40 "
     ]
    }
   ],
   "source": [
    "# range como construtor de Progressão Aritmética\n",
    "\n",
    "# (operação já direto dentro do sequenciamento)\n",
    "\n",
    "numero = 4\n",
    "limite = 10\n",
    "\n",
    "print(f'Progressão Aritimética de {numero} ({limite} valores):', end=' ')\n",
    "\n",
    "for num in range(numero, numero*limite + 1, numero):\n",
    "\n",
    "    print(f'{num}', end=' ')\n"
   ]
  },
  {
   "cell_type": "markdown",
   "id": "7cbec2d8",
   "metadata": {},
   "source": [
    "> ### Função embutida `len`\n",
    ">\n",
    "> #### Comprimento de uma sequência/coleção\n",
    ">\n",
    "> <br>"
   ]
  },
  {
   "cell_type": "code",
   "execution_count": 38,
   "id": "67cfd441",
   "metadata": {},
   "outputs": [
    {
     "name": "stdout",
     "output_type": "stream",
     "text": [
      "\u001b[1;31mSignature:\u001b[0m \u001b[0mlen\u001b[0m\u001b[1;33m(\u001b[0m\u001b[0mobj\u001b[0m\u001b[1;33m,\u001b[0m \u001b[1;33m/\u001b[0m\u001b[1;33m)\u001b[0m\u001b[1;33m\u001b[0m\u001b[1;33m\u001b[0m\u001b[0m\n",
      "\u001b[1;31mDocstring:\u001b[0m Return the number of items in a container.\n",
      "\u001b[1;31mType:\u001b[0m      builtin_function_or_method"
     ]
    }
   ],
   "source": [
    "len?"
   ]
  },
  {
   "cell_type": "code",
   "execution_count": 310,
   "id": "7bebcf76",
   "metadata": {},
   "outputs": [
    {
     "name": "stdout",
     "output_type": "stream",
     "text": [
      "0\n",
      "1\n",
      "2\n"
     ]
    }
   ],
   "source": [
    "numeros = range(len(lista))\n",
    "\n",
    "for i in numeros:\n",
    "    \n",
    "    print(i)"
   ]
  },
  {
   "cell_type": "code",
   "execution_count": null,
   "id": "d7cc34c0",
   "metadata": {},
   "outputs": [
    {
     "name": "stdout",
     "output_type": "stream",
     "text": [
      "9\n",
      "16\n"
     ]
    }
   ],
   "source": [
    "dicionario_1 = {'a': 5, 'b': 9, 'c': 21}\n",
    "\n",
    "dicionario_2 = dict(a=4, b=7)\n",
    "\n",
    "# iterando a partir de chaves de dicionário\n",
    "for key in dicionario_1.keys():\n",
    "    \n",
    "    if key in dicionario_2:\n",
    "\n",
    "        print(dicionario_2[key] + dicionario_1[key])"
   ]
  },
  {
   "cell_type": "markdown",
   "id": "30842632",
   "metadata": {},
   "source": [
    "> ### Função embutida `enumerate`\n",
    ">\n",
    "> #### Enumera uma sequência iniciando do zero (padrão) e retorna o respectivo item da sequência\n",
    ">\n",
    "> ***\n",
    "> #### OBS: __`Generator`__: \"retorna valores\" (*`yield`*) que são usados quando demandados\n",
    ">\n",
    "> <br>"
   ]
  },
  {
   "cell_type": "code",
   "execution_count": 62,
   "id": "b94f06c2",
   "metadata": {},
   "outputs": [
    {
     "name": "stdout",
     "output_type": "stream",
     "text": [
      "\u001b[1;31mInit signature:\u001b[0m \u001b[0menumerate\u001b[0m\u001b[1;33m(\u001b[0m\u001b[0miterable\u001b[0m\u001b[1;33m,\u001b[0m \u001b[0mstart\u001b[0m\u001b[1;33m=\u001b[0m\u001b[1;36m0\u001b[0m\u001b[1;33m)\u001b[0m\u001b[1;33m\u001b[0m\u001b[1;33m\u001b[0m\u001b[0m\n",
      "\u001b[1;31mDocstring:\u001b[0m     \n",
      "Return an enumerate object.\n",
      "\n",
      "  iterable\n",
      "    an object supporting iteration\n",
      "\n",
      "The enumerate object yields pairs containing a count (from start, which\n",
      "defaults to zero) and a value yielded by the iterable argument.\n",
      "\n",
      "enumerate is useful for obtaining an indexed list:\n",
      "    (0, seq[0]), (1, seq[1]), (2, seq[2]), ...\n",
      "\u001b[1;31mType:\u001b[0m           type\n",
      "\u001b[1;31mSubclasses:\u001b[0m     "
     ]
    }
   ],
   "source": [
    "enumerate?"
   ]
  },
  {
   "cell_type": "code",
   "execution_count": null,
   "id": "25873bdf",
   "metadata": {},
   "outputs": [
    {
     "name": "stdout",
     "output_type": "stream",
     "text": [
      "<enumerate object at 0x00000202637C2980>\n",
      "[(0, 'Maria'), (1, 'Helena'), (2, 'João')]\n"
     ]
    }
   ],
   "source": [
    "nomes = ['Maria', 'Helena', 'João']\n",
    "\n",
    "lista_enumerada = enumerate(nomes)  # recebe um iterable e retorna um objeto enumerate\n",
    "\n",
    "print(lista_enumerada)\n",
    "\n",
    "lista_enumerada = list(enumerate(nomes))\n",
    "\n",
    "print(lista_enumerada)"
   ]
  },
  {
   "cell_type": "code",
   "execution_count": null,
   "id": "5bac36dd",
   "metadata": {},
   "outputs": [
    {
     "name": "stdout",
     "output_type": "stream",
     "text": [
      "0 fname1\n",
      "1 fname2\n",
      "2 fname3\n",
      "0 fname1\n",
      "1 fname2\n",
      "2 fname3\n"
     ]
    }
   ],
   "source": [
    "# enumerate: iterar sobre um iterável, obtendo o índice e o respectivo elemento\n",
    "\n",
    "fnames = ['fname1', 'fname2', 'fname3']\n",
    "\n",
    "\n",
    "for i, fname in enumerate(fnames):\n",
    "\n",
    "    print(i, fname)\n",
    "\n",
    "\n",
    "# No fundo, ocorre o desempacotamento:\n",
    "for item in enumerate(fnames):\n",
    "\n",
    "    i, fname = item\n",
    "\n",
    "    print(i, fname)\n",
    "\n",
    "\n",
    "# enumerate mais prático que range(len(algo)):\n",
    "\n",
    "# for i in range(len(fnames)):\n",
    "    \n",
    "#     print(i, fnames[i])\n"
   ]
  },
  {
   "cell_type": "markdown",
   "id": "aca1eefc",
   "metadata": {},
   "source": [
    "> ### Função embutida `zip`\n",
    ">\n",
    "> #### Gera tuplas pareando valores de sequências\n",
    ">\n",
    "> <br>"
   ]
  },
  {
   "cell_type": "code",
   "execution_count": 468,
   "id": "46ab818d",
   "metadata": {},
   "outputs": [
    {
     "name": "stdout",
     "output_type": "stream",
     "text": [
      "\u001b[1;31mInit signature:\u001b[0m \u001b[0mzip\u001b[0m\u001b[1;33m(\u001b[0m\u001b[0mself\u001b[0m\u001b[1;33m,\u001b[0m \u001b[1;33m/\u001b[0m\u001b[1;33m,\u001b[0m \u001b[1;33m*\u001b[0m\u001b[0margs\u001b[0m\u001b[1;33m,\u001b[0m \u001b[1;33m**\u001b[0m\u001b[0mkwargs\u001b[0m\u001b[1;33m)\u001b[0m\u001b[1;33m\u001b[0m\u001b[1;33m\u001b[0m\u001b[0m\n",
      "\u001b[1;31mDocstring:\u001b[0m     \n",
      "zip(*iterables, strict=False) --> Yield tuples until an input is exhausted.\n",
      "\n",
      "   >>> list(zip('abcdefg', range(3), range(4)))\n",
      "   [('a', 0, 0), ('b', 1, 1), ('c', 2, 2)]\n",
      "\n",
      "The zip object yields n-length tuples, where n is the number of iterables\n",
      "passed as positional arguments to zip().  The i-th element in every tuple\n",
      "comes from the i-th iterable argument to zip().  This continues until the\n",
      "shortest argument is exhausted.\n",
      "\n",
      "If strict is true and one of the arguments is exhausted before the others,\n",
      "raise a ValueError.\n",
      "\u001b[1;31mType:\u001b[0m           type\n",
      "\u001b[1;31mSubclasses:\u001b[0m     "
     ]
    }
   ],
   "source": [
    "zip?"
   ]
  },
  {
   "cell_type": "code",
   "execution_count": 471,
   "id": "f9a66568",
   "metadata": {},
   "outputs": [
    {
     "data": {
      "text/plain": [
       "(<zip at 0x20261bbf4c0>, [(1, 3), (2, 2), (3, 1)])"
      ]
     },
     "execution_count": 471,
     "metadata": {},
     "output_type": "execute_result"
    }
   ],
   "source": [
    "\n",
    "lista = [\n",
    "    [1, 2, 3],\n",
    "    [3, 2, 1]\n",
    "]\n",
    "\n",
    "# zip(*iterables, strict=False) --> Yield tuples until an input is exhausted\n",
    "\n",
    "# yield -> generator\n",
    "\n",
    "tuplas = zip(*lista)\n",
    "\n",
    "tuplas, list(tuplas)"
   ]
  },
  {
   "cell_type": "code",
   "execution_count": null,
   "id": "f97ec6cd",
   "metadata": {},
   "outputs": [
    {
     "name": "stdout",
     "output_type": "stream",
     "text": [
      "1 + 3 = 4\n",
      "2 + 2 = 4\n",
      "3 + 1 = 4\n"
     ]
    }
   ],
   "source": [
    "# Comum usar em laço\n",
    "\n",
    "arr1 = [1, 2, 3]\n",
    "\n",
    "arr2 = [3, 2, 1]\n",
    "\n",
    "for x, y in zip(arr1, arr2):\n",
    "\n",
    "    print(f'{x} + {y} = {x + y}')"
   ]
  },
  {
   "cell_type": "code",
   "execution_count": null,
   "id": "61283280",
   "metadata": {},
   "outputs": [
    {
     "name": "stdout",
     "output_type": "stream",
     "text": [
      "('0', 'a', 'a')\n",
      "('1', 'e', 'b')\n",
      "('2', 'i', 'c')\n",
      "('3', 'o', 'd')\n",
      "('4', 'u', 'e')\n"
     ]
    }
   ],
   "source": [
    "# OBS: Tamanhos diferentes -> gera quanto for possível sem dar erro\n",
    "\n",
    "for x in zip('012345', 'aeiou', 'abcdefghijklmnopqrstwxyz'):\n",
    "    \n",
    "    print(x)"
   ]
  },
  {
   "cell_type": "code",
   "execution_count": null,
   "id": "2083a191",
   "metadata": {},
   "outputs": [
    {
     "data": {
      "text/plain": [
       "{'primeira': 1, 'segunda': 2, 'terceira': 3}"
      ]
     },
     "execution_count": 44,
     "metadata": {},
     "output_type": "execute_result"
    }
   ],
   "source": [
    "# Tuplas -> Criar dicionário com zip\n",
    "\n",
    "dicionario = dict(\n",
    "        zip(\n",
    "            ['primeira', 'segunda', 'terceira'],\n",
    "            [1, 2, 3]\n",
    "        )\n",
    "    )\n",
    "\n",
    "dicionario"
   ]
  },
  {
   "cell_type": "code",
   "execution_count": null,
   "id": "df590dd3",
   "metadata": {},
   "outputs": [
    {
     "name": "stdout",
     "output_type": "stream",
     "text": [
      "0 0.3333333333333333\n",
      "1 1.0\n",
      "2 3.0\n"
     ]
    }
   ],
   "source": [
    "# Laço e agrupamento / pareamento de coleções\n",
    "\n",
    "arr1 = [1, 2, 3]\n",
    "\n",
    "arr2 = [3, 2, 1]\n",
    "\n",
    "for i, (x, y) in enumerate(zip(arr1, arr2)): # for i in enumerate(len(arr1)):\n",
    "\n",
    "    print(i, x/y)                            #     print(i, arr1[i]/arr2[i])"
   ]
  },
  {
   "cell_type": "code",
   "execution_count": null,
   "id": "2670c9e9",
   "metadata": {},
   "outputs": [
    {
     "name": "stdout",
     "output_type": "stream",
     "text": [
      "a\n",
      "e\n",
      "i\n",
      "o\n",
      "u\n"
     ]
    }
   ],
   "source": [
    "# Percorrer string: sequência de caracteres\n",
    "\n",
    "for caractere in 'azeitou':\n",
    "\n",
    "    if caractere in 'aeiou':\n",
    "        \n",
    "        print(caractere)"
   ]
  },
  {
   "cell_type": "markdown",
   "id": "60f3e557",
   "metadata": {},
   "source": [
    "> ## `Laços Aninhados` (_`Nested Loops`_)\n",
    ">\n",
    "> ### Laço interno dentro de outro\n",
    ">\n",
    "> <br>"
   ]
  },
  {
   "cell_type": "code",
   "execution_count": null,
   "id": "8086f0b2",
   "metadata": {},
   "outputs": [
    {
     "name": "stdout",
     "output_type": "stream",
     "text": [
      "João\n",
      "o\n",
      "o\n",
      "Maria\n",
      "a\n",
      "i\n",
      "a\n"
     ]
    }
   ],
   "source": [
    "nomes = ['João', 'Maria']\n",
    "\n",
    "for nome in nomes:\n",
    "\n",
    "    print(nome)\n",
    "\n",
    "    for caractere in nome:\n",
    "\n",
    "        if caractere in 'aeiou':\n",
    "\n",
    "            print(caractere)\n"
   ]
  },
  {
   "cell_type": "markdown",
   "id": "fc153d32",
   "metadata": {},
   "source": [
    "> ## Estruturas de Repetição\n",
    "> \n",
    "> ### Comando `while` - repete um bloco de código por um número __\"inderteminado\", no entanto finito (enquanto uma condição for verdadeira)__.\n",
    "> \n",
    "> ~~~python\n",
    "> # Sintaxe:\n",
    "> \n",
    "> while <expressão>: # Enquanto a expressão for verdadeira\n",
    "> \n",
    ">     # Código dentro do while \n",
    ">     <bloco instruções identado>\n",
    "> \n",
    "> # Código fora do while\n",
    "> <bloco instruções não-identado>\n",
    "> ~~~\n",
    ">\n",
    "> <br>"
   ]
  },
  {
   "cell_type": "code",
   "execution_count": null,
   "id": "cfb6e57c",
   "metadata": {},
   "outputs": [
    {
     "name": "stdout",
     "output_type": "stream",
     "text": [
      "0\n",
      "1\n",
      "2\n",
      "3\n",
      "4\n"
     ]
    }
   ],
   "source": [
    "contador = 0 # inicialização contador\n",
    "\n",
    "while contador < 5:\n",
    "\n",
    "    print(contador)\n",
    "\n",
    "    contador += 1 # atualizando contador\n",
    "\n",
    "# Análogo mas com comando for\n",
    "\n",
    "# for i in range(5):\n",
    "\n",
    "    # print(i)\n",
    "\n",
    "\n",
    "# Laço while é mais utilizado quando algo se repete indeterminadamente \n",
    "# (quando a repetição ocorre em número variável), até a condição falhar. \n",
    "# Se o número de vezes de repetição for fixo ou já sabemos anteriormente \n",
    "# o número de repetições, é mais comum usar o laço for"
   ]
  },
  {
   "cell_type": "code",
   "execution_count": null,
   "id": "c9208187",
   "metadata": {},
   "outputs": [
    {
     "data": {
      "text/plain": [
       "[1, 2, 3, 6, 9, 18, 27, 54]"
      ]
     },
     "execution_count": 49,
     "metadata": {},
     "output_type": "execute_result"
    }
   ],
   "source": [
    "# Divisores de um número\n",
    "\n",
    "num = 54\n",
    "\n",
    "divisores = []\n",
    "\n",
    "i = num  # maior divisor é ele mesmo\n",
    "\n",
    "while i > 0:\n",
    "\n",
    "    if num % i == 0:  # um número é divisível por outro se o resto é zero\n",
    "\n",
    "        divisores.append(num // i)\n",
    "\n",
    "    i -= 1\n",
    "\n",
    "divisores"
   ]
  },
  {
   "cell_type": "markdown",
   "id": "49895f6f",
   "metadata": {},
   "source": [
    "> ## `Laços Aninhados` (_`Nested Loops`_)\n",
    ">\n",
    "> ### Um laço dentro de outro\n",
    ">\n",
    "> <br>"
   ]
  },
  {
   "cell_type": "code",
   "execution_count": null,
   "id": "c51836eb",
   "metadata": {},
   "outputs": [
    {
     "name": "stdout",
     "output_type": "stream",
     "text": [
      "Tabuada do 2:   2 x 1 =  2   2 x 2 =  4   2 x 3 =  6   2 x 4 =  8   2 x 5 = 10   2 x 6 = 12   2 x 7 = 14   2 x 8 = 16   2 x 9 = 18   2 x 10 = 20   \n",
      "Tabuada do 3:   3 x 1 =  3   3 x 2 =  6   3 x 3 =  9   3 x 4 = 12   3 x 5 = 15   3 x 6 = 18   3 x 7 = 21   3 x 8 = 24   3 x 9 = 27   3 x 10 = 30   \n",
      "Tabuada do 4:   4 x 1 =  4   4 x 2 =  8   4 x 3 = 12   4 x 4 = 16   4 x 5 = 20   4 x 6 = 24   4 x 7 = 28   4 x 8 = 32   4 x 9 = 36   4 x 10 = 40   \n",
      "Tabuada do 5:   5 x 1 =  5   5 x 2 = 10   5 x 3 = 15   5 x 4 = 20   5 x 5 = 25   5 x 6 = 30   5 x 7 = 35   5 x 8 = 40   5 x 9 = 45   5 x 10 = 50   \n",
      "Tabuada do 6:   6 x 1 =  6   6 x 2 = 12   6 x 3 = 18   6 x 4 = 24   6 x 5 = 30   6 x 6 = 36   6 x 7 = 42   6 x 8 = 48   6 x 9 = 54   6 x 10 = 60   \n",
      "Tabuada do 7:   7 x 1 =  7   7 x 2 = 14   7 x 3 = 21   7 x 4 = 28   7 x 5 = 35   7 x 6 = 42   7 x 7 = 49   7 x 8 = 56   7 x 9 = 63   7 x 10 = 70   \n",
      "Tabuada do 8:   8 x 1 =  8   8 x 2 = 16   8 x 3 = 24   8 x 4 = 32   8 x 5 = 40   8 x 6 = 48   8 x 7 = 56   8 x 8 = 64   8 x 9 = 72   8 x 10 = 80   \n",
      "Tabuada do 9:   9 x 1 =  9   9 x 2 = 18   9 x 3 = 27   9 x 4 = 36   9 x 5 = 45   9 x 6 = 54   9 x 7 = 63   9 x 8 = 72   9 x 9 = 81   9 x 10 = 90   \n"
     ]
    }
   ],
   "source": [
    "# Laços Aninhados: while\n",
    "\n",
    "# Tabuada do 2 a do 9\n",
    "\n",
    "n = 2  # tabuada de n\n",
    "\n",
    "while n < 10:\n",
    "\n",
    "    i = 1  # multiplicador\n",
    "\n",
    "    tabuada = ''  # Guardar a tabuada como string\n",
    "\n",
    "    while i <= 10:  # executa \n",
    "\n",
    "        tabuada += f'{n} x {i} = {n*i:2d}' + ' '*3  # Composição de String e Concatenação\n",
    "\n",
    "        i += 1\n",
    "\n",
    "    print(f'Tabuada do {n}:   {tabuada}')  # Imprimir horizontalmente cada tabuada\n",
    "\n",
    "    n += 1\n"
   ]
  },
  {
   "cell_type": "code",
   "execution_count": null,
   "id": "97f44285",
   "metadata": {},
   "outputs": [
    {
     "name": "stdout",
     "output_type": "stream",
     "text": [
      "Múltiplos de 6:  6 12 18 24 30 36 42 48 54 60 66 72 78 84 90 96 \n",
      "Múltiplos de 8:  8 16 24 32 40 48 56 64 72 80 88 96 \n",
      "Múltiplos de 12:  12 24 36 48 60 72 84 96 \n"
     ]
    }
   ],
   "source": [
    "# Laços Aninhados: for\n",
    "\n",
    "# Números Múltiplos\n",
    "\n",
    "lista = [6, 8, 12]\n",
    "\n",
    "limite = 100  # limite para cálculo dos mútiplos\n",
    "\n",
    "for numero in lista:\n",
    "\n",
    "    print(f'Múltiplos de {numero}: ', end=' ')\n",
    "\n",
    "    for i in range(1, limite + 1):\n",
    "\n",
    "        # Um número é múltiplo de outro se for divisível por esse outro número\n",
    "        if i % numero == 0:\n",
    "\n",
    "            print(i, end=' ')\n",
    "\n",
    "    print()"
   ]
  },
  {
   "cell_type": "markdown",
   "id": "0756ddf4",
   "metadata": {},
   "source": [
    "> ### Comandos `for`/`else` e `while`/`else` (exclusivo do Python)\n",
    "> \n",
    "> ~~~python\n",
    "> # Sintaxe:\n",
    ">\n",
    "> for <variável> in <sequência>:\n",
    "> \n",
    ">     # Código dentro do for\n",
    ">     <bloco instruções identado>\n",
    "> \n",
    "> else <condição>: # executado logo após a última iteração do for\n",
    ">    \n",
    ">     # Código dentro do else\n",
    ">     <bloco de instruções identado>\n",
    ">\n",
    "> # Código fora do for após execução do else\n",
    "> <bloco de instruções não-identado>\n",
    "> ~~~\n",
    "> ***\n",
    "> OBS: Se houver uma quebra do laço for com break, o else não será executado \n",
    ">\n",
    "> <br>\n",
    ">\n",
    "> ~~~python\n",
    "> # Sintaxe:\n",
    "> \n",
    "> while <expressão>: # Enquanto a expressão for verdadeira\n",
    "> \n",
    ">     # Código dentro do while \n",
    ">     <bloco instruções identado>\n",
    "> \n",
    "> else <condição>: # executado logo após a última iteração do while\n",
    ">    \n",
    ">     # Código dentro do else\n",
    ">     <bloco de instruções identado>\n",
    ">\n",
    "> # Código fora do while após execução do else\n",
    "> <bloco de instruções não-identado>\n",
    "> ~~~\n",
    "> ***\n",
    "> OBS: Se houver uma quebra do laço while com break, o else não será executado\n",
    ">\n",
    "> <br>"
   ]
  },
  {
   "cell_type": "code",
   "execution_count": null,
   "id": "0036e059",
   "metadata": {},
   "outputs": [
    {
     "name": "stdout",
     "output_type": "stream",
     "text": [
      "I\n",
      "M\n",
      "P\n",
      "R\n",
      "I\n",
      "M\n",
      "I\n",
      "R\n",
      "else foi executado\n",
      "Bloco fora do while/else\n"
     ]
    }
   ],
   "source": [
    "string = 'IMPRIMIR'\n",
    "\n",
    "i = 0\n",
    "\n",
    "while i < len(string):\n",
    "\n",
    "    print(string[i])\n",
    "\n",
    "    i += 1\n",
    "\n",
    "    # break\n",
    "\n",
    "else:\n",
    "    \n",
    "    print('else foi executado')\n",
    "    \n",
    "print('Bloco fora do while/else')"
   ]
  },
  {
   "cell_type": "markdown",
   "id": "b888ec68",
   "metadata": {},
   "source": [
    "> ### Função embutida `sorted`\n",
    ">\n",
    "> #### Ordena uma sequência\n",
    ">\n",
    "> <br>"
   ]
  },
  {
   "cell_type": "code",
   "execution_count": null,
   "id": "a952f40a",
   "metadata": {},
   "outputs": [
    {
     "name": "stdout",
     "output_type": "stream",
     "text": [
      "4\n",
      "3\n",
      "2\n",
      "1\n",
      "0\n",
      "Finalizado o while, executa o else\n"
     ]
    }
   ],
   "source": [
    "lista = sorted(range(0, 5), reverse=True)\n",
    "\n",
    "for item in lista:\n",
    "\n",
    "    print(item)\n",
    "\n",
    "else:\n",
    "\n",
    "    print('Finalizado o while, executa o else')"
   ]
  },
  {
   "cell_type": "code",
   "execution_count": 53,
   "id": "9979e577",
   "metadata": {},
   "outputs": [
    {
     "data": {
      "text/plain": [
       "[' ', 'A', 'B', 'C', 'E', 'F', 'a', 'b', 'c', 'd', 'k', 'l', 'z']"
      ]
     },
     "execution_count": 53,
     "metadata": {},
     "output_type": "execute_result"
    }
   ],
   "source": [
    "sorted('ackldzb ACFBE')"
   ]
  },
  {
   "cell_type": "markdown",
   "id": "d582e02b",
   "metadata": {},
   "source": [
    "> ### Laço Infinito\n",
    "> \n",
    "> #### Comando `break` (palavra reservada) - __para a execução do laço definitivamente__ (continua a execução do bloco de instruções não-identado)\n",
    "> \n",
    "> ~~~python\n",
    "> # Sintaxe: for/break\n",
    ">\n",
    "> for <variável> in <sequência>:\n",
    "> \n",
    ">     # Código dentro do loop\n",
    ">     if <teste de condição>:\n",
    "> \n",
    ">         break  # quebra o laço\n",
    "> \n",
    ">     # Código dentro do loop\n",
    ">     <bloco instruções identado>\n",
    "> \n",
    "> # Código fora do loop\n",
    "> <bloco instruções não-identado>\n",
    "> ~~~\n",
    ">\n",
    "> <br>\n",
    ">\n",
    "> ~~~python\n",
    "> # Sintaxe: while/break\n",
    ">\n",
    "> while <expressão>:\n",
    "> \n",
    ">     # Código dentro do loop\n",
    ">     if <condição>:\n",
    "> \n",
    ">         break  # quebra o laço\n",
    "> \n",
    ">     # Código dentro do loop\n",
    ">     <bloco instruções identado>\n",
    "> \n",
    "> # Código fora do loop\n",
    "> <bloco instruções não-identado>\n",
    "> ~~~\n",
    ">\n",
    "> <br>"
   ]
  },
  {
   "cell_type": "code",
   "execution_count": 352,
   "id": "a169b4fd",
   "metadata": {},
   "outputs": [
    {
     "name": "stdout",
     "output_type": "stream",
     "text": [
      "Números primos de 1 a 60: 2 3 5 7 11 13 17 19 23 29 31 37 41 43 47 53 59\n"
     ]
    }
   ],
   "source": [
    "# Numero primo: possuem dois divisores (é divisível por 1 e por ele mesmo)\n",
    "\n",
    "# 1 não é primo: divisível apenas por 1\n",
    "\n",
    "primos = []  # para apendar os números primos\n",
    "\n",
    "limite = 60  # números primos até 60\n",
    "\n",
    "intervalo = range(1, limite+1) \n",
    "\n",
    "for primo in intervalo:\n",
    "\n",
    "    n = 2  # por 1 todo número é divisível\n",
    "\n",
    "    while n <= primo:  # verificamos até o candidato a número primo\n",
    "\n",
    "        if primo % n == 0:  # se primo é divisível por n o resto é zero\n",
    "\n",
    "            break\n",
    "\n",
    "        n += 1\n",
    "\n",
    "    if n == primo:\n",
    "\n",
    "        primos.append(primo)\n",
    "\n",
    "print(f'Números primos de {intervalo[0]} a {intervalo[-1]}:', *primos)\n"
   ]
  },
  {
   "cell_type": "code",
   "execution_count": 421,
   "id": "01d3cef1",
   "metadata": {},
   "outputs": [
    {
     "name": "stdout",
     "output_type": "stream",
     "text": [
      "Divisores de 36: 1 2 3 4 6 9 12 18 36 \n",
      "Divisores de 54: 1 2 3 6 9 18 27 54 \n"
     ]
    }
   ],
   "source": [
    "# Vamos usar input:\n",
    "\n",
    "numeros = [36, 54]\n",
    "\n",
    "for numero in numeros:\n",
    "\n",
    "    divisor = numero  # maior divisor é o próprio número\n",
    "\n",
    "    print(f'Divisores de {numero}:', end=' ')\n",
    "\n",
    "    while divisor > 0:\n",
    "\n",
    "        if numero % divisor == 0:  # um número é divisível por outro se o resto é zero\n",
    "\n",
    "            print(numero // divisor, end=' ')\n",
    "\n",
    "        divisor -= 1\n",
    "\n",
    "    print('')\n"
   ]
  },
  {
   "cell_type": "markdown",
   "id": "887d9e6b",
   "metadata": {},
   "source": [
    "> #### Comando `continue` (palavra reservada) - __força a próxima execução do laço__, a partir do ponto onde está inserido.\n",
    "> \n",
    "> ~~~python\n",
    "> for <variável> in <sequência>:\n",
    ">\n",
    ">     # Código dentro do loop\n",
    ">     if <condição>:\n",
    ">\n",
    ">         continue  # volta pro início do loop\n",
    ">\n",
    ">     # Código dentro do loop\n",
    ">\n",
    "> # Código fora do loop\n",
    "> ~~~\n",
    "> \n",
    "> <br>\n",
    ">\n",
    "> ~~~python\n",
    "> while <expressão>:\n",
    ">\n",
    ">     # Código dentro do loop\n",
    ">     if <condição>:\n",
    ">\n",
    ">         continue  # volta pro início do loop\n",
    ">\n",
    ">     # Código dentro do loop\n",
    ">\n",
    "> # Código fora do loop\n",
    "> ~~~\n",
    ">\n",
    "> <br>"
   ]
  },
  {
   "cell_type": "code",
   "execution_count": null,
   "id": "9bc4e6eb",
   "metadata": {},
   "outputs": [
    {
     "name": "stdout",
     "output_type": "stream",
     "text": [
      "0\n",
      "1\n",
      "2\n",
      "X\n",
      "4\n",
      "5\n"
     ]
    }
   ],
   "source": [
    "# Comando \"continue\" força a próxima execução\n",
    "\n",
    "i = -1  # incremento logo que entrar no loop\n",
    "\n",
    "while i < 5:\n",
    "\n",
    "    i += 1  # incremento deve vir antes da condição\n",
    "\n",
    "    if i == 3:  # senão se verdadeira, o while fica em loop infinito\n",
    "\n",
    "        print('X')\n",
    "\n",
    "        continue  # pula condições abaixo a partir do comando\n",
    "\n",
    "    print(i)\n",
    "\n"
   ]
  },
  {
   "cell_type": "code",
   "execution_count": null,
   "id": "32cb6040",
   "metadata": {},
   "outputs": [
    {
     "name": "stdout",
     "output_type": "stream",
     "text": [
      "Divisores de 36: 1 2 3 4 6 9 12 18 36 \n",
      "Divisores de 54: 1 2 3 6 9 18 27 54 \n"
     ]
    }
   ],
   "source": [
    "# Usar input (tratar entrada com \"continue\"\n",
    "\n",
    "# Cáculo divisores (a ideia acima):\n",
    "\n",
    "info = ''\n",
    "\n",
    "while True:  # OBS: Laço infinito pode ser usado em funções geradoras\n",
    "\n",
    "    # Poderíamos fazer assim:\n",
    "\n",
    "    # numero = int(input('Digite um número inteiro para saber seus divisores ou zero para sair: '))\n",
    "\n",
    "    # Mas como pode dar problema, se não digitar um número:\n",
    "\n",
    "    numero = input(f'{info}Digite um número inteiro para saber seus divisores ou zero para sair: ')\n",
    "    \n",
    "    try:\n",
    "        \n",
    "        numero = int(numero)\n",
    "\n",
    "        info = ''\n",
    "\n",
    "    except:  # não é boa prática (melhor especificar o erro)\n",
    "\n",
    "        info = 'Não digitou um número inteito. '\n",
    "\n",
    "        continue\n",
    "\n",
    "    if numero == 0:  # parar loop infinito\n",
    "\n",
    "        break\n",
    "\n",
    "    print(f'Divisores de {numero}:', end=' ')\n",
    "\n",
    "    i = numero  # maior divisor é o próprio número\n",
    "\n",
    "    while i > 0:\n",
    "\n",
    "        if numero % i == 0:  # um número é divisível por outro se o resto é zero\n",
    "\n",
    "            print(numero // i, end=' ')\n",
    "\n",
    "        i -= 1\n",
    "\n",
    "    print('')\n"
   ]
  },
  {
   "cell_type": "markdown",
   "id": "f7061a58",
   "metadata": {},
   "source": [
    "> ## Comando `pass` (palavra reservada) - instrução que não faz nada (utilidade no tratamento de erros)\n",
    "> \n",
    "> ~~~python\n",
    ">\n",
    "> ~~~\n",
    ">\n",
    "> ### OBS: Comandos `if`, `else`, `for`, `while` e `def` precisam ter um bloco identado não vazio\n",
    "> \n",
    "> ~~~python\n",
    "> # Sintaxe:\n",
    ">\n",
    "> if <condição>:\n",
    "> \n",
    ">     # Código dentro da condição\n",
    ">     pass\n",
    "> ~~~\n",
    ">\n",
    "> <br>"
   ]
  },
  {
   "cell_type": "code",
   "execution_count": 57,
   "id": "2070e9fb",
   "metadata": {},
   "outputs": [],
   "source": [
    "# (Sobre definição de funções veremos adiante)\n",
    "\n",
    "def umaFuncao():\n",
    "\n",
    "    pass\n",
    "    # return None\n",
    "\n",
    "umaFuncao()"
   ]
  },
  {
   "cell_type": "code",
   "execution_count": null,
   "id": "26fdb7a6",
   "metadata": {},
   "outputs": [
    {
     "name": "stdout",
     "output_type": "stream",
     "text": [
      "1 1.0\n",
      "2 1.0\n",
      "3 1.0\n",
      "4 1.0\n",
      "5 1.0\n",
      "6 1.0\n",
      "7 1.0\n",
      "8 1.0\n",
      "9 1.0\n"
     ]
    }
   ],
   "source": [
    "# Problema divisão por zero\n",
    "\n",
    "for numero in range(0, 10):\n",
    "    \n",
    "    # (Tratamento de erros try/except - veremos adiante)\n",
    "\n",
    "    try:\n",
    "\n",
    "        print(numero, numero / numero)\n",
    "        \n",
    "    except:  # não é boa prática (especificar o erro)\n",
    "        \n",
    "        pass # ou continue"
   ]
  },
  {
   "cell_type": "markdown",
   "id": "b9615ca7",
   "metadata": {},
   "source": [
    "> ## `List Comprehension` - Exclusivo de Python\n",
    ">\n",
    "> ### Recursividade concisa (em \"uma linha\")\n",
    ">\n",
    "> ### Forma Simples:\n",
    ">\n",
    "> ~~~python\n",
    "> # Sintaxe:\n",
    ">\n",
    "> x = [<item/expressão> for <item> in <sequência>]\n",
    ">\n",
    "> # Onde o retorno é uma lista (conforme se usa colchetes).\n",
    "> ~~~\n",
    ">\n",
    "> <br>\n",
    ">\n",
    "> ***\n",
    "> \n",
    "> ### Forma com *if*:\n",
    "> \n",
    "> ~~~python\n",
    "> # Sintaxe: \n",
    ">\n",
    "> x = [\n",
    ">    <item/expressão>\n",
    ">    for <item> in <sequência>\n",
    ">    if <condição/expressão>\n",
    ">]\n",
    "> ~~~\n",
    ">\n",
    "> <br>\n",
    ">\n",
    "> ***\n",
    ">\n",
    "> ### Forma com *if* e *else*:\n",
    ">\n",
    "> ~~~python\n",
    "> # Sintaxe:\n",
    ">\n",
    "> x = [\n",
    ">    <item/expressão> if <condição/expressão>\n",
    ">    else <condição/expressão>\n",
    ">    for <item> in <sequência>]\n",
    "> ~~~\n",
    ">\n",
    "> <br>"
   ]
  },
  {
   "cell_type": "code",
   "execution_count": null,
   "id": "205b3a5d",
   "metadata": {},
   "outputs": [
    {
     "data": {
      "text/plain": [
       "[1, 4, 9, 16, 25, 36, 49, 64, 81]"
      ]
     },
     "execution_count": 59,
     "metadata": {},
     "output_type": "execute_result"
    }
   ],
   "source": [
    "# Quadrado de um número:\n",
    "\n",
    "x = [numero*numero for numero in [1, 2, 3, 4, 5, 6, 7, 8, 9]]\n",
    "\n",
    "x"
   ]
  },
  {
   "cell_type": "code",
   "execution_count": null,
   "id": "e3af4822",
   "metadata": {},
   "outputs": [
    {
     "data": {
      "text/plain": [
       "[5, 0, 3, 4]"
      ]
     },
     "execution_count": 60,
     "metadata": {},
     "output_type": "execute_result"
    }
   ],
   "source": [
    "# Filtrando números negativos\n",
    "\n",
    "lista = [-2, 5, 0, -1, 3, 4, -3]\n",
    "\n",
    "x = [item for item in lista if item >= 0]\n",
    "\n",
    "x"
   ]
  },
  {
   "cell_type": "code",
   "execution_count": null,
   "id": "bb880a45",
   "metadata": {},
   "outputs": [
    {
     "data": {
      "text/plain": [
       "['0 é par',\n",
       " '1 é ímpar',\n",
       " '2 é par',\n",
       " '3 é ímpar',\n",
       " '4 é par',\n",
       " '5 é ímpar',\n",
       " '6 é par',\n",
       " '7 é ímpar',\n",
       " '8 é par',\n",
       " '9 é ímpar']"
      ]
     },
     "execution_count": 259,
     "metadata": {},
     "output_type": "execute_result"
    }
   ],
   "source": [
    "# De 0-9, números pares e ímpares:\n",
    "\n",
    "x = [\n",
    "    f'{numero} é par' if n % 2 == 0\n",
    "    else f'{numero} é ímpar'\n",
    "    for numero in range(0, 10)\n",
    "]\n",
    "\n",
    "x"
   ]
  },
  {
   "cell_type": "markdown",
   "id": "4a12098a",
   "metadata": {},
   "source": [
    "> ## Função embutida `all`\n",
    ">\n",
    "> ### Avalia se todos elementos em um iterável são verdadeiros (*True*)\n",
    ">\n",
    "> <br>"
   ]
  },
  {
   "cell_type": "code",
   "execution_count": 406,
   "id": "14515ccb",
   "metadata": {},
   "outputs": [
    {
     "name": "stdout",
     "output_type": "stream",
     "text": [
      "O MMC entre (5, 10, 15) é 30\n"
     ]
    }
   ],
   "source": [
    "# Mínimo Múltiplo Comum (MMC)\n",
    "#\n",
    "# Menor número positivo multiplo de dois ou mais números\n",
    "\n",
    "# (Quando falamos sobre laços aninhados fizemos cálculo de números múltiplos)\n",
    "# (Um número é múltiplo de outro se o primeiro for divisível por esse outro número)\n",
    "\n",
    "numeros = [5, 10, 15]\n",
    "\n",
    "maior_valor = max(numeros)  # guardando o maior valor (a partir dele iremos procurar o MMC)\n",
    "\n",
    "i = 1\n",
    "\n",
    "while True:\n",
    "\n",
    "    mmc = maior_valor * i  # menor múltiplo de um número é o próprio número\n",
    "\n",
    "    # Quando o valor mmc for divisível por todos os números encontramos o MMC\n",
    "    if all(mmc % numero == 0 for numero in numeros):\n",
    "\n",
    "        break\n",
    "\n",
    "    i += 1\n",
    "\n",
    "_numeros = tuple(numeros)  # tuple -> parênteses no print\n",
    "\n",
    "print(f'O MMC entre {_numeros} é {mmc}')\n"
   ]
  },
  {
   "cell_type": "code",
   "execution_count": null,
   "id": "15545a90",
   "metadata": {},
   "outputs": [
    {
     "name": "stdout",
     "output_type": "stream",
     "text": [
      "O MMC entre (5, 10, 15) é 30\n"
     ]
    }
   ],
   "source": [
    "# não pode expansão em formatação de string\n",
    "\n",
    "# print(f'O MMC entre ({*numeros}) é {mmc}')  # erro de sintaxe: SyntaxError (eror na compilação não executa)\n",
    "\n",
    "print(\n",
    "    'O MMC entre',\n",
    "    f'({\", \".join([str(numero) for numero in numeros])})',  # não ficou claro e simples, seria melhor limpar\n",
    "    f'é {mmc}')\n"
   ]
  },
  {
   "cell_type": "markdown",
   "id": "879c08d2",
   "metadata": {},
   "source": [
    "> ## Função embutida `any`\n",
    ">\n",
    "> ### Avalia se algum elemento de um iterável é verdadeiro (*True*)\n",
    ">\n",
    "> <br>"
   ]
  },
  {
   "cell_type": "code",
   "execution_count": null,
   "id": "91d42584",
   "metadata": {},
   "outputs": [
    {
     "name": "stdout",
     "output_type": "stream",
     "text": [
      "O MDC entre (36, 54, 45) é 18\n"
     ]
    }
   ],
   "source": [
    "# Máximo Divisor Comum (MDC)\n",
    "\n",
    "# Maior número inteiro que divide dois ou mais números, sem deixar resto\n",
    "\n",
    "numeros = [36, 54]  # implementação de MDC apenas entre 2 números\n",
    "\n",
    "maior_valor = max(numeros)  # guardando o maior valor (a partir dele iremos procurar o MDC)\n",
    "\n",
    "i = 1\n",
    "\n",
    "while True:\n",
    "\n",
    "    mdc = maior_valor // i  # maior divisor de um número é o próprio número\n",
    "\n",
    "    # Quando o valor mdc for divisível por todos os números encontramos o MDC\n",
    "    if any(min(numeros) // n == mdc for n in range(1, min(numeros))):  # implementação apenas entre 2 números\n",
    "\n",
    "        break\n",
    "\n",
    "    i += 1\n",
    "\n",
    "print(f'O MDC entre {tuple(numeros)} é {mdc}')  # tuple -> parênteses no print\n"
   ]
  },
  {
   "cell_type": "code",
   "execution_count": 456,
   "id": "aadc3c50",
   "metadata": {},
   "outputs": [
    {
     "name": "stdout",
     "output_type": "stream",
     "text": [
      "n=1\n",
      "n=0\n"
     ]
    },
    {
     "ename": "ZeroDivisionError",
     "evalue": "integer division or modulo by zero",
     "output_type": "error",
     "traceback": [
      "\u001b[1;31m---------------------------------------------------------------------------\u001b[0m",
      "\u001b[1;31mZeroDivisionError\u001b[0m                         Traceback (most recent call last)",
      "Cell \u001b[1;32mIn[456], line 18\u001b[0m\n\u001b[0;32m     15\u001b[0m \u001b[38;5;28mprint\u001b[39m(\u001b[38;5;124mf\u001b[39m\u001b[38;5;124m'\u001b[39m\u001b[38;5;132;01m{\u001b[39;00mn\u001b[38;5;132;01m=}\u001b[39;00m\u001b[38;5;124m'\u001b[39m)\n\u001b[0;32m     17\u001b[0m \u001b[38;5;66;03m# Quando o valor mdc for divisível por todos os números encontramos o MDC\u001b[39;00m\n\u001b[1;32m---> 18\u001b[0m \u001b[38;5;28;01mif\u001b[39;00m \u001b[38;5;28;43mall\u001b[39;49m\u001b[43m(\u001b[49m\u001b[43mnumero\u001b[49m\u001b[43m \u001b[49m\u001b[38;5;241;43m%\u001b[39;49m\u001b[43m \u001b[49m\u001b[43mi\u001b[49m\u001b[43m \u001b[49m\u001b[38;5;241;43m==\u001b[39;49m\u001b[43m \u001b[49m\u001b[43mmdc\u001b[49m\u001b[43m \u001b[49m\u001b[38;5;28;43;01mfor\u001b[39;49;00m\u001b[43m \u001b[49m\u001b[43mnumero\u001b[49m\u001b[43m \u001b[49m\u001b[38;5;129;43;01min\u001b[39;49;00m\u001b[43m \u001b[49m\u001b[43mnumeros\u001b[49m\u001b[43m \u001b[49m\u001b[38;5;28;43;01mfor\u001b[39;49;00m\u001b[43m \u001b[49m\u001b[43mi\u001b[49m\u001b[43m \u001b[49m\u001b[38;5;129;43;01min\u001b[39;49;00m\u001b[43m \u001b[49m\u001b[38;5;28;43mrange\u001b[39;49m\u001b[43m(\u001b[49m\u001b[43mn\u001b[49m\u001b[43m,\u001b[49m\u001b[43m \u001b[49m\u001b[43mnumero\u001b[49m\u001b[43m)\u001b[49m\u001b[43m)\u001b[49m:\n\u001b[0;32m     20\u001b[0m     \u001b[38;5;28mprint\u001b[39m(\u001b[38;5;124mf\u001b[39m\u001b[38;5;124m'\u001b[39m\u001b[38;5;132;01m{\u001b[39;00mi\u001b[38;5;132;01m=}\u001b[39;00m\u001b[38;5;124m'\u001b[39m, end\u001b[38;5;241m=\u001b[39m\u001b[38;5;124m'\u001b[39m\u001b[38;5;124m \u001b[39m\u001b[38;5;124m'\u001b[39m)\n\u001b[0;32m     21\u001b[0m     mdc \u001b[38;5;241m=\u001b[39m i\n",
      "Cell \u001b[1;32mIn[456], line 18\u001b[0m, in \u001b[0;36m<genexpr>\u001b[1;34m(.0)\u001b[0m\n\u001b[0;32m     15\u001b[0m \u001b[38;5;28mprint\u001b[39m(\u001b[38;5;124mf\u001b[39m\u001b[38;5;124m'\u001b[39m\u001b[38;5;132;01m{\u001b[39;00mn\u001b[38;5;132;01m=}\u001b[39;00m\u001b[38;5;124m'\u001b[39m)\n\u001b[0;32m     17\u001b[0m \u001b[38;5;66;03m# Quando o valor mdc for divisível por todos os números encontramos o MDC\u001b[39;00m\n\u001b[1;32m---> 18\u001b[0m \u001b[38;5;28;01mif\u001b[39;00m \u001b[38;5;28mall\u001b[39m(\u001b[43mnumero\u001b[49m\u001b[43m \u001b[49m\u001b[38;5;241;43m%\u001b[39;49m\u001b[43m \u001b[49m\u001b[43mi\u001b[49m \u001b[38;5;241m==\u001b[39m mdc \u001b[38;5;28;01mfor\u001b[39;00m numero \u001b[38;5;129;01min\u001b[39;00m numeros \u001b[38;5;28;01mfor\u001b[39;00m i \u001b[38;5;129;01min\u001b[39;00m \u001b[38;5;28mrange\u001b[39m(n, numero)):\n\u001b[0;32m     20\u001b[0m     \u001b[38;5;28mprint\u001b[39m(\u001b[38;5;124mf\u001b[39m\u001b[38;5;124m'\u001b[39m\u001b[38;5;132;01m{\u001b[39;00mi\u001b[38;5;132;01m=}\u001b[39;00m\u001b[38;5;124m'\u001b[39m, end\u001b[38;5;241m=\u001b[39m\u001b[38;5;124m'\u001b[39m\u001b[38;5;124m \u001b[39m\u001b[38;5;124m'\u001b[39m)\n\u001b[0;32m     21\u001b[0m     mdc \u001b[38;5;241m=\u001b[39m i\n",
      "\u001b[1;31mZeroDivisionError\u001b[0m: integer division or modulo by zero"
     ]
    }
   ],
   "source": [
    "# Máximo Divisor Comum (MDC)\n",
    "\n",
    "# Maior número inteiro que divide dois ou mais números, sem deixar resto\n",
    "\n",
    "numeros = [36, 54, 45]  # implementação de MDC para qualquer quantidade de números\n",
    "\n",
    "maior_valor = max(numeros)  # guardando o maior valor (a partir dele iremos procurar o MDC)\n",
    "\n",
    "mdc = maior_valor\n",
    "\n",
    "n = 1\n",
    "\n",
    "while n < maior_valor:\n",
    "\n",
    "    print(f'{n=}')\n",
    "\n",
    "    # Quando o valor mdc for divisível por todos os números encontramos o MDC\n",
    "    if all(numero % i == mdc for numero in numeros for i in range(n, numero)):\n",
    "\n",
    "        print(f'{i=}', end=' ')\n",
    "        mdc = i\n",
    "        break\n",
    "\n",
    "    n -= 1\n",
    "\n",
    "print(f'O MDC entre {tuple(numeros)} é {mdc}')  # tuple -> parênteses no print\n",
    "\n"
   ]
  },
  {
   "cell_type": "code",
   "execution_count": 420,
   "id": "f8765cb3",
   "metadata": {},
   "outputs": [
    {
     "name": "stdout",
     "output_type": "stream",
     "text": [
      "{1, 2, 3, 6, 9, 18}   ->  MDC = 18\n"
     ]
    }
   ],
   "source": [
    "# Encontrar elemento comum usando conjuntos\n",
    "\n",
    "divisores_a = set([1, 2, 3, 6, 9, 18, 27, 54])\n",
    "\n",
    "divisores_b = set([1, 2, 3, 4, 6, 9, 12, 18, 36])\n",
    "\n",
    "mdc = divisores_a.intersection(divisores_b)  # valores comuns\n",
    "\n",
    "print(mdc, f'  ->  MDC = {max(mdc)}')\n"
   ]
  },
  {
   "cell_type": "markdown",
   "id": "dae17826",
   "metadata": {},
   "source": [
    "> ## `List Comprehension`\n",
    ">\n",
    "> ### Desaninhar/Planificar listas aninhadas\n",
    ">\n",
    "> <br>"
   ]
  },
  {
   "cell_type": "code",
   "execution_count": null,
   "id": "f88d7f17",
   "metadata": {},
   "outputs": [
    {
     "name": "stdout",
     "output_type": "stream",
     "text": [
      "[[1, 2, 3], [4, 5, 6]]\n"
     ]
    },
    {
     "data": {
      "text/plain": [
       "[1, 2, 3, 4, 5, 6]"
      ]
     },
     "execution_count": 100,
     "metadata": {},
     "output_type": "execute_result"
    }
   ],
   "source": [
    "# Utilidade: Desaninhar listas aninhadas\n",
    "\n",
    "lista = [[1, 2, 3], [4, 5, 6]]\n",
    "\n",
    "print(lista)\n",
    "\n",
    "lista_flat = [item for sublista in lista for item in sublista]\n",
    "\n",
    "lista_flat"
   ]
  },
  {
   "cell_type": "code",
   "execution_count": null,
   "id": "bbae683e",
   "metadata": {},
   "outputs": [
    {
     "data": {
      "text/plain": [
       "{'marker': 'oo', 's': 12, 'alpha': 0.8, 'color': 'bb'}"
      ]
     },
     "execution_count": 101,
     "metadata": {},
     "output_type": "execute_result"
    }
   ],
   "source": [
    "# A mesma ideia com dicionário\n",
    "\n",
    "kw_plot = dict(marker='o', s=6, alpha=.4, color='b')  # keywords (biblioteca de plotagem matplotlib)\n",
    "\n",
    "kw_plot = {\n",
    "    key: value*2\n",
    "    for key, value in kw_plot.items()\n",
    "    }\n",
    "\n",
    "kw_plot"
   ]
  },
  {
   "cell_type": "code",
   "execution_count": null,
   "id": "59c819ba",
   "metadata": {},
   "outputs": [
    {
     "name": "stdout",
     "output_type": "stream",
     "text": [
      "[1, 2, 3, 4, 5, 6]\n",
      "(1, 2, 3, 4)\n",
      "{'a': 1, 'b': 2, 'c': 3, 'd': 4, 'e': 5}\n"
     ]
    }
   ],
   "source": [
    "# Desempacotamento de iteráveis (lista, tupla e dicionário):\n",
    "\n",
    "lista_a = [1, 2, 3]\n",
    "lista_b = [4, 5, 6]\n",
    "\n",
    "# Criar nova lista combinando outras duas:\n",
    "\n",
    "lista_juntada = [*lista_a, *lista_b]  # juntando listas\n",
    "\n",
    "print(lista_juntada)\n",
    "\n",
    "tupla_1 = 1, 2, 3\n",
    "tupla_2 = 4,\n",
    "\n",
    "# Criar tupla combinando outras duas:\n",
    "\n",
    "tupla_juntada = *tupla_1, *tupla_2  # juntando tuplas\n",
    "\n",
    "print(tupla_juntada)\n",
    "\n",
    "dicionario_a = {'a': 1, 'b': 2, 'c': 3}\n",
    "dicionario_b = {'d': 4, 'e': 5}\n",
    "\n",
    "# Criar dicionário combinando outros dois:\n",
    "\n",
    "dicionario_juntado = {**dicionario_a, **dicionario_b}  # juntando dicionários\n",
    "\n",
    "print(dicionario_juntado)   "
   ]
  },
  {
   "cell_type": "markdown",
   "id": "d87d8ad8",
   "metadata": {},
   "source": [
    "> ## Tratamento de Erros/Exceções (*Exceptions*)\n",
    ">\n",
    "> ### Possibilidade de continuidade do fluxo de execução (captura do erro)\n",
    ">\n",
    "> <br>"
   ]
  },
  {
   "cell_type": "code",
   "execution_count": null,
   "id": "aec74422",
   "metadata": {},
   "outputs": [
    {
     "name": "stdout",
     "output_type": "stream",
     "text": [
      "invalid literal for int() with base 10: '123a'\n"
     ]
    }
   ],
   "source": [
    "string = '123a'\n",
    "\n",
    "valor = int(string)\n",
    "\n",
    "valor\n"
   ]
  },
  {
   "cell_type": "markdown",
   "id": "ca2ab4e0",
   "metadata": {},
   "source": [
    "> ## Tratamento de `Erros/Exceções` (*Exceptions*)\n",
    ">\n",
    "> ### Antever erros potenciais e isolá-los mantendo o fluxo de execução do programa\n",
    ">\n",
    "> ### Estrutura `try/except`\n",
    ">\n",
    "> ~~~python\n",
    "> # Sintaxe:\n",
    ">\n",
    "> try:\n",
    ">\n",
    ">   <expressão>\n",
    ">\n",
    "> except <erro>:\n",
    ">\n",
    ">   <expressão>\n",
    "> ~~~\n",
    ">\n",
    "> ***\n",
    "> Onde:\n",
    ">\n",
    "> ~~~python\n",
    ">   try tenta executar o código representado por <expressão>\n",
    "> ~~~\n",
    ">\n",
    "> ~~~python\n",
    ">   except é a ocorrência de um erro e pode haver quantos except forem necessários\n",
    "> ~~~\n",
    ">\n",
    "> ~~~python\n",
    ">   <erro> é opcional, mas quando especificado/capturado podemos categorizar o tratamento dos erros\n",
    "> ~~~\n",
    ">\n",
    "> ***\n",
    ">\n",
    "> ### Estrutura `try/except/else`\n",
    ">\n",
    "> ~~~python\n",
    "> # Sintaxe:\n",
    ">\n",
    "> try:\n",
    ">\n",
    ">   <expressão>\n",
    ">\n",
    "> except <erro>:\n",
    ">\n",
    ">   <expressão>\n",
    ">\n",
    "> else:\n",
    ">\n",
    ">   <expressão>\n",
    "> ~~~\n",
    ">\n",
    "> ***\n",
    "> Onde:\n",
    ">\n",
    "> ~~~python\n",
    ">   havendo else, a <expressão> só será executada se não houver erro\n",
    "> ~~~\n",
    ">\n",
    "> ***\n",
    ">\n",
    ">\n",
    "> ### Estrutura `try/except/else/finally`\n",
    ">\n",
    "> ~~~python\n",
    "> # Sintaxe:\n",
    ">\n",
    "> try:\n",
    ">\n",
    ">   <expressão>\n",
    ">\n",
    "> except <erro>:\n",
    ">\n",
    ">   <expressão>\n",
    ">\n",
    "> else:\n",
    ">\n",
    ">   <expressão>\n",
    ">\n",
    "> finally:\n",
    ">\n",
    ">   <expressão>\n",
    "> ~~~\n",
    ">\n",
    "> ***\n",
    "> Onde:\n",
    ">\n",
    "> ~~~python\n",
    ">   havendo finally, a <expressão> é executada ao final do fluxo\n",
    "> ~~~\n",
    ">\n",
    "> ***\n",
    "> <br>"
   ]
  },
  {
   "cell_type": "code",
   "execution_count": null,
   "id": "867af72b",
   "metadata": {},
   "outputs": [
    {
     "name": "stdout",
     "output_type": "stream",
     "text": [
      "Não possui o índice 3, x=[0, 1, 2]\n",
      "O fluxo de execução continua se o erro for tratado.\n"
     ]
    }
   ],
   "source": [
    "# Exemplo erro de indexação\n",
    "\n",
    "lista = [0, 1, 2]\n",
    "\n",
    "indice = 3\n",
    "\n",
    "try:\n",
    "\n",
    "    # Não existe o item com posição 3\n",
    "\n",
    "    print(lista[indice])\n",
    "\n",
    "    # Ocorre erro de indexação com a seguinte mensagem:\n",
    "\n",
    "    # \"IndexError: list index out of range\"\n",
    "\n",
    "# Então, no caso de erro de indexação:\n",
    "\n",
    "except IndexError:\n",
    "\n",
    "    print(f'Não possui o índice {indice}, {lista=}') # imprime o x todo\n",
    "\n",
    "print('O fluxo de execução continua se o erro for tratado.')\n"
   ]
  },
  {
   "cell_type": "code",
   "execution_count": 5,
   "id": "79bdaf7c",
   "metadata": {},
   "outputs": [
    {
     "name": "stdout",
     "output_type": "stream",
     "text": [
      "Não é possível divisão por zero.\n",
      "O valor da divisão é None\n",
      "Foi possível dividir 123 po 45.\n",
      "O valor da divisão é 2.7333333333333334\n"
     ]
    }
   ],
   "source": [
    "# Calcular uma divisão\n",
    "\n",
    "# Tratamento de erros: prever e isolar\n",
    "\n",
    "while True:\n",
    "\n",
    "    dividendo = input('Digite um valor para o dividendo: ')\n",
    "\n",
    "    divisor = input('Digite um valor para o divisor: ')\n",
    "\n",
    "    try:\n",
    "\n",
    "        dividendo = int(dividendo)\n",
    "\n",
    "        divisor = int(divisor)\n",
    "\n",
    "        quociente = dividendo / divisor\n",
    "\n",
    "    except ValueError:\n",
    "\n",
    "        print(f'Verifique o valor digitado.', 'Digite valores inteiros.')\n",
    "\n",
    "        quociente = None\n",
    "\n",
    "    except ZeroDivisionError:\n",
    "\n",
    "        print('Não é possível divisão por zero.')\n",
    "\n",
    "        quociente = None\n",
    "\n",
    "    except: # Se houvesse mais uma possibilidade de erro não mapeada até o momento\n",
    "\n",
    "        print(f'Não foi possível calcular a divisão de {dividendo} por {divisor}')\n",
    "\n",
    "        quociente = None\n",
    "\n",
    "    else:\n",
    "\n",
    "        print(f'Foi possível dividir {dividendo} po {divisor}.')\n",
    "\n",
    "        break\n",
    "\n",
    "    finally:\n",
    "\n",
    "        print(f'O valor da divisão é {quociente}')\n"
   ]
  },
  {
   "cell_type": "markdown",
   "id": "587382b7",
   "metadata": {},
   "source": [
    "> ## Captura do Erro : `Exception`\n",
    ">\n",
    "> ### Não previstos ou desconhecidos\n",
    ">\n",
    "> ~~~python\n",
    "> # Sintaxe:\n",
    ">\n",
    "> try:\n",
    ">\n",
    ">   <expressão>\n",
    ">\n",
    "> except Exception as error:\n",
    ">\n",
    ">   print(error)\n",
    "> ~~~\n",
    ">\n",
    "> ***\n",
    "> Onde:\n",
    ">\n",
    "> ~~~python\n",
    ">   Exception é uma exceção captura e lançada em error (variável)\n",
    ">\n",
    ">   error então armazena o tipo de erro\n",
    "> ~~~\n",
    ">\n",
    "> <br>"
   ]
  },
  {
   "cell_type": "code",
   "execution_count": 264,
   "id": "6cdde85a",
   "metadata": {},
   "outputs": [
    {
     "name": "stdout",
     "output_type": "stream",
     "text": [
      "could not convert string to float: '1.w'\n",
      "O fluxo de execução continua. Se o erro não for determinante para a continuação do programa, o erro apenas será impresso.\n"
     ]
    }
   ],
   "source": [
    "numero = '1.w'\n",
    "\n",
    "try:\n",
    "\n",
    "    numero_float = float(numero)\n",
    "\n",
    "except Exception as error:\n",
    "\n",
    "    print(error)\n",
    "\n",
    "print('O fluxo de execução continua.'\n",
    "      ' Se o erro não for determinante para a continuação do programa,'\n",
    "      ' o erro apenas será impresso.')\n"
   ]
  },
  {
   "cell_type": "markdown",
   "id": "e04e9dc9",
   "metadata": {},
   "source": [
    "> ## Comando `raise`\n",
    ">\n",
    "> ### Lançamento de Erro (criar / levantar exceção através identificação de erro), interrompendo o fluxo de execução\n",
    ">\n",
    "> ~~~python\n",
    "> # Sintaxe:\n",
    ">\n",
    "> raise Exception('mensagem')\n",
    "> ~~~\n",
    ">\n",
    "> ***\n",
    ">\n",
    "> Onde:\n",
    ">\n",
    "> ~~~python\n",
    "> Exception é uma exceção, e pode ser categorizada quando especificada\n",
    "> ~~~\n",
    ">\n",
    "> ~~~python\n",
    "> e 'mensagem' é opcional, porém não informa nada\n",
    "> ~~~\n",
    ">\n",
    "> <br>"
   ]
  },
  {
   "cell_type": "code",
   "execution_count": null,
   "id": "39c91c15",
   "metadata": {},
   "outputs": [
    {
     "name": "stdout",
     "output_type": "stream",
     "text": [
      "10.0 é par\n"
     ]
    }
   ],
   "source": [
    "numero = 10.\n",
    "\n",
    "# x = 'a'\n",
    "\n",
    "# Se não for int ou float:\n",
    "if not isinstance(numero, (int, float)): # personalizando o erro\n",
    "    \n",
    "    # Levantamento de exceção:\n",
    "    raise Exception(f'{numero} não é um número') # interrompe a execução\n",
    "\n",
    "if numero % 2 == 0:\n",
    "    \n",
    "    print(f'{numero} é par')\n",
    "    \n",
    "else:\n",
    "    \n",
    "    print(f'{numero} é ímpar')"
   ]
  },
  {
   "cell_type": "markdown",
   "id": "39ef674c",
   "metadata": {},
   "source": [
    "> ## Mapeamento de Erros\n",
    ">\n",
    "> ### Categorização e Personalização de Erros\n",
    "> \n",
    "> <br>"
   ]
  },
  {
   "cell_type": "code",
   "execution_count": 265,
   "id": "6d8ba1cb",
   "metadata": {},
   "outputs": [
    {
     "name": "stdout",
     "output_type": "stream",
     "text": [
      "Erro: \"variavel\" deve ser um valor numérico\n"
     ]
    }
   ],
   "source": [
    "# Mapeamento Tipos de Erros: Categorização e Personalização\n",
    "\n",
    "variavel = 'a'\n",
    "# variavel = 10.\n",
    "\n",
    "try:\n",
    "\n",
    "    if not isinstance(variavel, int | float):\n",
    "        \n",
    "        raise TypeError('\"variavel\" deve ser um valor numérico')\n",
    "\n",
    "    if variavel == 0:\n",
    "\n",
    "        raise ValueError('\"variavel\" deve ser diferente de zero')\n",
    "\n",
    "except TypeError as typeError:\n",
    "\n",
    "    print(f'Erro: {typeError}')\n",
    "\n",
    "except ValueError as valueError:\n",
    "\n",
    "    print(f'Erro: {valueError}')\n",
    "\n",
    "else:\n",
    "\n",
    "    print(f'\"variavel\" é um(a) {type(variavel)}')\n"
   ]
  },
  {
   "cell_type": "markdown",
   "id": "d871e144",
   "metadata": {},
   "source": [
    "> ## Função `lambda`\n",
    ">\n",
    "> ### Função anônima de expressão única (função de uma linha)\n",
    ">\n",
    "> ~~~python\n",
    "> # Sintaxe:\n",
    ">\n",
    "> lambda <parâmetro>: <expressão>\n",
    "> ~~~\n",
    "> \n",
    "> ***\n",
    "> Onde:\n",
    ">\n",
    "> ~~~python\n",
    "> <parâmetro> é o argumento envolvido na <expressão>\n",
    "> ~~~\n",
    ">\n",
    "> <br>"
   ]
  },
  {
   "cell_type": "code",
   "execution_count": null,
   "id": "c100bb0c",
   "metadata": {},
   "outputs": [
    {
     "data": {
      "text/plain": [
       "1024"
      ]
     },
     "execution_count": 18,
     "metadata": {},
     "output_type": "execute_result"
    }
   ],
   "source": [
    "expressao = lambda x: 2 ** x\n",
    "\n",
    "# Chamada da função passando argumento 10:\n",
    "\n",
    "expressao(10)"
   ]
  },
  {
   "cell_type": "code",
   "execution_count": null,
   "id": "b11e6a39",
   "metadata": {},
   "outputs": [
    {
     "data": {
      "text/plain": [
       "1024"
      ]
     },
     "execution_count": 19,
     "metadata": {},
     "output_type": "execute_result"
    }
   ],
   "source": [
    "# Uso de parênteses -> função pode ser executada passando o argumento em seguida\n",
    "\n",
    "expressao = (lambda x: 2 ** x)(10)\n",
    "\n",
    "expressao"
   ]
  },
  {
   "cell_type": "code",
   "execution_count": 266,
   "id": "02faf705",
   "metadata": {},
   "outputs": [
    {
     "ename": "TypeError",
     "evalue": "isinstance() arg 2 must be a type, a tuple of types, or a union",
     "output_type": "error",
     "traceback": [
      "\u001b[1;31m---------------------------------------------------------------------------\u001b[0m",
      "\u001b[1;31mTypeError\u001b[0m                                 Traceback (most recent call last)",
      "Cell \u001b[1;32mIn[266], line 3\u001b[0m\n\u001b[0;32m      1\u001b[0m lista \u001b[38;5;241m=\u001b[39m [numero \u001b[38;5;28;01mfor\u001b[39;00m numero \u001b[38;5;129;01min\u001b[39;00m \u001b[38;5;28mrange\u001b[39m(\u001b[38;5;241m10\u001b[39m) ]\n\u001b[1;32m----> 3\u001b[0m resultado \u001b[38;5;241m=\u001b[39m \u001b[38;5;28;43misinstance\u001b[39;49m\u001b[43m(\u001b[49m\u001b[38;5;28;43mlist\u001b[39;49m\u001b[43m,\u001b[49m\u001b[43m \u001b[49m\u001b[43mlista\u001b[49m\u001b[43m)\u001b[49m\n",
      "\u001b[1;31mTypeError\u001b[0m: isinstance() arg 2 must be a type, a tuple of types, or a union"
     ]
    }
   ],
   "source": [
    "lista = [numero for numero in range(10) ]\n",
    "\n",
    "resultado = isinstance(list, lista)"
   ]
  },
  {
   "cell_type": "code",
   "execution_count": null,
   "id": "983c7e15",
   "metadata": {},
   "outputs": [
    {
     "data": {
      "text/plain": [
       "0.6666666666666666"
      ]
     },
     "execution_count": 17,
     "metadata": {},
     "output_type": "execute_result"
    }
   ],
   "source": [
    "# Função lambda de dois ou mais argumentos:\n",
    "\n",
    "(lambda x, y, z: (x * y) / z)(1, 2, 3)"
   ]
  },
  {
   "cell_type": "code",
   "execution_count": null,
   "id": "99845a0b",
   "metadata": {},
   "outputs": [
    {
     "data": {
      "text/plain": [
       "'par'"
      ]
     },
     "execution_count": 20,
     "metadata": {},
     "output_type": "execute_result"
    }
   ],
   "source": [
    "# Usando inline if:\n",
    "\n",
    "(lambda x: 'par' if x % 2 == 0 else 'ímpar')(10)\n"
   ]
  },
  {
   "cell_type": "markdown",
   "id": "2f135e88",
   "metadata": {},
   "source": [
    "> ## `Lambda e List Comprehension`\n",
    ">\n",
    "> ### Aplicar expressão para cada item de uma coleção\n",
    ">\n",
    "> </br>"
   ]
  },
  {
   "cell_type": "code",
   "execution_count": null,
   "id": "15c7dfcd",
   "metadata": {},
   "outputs": [
    {
     "data": {
      "text/plain": [
       "['26,6°C', '33,0°C', '39,1°C', '70,4°C', '88,3°C', '94,5°C']"
      ]
     },
     "execution_count": 41,
     "metadata": {},
     "output_type": "execute_result"
    }
   ],
   "source": [
    "# lambda e list comprehension\n",
    "\n",
    "# Converter temperatura em Fahrenheit para °Celsius\n",
    "\n",
    "tempF = [79.95, 91.4, 102.34, 158.7, 190.98, 202.14]\n",
    "\n",
    "tempC = [(lambda t: (t - 32) * 5 / 9)(x) for x in tempF]\n",
    "\n",
    "[f'{t:.1f}°C'.replace('.', ',') for t in tempC]"
   ]
  },
  {
   "cell_type": "markdown",
   "id": "9bed81fd",
   "metadata": {},
   "source": [
    "> ## Função embutida `map`\n",
    ">\n",
    "> ### \"Aplica\" uma função (*func*) a um iterável e retorna um objeto *map*\n",
    ">\n",
    "> ~~~python\n",
    "> # Sintaxe:\n",
    ">\n",
    "> map(func, *iterables)\n",
    "> ~~~\n",
    "> \n",
    "> <br>"
   ]
  },
  {
   "cell_type": "code",
   "execution_count": null,
   "id": "a28e118a",
   "metadata": {},
   "outputs": [
    {
     "data": {
      "text/plain": [
       "[2, 4, 8, 16, 32, 64, 128, 256, 512, 1024]"
      ]
     },
     "execution_count": 14,
     "metadata": {},
     "output_type": "execute_result"
    }
   ],
   "source": [
    "# map e função lambda:\n",
    "\n",
    "resultado = map(lambda x: 2**x, [1, 2, 3, 4, 5, 6, 7, 8, 9, 10])\n",
    "\n",
    "list(resultado)"
   ]
  },
  {
   "cell_type": "code",
   "execution_count": null,
   "id": "03c252fd",
   "metadata": {},
   "outputs": [
    {
     "name": "stdout",
     "output_type": "stream",
     "text": [
      "2 4 8 16 32 64 128 256 512 1024 "
     ]
    }
   ],
   "source": [
    "# map retorna um map object que sabe os valores\n",
    "\n",
    "resultado = map(lambda x: 2**x, [1, 2, 3, 4, 5, 6, 7, 8, 9, 10])\n",
    "\n",
    "for x in resultado:\n",
    "\n",
    "    print(x, end=' ')\n"
   ]
  },
  {
   "cell_type": "markdown",
   "id": "6a6eb423",
   "metadata": {},
   "source": [
    "> ## Função embutida `filter`\n",
    ">\n",
    "> ### Filtrar valores verdadeiros em um iterável e retorna um objeto *filter*\n",
    ">\n",
    "> <br>"
   ]
  },
  {
   "cell_type": "code",
   "execution_count": null,
   "id": "dd846ddd",
   "metadata": {},
   "outputs": [
    {
     "name": "stdout",
     "output_type": "stream",
     "text": [
      "<class 'filter'>\n"
     ]
    },
    {
     "data": {
      "text/plain": [
       "([False, True, True], [100, 1000])"
      ]
     },
     "execution_count": 16,
     "metadata": {},
     "output_type": "execute_result"
    }
   ],
   "source": [
    "\n",
    "lista = [10, 100, 1000]\n",
    "\n",
    "valor = 50\n",
    "\n",
    "resultado_map = map(lambda x: x > valor, lista)\n",
    "\n",
    "resultado_filter = filter(lambda x: x > valor, lista)\n",
    "\n",
    "print(type(resultado_filter))\n",
    "\n",
    "# convertendo em lista porque\n",
    "# map devolve um objeto map e \n",
    "# filter devolve objeto filter\n",
    "\n",
    "list(resultado_map), list(resultado_filter)\n",
    "\n",
    "# método filter é implementado em alguns outros pacotes, \n",
    "# por exemplo, no pandas"
   ]
  },
  {
   "cell_type": "markdown",
   "id": "b8f6d1e5",
   "metadata": {},
   "source": [
    "> ## __*func*__ pode ser uma Função Nomeada (definida pelo programador)\n",
    ">\n",
    "> #### (Veremos a seguir com mais detalhes como definir funções)\n",
    ">\n",
    "> <br>"
   ]
  },
  {
   "cell_type": "code",
   "execution_count": null,
   "id": "b91d7110",
   "metadata": {},
   "outputs": [
    {
     "data": {
      "text/plain": [
       "[2, 4, 8, 16, 32]"
      ]
     },
     "execution_count": 19,
     "metadata": {},
     "output_type": "execute_result"
    }
   ],
   "source": [
    "# Definindo uma função:\n",
    "\n",
    "def exponenciacao_base2(x): # declaração da função\n",
    "    \n",
    "    return 2 ** x # retorno da função\n",
    "\n",
    "\n",
    "# map e função nomeada:\n",
    "\n",
    "list(map(exponenciacao_base2, [1, 2, 3, 4, 5]))\n",
    "\n",
    "# (convertendo em lista porque map devolve um objeto map)"
   ]
  },
  {
   "cell_type": "code",
   "execution_count": 20,
   "id": "3cc7d5b4",
   "metadata": {},
   "outputs": [
    {
     "data": {
      "text/plain": [
       "[11, 12, 13]"
      ]
     },
     "execution_count": 20,
     "metadata": {},
     "output_type": "execute_result"
    }
   ],
   "source": [
    "def maiorque(x, valor=10):\n",
    "    \n",
    "    return x > valor\n",
    "\n",
    "# filter e função nomeada:\n",
    "\n",
    "list(filter(maiorque, [8, 9 , 10, 11, 12, 13]))\n",
    "\n",
    "# (convertendo em lista porque filter devolve um objeto filter)\n"
   ]
  },
  {
   "cell_type": "markdown",
   "id": "3bf3588b",
   "metadata": {},
   "source": [
    "> ### __Funções Nomeadas (`def` &thinsp; &rarr; &thinsp; palavra reservada)__\n",
    ">\n",
    "> Possibilita modularização, reutilização e manutenção de código\n",
    ">\n",
    "> ~~~python\n",
    "> # Sintaxe:\n",
    ">\n",
    "> def <nome>(<parâmetro 1>, ..., <parâmetro n>):\n",
    ">\n",
    ">    # Código identado dentro da função\n",
    ">    <bloco de instruções identado>\n",
    ">\n",
    ">    # retorno da função\n",
    ">    return <retorno>\n",
    ">\n",
    "> ~~~\n",
    ">\n",
    "> ***\n",
    ">\n",
    "> Onde:\n",
    "> \n",
    "> ~~~python\n",
    "> <nome> é algum nome para a função\n",
    ">\n",
    "> <parâmetro 1> é o parâmetro (variável envolvida no problema, não obrigatório); se a função tem mais de um parâmetro, eles são passados separados por \",\")\n",
    ">\n",
    "> <bloco de instruções identado> são ações realizadas no escopo da função (dentro da função)\n",
    ">\n",
    "> e <retorno> é o valor/objeto que a função retorna, caso retorne algo, se não há um retorno explícito da função, ela retorna None implicitamente.\n",
    "> ~~~\n",
    ">\n",
    "> <br>"
   ]
  },
  {
   "cell_type": "code",
   "execution_count": 267,
   "id": "af627571",
   "metadata": {},
   "outputs": [
    {
     "name": "stdout",
     "output_type": "stream",
     "text": [
      "Primeira função no Python\n"
     ]
    }
   ],
   "source": [
    "\n",
    "# Definição / Chamada\n",
    "\n",
    "def primeira_funcao(): # sem declaração de parâmetro\n",
    "\n",
    "    print('Primeira função no Python')\n",
    "\n",
    "\n",
    "primeira_funcao()\n"
   ]
  },
  {
   "cell_type": "code",
   "execution_count": null,
   "id": "b31c7b7d",
   "metadata": {},
   "outputs": [
    {
     "name": "stdout",
     "output_type": "stream",
     "text": [
      "2\n",
      "4\n",
      "6\n",
      "8\n",
      "10\n"
     ]
    }
   ],
   "source": [
    "# Para escrever multilinhas como \"comentário\" (ao invés de usar cerquilha \n",
    "# toda hora), podemos usar DocStrings (aspas simples triplas ou aspas duplas\n",
    "# triplas - o Python lê esses \"comentários\" - não é ignorado como a cerquilha) \n",
    "\n",
    "# Exemplo de DocString como comentário:\n",
    "\n",
    "'''\n",
    "Suponha que no nosso programa precisamos utilizar um equação diversas vezes, \n",
    "por exemplo, uma função que realiza a multiplicação por 2.\n",
    "\n",
    "Então poderíamos colocar o código em uma função para não ter que escrever \n",
    "a equação diversas vezes, e dessa forma, apenas chamamos a função.\n",
    "'''\n",
    "\n",
    "def multiplica_2(n): # parâmetro - definição da função\n",
    "\n",
    "    '''\n",
    "    Realiza a multiplicação de um número (n) por 2 (dois).\n",
    "    '''\n",
    "\n",
    "    return n * 2\n",
    "\n",
    "# Parâmetro / Argumento\n",
    "\n",
    "for numero in [1, 2, 3, 4, 5]:\n",
    "\n",
    "    print(multiplica_2(numero)) # argumento - chamada da função\n"
   ]
  },
  {
   "cell_type": "code",
   "execution_count": null,
   "id": "2370c5bd",
   "metadata": {},
   "outputs": [
    {
     "name": "stdout",
     "output_type": "stream",
     "text": [
      "\u001b[1;31mSignature:\u001b[0m \u001b[0mmultiplica_2\u001b[0m\u001b[1;33m(\u001b[0m\u001b[0mx\u001b[0m\u001b[1;33m)\u001b[0m\u001b[1;33m\u001b[0m\u001b[1;33m\u001b[0m\u001b[0m\n",
      "\u001b[1;31mDocstring:\u001b[0m Realiza a multiplicação de um número (x) por 2 (dois).\n",
      "\u001b[1;31mFile:\u001b[0m      c:\\users\\aib4\\appdata\\local\\temp\\ipykernel_3356\\1337979249.py\n",
      "\u001b[1;31mType:\u001b[0m      function"
     ]
    }
   ],
   "source": [
    "# DocString - Documentação\n",
    "\n",
    "'''Aspas simples triplas'''\n",
    "\n",
    "# ou\n",
    "\n",
    "\"\"\"Aspas duplas tiplas\"\"\"\n",
    "\n",
    "multiplica_2?"
   ]
  },
  {
   "cell_type": "code",
   "execution_count": null,
   "id": "e8233d22",
   "metadata": {},
   "outputs": [
    {
     "name": "stdout",
     "output_type": "stream",
     "text": [
      "2\n",
      "None\n",
      "4\n",
      "None\n",
      "6\n",
      "None\n",
      "8\n",
      "None\n",
      "10\n",
      "None\n"
     ]
    }
   ],
   "source": [
    "# Retorno implícito: se não há um return explícito, \n",
    "# a função retorna \"None\" implicitamente\n",
    "\n",
    "def multiplica_2(n):\n",
    "\n",
    "    '''\n",
    "    Apenas imprime a multiplicação de um valor (n) por 2 (dois).\n",
    "    '''\n",
    "\n",
    "    print(n * 2)\n",
    "\n",
    "\n",
    "for numero in [1 , 2, 3, 4, 5]:\n",
    "\n",
    "    print(multiplica_2(numero))\n",
    "\n",
    "    \n",
    "# Fluxo:\n"
   ]
  },
  {
   "cell_type": "code",
   "execution_count": null,
   "id": "4fe566e7",
   "metadata": {},
   "outputs": [
    {
     "name": "stdout",
     "output_type": "stream",
     "text": [
      "[10, 20, 30]\n",
      "[10, 20, 30]\n",
      "[10, 20, 30]\n"
     ]
    }
   ],
   "source": [
    "\n",
    "'''\n",
    "Mas se a função pudesse fazer a multiplicação por qualquer valor?\n",
    "\n",
    "Suponha uma função que recebe uma lista (lista) e faz a multiplicação\n",
    "de cada item por qualquer valor (n):\n",
    "\n",
    "(passando o laço para o escopo da função)\n",
    "'''\n",
    "\n",
    "def multiplica_for(lista, n):\n",
    "\n",
    "    multi = []\n",
    "\n",
    "    for item in lista:  # usando laço for\n",
    "\n",
    "        multi.append(item * n)\n",
    "\n",
    "    return multi\n",
    "\n",
    "\n",
    "def multiplica_lstcomp(lista, n):\n",
    "\n",
    "    return [item * n for item in lista]  # usando list comprehension\n",
    "\n",
    "\n",
    "print(multiplica_for([1, 2, 3], 10))\n",
    "\n",
    "# Parâmetro nomeado - passagem do argumento através do nome do parâmetro\n",
    "\n",
    "print(multiplica_lstcomp(n=10, lista=[1, 2, 3]))\n",
    "\n",
    "n = 10\n",
    "\n",
    "lista = [1, 2, 3]\n",
    "\n",
    "print(multiplica_lstcomp(n=n, lista=lista))\n"
   ]
  },
  {
   "cell_type": "code",
   "execution_count": null,
   "id": "6c7a68b8",
   "metadata": {},
   "outputs": [],
   "source": [
    "`Empacotamento` / `Desempacotamento` "
   ]
  },
  {
   "cell_type": "markdown",
   "id": "ca928a7d",
   "metadata": {},
   "source": [
    "> ## __Parâmetros *non-default* e *default* de uma função__\n",
    "> \n",
    "> ### Definidos na definição da função (não confundir com parâmetros nomeados - na chamada da função)\n",
    ">\n",
    "> ~~~python\n",
    "> # Sintaxe:\n",
    ">\n",
    "> def <nome_função>(<parâmetro 1>, <parâmetro 2>=<valor default>):\n",
    ">\n",
    ">    # Código identado dentro da função\n",
    ">    <bloco de instruções identado>\n",
    ">\n",
    ">    # retorno da função\n",
    ">    return <retorno>\n",
    ">\n",
    "> ~~~\n",
    ">\n",
    "> ***\n",
    ">\n",
    "> Onde:\n",
    ">\n",
    "> ~~~python\n",
    ">\n",
    "> <parâmetro 1> é um parâmetro \"não padrão\" e deve ser anterior a parâmetro \"padrão\"\n",
    ">\n",
    "> <parâmetro 2> é um parâmetro com valor \"padrão\" (pré-estabelecido, caso nenhum valor seja passado)\n",
    "> ~~~\n",
    ">\n",
    "> > OBS: parâmetros *default* precedem *non-default* \n",
    ">\n",
    "> <br>"
   ]
  },
  {
   "cell_type": "code",
   "execution_count": null,
   "id": "74f282d3",
   "metadata": {},
   "outputs": [
    {
     "data": {
      "text/plain": [
       "([2, 4, 6], [10, 20, 30])"
      ]
     },
     "execution_count": 26,
     "metadata": {},
     "output_type": "execute_result"
    }
   ],
   "source": [
    "# Multiplicação por qualquer fator (parâmetro default)\n",
    "\n",
    "def multiplica(n, fator=2):\n",
    "\n",
    "    return [item * fator for item in n]\n",
    "\n",
    "\n",
    "multiplica([1, 2, 3]), multiplica([1, 2, 3], 10)\n"
   ]
  },
  {
   "cell_type": "code",
   "execution_count": null,
   "id": "6369b293",
   "metadata": {},
   "outputs": [
    {
     "data": {
      "text/plain": [
       "(10, [2, 4, 6], 21.0, None)"
      ]
     },
     "execution_count": 35,
     "metadata": {},
     "output_type": "execute_result"
    }
   ],
   "source": [
    "'''\n",
    "Suponha que essa função pode receber tanto um número quanto uma lista:\n",
    "'''\n",
    "\n",
    "def multiplica(numero, fator=2):\n",
    "\n",
    "    if isinstance(numero, (int, float)):\n",
    "\n",
    "        return numero * fator\n",
    "\n",
    "    elif isinstance(numero, (list)):\n",
    "\n",
    "        return [item * fator for item in numero]\n",
    "\n",
    "\n",
    "multiplica(5), multiplica([1, 2, 3]), \\\n",
    "    multiplica(2.1, 10), multiplica((1, 2, 3), 10)"
   ]
  },
  {
   "cell_type": "code",
   "execution_count": null,
   "id": "6e5e2e98",
   "metadata": {},
   "outputs": [
    {
     "data": {
      "text/plain": [
       "(True, False)"
      ]
     },
     "execution_count": 27,
     "metadata": {},
     "output_type": "execute_result"
    }
   ],
   "source": [
    "# Exemplo usando inline if\n",
    "\n",
    "def divisivel(numero_1, numero_2):\n",
    "\n",
    "    '''Verifica se numero_1 é divisível por numero_2, retornando True, \n",
    "    caso contrário, False.'''\n",
    "\n",
    "    return True if numero_1 % numero_2 == 0 else False\n",
    "\n",
    "\n",
    "divisivel(33, 11), divisivel(9, 8)\n"
   ]
  },
  {
   "cell_type": "markdown",
   "id": "958ae197",
   "metadata": {},
   "source": [
    "> ## Funções - __`Escopo: variáveis globais e variáveis locais`__\n",
    ">\n",
    "> ### - __Variável local__ existe dentro da função (escopo da função)\n",
    ">\n",
    "> ### - __Variável global__ existe em qualquer momento do programa\n",
    ">\n",
    "> #### OBS: em Python, escopo é delimitado por identação\n",
    ">\n",
    "> <br>"
   ]
  },
  {
   "cell_type": "code",
   "execution_count": null,
   "id": "ac825007",
   "metadata": {},
   "outputs": [
    {
     "name": "stdout",
     "output_type": "stream",
     "text": [
      "Variável Global e Local: Python\n",
      "Dentro da função: lst=['P', 'y', 't', 'h', 'o', 'n']\n",
      "Fora da função: lst=[]\n"
     ]
    }
   ],
   "source": [
    "# Escopo/Visibilidade de Variáveis\n",
    "\n",
    "def escopo():  # sem declaração sem parâmetros\n",
    "\n",
    "    # Escopo Local\n",
    "\n",
    "    print(f'Variável Global e Local: {nome}')  # variável nome é \"visualizada\" dentro da função\n",
    "\n",
    "    lista = list(nome)  # atribuição dentro função - escopo local\n",
    "\n",
    "    print(f'Dentro da função: lista={lista}')  # \"lista dentro\" != \"lista fora\"\n",
    "\n",
    "\n",
    "# Parte Principal - Escopo Global\n",
    "\n",
    "nome = 'Python'\n",
    "\n",
    "lista = []\n",
    "\n",
    "escopo()  # Chamada da função sem argumento\n",
    "\n",
    "print(f'Fora da função: lista={lista}')  # \"lista fora\" não sofre alteração\n",
    "\n",
    "# Cuidado: confusão variáveis globais e locais com mesmo nome!\n"
   ]
  },
  {
   "cell_type": "markdown",
   "id": "4db68217",
   "metadata": {},
   "source": [
    "> ## Comando `global`\n",
    ">\n",
    "> ### Torna uma variável global\n",
    ">\n",
    "> <br>"
   ]
  },
  {
   "cell_type": "code",
   "execution_count": null,
   "id": "e02923d6",
   "metadata": {},
   "outputs": [
    {
     "name": "stdout",
     "output_type": "stream",
     "text": [
      "Variável Local: lista=['P', 'y', 't', 'h', 'o', 'n']\n",
      "Variável Local: nova_variavel='Pyt'\n",
      "Variável Global: lista=[]\n",
      "Variável Global: nova_variavel='Pyt'\n"
     ]
    }
   ],
   "source": [
    "\n",
    "def escopo(referencia='JUPYTER'):\n",
    "\n",
    "    global nova_variavel\n",
    "\n",
    "    lista = list(linguagem)\n",
    "\n",
    "    print(f'Variável Local: {lista=}')\n",
    "\n",
    "    nova_variavel = ''.join(\n",
    "        [item\n",
    "         for item in lista\n",
    "         if item.upper() in referencia.upper()  # se um caractere esté em outra palavra\n",
    "        ]\n",
    "    )\n",
    "\n",
    "    print(f'Variável Local: {nova_variavel=}')\n",
    "\n",
    "# Parte Principal - Escopo Global\n",
    "\n",
    "linguagem = 'Python'\n",
    "\n",
    "lista = []\n",
    "\n",
    "escopo()\n",
    "\n",
    "print(f'Variável Global: {lista=}')\n",
    "\n",
    "print(f'Variável Global: {nova_variavel=}')"
   ]
  },
  {
   "cell_type": "markdown",
   "id": "2f2d43b9",
   "metadata": {},
   "source": [
    "> ## Comando `nonlocal`\n",
    ">\n",
    "> ### Declaração de variável não local\n",
    ">\n",
    "> <br>"
   ]
  },
  {
   "cell_type": "code",
   "execution_count": null,
   "id": "24332678",
   "metadata": {},
   "outputs": [
    {
     "name": "stdout",
     "output_type": "stream",
     "text": [
      "Produto 545: custo: 100, venda: 150.00\n",
      "Produto 955: custo: 100, venda: 110.00\n",
      "Produto 247: custo: 100, venda: 120.00\n"
     ]
    }
   ],
   "source": [
    "\n",
    "def venda(produto, custo):  # função container\n",
    "    \n",
    "    def aumento():\n",
    "        \n",
    "        nonlocal porcentagem\n",
    "    \n",
    "        if produto[0] == '5':\n",
    "            \n",
    "            porcentagem = .5\n",
    "            \n",
    "        elif produto[0] == '9':\n",
    "            \n",
    "            porcentagem = .1\n",
    "    \n",
    "    porcentagem = .2\n",
    "    \n",
    "    aumento()\n",
    "    \n",
    "    return custo * (1 + porcentagem)\n",
    "\n",
    "\n",
    "produtos = ['545', '955', '247']\n",
    "\n",
    "custos = [100] * len(produtos)\n",
    "\n",
    "for produto, custo in zip(produtos, custos):\n",
    "\n",
    "    print(f'Produto {produto}: custo: {custo}, venda: {venda(produto, custo):.2f}')\n"
   ]
  },
  {
   "cell_type": "markdown",
   "id": "48ab0987",
   "metadata": {},
   "source": [
    "> ## Funções - __Escopo: Variáveis mutáveis e imutáveis__\n",
    ">\n",
    "> <br>"
   ]
  },
  {
   "cell_type": "code",
   "execution_count": 270,
   "id": "6d59640a",
   "metadata": {},
   "outputs": [
    {
     "name": "stdout",
     "output_type": "stream",
     "text": [
      "Antes da função: lista_1=[1, 2, 3]\n",
      "Depois da função: lista_1=[1, 2, 3, 10]\n",
      "Retorno da função: lista_2=[1, 2, 3, 10]\n"
     ]
    },
    {
     "data": {
      "text/plain": [
       "True"
      ]
     },
     "execution_count": 270,
     "metadata": {},
     "output_type": "execute_result"
    }
   ],
   "source": [
    "# Variáveis mutáveis\n",
    "\n",
    "def modificaLista(lista): # a função recebe a referência do objeto\n",
    "\n",
    "    lista.append(10)\n",
    "\n",
    "    return lista\n",
    "\n",
    "\n",
    "lista_1 = [1, 2, 3]\n",
    "\n",
    "print(f'Antes da função: {lista_1=}')\n",
    "\n",
    "lista_2 = modificaLista(lista_1)\n",
    "\n",
    "print(f'Depois da função: {lista_1=}')\n",
    "\n",
    "print(f'Retorno da função: {lista_2=}')\n",
    "\n",
    "id(lista_2) == id(lista_1)\n"
   ]
  },
  {
   "cell_type": "code",
   "execution_count": 271,
   "id": "855cadc7",
   "metadata": {},
   "outputs": [],
   "source": [
    "# Variáveis imutáveis"
   ]
  },
  {
   "cell_type": "markdown",
   "id": "2b4a5071",
   "metadata": {},
   "source": [
    "> ## Chamada de Funções: `Empacotamento` / `Desempacotamento`\n",
    ">\n",
    "> <br>"
   ]
  },
  {
   "cell_type": "code",
   "execution_count": null,
   "id": "f4e58e84",
   "metadata": {},
   "outputs": [
    {
     "name": "stdout",
     "output_type": "stream",
     "text": [
      "Maria ['João', 'Helena']\n"
     ]
    }
   ],
   "source": [
    "# Desempacotamento:\n",
    "\n",
    "\n",
    "def lista_nomes():\n",
    "    \n",
    "    return ['Maria', 'João', 'Helena']\n",
    "\n",
    "\n",
    "nome1, *_ = lista_nomes()  # se a função retorna um iterável\n",
    "\n",
    "print(nome1, _)"
   ]
  },
  {
   "cell_type": "markdown",
   "id": "f8e623d3",
   "metadata": {},
   "source": [
    "> ## Empacotamento de argumentos: `*args`\n",
    ">\n",
    "> ### Passar número indefinido de argumentos não-nomeados\n",
    ">\n",
    "> <br>"
   ]
  },
  {
   "cell_type": "code",
   "execution_count": null,
   "id": "594a28a7",
   "metadata": {},
   "outputs": [
    {
     "name": "stdout",
     "output_type": "stream",
     "text": [
      "6 10\n"
     ]
    },
    {
     "data": {
      "text/plain": [
       "1.0"
      ]
     },
     "execution_count": 43,
     "metadata": {},
     "output_type": "execute_result"
    }
   ],
   "source": [
    "# Empacotamento (packing)\n",
    "\n",
    "def soma_acumulada(*args):  # número variável de argumentos\n",
    "\n",
    "    soma = 0\n",
    "\n",
    "    for valor in args:\n",
    "\n",
    "        soma += valor\n",
    "\n",
    "    return soma\n",
    "\n",
    "\n",
    "lista = [1 , 2, 3, 4]\n",
    "\n",
    "#                                             desempacotando lista      \n",
    "print(soma_acumulada(1, 2, 3), soma_acumulada(*lista))\n",
    "\n",
    "\n",
    "# Desempacotamento (unpacking)\n",
    "\n",
    "def soma_divide(a, b, c):  # recebe três parâmetros\n",
    "\n",
    "    ''' Recebe três valores (a, b e c) e realiza o cálculo: '''\n",
    "\n",
    "    return (a + b) / c\n",
    "\n",
    "\n",
    "lista = [30, 60, 90]\n",
    "\n",
    "soma_divide(*lista)  # desempacotando lista em três argumentos\n"
   ]
  },
  {
   "cell_type": "code",
   "execution_count": null,
   "id": "49d80ab3",
   "metadata": {},
   "outputs": [
    {
     "data": {
      "text/plain": [
       "('1, 2, 3', 'abc', 'Crux, Bonier, Atom, -*-')"
      ]
     },
     "execution_count": 37,
     "metadata": {},
     "output_type": "execute_result"
    }
   ],
   "source": [
    "# OBS: Parâmetro Nomeado e Valor Padrão em Empacotamento de Argumentos\n",
    "\n",
    "def saidaPadrao(*items, separador=', '):\n",
    "    \n",
    "    string = separador.join([str(item) for item in items])\n",
    "    \n",
    "    return string\n",
    "\n",
    "saidaPadrao(1, 2, 3), saidaPadrao('a', 'b', 'c', separador=''), \\\n",
    "    saidaPadrao('Crux', 'Bonier', 'Atom', '-*-')\n",
    "    \n",
    "# Com empacotamento necessário usar parâmetro nomeado.\n"
   ]
  },
  {
   "cell_type": "markdown",
   "id": "3dff1aea",
   "metadata": {},
   "source": [
    "> ### Desempacotamento de lista ou de tupla\n",
    ">\n",
    "> </br>"
   ]
  },
  {
   "cell_type": "code",
   "execution_count": 6,
   "id": "bc350469",
   "metadata": {},
   "outputs": [
    {
     "data": {
      "text/plain": [
       "'a, b, c, d'"
      ]
     },
     "execution_count": 6,
     "metadata": {},
     "output_type": "execute_result"
    }
   ],
   "source": [
    "', '.join(['a', *['b', 'c', 'd']])"
   ]
  },
  {
   "cell_type": "code",
   "execution_count": null,
   "id": "8bc37d27",
   "metadata": {},
   "outputs": [
    {
     "name": "stdout",
     "output_type": "stream",
     "text": [
      "['Maria', 'João', 'Helena']\n",
      "[1, 2, 3, 4]\n",
      "['a', 'b', 'c', 'd', 'e', 'f']\n",
      "Maria João Helena 1 2 3 a\n"
     ]
    }
   ],
   "source": []
  },
  {
   "cell_type": "code",
   "execution_count": 214,
   "id": "36e5aa9e",
   "metadata": {},
   "outputs": [
    {
     "name": "stdout",
     "output_type": "stream",
     "text": [
      "Maria João Helena 1 2 3 a\n"
     ]
    }
   ],
   "source": [
    "tupla = 'Maria', 'João', 'Helena', 1, 2, 3, 'a'\n",
    "\n",
    "print(*tupla)"
   ]
  },
  {
   "cell_type": "code",
   "execution_count": null,
   "id": "1aa96bc1",
   "metadata": {},
   "outputs": [
    {
     "name": "stdout",
     "output_type": "stream",
     "text": [
      "('c', 'e') (2, 4)\n"
     ]
    }
   ],
   "source": [
    "\n",
    "# Usando zip para desparear sequências de tuplas geradas com list comprehension\n",
    "\n",
    "lista_de_tuplas = [('c', 2), ('d', 3), ('e', 4)]\n",
    "\n",
    "x, y = zip(\n",
    "    *[item  # cada item já é uma tupla, (podia ser items separados juntando ao final como pares de tuplas)\n",
    "      for item in lista_de_tuplas\n",
    "      if item[-1] % 2 == 0]\n",
    ")\n",
    "\n",
    "print(x, y)"
   ]
  },
  {
   "cell_type": "code",
   "execution_count": null,
   "id": "55c0927d",
   "metadata": {},
   "outputs": [
    {
     "name": "stdout",
     "output_type": "stream",
     "text": [
      "[('a', 1), ('b', 2)]\n"
     ]
    },
    {
     "data": {
      "text/plain": [
       "[('a', 1), ('b', 2)]"
      ]
     },
     "execution_count": 11,
     "metadata": {},
     "output_type": "execute_result"
    },
    {
     "ename": "",
     "evalue": "",
     "output_type": "error",
     "traceback": [
      "\u001b[1;31mThe Kernel crashed while executing code in the current cell or a previous cell. \n",
      "\u001b[1;31mPlease review the code in the cell(s) to identify a possible cause of the failure. \n",
      "\u001b[1;31mClick <a href='https://aka.ms/vscodeJupyterKernelCrash'>here</a> for more info. \n",
      "\u001b[1;31mView Jupyter <a href='command:jupyter.viewOutput'>log</a> for further details."
     ]
    }
   ],
   "source": [
    "\n",
    "# Exemplo de \"juntando items separados ao final como pares de tuplas\" usando zip\n",
    "\n",
    "x = ['a', 'b']\n",
    "\n",
    "y = [1, 2]\n",
    "\n",
    "print(\n",
    "    [(_x_y) for _x_y in zip(x, y)])  # list comprehension\n",
    "\n",
    "print(\n",
    "    [(_x, _y) for _x, _y in zip(x, y)])"
   ]
  },
  {
   "cell_type": "markdown",
   "id": "7c2ea5b3",
   "metadata": {},
   "source": [
    "> ### Empacotamento de palavras-chave: `**kwargs`\n",
    ">\n",
    "> Passar número indefinido de argumentos nomeados (\"palavras-chave\")\n",
    ">\n",
    "> <br>"
   ]
  },
  {
   "cell_type": "code",
   "execution_count": null,
   "id": "bf8a9c3c",
   "metadata": {},
   "outputs": [
    {
     "data": {
      "text/plain": [
       "({'marker': 'o', 'markersize': 5, 'alpha': 0.4, 'color': 'b'},\n",
       " {'marker': 'o', 'markersize': 3, 'alpha': 0.4, 'color': 'b'})"
      ]
     },
     "execution_count": 54,
     "metadata": {},
     "output_type": "execute_result"
    }
   ],
   "source": [
    "'''\n",
    "Exemplo de função que recebe um dicionário e altera valores \n",
    "pré-estabelecidos (kw_plot) através do dicionário recebido.\n",
    "\n",
    "Muitas funções aceitam o empacotemanto de argumentos na forma \n",
    "de chave-valor (kwargs - keywords arguments).\n",
    "\n",
    "Isso é últil quando se define uma função com valores padrões, \n",
    "mas permitindo que os valores sejam modificados passando as chaves \n",
    "correspondentes com valores diferentes.\n",
    "'''\n",
    "\n",
    "# Empacotamento (packing)\n",
    "\n",
    "def plot_keywords(**kwargs):\n",
    "\n",
    "    kw_plot = dict(marker='o', markersize=5, alpha=.4, color='b')\n",
    "\n",
    "    return {\n",
    "        key: kwargs.get(key, value) \n",
    "        for key, value in kw_plot.items()\n",
    "        }\n",
    "\n",
    "\n",
    "plot_keywords(), plot_keywords(**{'markersize': 3, 'linewidth': .8})\n"
   ]
  },
  {
   "cell_type": "code",
   "execution_count": null,
   "id": "7be1e032",
   "metadata": {},
   "outputs": [
    {
     "data": {
      "text/plain": [
       "('o', 3, 'grey')"
      ]
     },
     "execution_count": 57,
     "metadata": {},
     "output_type": "execute_result"
    }
   ],
   "source": [
    "# Dempacotamento (unpacking) - passando valores de dicionário como argumentos\n",
    "\n",
    "def plot_keywords_2(marker, markersize, color):\n",
    "    \n",
    "    return (marker, markersize, color)\n",
    "\n",
    "\n",
    "kwargs = {'marker': 'o',  'markersize': 3, 'color': 'grey'}\n",
    "\n",
    "plot_keywords_2(**kwargs)\n"
   ]
  },
  {
   "cell_type": "markdown",
   "id": "511eb882",
   "metadata": {},
   "source": [
    "> ## Operador de Desempacotamento `**`\n",
    ">\n",
    "> ### Juntar dicionários\n",
    ">\n",
    "> <br>"
   ]
  },
  {
   "cell_type": "code",
   "execution_count": null,
   "id": "7e024a98",
   "metadata": {},
   "outputs": [
    {
     "data": {
      "text/plain": [
       "{'Maria': 8.4, 'João': 8.6}"
      ]
     },
     "execution_count": 59,
     "metadata": {},
     "output_type": "execute_result"
    }
   ],
   "source": [
    "nota_p1 = {'Maria': 8.2, 'João': 7.7}\n",
    "\n",
    "nota_p2 = {'Maria': 8.4, 'João': 8.6}\n",
    "\n",
    "{**nota_p1, **nota_p2}"
   ]
  },
  {
   "cell_type": "markdown",
   "id": "de128853",
   "metadata": {},
   "source": [
    "> ## Funções podem ser escritas no próprio programa, mas também podem estar escritas em outros programas/arquivos\n",
    ">\n",
    "> ## Assim podemos modularizar nossos programas, podemos criar módulos, criar pacotes, criar bibliotecas\n",
    ">\n",
    "> <br>"
   ]
  },
  {
   "cell_type": "markdown",
   "id": "f255aced",
   "metadata": {},
   "source": [
    "> ### Comando `import`\n",
    ">\n",
    "> #### Importação de Módulos / Bibliotecas / Pacotes\n",
    ">\n",
    "> ~~~python\n",
    "> # Sintaxe:\n",
    ">\n",
    "> import <módulo>\n",
    "> ~~~\n",
    ">\n",
    "> ***\n",
    ">\n",
    "> ~~~python\n",
    "> # Sintaxe:\n",
    ">\n",
    "> import <módulo(/.submódulo)> as <nome>\n",
    "> ~~~\n",
    ">\n",
    "> ***\n",
    "> ~~~python\n",
    "> # Sintaxe:\n",
    ">\n",
    "> from <módulo(.submódulo/método)> import <método/submétodo/atributo>\n",
    "> ~~~\n",
    ">\n",
    "> ***\n",
    ">\n",
    "> ~~~python\n",
    "> # Sintaxe:\n",
    ">\n",
    "> from <módulo> import <método/atributo> as <nome>\n",
    "> ~~~\n",
    ">\n",
    "> <br>"
   ]
  },
  {
   "cell_type": "markdown",
   "id": "e4f88c6e",
   "metadata": {},
   "source": [
    "> ### Biblioteca `math`\n",
    ">\n",
    "> Algumas funções e números matemáticos (tarefas simples)\n",
    ">\n",
    "> > OBS: As bibliotecas `scipy` e `numpy` são mais completas (veremos depois)\n",
    ">\n",
    "> <br>"
   ]
  },
  {
   "cell_type": "code",
   "execution_count": null,
   "id": "2680245e",
   "metadata": {},
   "outputs": [
    {
     "name": "stdout",
     "output_type": "stream",
     "text": [
      "\u001b[1;31mType:\u001b[0m        module\n",
      "\u001b[1;31mString form:\u001b[0m <module 'math' (built-in)>\n",
      "\u001b[1;31mDocstring:\u001b[0m  \n",
      "This module provides access to the mathematical functions\n",
      "defined by the C standard."
     ]
    }
   ],
   "source": [
    "\n",
    "import math\n",
    "\n",
    "math?"
   ]
  },
  {
   "cell_type": "code",
   "execution_count": null,
   "id": "bb67d4da",
   "metadata": {},
   "outputs": [
    {
     "data": {
      "text/plain": [
       "3.141592653589793"
      ]
     },
     "execution_count": 467,
     "metadata": {},
     "output_type": "execute_result"
    }
   ],
   "source": [
    "# Atributo\n",
    "\n",
    "math.pi"
   ]
  },
  {
   "cell_type": "code",
   "execution_count": null,
   "id": "7a5cbb0c",
   "metadata": {},
   "outputs": [
    {
     "data": {
      "text/plain": [
       "1.0"
      ]
     },
     "execution_count": 463,
     "metadata": {},
     "output_type": "execute_result"
    }
   ],
   "source": [
    "# Método\n",
    "\n",
    "math.cos(0)"
   ]
  },
  {
   "cell_type": "markdown",
   "id": "be718225",
   "metadata": {},
   "source": [
    "> (Há outras bibliotecas matemáticas como *Numpy* e *Scipy* que possuem mais funcionalidades e serão vistas adiante.)"
   ]
  },
  {
   "cell_type": "markdown",
   "id": "39244630",
   "metadata": {},
   "source": [
    "> ### Biblioteca `datetime`\n",
    ">\n",
    "> Para se trabalhar com datas e horas\n",
    ">\n",
    "> https://docs.python.org/pt-br/3.6/library/datetime.html\n",
    ">\n",
    "> (Há também outras bibliotecas com outras funcionalidades `time`, `calendar`, `dateutil`)\n",
    ">\n",
    "> <br>"
   ]
  },
  {
   "cell_type": "code",
   "execution_count": null,
   "id": "2ac16de8",
   "metadata": {},
   "outputs": [
    {
     "name": "stdout",
     "output_type": "stream",
     "text": [
      "\u001b[1;31mType:\u001b[0m        module\n",
      "\u001b[1;31mString form:\u001b[0m <module 'datetime' from 'c:\\\\Users\\\\AIB4\\\\AppData\\\\Local\\\\miniforge3\\\\envs\\\\work\\\\lib\\\\datetime.py'>\n",
      "\u001b[1;31mFile:\u001b[0m        c:\\users\\aib4\\appdata\\local\\miniforge3\\envs\\work\\lib\\datetime.py\n",
      "\u001b[1;31mDocstring:\u001b[0m   Fast implementation of the datetime type."
     ]
    }
   ],
   "source": [
    "import datetime\n",
    "\n",
    "datetime?"
   ]
  },
  {
   "cell_type": "code",
   "execution_count": null,
   "id": "3fb11666",
   "metadata": {},
   "outputs": [
    {
     "name": "stdout",
     "output_type": "stream",
     "text": [
      "\u001b[1;31mInit signature:\u001b[0m \u001b[0mdatetime\u001b[0m\u001b[1;33m.\u001b[0m\u001b[0mdatetime\u001b[0m\u001b[1;33m(\u001b[0m\u001b[0mself\u001b[0m\u001b[1;33m,\u001b[0m \u001b[1;33m/\u001b[0m\u001b[1;33m,\u001b[0m \u001b[1;33m*\u001b[0m\u001b[0margs\u001b[0m\u001b[1;33m,\u001b[0m \u001b[1;33m**\u001b[0m\u001b[0mkwargs\u001b[0m\u001b[1;33m)\u001b[0m\u001b[1;33m\u001b[0m\u001b[1;33m\u001b[0m\u001b[0m\n",
      "\u001b[1;31mDocstring:\u001b[0m     \n",
      "datetime(year, month, day[, hour[, minute[, second[, microsecond[,tzinfo]]]]])\n",
      "\n",
      "The year, month and day arguments are required. tzinfo may be None, or an\n",
      "instance of a tzinfo subclass. The remaining arguments may be ints.\n",
      "\u001b[1;31mFile:\u001b[0m           c:\\users\\aib4\\appdata\\local\\miniforge3\\envs\\work\\lib\\datetime.py\n",
      "\u001b[1;31mType:\u001b[0m           type\n",
      "\u001b[1;31mSubclasses:\u001b[0m     "
     ]
    }
   ],
   "source": [
    "# Submódulo\n",
    "\n",
    "datetime.datetime?"
   ]
  },
  {
   "cell_type": "code",
   "execution_count": null,
   "id": "ccb6797f",
   "metadata": {},
   "outputs": [
    {
     "data": {
      "text/plain": [
       "(datetime.datetime(2025, 1, 31, 0, 0), datetime.datetime(2025, 1, 31, 12, 45))"
      ]
     },
     "execution_count": 235,
     "metadata": {},
     "output_type": "execute_result"
    }
   ],
   "source": [
    "# Objeto datetime representam dataHora\n",
    "\n",
    "datetime.datetime(2025, 1, 31), datetime.datetime(2025, 1, 31, 12, 45)"
   ]
  },
  {
   "cell_type": "code",
   "execution_count": null,
   "id": "a3e713c8",
   "metadata": {},
   "outputs": [
    {
     "data": {
      "text/plain": [
       "datetime.datetime(2025, 5, 2, 16, 5, 6, 182042)"
      ]
     },
     "execution_count": 236,
     "metadata": {},
     "output_type": "execute_result"
    }
   ],
   "source": [
    "# Importanto apenas o submódulo datetime\n",
    "\n",
    "from datetime import datetime\n",
    "\n",
    "datetime.now() # ano, mês, dia, hora, minuto, segundo, milisegundo"
   ]
  },
  {
   "cell_type": "code",
   "execution_count": null,
   "id": "085d3ab0",
   "metadata": {},
   "outputs": [],
   "source": [
    "# Poderíamos importar tudo do módulo - Coringa \"*\" significa tudo\n",
    "\n",
    "from datetime import *"
   ]
  },
  {
   "cell_type": "code",
   "execution_count": null,
   "id": "10b62095",
   "metadata": {},
   "outputs": [
    {
     "data": {
      "text/plain": [
       "(datetime.date(2025, 5, 2), datetime.time(16, 5, 19, 596638))"
      ]
     },
     "execution_count": 237,
     "metadata": {},
     "output_type": "execute_result"
    }
   ],
   "source": [
    "# Importanto o submódulo, renomeando ele\n",
    "\n",
    "from datetime import datetime as dt\n",
    "\n",
    "data, hora = dt.now().date(), dt.now().time()\n",
    "\n",
    "data, hora"
   ]
  },
  {
   "cell_type": "code",
   "execution_count": null,
   "id": "896f3843",
   "metadata": {},
   "outputs": [
    {
     "data": {
      "text/plain": [
       "(2025, 5, 2, 16, 5, 19, 596638)"
      ]
     },
     "execution_count": 238,
     "metadata": {},
     "output_type": "execute_result"
    }
   ],
   "source": [
    "data.year, data.month, data.day, hora.hour, hora.minute, hora.second, hora.microsecond"
   ]
  },
  {
   "cell_type": "code",
   "execution_count": null,
   "id": "dd3dfd4a",
   "metadata": {},
   "outputs": [
    {
     "data": {
      "text/plain": [
       "(3866, 10.591780821917808, '2014/10/01')"
      ]
     },
     "execution_count": 259,
     "metadata": {},
     "output_type": "execute_result"
    }
   ],
   "source": [
    "\n",
    "date = '01/10/2014'\n",
    "\n",
    "# Converter uma string de data em objeto datetime\n",
    "\n",
    "start = datetime.strptime(date, r'%d/%m/%Y')\n",
    "\n",
    "now = datetime.now()\n",
    "\n",
    "ndias = (now - start).days\n",
    "\n",
    "ndias, ndias / 365, start.strftime(r'%Y/%m/%d')\n"
   ]
  },
  {
   "cell_type": "code",
   "execution_count": null,
   "id": "1d809db6",
   "metadata": {},
   "outputs": [],
   "source": [
    "# Submódulo timedelta - trabalhar com diferença de/no tempo\n",
    "\n",
    "from datetime import timedelta"
   ]
  },
  {
   "cell_type": "code",
   "execution_count": null,
   "id": "be787ec0",
   "metadata": {},
   "outputs": [
    {
     "data": {
      "text/plain": [
       "(datetime.datetime(2025, 4, 22, 17, 9, 37, 100634),\n",
       " datetime.datetime(2025, 5, 1, 17, 9, 37, 100634))"
      ]
     },
     "execution_count": 290,
     "metadata": {},
     "output_type": "execute_result"
    }
   ],
   "source": [
    "now = datetime.now()\n",
    "\n",
    "now - timedelta(days=10), now.replace(day=1)\n"
   ]
  },
  {
   "cell_type": "code",
   "execution_count": null,
   "id": "b60b16b2",
   "metadata": {},
   "outputs": [
    {
     "data": {
      "text/plain": [
       "'2025-05-02T16:57:15.187717'"
      ]
     },
     "execution_count": 260,
     "metadata": {},
     "output_type": "execute_result"
    }
   ],
   "source": [
    "# Dados podem vir no formato:\n",
    "\n",
    "datetime.now().isoformat(timespec='microseconds')"
   ]
  },
  {
   "cell_type": "markdown",
   "id": "ef2084a1",
   "metadata": {},
   "source": [
    "> ### Biblioteca `os`\n",
    ">\n",
    "> Iteragir com o Sistema Operacional (e trabalhar entre diferentes sistemas operacionais)\n",
    ">\n",
    "> <br>"
   ]
  },
  {
   "cell_type": "code",
   "execution_count": 186,
   "id": "6e69cde1",
   "metadata": {},
   "outputs": [
    {
     "data": {
      "text/plain": [
       "'c:\\\\Users\\\\AIB4\\\\PETROBRAS\\\\EXP GEOF GEOM - Oceanografia\\\\Bacias MEQ\\\\Analise_BaseHidro\\\\notebooks_ipynb'"
      ]
     },
     "execution_count": 186,
     "metadata": {},
     "output_type": "execute_result"
    }
   ],
   "source": [
    "import os\n",
    "\n",
    "# Alguns métodos:\n",
    "\n",
    "# Caminho atual\n",
    "\n",
    "os.getcwd() # get current work directory\n",
    "\n",
    "# OBS: Windows \\\\ e Linux /\n"
   ]
  },
  {
   "cell_type": "code",
   "execution_count": null,
   "id": "43744717",
   "metadata": {},
   "outputs": [
    {
     "name": "stdout",
     "output_type": "stream",
     "text": [
      "nt\n",
      "True\n",
      "['.vscode', 'animated_maps.ipynb', 'animated_sections.ipynb', 'animate_profiles.ipynb', 'aprender_python.ipynb', 'download_ncfiles.ipynb', 'get_stats.ipynb', 'make_animation.ipynb', 'plot_spd_dir_meq.ipynb', 'teste_subamostragem_tempo.ipynb', 'testing_dask.ipynb']\n",
      "0\n"
     ]
    }
   ],
   "source": [
    "print(os.name)\n",
    "\n",
    "# os.name:\n",
    "#           'nt' indica Windows\n",
    "#           'posix' indica Linux/macOS\n",
    "\n",
    "if os.name == 'nt':\n",
    "\n",
    "    print(os.listdir())\n",
    "    os.system('cls')\n",
    "\n",
    "else:\n",
    "\n",
    "    os.system('clear')\n"
   ]
  },
  {
   "cell_type": "code",
   "execution_count": null,
   "id": "7dc8d419",
   "metadata": {},
   "outputs": [
    {
     "name": "stdout",
     "output_type": "stream",
     "text": [
      "C:\temp\n",
      "ew\foto.png\n",
      "C:\\temp\\new\\foto.png\n"
     ]
    }
   ],
   "source": [
    "# OBS: Escape em strings - caracteres especiais\n",
    "\n",
    "print('C:\\temp\\new\\foto.png') # \\f não existe: ignorado\n",
    "\n",
    "print('C:\\\\temp\\\\new\\\\foto.png')\n"
   ]
  },
  {
   "cell_type": "code",
   "execution_count": 200,
   "id": "b7f09e9b",
   "metadata": {},
   "outputs": [
    {
     "data": {
      "text/plain": [
       "['.vscode',\n",
       " 'animated_maps.ipynb',\n",
       " 'animated_sections.ipynb',\n",
       " 'animate_profiles.ipynb',\n",
       " 'aprender_python.ipynb',\n",
       " 'download_ncfiles.ipynb',\n",
       " 'get_stats.ipynb',\n",
       " 'make_animation.ipynb',\n",
       " 'plot_spd_dir_meq.ipynb',\n",
       " 'teste_subamostragem_tempo.ipynb',\n",
       " 'testing_dask.ipynb']"
      ]
     },
     "execution_count": 200,
     "metadata": {},
     "output_type": "execute_result"
    }
   ],
   "source": [
    "# Listar o conteúdo de um caminho\n",
    "\n",
    "os.listdir()\n"
   ]
  },
  {
   "cell_type": "code",
   "execution_count": 54,
   "id": "012f96fa",
   "metadata": {},
   "outputs": [
    {
     "data": {
      "text/plain": [
       "'c:\\\\Users\\\\AIB4\\\\projetos\\\\python\\\\meq\\\\aprendendo_python.ipynb'"
      ]
     },
     "execution_count": 54,
     "metadata": {},
     "output_type": "execute_result"
    }
   ],
   "source": [
    "# Submódulo path para tratamento de caminho \n",
    "# (Há também o módulo pathlib)\n",
    "\n",
    "# Caminho relativo\n",
    "\n",
    "caminho_relativo = 'aprendendo_python.ipynb'\n",
    "\n",
    "os.path.abspath(caminho_relativo)\n",
    "\n",
    "# Caminho Absoluto\n",
    "\n",
    "# os.path.abspath('')"
   ]
  },
  {
   "cell_type": "code",
   "execution_count": null,
   "id": "a459119e",
   "metadata": {},
   "outputs": [
    {
     "name": "stdout",
     "output_type": "stream",
     "text": [
      "c:\\Users\\AIB4\\projetos\\python\\meq\\libs\n",
      "c:\\Users\\AIB4\\projetos\\python\\meq\n"
     ]
    }
   ],
   "source": [
    "# Mudança de caminho\n",
    "\n",
    "os.chdir('./libs') # Coringa \".\" significa a partir daqui\n",
    "\n",
    "print(os.getcwd())\n",
    "\n",
    "os.chdir('..') # Coringa \"..\" significa voltar um (anterior a partir daqui) \n",
    "\n",
    "print(os.getcwd())"
   ]
  },
  {
   "cell_type": "code",
   "execution_count": null,
   "id": "5d9b607b",
   "metadata": {},
   "outputs": [
    {
     "name": "stdout",
     "output_type": "stream",
     "text": [
      "12 é par\n"
     ]
    },
    {
     "data": {
      "text/plain": [
       "(0.5144, ['#0073e6', '#4d4dff', '#ff471a', '#39ac73', '#ffbf00'], None, True)"
      ]
     },
     "execution_count": 28,
     "metadata": {},
     "output_type": "execute_result"
    }
   ],
   "source": [
    "# Importar módulo (arquivo .py) em outro caminho\n",
    "\n",
    "os.chdir('./libs')\n",
    "\n",
    "import exemplo_modulo\n",
    "\n",
    "exemplo_modulo.knot2ms, exemplo_modulo.cores, exemplo_modulo.paridade(12), exemplo_modulo.primo(19)"
   ]
  },
  {
   "cell_type": "code",
   "execution_count": null,
   "id": "d8938c96",
   "metadata": {},
   "outputs": [
    {
     "data": {
      "text/plain": [
       "['#0073e6', '#4d4dff', '#ff471a', '#39ac73', '#ffbf00']"
      ]
     },
     "execution_count": 56,
     "metadata": {},
     "output_type": "execute_result"
    }
   ],
   "source": [
    "# Observe que a pasta libs está no mesmo caminho que nosso programa\n",
    "\n",
    "# Portanto podemos importar o módulo exemplo_módulo\n",
    "\n",
    "# importar módulo (arquivo .py)\n",
    "\n",
    "import libs.exemplo_modulo\n",
    "\n",
    "libs.exemplo_modulo.cores"
   ]
  },
  {
   "cell_type": "code",
   "execution_count": 29,
   "id": "7e0835c0",
   "metadata": {},
   "outputs": [
    {
     "data": {
      "text/plain": [
       "True"
      ]
     },
     "execution_count": 29,
     "metadata": {},
     "output_type": "execute_result"
    }
   ],
   "source": [
    "# Se um diretório/pasta existe\n",
    "\n",
    "os.path.exists(os.path.abspath('c:\\\\Users\\\\AIB4\\\\projetos\\\\python\\\\meq\\\\output'))"
   ]
  },
  {
   "cell_type": "code",
   "execution_count": null,
   "id": "d4e10a5a",
   "metadata": {},
   "outputs": [],
   "source": [
    "# Se um \"caminho\" não existe, criar:\n",
    "\n",
    "if not os.path.exists('output/'):\n",
    "\n",
    "    os.mkdir('output/') # no Windows, embora use \\\\, \"aceita\" o /\n"
   ]
  },
  {
   "cell_type": "markdown",
   "id": "74a66c85",
   "metadata": {},
   "source": [
    "> ### Biblioteca `glob`\n",
    ">\n",
    "> Listagem de arquivos a partir de um padrão\n",
    ">\n",
    "> <br>"
   ]
  },
  {
   "cell_type": "code",
   "execution_count": null,
   "id": "798b3464",
   "metadata": {},
   "outputs": [
    {
     "data": {
      "text/plain": [
       "['c:\\\\Users\\\\AIB4\\\\projetos\\\\python\\\\meq\\\\selected\\\\archvhc.2011_001.nc',\n",
       " 'c:\\\\Users\\\\AIB4\\\\projetos\\\\python\\\\meq\\\\selected\\\\archvhc.2011_002.nc',\n",
       " 'c:\\\\Users\\\\AIB4\\\\projetos\\\\python\\\\meq\\\\selected\\\\archvhc.2011_003.nc',\n",
       " 'c:\\\\Users\\\\AIB4\\\\projetos\\\\python\\\\meq\\\\selected\\\\archvhc.2011_004.nc',\n",
       " 'c:\\\\Users\\\\AIB4\\\\projetos\\\\python\\\\meq\\\\selected\\\\archvhc.2011_005.nc']"
      ]
     },
     "execution_count": 123,
     "metadata": {},
     "output_type": "execute_result"
    }
   ],
   "source": [
    "from glob import glob\n",
    "import os\n",
    "\n",
    "folder = 'selected/'\n",
    "\n",
    "path = os.path.abspath('') # = os.getcwd()\n",
    "\n",
    "fpath = os.path.join(path, folder)\n",
    "\n",
    "pattern = '*.nc'\n",
    "\n",
    "fnames = glob(os.path.join(fpath, pattern))\n",
    "\n",
    "fnames[:5]"
   ]
  },
  {
   "cell_type": "markdown",
   "id": "202b23d3",
   "metadata": {},
   "source": [
    "> ### Biblioteca `sys`\n",
    ">\n",
    "> \"Interagir\" com o Sistema Operacional\n",
    ">\n",
    "> <br>"
   ]
  },
  {
   "cell_type": "code",
   "execution_count": 30,
   "id": "2fc11dae",
   "metadata": {},
   "outputs": [
    {
     "data": {
      "text/plain": [
       "['c:\\\\Users\\\\AIB4\\\\AppData\\\\Local\\\\miniforge3\\\\envs\\\\work\\\\python310.zip',\n",
       " 'c:\\\\Users\\\\AIB4\\\\AppData\\\\Local\\\\miniforge3\\\\envs\\\\work\\\\DLLs',\n",
       " 'c:\\\\Users\\\\AIB4\\\\AppData\\\\Local\\\\miniforge3\\\\envs\\\\work\\\\lib',\n",
       " 'c:\\\\Users\\\\AIB4\\\\AppData\\\\Local\\\\miniforge3\\\\envs\\\\work',\n",
       " '',\n",
       " 'c:\\\\Users\\\\AIB4\\\\AppData\\\\Local\\\\miniforge3\\\\envs\\\\work\\\\lib\\\\site-packages',\n",
       " 'c:\\\\Users\\\\AIB4\\\\AppData\\\\Local\\\\miniforge3\\\\envs\\\\work\\\\lib\\\\site-packages\\\\win32',\n",
       " 'c:\\\\Users\\\\AIB4\\\\AppData\\\\Local\\\\miniforge3\\\\envs\\\\work\\\\lib\\\\site-packages\\\\win32\\\\lib',\n",
       " 'c:\\\\Users\\\\AIB4\\\\AppData\\\\Local\\\\miniforge3\\\\envs\\\\work\\\\lib\\\\site-packages\\\\Pythonwin']"
      ]
     },
     "execution_count": 30,
     "metadata": {},
     "output_type": "execute_result"
    }
   ],
   "source": [
    "import sys\n",
    "\n",
    "# Variável \"path\" do sistema\n",
    "\n",
    "sys.path"
   ]
  },
  {
   "cell_type": "code",
   "execution_count": 31,
   "id": "dc392644",
   "metadata": {},
   "outputs": [
    {
     "data": {
      "text/plain": [
       "['c:\\\\Users\\\\AIB4\\\\projetos\\\\python\\\\meq\\\\libs\\\\libs',\n",
       " 'c:\\\\Users\\\\AIB4\\\\AppData\\\\Local\\\\miniforge3\\\\envs\\\\work\\\\python310.zip',\n",
       " 'c:\\\\Users\\\\AIB4\\\\AppData\\\\Local\\\\miniforge3\\\\envs\\\\work\\\\DLLs',\n",
       " 'c:\\\\Users\\\\AIB4\\\\AppData\\\\Local\\\\miniforge3\\\\envs\\\\work\\\\lib',\n",
       " 'c:\\\\Users\\\\AIB4\\\\AppData\\\\Local\\\\miniforge3\\\\envs\\\\work',\n",
       " '',\n",
       " 'c:\\\\Users\\\\AIB4\\\\AppData\\\\Local\\\\miniforge3\\\\envs\\\\work\\\\lib\\\\site-packages',\n",
       " 'c:\\\\Users\\\\AIB4\\\\AppData\\\\Local\\\\miniforge3\\\\envs\\\\work\\\\lib\\\\site-packages\\\\win32',\n",
       " 'c:\\\\Users\\\\AIB4\\\\AppData\\\\Local\\\\miniforge3\\\\envs\\\\work\\\\lib\\\\site-packages\\\\win32\\\\lib',\n",
       " 'c:\\\\Users\\\\AIB4\\\\AppData\\\\Local\\\\miniforge3\\\\envs\\\\work\\\\lib\\\\site-packages\\\\Pythonwin']"
      ]
     },
     "execution_count": 31,
     "metadata": {},
     "output_type": "execute_result"
    }
   ],
   "source": [
    "# Incluir um caminho no path\n",
    "\n",
    "# Python ou interpretador Python tem que saber para onde olhar / procurar\n",
    "\n",
    "sys.path.insert(0, os.path.join(os.getcwd(), 'libs'))\n",
    "\n",
    "sys.path"
   ]
  },
  {
   "cell_type": "code",
   "execution_count": 32,
   "id": "e4a190c2",
   "metadata": {},
   "outputs": [
    {
     "data": {
      "text/plain": [
       "('c:\\\\Users\\\\AIB4\\\\projetos\\\\python\\\\meq\\\\libs',\n",
       " 'c:\\\\Users\\\\AIB4\\\\projetos\\\\python\\\\meq\\\\libs')"
      ]
     },
     "execution_count": 32,
     "metadata": {},
     "output_type": "execute_result"
    }
   ],
   "source": [
    "os.getcwd(), os.path.abspath('')"
   ]
  },
  {
   "cell_type": "code",
   "execution_count": 45,
   "id": "b435c438",
   "metadata": {},
   "outputs": [
    {
     "name": "stdout",
     "output_type": "stream",
     "text": [
      "c:\\Users\\AIB4\\projetos\\python\\meq\n",
      "\n",
      "c:\\Users\\AIB4\\projetos\\python\\meq\\libs\\libs\n",
      "c:\\Users\\AIB4\\AppData\\Local\\miniforge3\\envs\\work\\python310.zip\n",
      "c:\\Users\\AIB4\\AppData\\Local\\miniforge3\\envs\\work\\DLLs\n",
      "c:\\Users\\AIB4\\AppData\\Local\\miniforge3\\envs\\work\\lib\n",
      "c:\\Users\\AIB4\\AppData\\Local\\miniforge3\\envs\\work\n",
      "c:\\Users\\AIB4\\AppData\\Local\\miniforge3\\envs\\work\\lib\\site-packages\n",
      "c:\\Users\\AIB4\\AppData\\Local\\miniforge3\\envs\\work\\lib\\site-packages\\win32\n",
      "c:\\Users\\AIB4\\AppData\\Local\\miniforge3\\envs\\work\\lib\\site-packages\\win32\\lib\n",
      "c:\\Users\\AIB4\\AppData\\Local\\miniforge3\\envs\\work\\lib\\site-packages\\Pythonwin\n"
     ]
    },
    {
     "data": {
      "text/plain": [
       "(['#0073e6', '#4d4dff', '#ff471a', '#39ac73', '#ffbf00'], True)"
      ]
     },
     "execution_count": 45,
     "metadata": {},
     "output_type": "execute_result"
    }
   ],
   "source": [
    "# Incluindo um caminho no path podemos importar um módulo/funções\n",
    "\n",
    "'''\n",
    "Por exemplo, na pasta \"lib\" tem o arquivo \"exemplo_modulo.py\"\n",
    "\n",
    "que contém atributos e métodos. Vamos importá-lo, após inserir esse caminho no\n",
    "\n",
    "path, sem precisar ir até o arquivo.\n",
    "'''\n",
    "\n",
    "# Primeiro verificando o caminho:\n",
    "\n",
    "if os.getcwd() == 'c:\\\\Users\\\\AIB4\\\\projetos\\\\python\\\\meq\\\\libs':\n",
    "\n",
    "    os.chdir('..')\n",
    "\n",
    "# Verificar caminho corrente\n",
    "\n",
    "print(os.getcwd(), end='\\n\\n')\n",
    "\n",
    "# Verificar path\n",
    "\n",
    "for spath in sys.path:\n",
    "\n",
    "    if spath: # tem uma linha vazia ''\n",
    "\n",
    "        print(spath)\n",
    "\n",
    "\n",
    "import exemplo_modulo as modulo\n",
    "\n",
    "\n",
    "modulo.cores, modulo.primo(11)\n"
   ]
  },
  {
   "cell_type": "markdown",
   "id": "d59165ff",
   "metadata": {},
   "source": [
    "> ### Biblioteca `zlib`\n",
    ">\n",
    "> Comprimir / Descomprimir arquivos\n",
    ">\n",
    "> <br>"
   ]
  },
  {
   "cell_type": "code",
   "execution_count": null,
   "id": "dad58f53",
   "metadata": {},
   "outputs": [
    {
     "name": "stdout",
     "output_type": "stream",
     "text": [
      "b'acentua\\xc3\\xa7\\xc3\\xa3o' b'acentua\\xe7\\xe3o'\n"
     ]
    },
    {
     "data": {
      "text/plain": [
       "(b'x\\x9cKLN\\xcd+)M<\\xbc\\xfc\\xf0\\xe2|\\x00$+\\x06!',\n",
       " b'x\\x9cKLN\\xcd+)M|\\xfe8\\x1f\\x00\\x18\\xe8\\x05\\x1b')"
      ]
     },
     "execution_count": 309,
     "metadata": {},
     "output_type": "execute_result"
    }
   ],
   "source": [
    "import zlib\n",
    "\n",
    "# OBS: Codificação Caracteres - Tabelas\n",
    "# Como cada caractere é escrito (número de bytes)\n",
    "\n",
    "data1 = 'acentuação'.encode('utf-8')      #       2 bytes\n",
    "data2 = 'acentuação'.encode('iso-8859-1') # ANSI: 1 byte\n",
    "\n",
    "print(data1, data2)\n",
    "\n",
    "compressed1 = zlib.compress(data1)\n",
    "compressed2 = zlib.compress(data2)\n",
    "\n",
    "compressed1, compressed2\n"
   ]
  },
  {
   "cell_type": "code",
   "execution_count": null,
   "id": "113c5607",
   "metadata": {},
   "outputs": [
    {
     "data": {
      "text/plain": [
       "('acentuação', 'acentuação')"
      ]
     },
     "execution_count": 159,
     "metadata": {},
     "output_type": "execute_result"
    }
   ],
   "source": [
    "zlib.decompress(compressed1).decode(), \\\n",
    "    zlib.decompress(compressed2).decode('iso-8859-1')\n",
    "\n",
    "# 'utf8' é padrão"
   ]
  },
  {
   "cell_type": "markdown",
   "id": "646e64f6",
   "metadata": {},
   "source": [
    "> ## `Namespaces`\n",
    ">\n",
    "> Nomes simbólicos / Mapeamento de objetos em memória (faz referência a objetos)\n",
    ">\n",
    "> Existem enquanto o interpretador Python estiver ativo\n",
    ">\n",
    "> 4 tipos:\n",
    "> \n",
    "> - \\_\\_bultiins__ \n",
    ">\n",
    "> - \\_\\_globals__\n",
    ">\n",
    "> - \\_\\_locals__\n",
    ">\n",
    "> - \\_\\_nonlocals__\n",
    ">\n",
    "> <br>\n",
    ">\n",
    "> ### Função embutida `dir`\n",
    ">\n",
    "> Elenca variáveis no escopo do interpretador\n",
    ">\n",
    "> <br>"
   ]
  },
  {
   "cell_type": "code",
   "execution_count": 1,
   "id": "d7106dd9",
   "metadata": {},
   "outputs": [
    {
     "name": "stdout",
     "output_type": "stream",
     "text": [
      "In\n",
      "Out\n",
      "_\n",
      "__\n",
      "___\n",
      "__builtin__\n",
      "__builtins__\n",
      "__doc__\n",
      "__loader__\n",
      "__name__\n",
      "__package__\n",
      "__spec__\n",
      "__vsc_ipynb_file__\n",
      "_dh\n",
      "_i\n",
      "_i1\n",
      "_ih\n",
      "_ii\n",
      "_iii\n",
      "_oh\n",
      "exit\n",
      "get_ipython\n",
      "open\n",
      "quit\n"
     ]
    }
   ],
   "source": [
    "for a in dir():\n",
    "\n",
    "    print(a)\n"
   ]
  },
  {
   "cell_type": "code",
   "execution_count": 2,
   "id": "6161a59a",
   "metadata": {},
   "outputs": [
    {
     "name": "stdout",
     "output_type": "stream",
     "text": [
      "ArithmeticError\n",
      "AssertionError\n",
      "AttributeError\n",
      "BaseException\n",
      "BlockingIOError\n",
      "BrokenPipeError\n",
      "BufferError\n",
      "BytesWarning\n",
      "ChildProcessError\n",
      "ConnectionAbortedError\n",
      "ConnectionError\n",
      "ConnectionRefusedError\n",
      "ConnectionResetError\n",
      "DeprecationWarning\n",
      "EOFError\n",
      "Ellipsis\n",
      "EncodingWarning\n",
      "EnvironmentError\n",
      "Exception\n",
      "False\n",
      "FileExistsError\n",
      "FileNotFoundError\n",
      "FloatingPointError\n",
      "FutureWarning\n",
      "GeneratorExit\n",
      "IOError\n",
      "ImportError\n",
      "ImportWarning\n",
      "IndentationError\n",
      "IndexError\n",
      "InterruptedError\n",
      "IsADirectoryError\n",
      "KeyError\n",
      "KeyboardInterrupt\n",
      "LookupError\n",
      "MemoryError\n",
      "ModuleNotFoundError\n",
      "NameError\n",
      "None\n",
      "NotADirectoryError\n",
      "NotImplemented\n",
      "NotImplementedError\n",
      "OSError\n",
      "OverflowError\n",
      "PendingDeprecationWarning\n",
      "PermissionError\n",
      "ProcessLookupError\n",
      "RecursionError\n",
      "ReferenceError\n",
      "ResourceWarning\n",
      "RuntimeError\n",
      "RuntimeWarning\n",
      "StopAsyncIteration\n",
      "StopIteration\n",
      "SyntaxError\n",
      "SyntaxWarning\n",
      "SystemError\n",
      "SystemExit\n",
      "TabError\n",
      "TimeoutError\n",
      "True\n",
      "TypeError\n",
      "UnboundLocalError\n",
      "UnicodeDecodeError\n",
      "UnicodeEncodeError\n",
      "UnicodeError\n",
      "UnicodeTranslateError\n",
      "UnicodeWarning\n",
      "UserWarning\n",
      "ValueError\n",
      "Warning\n",
      "WindowsError\n",
      "ZeroDivisionError\n",
      "__IPYTHON__\n",
      "__build_class__\n",
      "__debug__\n",
      "__doc__\n",
      "__import__\n",
      "__loader__\n",
      "__name__\n",
      "__package__\n",
      "__spec__\n",
      "abs\n",
      "aiter\n",
      "all\n",
      "anext\n",
      "any\n",
      "ascii\n",
      "bin\n",
      "bool\n",
      "breakpoint\n",
      "bytearray\n",
      "bytes\n",
      "callable\n",
      "chr\n",
      "classmethod\n",
      "compile\n",
      "complex\n",
      "copyright\n",
      "credits\n",
      "delattr\n",
      "dict\n",
      "dir\n",
      "display\n",
      "divmod\n",
      "enumerate\n",
      "eval\n",
      "exec\n",
      "execfile\n",
      "filter\n",
      "float\n",
      "format\n",
      "frozenset\n",
      "get_ipython\n",
      "getattr\n",
      "globals\n",
      "hasattr\n",
      "hash\n",
      "help\n",
      "hex\n",
      "id\n",
      "input\n",
      "int\n",
      "isinstance\n",
      "issubclass\n",
      "iter\n",
      "len\n",
      "license\n",
      "list\n",
      "locals\n",
      "map\n",
      "max\n",
      "memoryview\n",
      "min\n",
      "next\n",
      "object\n",
      "oct\n",
      "open\n",
      "ord\n",
      "pow\n",
      "print\n",
      "property\n",
      "range\n",
      "repr\n",
      "reversed\n",
      "round\n",
      "runfile\n",
      "set\n",
      "setattr\n",
      "slice\n",
      "sorted\n",
      "staticmethod\n",
      "str\n",
      "sum\n",
      "super\n",
      "tuple\n",
      "type\n",
      "vars\n",
      "zip\n"
     ]
    }
   ],
   "source": [
    "# __builtins__: namespace interno que contém os nomes de todos os objetos internos\n",
    "\n",
    "for c in dir(__builtins__):\n",
    "\n",
    "    print(c)\n"
   ]
  },
  {
   "cell_type": "code",
   "execution_count": 3,
   "id": "0307b583",
   "metadata": {},
   "outputs": [
    {
     "data": {
      "text/plain": [
       "['__add__',\n",
       " '__class__',\n",
       " '__contains__',\n",
       " '__delattr__',\n",
       " '__dir__',\n",
       " '__doc__',\n",
       " '__eq__',\n",
       " '__format__',\n",
       " '__ge__',\n",
       " '__getattribute__',\n",
       " '__getitem__',\n",
       " '__getnewargs__',\n",
       " '__gt__',\n",
       " '__hash__',\n",
       " '__init__',\n",
       " '__init_subclass__',\n",
       " '__iter__',\n",
       " '__le__',\n",
       " '__len__',\n",
       " '__lt__',\n",
       " '__mod__',\n",
       " '__mul__',\n",
       " '__ne__',\n",
       " '__new__',\n",
       " '__reduce__',\n",
       " '__reduce_ex__',\n",
       " '__repr__',\n",
       " '__rmod__',\n",
       " '__rmul__',\n",
       " '__setattr__',\n",
       " '__sizeof__',\n",
       " '__str__',\n",
       " '__subclasshook__',\n",
       " 'capitalize',\n",
       " 'casefold',\n",
       " 'center',\n",
       " 'count',\n",
       " 'encode',\n",
       " 'endswith',\n",
       " 'expandtabs',\n",
       " 'find',\n",
       " 'format',\n",
       " 'format_map',\n",
       " 'index',\n",
       " 'isalnum',\n",
       " 'isalpha',\n",
       " 'isascii',\n",
       " 'isdecimal',\n",
       " 'isdigit',\n",
       " 'isidentifier',\n",
       " 'islower',\n",
       " 'isnumeric',\n",
       " 'isprintable',\n",
       " 'isspace',\n",
       " 'istitle',\n",
       " 'isupper',\n",
       " 'join',\n",
       " 'ljust',\n",
       " 'lower',\n",
       " 'lstrip',\n",
       " 'maketrans',\n",
       " 'partition',\n",
       " 'removeprefix',\n",
       " 'removesuffix',\n",
       " 'replace',\n",
       " 'rfind',\n",
       " 'rindex',\n",
       " 'rjust',\n",
       " 'rpartition',\n",
       " 'rsplit',\n",
       " 'rstrip',\n",
       " 'split',\n",
       " 'splitlines',\n",
       " 'startswith',\n",
       " 'strip',\n",
       " 'swapcase',\n",
       " 'title',\n",
       " 'translate',\n",
       " 'upper',\n",
       " 'zfill']"
      ]
     },
     "execution_count": 3,
     "metadata": {},
     "output_type": "execute_result"
    }
   ],
   "source": [
    "\n",
    "dir(__name__)"
   ]
  },
  {
   "cell_type": "markdown",
   "id": "0ccf9158",
   "metadata": {},
   "source": [
    "> ## Módulo e _script_ \n",
    ">\n",
    "> ~~~python\n",
    "> if __name__ == '__main__':\n",
    ">\n",
    ">    <bloco identado>\n",
    "> ~~~\n",
    ">\n",
    "> ***\n",
    "> Onde:\n",
    ">\n",
    "> ~~~python\n",
    "> __name__ é o nome de um programa quando está sendo executado\n",
    ">\n",
    "> '__main__' é o nome do programa principal\n",
    "> ~~~\n",
    ">\n",
    "> <br>"
   ]
  },
  {
   "cell_type": "markdown",
   "id": "06b3ea4c",
   "metadata": {},
   "source": [
    "> ## __Arquivos__\n",
    ">\n",
    "> #### Sequência de *bytes* armazenada em memória secundária (dados não-voláteis)\n",
    ">\n",
    "> Ex.: *.txt*, *.html*, *.py*\n",
    ">\n",
    "> <br>\n",
    ">\n",
    "> ### Função embutida `open`\n",
    ">\n",
    "> Abertura de arquivo para leitura ou escrita\n",
    ">\n",
    "> ~~~python\n",
    "> # Sintaxe:\n",
    ">\n",
    "> f = open(<'nome_arquivo.formato'>, <'mode'>) # parâmetros mais usados\n",
    "> ~~~\n",
    ">\n",
    "> ***\n",
    "> Onde:\n",
    ">\n",
    "> ~~~python\n",
    "> <nome_arquivo> é o nome do arquivo e, se o caminho absoluto ou relativo não forem passados, o arquivo é salvo no caminho corrente (localmente)\n",
    "> ~~~\n",
    ">\n",
    "> ~~~python\n",
    "> <mode> é o modo como o arquivo é aberto\n",
    "> ~~~\n",
    "> \n",
    "> - 'r' - leitura\n",
    ">\n",
    "> - 'w' - escrita\n",
    "> \n",
    ">\n",
    "> <br>"
   ]
  },
  {
   "cell_type": "code",
   "execution_count": null,
   "id": "f8cf01bc",
   "metadata": {},
   "outputs": [
    {
     "data": {
      "text/plain": [
       "True"
      ]
     },
     "execution_count": 135,
     "metadata": {},
     "output_type": "execute_result"
    }
   ],
   "source": [
    "# Abrir arquivo para escrita\n",
    "\n",
    "f = open('escrevendo_arquivo.txt', 'w')\n",
    "\n",
    "# Método write - escrever no arquivo\n",
    "\n",
    "f.write('Escrevendo Arquivo Texto\\n')\n",
    "\n",
    "# \\n caractere de quebra de linha (line feed), OBS:\n",
    "# \"universal\" entre sistemas operacionais\n",
    "\n",
    "# Windows: quebra de linha \\r\\n e \\n\n",
    "\n",
    "f.write('É necessário indicar a mudança de linha\\n')\n",
    "\n",
    "f.write(\n",
    "    'Método write recebe strings\\n' \\\n",
    "    'Então se for usado um valor a partir de uma variável\\n' \\\n",
    "    'É preciso fazer uma composição\\n')\n",
    "\n",
    "xx = 25.5\n",
    "\n",
    "f.write(f'Por exemplo, pode-se usar uma f-string {xx}\\n')\n",
    "\n",
    "f.write(\n",
    "    'Se o arquivo não for fechado após o término da escrita:\\n' \\\n",
    "    'Informações podem ser perdidas')\n",
    "\n",
    "f.close()\n",
    "\n",
    "f.closed # depois de fechado o objeto continua"
   ]
  },
  {
   "cell_type": "code",
   "execution_count": null,
   "id": "b9a9cff2",
   "metadata": {},
   "outputs": [
    {
     "name": "stdout",
     "output_type": "stream",
     "text": [
      "Escrevendo Novo Arquivo Texto\n",
      "É necessário indicar a mudança de linha\n",
      "Método write recebe strings\n",
      "Então se for usado um valor a partir de uma variável\n",
      "É preciso fazer uma composição\n",
      "Por exemplo, pode-se usar uma f-string 52.5\n",
      "Se o arquivo não for fechado após o término da escrita:\n",
      "Informações podem ser perdidas \n",
      "\n",
      "\n",
      "['Escrevendo Novo Arquivo Texto\\n', 'É necessário indicar a mudança de linha\\n', 'Método write recebe strings\\n', 'Então se for usado um valor a partir de uma variável\\n', 'É preciso fazer uma composição\\n', 'Por exemplo, pode-se usar uma f-string 52.5\\n', 'Se o arquivo não for fechado após o término da escrita:\\n', 'Informações podem ser perdidas'] \n",
      "\n",
      "\n",
      "Escrevendo Novo Arquivo Texto\n",
      " 52.5\n"
     ]
    }
   ],
   "source": [
    "# Leitura do arquivo\n",
    "\n",
    "f = open('escrevendo_arquivo.txt', 'r') # default: mode='r'\n",
    "\n",
    "# Leitura do conteúdo todo\n",
    "\n",
    "content = f.read()\n",
    "\n",
    "# Voltar cursor para início\n",
    "\n",
    "f.seek(0)\n",
    "\n",
    "# Leitura das linhas\n",
    "\n",
    "lines = f.readlines()\n",
    "\n",
    "print(content, '\\n\\n') # content é uma string\n",
    "\n",
    "print(lines, '\\n\\n') # lines é uma lista\n",
    "\n",
    "f.seek(0)\n",
    "\n",
    "# Iterar linha por linha\n",
    "\n",
    "for line in f:\n",
    "\n",
    "\tif line.startswith('Escrevendo'):\n",
    "\n",
    "\t\tcabecalho = line\n",
    "\n",
    "\tif line.startswith('Por exemplo,'):\n",
    "\n",
    "\t\tvalor = float(line.split()[-1])\n",
    "\n",
    "print(cabecalho, valor)\n",
    "\n"
   ]
  },
  {
   "cell_type": "code",
   "execution_count": null,
   "id": "df1366f2",
   "metadata": {},
   "outputs": [],
   "source": [
    "# Conteúdo de arquivo em lista\n",
    "\n",
    "from datetime import datetime\n",
    "\n",
    "xx = 52.5\n",
    "\n",
    "lines = ['Escrevendo Novo Arquivo Texto\\n',\n",
    "         f'DataHora: {datetime.now().strftime(\"%d/%m/%Y %H:%M:%S\")}\\n',\n",
    "         'É necessário indicar a mudança de linha\\n',\n",
    "         'Método write recebe strings\\n',\n",
    "         '',\n",
    "         '',\n",
    "         'Então se for usado um valor a partir de uma variável\\n',\n",
    "         'É preciso fazer uma composição\\n',\n",
    "         f'Por exemplo, pode-se usar uma f-string {xx}\\n',\n",
    "         'Se o arquivo não for fechado após o término da escrita:\\n',\n",
    "         'Informações podem ser perdidas']\n",
    "\n",
    "# Método writelines - escrever diversas linhas em uma operação\n",
    "\n",
    "f = open('escrevendo_arquivo.txt', 'w')\n",
    "\n",
    "# Note que abrimos um objeto referenciando ao mesmo arquivo anterior\n",
    "# Portanto sobreescreve o arquivo (cuidado para não perder dados)\n",
    "\n",
    "if False:\n",
    "\n",
    "    for line in lines:\n",
    "\n",
    "        f.write(line)\n",
    "\n",
    "        f.close()\n",
    "\n",
    "f.writelines(lines) # Recebe um iterável, lista ou tupla, mas só string como no\n",
    "# .write() (no fundo ele usa o método write)\n",
    "\n",
    "f.close()\n",
    "\n"
   ]
  },
  {
   "cell_type": "code",
   "execution_count": null,
   "id": "17524e30",
   "metadata": {},
   "outputs": [],
   "source": [
    "# Tratamento de Erros\n",
    "\n",
    "f = open('escrevendo_arquivo.txt', 'r')\n",
    "\n",
    "try:\n",
    "\n",
    "    content = f.read()\n",
    "\n",
    "    print(content)\n",
    "\n",
    "finally:\n",
    "\n",
    "    f.close()\n"
   ]
  },
  {
   "cell_type": "markdown",
   "id": "d8e388f6",
   "metadata": {},
   "source": [
    "> ### Comando `with` (palavra reservada)\n",
    ">\n",
    "> Cria um escopo (contexto / trecho identado de código)\n",
    ">\n",
    "> <br>"
   ]
  },
  {
   "cell_type": "code",
   "execution_count": null,
   "id": "667c816c",
   "metadata": {},
   "outputs": [
    {
     "name": "stdout",
     "output_type": "stream",
     "text": [
      "<class '_io.TextIOWrapper'>\n",
      "***********************\n",
      "Escrevendo Novo Arquivo Texto\n",
      "DataHora: 02/05/2025 17:29:18\n",
      "É necessário indicar a mudança de linha\n",
      "Método write recebe strings\n",
      "Então se for usado um valor a partir de uma variável\n",
      "É preciso fazer uma composição\n",
      "Por exemplo, pode-se usar uma f-string 52.5\n",
      "Se o arquivo não for fechado após o término da escrita:\n",
      "Informações podem ser perdidas\n",
      "***********************\n",
      "Escrevendo Novo Arquivo Texto\n",
      " 52.5\n"
     ]
    },
    {
     "data": {
      "text/plain": [
       "True"
      ]
     },
     "execution_count": 305,
     "metadata": {},
     "output_type": "execute_result"
    }
   ],
   "source": [
    "# Similar a estrutura de tratamento de erros acima\n",
    "\n",
    "with open('escrevendo_arquivo.txt', 'r') as f:\n",
    "\n",
    "    print(type(f)) # Classe \"tipo arquivo\"\n",
    "\n",
    "    print('***********************')\n",
    "\n",
    "    for line in f: # podemos iterar sobre esse objeto\n",
    "\n",
    "        print(line.rstrip()) # arquivos texto tem \\n no final da linha\n",
    "\n",
    "        if not line: # linha vazia\n",
    "\n",
    "            continue # havendo processamneto grande -> mais eficiente\n",
    "\n",
    "        if line.startswith('Escrevendo'):\n",
    "\n",
    "            cabecalho = line\n",
    "\n",
    "        if line.startswith('Por exemplo,'):\n",
    "\n",
    "            valor = float(line.split()[-1])\n",
    "\n",
    "print('***********************')\n",
    "\n",
    "print(cabecalho, valor)\n",
    "\n",
    "f.closed\n"
   ]
  },
  {
   "cell_type": "markdown",
   "id": "90a7fd54",
   "metadata": {},
   "source": [
    "> ### Biblioteca `re`\n",
    ">\n",
    "> Expressões Regulares: Busca por padrões\n",
    ">\n",
    "> <br>"
   ]
  },
  {
   "cell_type": "code",
   "execution_count": null,
   "id": "f00478da",
   "metadata": {},
   "outputs": [
    {
     "name": "stdout",
     "output_type": "stream",
     "text": [
      "Escrevendo Novo Arquivo Texto\n",
      " 02/05/2025 17:29:18\n",
      " 52.5\n",
      " É preciso fazer uma composição\n",
      " Informações podem ser perdidas\n"
     ]
    }
   ],
   "source": [
    "# Expressões regulares\n",
    "\n",
    "import re\n",
    "\n",
    "\n",
    "with open('escrevendo_arquivo.txt', 'r') as f:\n",
    "\n",
    "    for line in f:\n",
    "\n",
    "        if re.match('Escrevendo\\w+Texto', line):\n",
    "\n",
    "            cabecalho = line\n",
    "\n",
    "        if line.startswith('DataHora'):\n",
    "            \n",
    "            regex = re.compile(\n",
    "                '[\\w]+:\\s((\\d{2}\\/){2}\\d{4}\\s(\\d{2}\\:){2}\\d{2})')\n",
    "\n",
    "            data = regex.search(line).group(1)\n",
    "            \n",
    "            data += '\\n'\n",
    "\n",
    "        if re.search(r'\\d+.\\d', line):\n",
    "\n",
    "            valor = re.search('\\d+.\\d', line).group()\n",
    "\n",
    "            valor += '\\n'\n",
    "\n",
    "        if re.match('^É([\\s\\w]+)composição$', line):\n",
    "\n",
    "            outra_linha = line\n",
    "\n",
    "        if re.match('Informa[çc][õo]es.+', line, flags=re.IGNORECASE):\n",
    "\n",
    "            ultima = line\n",
    "\n",
    "        else:\n",
    "\n",
    "            pass\n",
    "\n",
    "print(cabecalho, data, valor, outra_linha, ultima)\n"
   ]
  },
  {
   "cell_type": "markdown",
   "id": "4af8e080",
   "metadata": {},
   "source": [
    "> # Daqui para baixo, ainda precisa ser trabalhado."
   ]
  },
  {
   "cell_type": "markdown",
   "id": "8b95c73f",
   "metadata": {},
   "source": [
    "> ## `Iterables` (Iteráveis)\n",
    ">\n",
    "> - ### Implementam o método \\_\\_iter\\_\\_(): é o iterador (quem sabe entregar um elemento por vez)\n",
    ">\n",
    "> - ### Implementam o método \\_\\_next\\_\\_(): entrega o próximo valor\n",
    ">\n",
    "> ***\n",
    "> OBS: \"\\_\\_\" é chamado de *dunder* no Python, assim, \\_\\_iter\\_\\_() e \\_\\_next\\_\\_() são métodos *dunder* (*dunder methods*)\n",
    "> \n",
    "> <br>"
   ]
  },
  {
   "cell_type": "code",
   "execution_count": null,
   "id": "84a5084f",
   "metadata": {},
   "outputs": [
    {
     "data": {
      "text/plain": [
       "(<str_iterator at 0x202631ab190>, <str_iterator at 0x202631ab580>)"
      ]
     },
     "execution_count": 65,
     "metadata": {},
     "output_type": "execute_result"
    }
   ],
   "source": [
    "# Iteráveis implementam método de iteração\n",
    "\n",
    "# Uma string é um iterável\n",
    "\n",
    "# __iter__() e iter() entregam o iterador:\n",
    "\n",
    "'texto'.__iter__(), iter('texto')\n",
    "\n",
    "# o iterador é um objeto que sabe entregar um elemento do iterável\n",
    "# (não é a string)\n",
    "\n",
    "# iter() no fundo chama o método dunder __iter__()"
   ]
  },
  {
   "cell_type": "code",
   "execution_count": null,
   "id": "4aee6665",
   "metadata": {},
   "outputs": [
    {
     "name": "stdout",
     "output_type": "stream",
     "text": [
      "t\n",
      "e\n",
      "x\n",
      "t\n",
      "o\n"
     ]
    }
   ],
   "source": [
    "#                12345\n",
    "iterador = iter('texto')  # __iter__()\n",
    "\n",
    "# __next__() é a mesma coisa que next(): entregam o próximo elemento\n",
    "\n",
    "print(iterador.__next__())  # 1\n",
    "print(iterador.__next__())  # 2\n",
    "print(next(iterador))       # 3\n",
    "print(next(iterador))       # 4\n",
    "print(next(iterador))       # 5\n",
    "\n",
    "# next() no fundo chama o método dunder __next__()\n"
   ]
  },
  {
   "cell_type": "code",
   "execution_count": null,
   "id": "c58eb0b3",
   "metadata": {},
   "outputs": [
    {
     "ename": "StopIteration",
     "evalue": "",
     "output_type": "error",
     "traceback": [
      "\u001b[1;31m---------------------------------------------------------------------------\u001b[0m",
      "\u001b[1;31mStopIteration\u001b[0m                             Traceback (most recent call last)",
      "Cell \u001b[1;32mIn[70], line 1\u001b[0m\n\u001b[1;32m----> 1\u001b[0m \u001b[38;5;28mprint\u001b[39m(\u001b[43miterador\u001b[49m\u001b[38;5;241;43m.\u001b[39;49m\u001b[38;5;21;43m__next__\u001b[39;49m\u001b[43m(\u001b[49m\u001b[43m)\u001b[49m)  \u001b[38;5;66;03m# 6\u001b[39;00m\n",
      "\u001b[1;31mStopIteration\u001b[0m: "
     ]
    }
   ],
   "source": [
    "# Quando não há mais elementos, levanta um erro de parar a iteração\n",
    "\n",
    "print(iterador.__next__())  # 6\n",
    "\n",
    "# quando esgota os valores é levantado o erro de parar a iteração\n",
    "# e é assim que os métodos que iteram sobre um iterável sabem parar a iteração"
   ]
  },
  {
   "cell_type": "code",
   "execution_count": 155,
   "id": "3e45f11d",
   "metadata": {},
   "outputs": [
    {
     "name": "stdout",
     "output_type": "stream",
     "text": [
      "\"for\" normal\n",
      "t\n",
      "e\n",
      "x\n",
      "t\n",
      "o\n",
      "no fundo \"for\" é um while iterador\n",
      "t\n",
      "e\n",
      "x\n",
      "t\n",
      "o\n",
      "Continuação fora do laço iterador sem erro\n"
     ]
    }
   ],
   "source": [
    "texto = 'texto'  # iterável\n",
    "\n",
    "print('\"for\" normal')\n",
    "\n",
    "for letra in texto:\n",
    "    print(letra)\n",
    "\n",
    "\n",
    "iterador = iter(texto)  # iterador\n",
    "\n",
    "print('no fundo \"for\" é um while iterador')\n",
    "\n",
    "while True:\n",
    "    try:\n",
    "        letra = next(iterador)\n",
    "        print(letra)\n",
    "    except StopIteration:\n",
    "        break\n",
    "\n",
    "print('Continuação fora do laço iterador sem erro')\n"
   ]
  },
  {
   "cell_type": "markdown",
   "id": "878ca6ed",
   "metadata": {},
   "source": [
    "> ## `Generators` &thinsp; &rarr; &thinsp; `yield` (palavra reservada)\n",
    ">\n",
    "> Funções Geradoras - são objetos iteráveis que permanecem em memória mantendo o estado interno, assim seu retorno ocorre quando requisitado\n",
    ">\n",
    "> Uso: limitação / questões de memória\n",
    ">\n",
    "> ~~~python\n",
    "> # Sintaxe\n",
    ">\n",
    "> def func():\n",
    ">\n",
    ">   <bloco identado>\n",
    ">\n",
    ">   yield <valor>\n",
    "> ~~~\n",
    "> \n",
    "> ***\n",
    "> Onde:\n",
    ">\n",
    "> ~~~python\n",
    "> yield\n",
    "> ~~~\n",
    "> \n",
    "> <br>"
   ]
  },
  {
   "cell_type": "code",
   "execution_count": 96,
   "id": "663e5ac2",
   "metadata": {},
   "outputs": [
    {
     "name": "stdout",
     "output_type": "stream",
     "text": [
      "<class 'function'> <class 'generator'>\n",
      "1\n",
      "2\n",
      "3\n"
     ]
    }
   ],
   "source": [
    "def geradora():\n",
    "\n",
    "    yield 1\n",
    "    yield 2\n",
    "    yield 3\n",
    "\n",
    "g = geradora()\n",
    "\n",
    "print(type(geradora), type(g))\n",
    "\n",
    "                # Mesma coisa que:\n",
    "for x in g:     # for x in geradora():\n",
    "    \n",
    "    print(x)\n"
   ]
  },
  {
   "cell_type": "markdown",
   "id": "25ed4ebb",
   "metadata": {},
   "source": [
    "> ## *`Generator Expressions`*\n",
    ">\n",
    "> ~~~python\n",
    "> # Sintaxe:\n",
    "> \n",
    "> (item for item in items)\n",
    ">\n",
    "> ~~~\n",
    ">\n",
    "> <br>"
   ]
  },
  {
   "cell_type": "code",
   "execution_count": 26,
   "id": "fad88eaf",
   "metadata": {},
   "outputs": [
    {
     "data": {
      "text/plain": [
       "(generator, [10, 20, 30])"
      ]
     },
     "execution_count": 26,
     "metadata": {},
     "output_type": "execute_result"
    }
   ],
   "source": [
    "result = (item*10 for item in [1, 2, 3])\n",
    "\n",
    "type(result), list(result)"
   ]
  },
  {
   "cell_type": "code",
   "execution_count": null,
   "id": "64737f52",
   "metadata": {},
   "outputs": [],
   "source": [
    "from sys import getsizeof\n",
    "\n",
    " "
   ]
  },
  {
   "cell_type": "markdown",
   "id": "3839fd61",
   "metadata": {},
   "source": [
    "> ## **Programação Orientada a Objetos (POO)**\n",
    ">\n",
    "> ##### Programação Estruturada\n",
    ">\n",
    "> - Implementação em blocos:\n",
    ">\n",
    ">   - Estrutura de Sequência;\n",
    ">\n",
    ">   - Estrutura de Seleção;\n",
    ">\n",
    ">   - Estrutura de Repetição.\n",
    ">\n",
    "> - Comunicação entre blocos através da passagem de parâmetros;\n",
    ">\n",
    "> - Ações/Tarefas para manipulação de dados.\n",
    ">\n",
    "> ### **`Programação Orientada a Objetos`**\n",
    ">\n",
    "> - Encapsulamento em objeto:\n",
    ">\n",
    ">   - Capacidade de armazenar informações do objeto;\n",
    ">\n",
    ">   - Capacidade de interagir não só com o próprio objeto mas com os outros elementos.\n",
    ">\n",
    "> - Objetos são construídos a partir de uma `classe` (classe é o construtor de um objeto).\n",
    ">\n",
    "> - Um objeto passa a existir quando o instanciamos através da classe correspondente.\n",
    ">\n",
    "> &ensp;&emsp;&emsp;&emsp;&emsp;&emsp; ↳ __objetos são entidades concretas e classes são abstrações__\n",
    ">\n",
    "> <br>"
   ]
  },
  {
   "cell_type": "markdown",
   "id": "6bb7e3fb",
   "metadata": {},
   "source": [
    "> ## Definição de classe\n",
    ">\n",
    "> ~~~python\n",
    "> # Sintaxe:\n",
    ">\n",
    "> class <nome>:\n",
    ">\n",
    ">    def __init__(self, <valor 1>, <valor 2>, ..., <valor n>):\n",
    ">\n",
    ">        self.<atributo 1> = <valor 1>\n",
    ">        self.<atributo 2> = <valor 2>\n",
    ">        .\n",
    ">        .\n",
    ">        .\n",
    ">        self.<atributo n> = <valor n>\n",
    ">\n",
    ">    def set(self, <valor 1>, <valor 2>, ..., <valor n>)\n",
    ">       \n",
    ">       self.<atributo 1> = <valor 1>\n",
    ">       self.<atributo 2> = <valor 2>\n",
    ">       .\n",
    ">       .\n",
    ">       .\n",
    ">       self.<atributo n> = <valor n>\n",
    ">\n",
    ">    def get(self):\n",
    ">\n",
    ">        return self.<atributo 1>, self.<atributo 2>\n",
    "> ~~~\n",
    ">\n",
    "> <br>"
   ]
  },
  {
   "cell_type": "code",
   "execution_count": null,
   "id": "ddb18455",
   "metadata": {},
   "outputs": [],
   "source": [
    "# Exemplo leitura log grande - Implementação __iter__\n",
    "\n",
    "class logArquivos():\n",
    "\n",
    "    def __init__(self, fname='download.log'):\n",
    "\n",
    "        self.arquivo = open(fname, 'r')\n",
    "        \n",
    "        self.linha_atual = ''\n",
    "\n",
    "    def __iter__(self):\n",
    "\n",
    "        return self\n",
    "\n",
    "    def __next__(self):\n",
    "\n",
    "        self.linha_atual = self.arquivo.readline()\n",
    "\n",
    "        while self.linha_atual and not self.linha_atual.startswith('NOK'):\n",
    "\n",
    "            self.linha_atual = self.arquivo.readline()\n",
    "\n",
    "        if self.linha_atual:\n",
    "\n",
    "            return self.linha_atual\n",
    "\n",
    "        raise StopIteration\n",
    "\n",
    "\n",
    "iterador = logArquivos()\n",
    "\n",
    "for item in iterador:\n",
    "    \n",
    "    print(item)\n",
    "\n",
    "# Exemplo geradores"
   ]
  },
  {
   "cell_type": "code",
   "execution_count": null,
   "id": "e93187a4-cd71-43a3-b35e-32dcccf1674c",
   "metadata": {},
   "outputs": [
    {
     "name": "stdout",
     "output_type": "stream",
     "text": [
      "Application directory:   C:\\Users\\AIB4\\AppData\\Local\\miniforge3\\envs\\work\\share\\jupyter\\lab\n",
      "User Settings directory: C:\\Users\\AIB4\\.jupyter\\lab\\user-settings\n",
      "Workspaces directory: C:\\Users\\AIB4\\.jupyter\\lab\\workspaces\n"
     ]
    }
   ],
   "source": [
    "!jupyter lab path"
   ]
  },
  {
   "cell_type": "code",
   "execution_count": null,
   "id": "3d912ba5-3f90-4d81-b672-01011b9371e3",
   "metadata": {},
   "outputs": [
    {
     "name": "stdout",
     "output_type": "stream",
     "text": [
      "config:\n",
      "    C:\\Users\\AIB4\\AppData\\Local\\miniforge3\\envs\\work\\etc\\jupyter\n",
      "    C:\\Users\\AIB4\\.jupyter\n",
      "    C:\\Users\\AIB4\\AppData\\Roaming\\Python\\etc\\jupyter\n",
      "    C:\\ProgramData\\jupyter\n",
      "data:\n",
      "    C:\\Users\\AIB4\\AppData\\Local\\miniforge3\\envs\\work\\share\\jupyter\n",
      "    C:\\Users\\AIB4\\AppData\\Roaming\\jupyter\n",
      "    C:\\Users\\AIB4\\AppData\\Roaming\\Python\\share\\jupyter\n",
      "    C:\\ProgramData\\jupyter\n",
      "runtime:\n",
      "    C:\\Users\\AIB4\\AppData\\Roaming\\jupyter\\runtime\n"
     ]
    }
   ],
   "source": [
    "!jupyter --path"
   ]
  },
  {
   "cell_type": "code",
   "execution_count": null,
   "id": "3949c076-db7a-4a9f-af15-2b5e3a445d6e",
   "metadata": {},
   "outputs": [
    {
     "data": {
      "text/plain": [
       "'C:\\\\Users\\\\AIB4\\\\projetos\\\\python\\\\meq'"
      ]
     },
     "execution_count": 5,
     "metadata": {},
     "output_type": "execute_result"
    }
   ],
   "source": [
    "pwd"
   ]
  },
  {
   "cell_type": "code",
   "execution_count": null,
   "id": "a03ab5cb-ece3-42cb-ac6d-dc24ac38f439",
   "metadata": {},
   "outputs": [
    {
     "name": "stdout",
     "output_type": "stream",
     "text": [
      "\n",
      "Note: you may need to restart the kernel to use updated packages.Transaction\n",
      "\n",
      "  Prefix: C:\\Users\\AIB4\\AppData\\Local\\miniforge3\\envs\\work\n",
      "\n",
      "  All requested packages already installed\n",
      "\n",
      "\n",
      "Looking for: ['gsw']\n",
      "\n",
      "\n",
      "Pinned packages:\n",
      "  - python 3.10.*\n",
      "\n",
      "\n",
      "\n"
     ]
    }
   ],
   "source": [
    "%mamba install gsw"
   ]
  },
  {
   "cell_type": "code",
   "execution_count": 66,
   "id": "e9a6f9f9",
   "metadata": {},
   "outputs": [
    {
     "name": "stdout",
     "output_type": "stream",
     "text": [
      "__\n",
      "___\n",
      "__builtin__\n",
      "__builtins__\n",
      "__doc__\n",
      "__loader__\n",
      "__name__\n",
      "__package__\n",
      "__spec__\n",
      "__vsc_ipynb_file__\n"
     ]
    }
   ],
   "source": [
    "for d in dir():\n",
    "    \n",
    "    if d.startswith('__'):\n",
    "        \n",
    "        print(d)"
   ]
  },
  {
   "cell_type": "code",
   "execution_count": null,
   "id": "3b2ff3ba",
   "metadata": {},
   "outputs": [],
   "source": [
    "'''\n",
    "Interpretador do Python\n",
    "\n",
    "python mod.py     # executa mod\n",
    "python -m mod     # executa lib mod como script\n",
    "python -u         # unbuffered (sem salvar coisas na memória)\n",
    "python -c 'cmd'   # executa comando 'cmd'\n",
    "python -i mod.py  # interativo com mod\n",
    "\n",
    "outras \n",
    "'''\n",
    "\n",
    "\n"
   ]
  }
 ],
 "metadata": {
  "kernelspec": {
   "display_name": "base",
   "language": "python",
   "name": "python3"
  },
  "language_info": {
   "codemirror_mode": {
    "name": "ipython",
    "version": 3
   },
   "file_extension": ".py",
   "mimetype": "text/x-python",
   "name": "python",
   "nbconvert_exporter": "python",
   "pygments_lexer": "ipython3",
   "version": "3.10.14"
  }
 },
 "nbformat": 4,
 "nbformat_minor": 5
}
